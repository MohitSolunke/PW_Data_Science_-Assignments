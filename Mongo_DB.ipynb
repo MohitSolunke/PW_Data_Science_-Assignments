{
  "nbformat": 4,
  "nbformat_minor": 0,
  "metadata": {
    "colab": {
      "provenance": []
    },
    "kernelspec": {
      "name": "python3",
      "display_name": "Python 3"
    },
    "language_info": {
      "name": "python"
    }
  },
  "cells": [
    {
      "cell_type": "markdown",
      "source": [
        "\n",
        "# Q1. What is MongoDB? Explain non-relational databases in short. In which scenarios it is preferred to use MongoDB over SQL databases?\n",
        "\n",
        "\n"
      ],
      "metadata": {
        "id": "x-XRvJxPasXG"
      }
    },
    {
      "cell_type": "markdown",
      "source": [
        "MongoDB is a popular open-source NoSQL database management system designed for handling large volumes of unstructured or semi-structured data. It stores data in a flexible, JSON-like format called BSON (Binary JSON), which allows for the storage of complex data types. MongoDB is known for its scalability, performance, and ease of use, making it suitable for modern applications that require rapid development and iterative design.\n",
        "\n",
        "# Non-relational Databases\n",
        "Non-relational databases, often referred to as NoSQL databases, are designed to provide flexible data models that differ from traditional relational databases. Instead of using fixed schemas and tables, non-relational databases store data in various formats, such as key-value pairs, documents, column families, or graphs. This flexibility allows for easier handling of diverse data types and structures, making non-relational databases well-suited for big data applications and scenarios where data requirements change frequently.\n",
        "\n",
        "# Scenarios Preferred for Using MongoDB Over SQL Databases\n",
        "* Flexible Schema: MongoDB's schema-less nature allows for quick changes to the data structure without requiring complex migrations. This is beneficial in scenarios where data requirements are not well-defined upfront.\n",
        "\n",
        "* Unstructured or Semi-structured Data: MongoDB is ideal for applications that handle large volumes of unstructured or semi-structured data, such as user-generated content, social media data, or logs.\n",
        "\n",
        "* Scalability: MongoDB can easily scale horizontally by distributing data across multiple servers. This makes it suitable for applications with high read/write loads and those expecting rapid growth.\n",
        "\n",
        "* High Performance: MongoDB can handle large volumes of read and write operations efficiently, making it a good choice for real-time analytics and data processing applications.\n",
        "\n",
        "* Rapid Development: For applications requiring agile development cycles, MongoDB allows developers to iterate quickly, making it easier to adjust the data model as requirements evolve.\n",
        "\n",
        "* Big Data and Analytics: MongoDB's ability to handle large datasets makes it well-suited for big data applications and analytics, where data may come from diverse sources and formats.\n"
      ],
      "metadata": {
        "id": "pvdevknAax99"
      }
    },
    {
      "cell_type": "markdown",
      "source": [
        "# Q2. State and Explain the features of MongoDB."
      ],
      "metadata": {
        "id": "KEa_XoIVbSdV"
      }
    },
    {
      "cell_type": "markdown",
      "source": [
        "MongoDB is a powerful NoSQL database that offers several features designed to meet the needs of modern applications. Here are some key features of MongoDB:\n",
        "\n",
        "1. Document-Oriented Storage\n",
        "MongoDB stores data in flexible, JSON-like documents (BSON), allowing for the representation of complex data structures. This means you can store arrays and nested objects directly in documents, making it easy to model relationships and hierarchies.\n",
        "2. Schema Flexibility\n",
        "Unlike traditional relational databases, MongoDB does not require a fixed schema. This schema-less design allows you to change the structure of your documents over time without complex migrations, making it suitable for agile development.\n",
        "3. Scalability\n",
        "MongoDB supports horizontal scaling through sharding, where data is distributed across multiple servers. This enables it to handle large volumes of data and high traffic loads efficiently, making it ideal for applications expecting growth.\n",
        "4. High Performance\n",
        "MongoDB is designed for high-performance read and write operations. It uses an internal memory-first architecture, optimizing performance for real-time data processing and analytics.\n",
        "5. Indexing\n",
        "MongoDB supports various indexing options (e.g., single field, compound, geospatial, text indexing) to improve query performance. This allows developers to optimize data retrieval based on their application’s specific needs.\n",
        "6. Aggregation Framework\n",
        "MongoDB provides a powerful aggregation framework that enables complex data processing and analysis. It allows users to perform operations like filtering, grouping, and transforming data in a pipeline format.\n",
        "7. Replication\n",
        "MongoDB offers built-in replication, allowing data to be copied across multiple servers for redundancy and high availability. This ensures that the system can recover quickly from hardware failures.\n",
        "8. Ad-hoc Queries\n",
        "MongoDB supports ad-hoc queries, meaning users can query data without needing to define a specific query structure beforehand. This flexibility allows for dynamic querying capabilities and rapid data exploration.\n",
        "9. Multi-Model Support\n",
        "MongoDB can handle various data models, including key-value, document, graph, and time-series data. This versatility makes it suitable for a wide range of applications.\n",
        "10. Built-in Sharding\n",
        "MongoDB automatically divides data into smaller, manageable pieces (shards) to distribute load and improve performance. This feature is particularly useful for applications with large datasets.\n",
        "11. Transactions\n",
        "With support for multi-document ACID transactions, MongoDB ensures data integrity by allowing multiple operations to be executed as a single unit of work. This is essential for applications that require reliable data processing.\n",
        "12. Easy Integration\n",
        "MongoDB provides drivers and libraries for various programming languages, making it easy to integrate with different application stacks. It also supports various cloud services for deployment."
      ],
      "metadata": {
        "id": "CC6gZRRqbazN"
      }
    },
    {
      "cell_type": "markdown",
      "source": [
        "# Q3. Write a code to connect MongoDB to Python. Also, create a database and a collection in MongoDB."
      ],
      "metadata": {
        "id": "Y1G1E3jIbgcl"
      }
    },
    {
      "cell_type": "markdown",
      "source": [
        "To connect MongoDB to Python, you typically use the pymongo library. Below is an example code snippet that demonstrates how to establish a connection to a MongoDB database, create a database, and create a collection within that database.\n",
        "\n",
        "Step 1: Install pymongo\n",
        "If you haven't already installed the pymongo library, you can do so using pip:\n",
        "\n",
        "bash\n",
        "Copy code\n",
        "pip install pymongo\n",
        "Step 2: Python Code to Connect to MongoDB, Create a Database, and a Collection\n",
        "Here’s a simple code example:\n",
        "\n",
        "python\n",
        "Copy code\n",
        "from pymongo import MongoClient\n",
        "\n",
        "# Establish a connection to the MongoDB server\n",
        "client = MongoClient('mongodb://localhost:27017/')  # Replace with your MongoDB URI if needed\n",
        "\n",
        "# Create a new database\n",
        "db = client['my_database']  # Create (or switch to) a database named 'my_database'\n",
        "\n",
        "# Create a new collection\n",
        "collection = db['my_collection']  # Create (or switch to) a collection named 'my_collection'\n",
        "\n",
        "# Example: Inserting a document into the collection\n",
        "document = {\n",
        "    'name': 'Alice',\n",
        "    'age': 30,\n",
        "    'city': 'New York'\n",
        "}\n",
        "insert_result = collection.insert_one(document)  # Insert the document\n",
        "\n",
        "# Print the inserted document's ID\n",
        "print(f'Document inserted with ID: {insert_result.inserted_id}')\n",
        "\n",
        "# Close the connection\n",
        "client.close()\n",
        "Explanation of the Code\n",
        "Importing Libraries: The MongoClient class is imported from the pymongo library, which is used to connect to the MongoDB server.\n",
        "\n",
        "Establishing Connection: A connection to the MongoDB server is established using MongoClient. The connection string specifies the server's address; in this case, it's the local server (localhost) on the default port (27017).\n",
        "\n",
        "Creating a Database: The database named my_database is created or switched to. MongoDB creates a database only when data is written to it.\n",
        "\n",
        "Creating a Collection: A collection named my_collection is created within the database. Collections in MongoDB are analogous to tables in relational databases.\n",
        "\n",
        "Inserting a Document: An example document (a dictionary in Python) is defined and inserted into the collection using the insert_one() method.\n",
        "\n",
        "Output: The ID of the inserted document is printed, confirming successful insertion.\n",
        "\n",
        "Closing the Connection: Finally, the connection to the MongoDB server is closed."
      ],
      "metadata": {
        "id": "wuiUW1rrbsj9"
      }
    },
    {
      "cell_type": "markdown",
      "source": [
        "# Q4. Using the database and the collection created in question number 3, write a code to insert one record,and insert many records. Use the find() and find_one() methods to print the inserted record."
      ],
      "metadata": {
        "id": "lhVQH1sgbuIl"
      }
    },
    {
      "cell_type": "markdown",
      "source": [
        "Below is a Python code snippet that demonstrates how to insert one record and multiple records into the MongoDB collection created in the previous question. It also shows how to use the find() and find_one() methods to retrieve and print the inserted records.\n",
        "\n",
        "Python Code to Insert Records and Retrieve Them\n",
        "python\n",
        "Copy code\n",
        "from pymongo import MongoClient\n",
        "\n",
        "# Establish a connection to the MongoDB server\n",
        "client = MongoClient('mongodb://localhost:27017/')  # Replace with your MongoDB URI if needed\n",
        "\n",
        "# Access the database\n",
        "db = client['my_database']  # Use the database created earlier\n",
        "\n",
        "# Access the collection\n",
        "collection = db['my_collection']  # Use the collection created earlier\n",
        "\n",
        "# Insert one record\n",
        "single_record = {\n",
        "    'name': 'Alice',\n",
        "    'age': 30,\n",
        "    'city': 'New York'\n",
        "}\n",
        "insert_single_result = collection.insert_one(single_record)  # Insert the single record\n",
        "print(f'Single record inserted with ID: {insert_single_result.inserted_id}')\n",
        "\n",
        "# Insert many records\n",
        "multiple_records = [\n",
        "    {'name': 'Bob', 'age': 25, 'city': 'Los Angeles'},\n",
        "    {'name': 'Charlie', 'age': 35, 'city': 'Chicago'},\n",
        "    {'name': 'Diana', 'age': 28, 'city': 'Miami'}\n",
        "]\n",
        "insert_many_result = collection.insert_many(multiple_records)  # Insert multiple records\n",
        "print(f'Multiple records inserted with IDs: {insert_many_result.inserted_ids}')\n",
        "\n",
        "# Retrieve and print the inserted single record using find_one()\n",
        "retrieved_single = collection.find_one({'name': 'Alice'})\n",
        "print(f'Inserted single record: {retrieved_single}')\n",
        "\n",
        "# Retrieve and print all records using find()\n",
        "print('All records in the collection:')\n",
        "for record in collection.find():\n",
        "    print(record)\n",
        "\n",
        "# Close the connection\n",
        "client.close()\n",
        "Explanation of the Code\n",
        "Connection Setup: The code connects to the MongoDB server using the MongoClient and accesses the previously created database and collection.\n",
        "\n",
        "Inserting One Record:\n",
        "\n",
        "A dictionary representing a single record for Alice is created.\n",
        "The insert_one() method is used to insert this record into the collection.\n",
        "The ID of the inserted record is printed.\n",
        "Inserting Multiple Records:\n",
        "\n",
        "A list of dictionaries representing multiple records is created, including records for Bob, Charlie, and Diana.\n",
        "The insert_many() method is used to insert all records in one operation.\n",
        "The IDs of the inserted records are printed.\n",
        "Retrieving Inserted Records:\n",
        "\n",
        "The find_one() method retrieves the record for Alice based on her name, and the result is printed.\n",
        "The find() method retrieves all records in the collection. A loop iterates through the cursor returned by find() and prints each record.\n",
        "Closing the Connection: Finally, the connection to the MongoDB server is closed."
      ],
      "metadata": {
        "id": "5xdbZyaab6R8"
      }
    },
    {
      "cell_type": "markdown",
      "source": [
        "# Q5. Explain how you can use the find() method to query the MongoDB database. Write a simple code to demonstrate this."
      ],
      "metadata": {
        "id": "u95-GC12b9RM"
      }
    },
    {
      "cell_type": "markdown",
      "source": [
        "The find() method in MongoDB is used to query documents in a collection. It returns a cursor that can be iterated over to access the documents that match the specified query criteria. The find() method can take a variety of parameters to filter and sort the results, and it supports various query operators to perform complex queries.\n",
        "\n",
        "Basic Usage of find()\n",
        "Querying All Documents: If no query filter is provided, find() will return all documents in the collection.\n",
        "\n",
        "Querying with Conditions: You can specify conditions to filter the documents returned. This is done by passing a query object (usually a dictionary) that defines the criteria.\n",
        "\n",
        "Limit and Sort: You can chain methods like limit() and sort() to control the number of results and their order.\n",
        "\n",
        "Example Code to Demonstrate the find() Method\n",
        "Below is a Python code snippet that demonstrates how to use the find() method to query documents from a MongoDB collection.\n",
        "\n",
        "python\n",
        "Copy code\n",
        "from pymongo import MongoClient\n",
        "\n",
        "# Establish a connection to the MongoDB server\n",
        "client = MongoClient('mongodb://localhost:27017/')  # Replace with your MongoDB URI if needed\n",
        "\n",
        "# Access the database\n",
        "db = client['my_database']  # Use the database created earlier\n",
        "\n",
        "# Access the collection\n",
        "collection = db['my_collection']  # Use the collection created earlier\n",
        "\n",
        "# Insert sample documents (optional, for demonstration purposes)\n",
        "collection.insert_many([\n",
        "    {'name': 'Alice', 'age': 30, 'city': 'New York'},\n",
        "    {'name': 'Bob', 'age': 25, 'city': 'Los Angeles'},\n",
        "    {'name': 'Charlie', 'age': 35, 'city': 'Chicago'},\n",
        "    {'name': 'Diana', 'age': 28, 'city': 'Miami'}\n",
        "])\n",
        "\n",
        "# Query: Find all documents\n",
        "print(\"All records in the collection:\")\n",
        "for record in collection.find():\n",
        "    print(record)\n",
        "\n",
        "# Query: Find documents with specific conditions\n",
        "print(\"\\nRecords where age is greater than 28:\")\n",
        "for record in collection.find({'age': {'$gt': 28}}):  # $gt is the 'greater than' operator\n",
        "    print(record)\n",
        "\n",
        "# Query: Find documents with specific fields\n",
        "print(\"\\nRecords where city is 'New York':\")\n",
        "for record in collection.find({'city': 'New York'}):\n",
        "    print(record)\n",
        "\n",
        "# Query: Limit the number of results\n",
        "print(\"\\nLimit the results to 2 records:\")\n",
        "for record in collection.find().limit(2):\n",
        "    print(record)\n",
        "\n",
        "# Query: Sort results by age\n",
        "print(\"\\nRecords sorted by age (ascending):\")\n",
        "for record in collection.find().sort('age'):\n",
        "    print(record)\n",
        "\n",
        "# Close the connection\n",
        "client.close()\n",
        "Explanation of the Code\n",
        "Connection Setup: The code connects to the MongoDB server and accesses the specified database and collection.\n",
        "\n",
        "Inserting Sample Documents: A few sample documents are inserted into the collection to demonstrate the querying functionality. (You can skip this part if you already have documents in the collection.)\n",
        "\n",
        "Finding All Documents: The first query retrieves all records in the collection using find() without any parameters.\n",
        "\n",
        "Finding Documents with Conditions: The second query retrieves records where the age field is greater than 28. The $gt operator is used for this condition.\n",
        "\n",
        "Finding Documents with Specific Fields: The third query retrieves records where the city is 'New York'.\n",
        "\n",
        "Limiting Results: The fourth query limits the results to only 2 records using the limit() method.\n",
        "\n",
        "Sorting Results: The fifth query sorts the results by the age field in ascending order using the sort() method.\n",
        "\n",
        "Closing the Connection: Finally, the connection to the MongoDB server is closed."
      ],
      "metadata": {
        "id": "udrQ6GY7cBZF"
      }
    },
    {
      "cell_type": "markdown",
      "source": [
        "# Q6. Explain the sort() method. Give an example to demonstrate sorting in MongoDB."
      ],
      "metadata": {
        "id": "ixc45ZMLcKZe"
      }
    },
    {
      "cell_type": "markdown",
      "source": [
        "The sort() method in MongoDB is used to sort the documents returned by a query in either ascending or descending order based on one or more fields. This method is particularly useful when you want to present data in a specific order, such as sorting users by their names, ages, or any other attribute.\n",
        "\n",
        "Syntax\n",
        "The basic syntax for the sort() method is as follows:\n",
        "\n",
        "python\n",
        "Copy code\n",
        "cursor = collection.find().sort(field, direction)\n",
        "field: The name of the field by which you want to sort the documents.\n",
        "direction: This can be 1 for ascending order or -1 for descending order.\n",
        "Example to Demonstrate Sorting in MongoDB\n",
        "Below is a Python code snippet that demonstrates how to use the sort() method to sort documents in a MongoDB collection.\n",
        "\n",
        "python\n",
        "Copy code\n",
        "from pymongo import MongoClient\n",
        "\n",
        "# Establish a connection to the MongoDB server\n",
        "client = MongoClient('mongodb://localhost:27017/')  # Replace with your MongoDB URI if needed\n",
        "\n",
        "# Access the database\n",
        "db = client['my_database']  # Use the database created earlier\n",
        "\n",
        "# Access the collection\n",
        "collection = db['my_collection']  # Use the collection created earlier\n",
        "\n",
        "# Insert sample documents (optional, for demonstration purposes)\n",
        "collection.insert_many([\n",
        "    {'name': 'Alice', 'age': 30, 'city': 'New York'},\n",
        "    {'name': 'Bob', 'age': 25, 'city': 'Los Angeles'},\n",
        "    {'name': 'Charlie', 'age': 35, 'city': 'Chicago'},\n",
        "    {'name': 'Diana', 'age': 28, 'city': 'Miami'}\n",
        "])\n",
        "\n",
        "# Query: Sort records by age in ascending order\n",
        "print(\"Records sorted by age (ascending):\")\n",
        "for record in collection.find().sort('age', 1):  # 1 for ascending order\n",
        "    print(record)\n",
        "\n",
        "# Query: Sort records by name in descending order\n",
        "print(\"\\nRecords sorted by name (descending):\")\n",
        "for record in collection.find().sort('name', -1):  # -1 for descending order\n",
        "    print(record)\n",
        "\n",
        "# Close the connection\n",
        "client.close()\n",
        "Explanation of the Code\n",
        "Connection Setup: The code connects to the MongoDB server and accesses the specified database and collection.\n",
        "\n",
        "Inserting Sample Documents: A few sample documents are inserted into the collection to demonstrate sorting functionality. (You can skip this part if you already have documents in the collection.)\n",
        "\n",
        "Sorting by Age:\n",
        "\n",
        "The first query sorts the records by the age field in ascending order using the sort() method with 1 as the direction.\n",
        "It retrieves and prints each record in the sorted order.\n",
        "Sorting by Name:\n",
        "\n",
        "The second query sorts the records by the name field in descending order using the sort() method with -1 as the direction.\n",
        "It retrieves and prints each record in the sorted order.\n",
        "Closing the Connection: Finally, the connection to the MongoDB server is closed."
      ],
      "metadata": {
        "id": "1lmCxxVdcTI1"
      }
    },
    {
      "cell_type": "markdown",
      "source": [
        "# Q7. Explain why delete_one(), delete_many(), and drop() is used."
      ],
      "metadata": {
        "id": "rzExtk4dcUnM"
      }
    },
    {
      "cell_type": "markdown",
      "source": [
        "In MongoDB, the methods delete_one(), delete_many(), and drop() are used for removing documents from a collection or the collection itself from the database. Here’s a detailed explanation of each method:\n",
        "\n",
        "1. delete_one()\n",
        "Purpose: The delete_one() method is used to remove a single document from a collection that matches the specified filter.\n",
        "Usage: This method is ideal when you want to delete only the first document that matches a particular query criteria.\n",
        "Example:\n",
        "\n",
        "python\n",
        "Copy code\n",
        "result = collection.delete_one({'name': 'Alice'})\n",
        "print(f'Deleted {result.deleted_count} document.')\n",
        "2. delete_many()\n",
        "Purpose: The delete_many() method is used to remove multiple documents from a collection that match the specified filter.\n",
        "Usage: This method is useful when you need to delete all documents that meet certain criteria.\n",
        "Example:\n",
        "\n",
        "python\n",
        "Copy code\n",
        "result = collection.delete_many({'age': {'$lt': 30}})\n",
        "print(f'Deleted {result.deleted_count} documents.')\n",
        "3. drop()\n",
        "Purpose: The drop() method is used to remove an entire collection from the database.\n",
        "Usage: This method is typically used when you no longer need the entire collection and want to free up space or remove all its data.\n",
        "Example:\n",
        "\n",
        "python\n",
        "Copy code\n",
        "collection.drop()\n",
        "print('Collection dropped successfully.')\n",
        "Summary of Usage\n",
        "delete_one(): Use this method when you want to delete a specific document based on a unique filter. Only the first matching document will be removed.\n",
        "delete_many(): Use this method when you want to delete all documents that match a given condition. It allows for bulk deletion based on query criteria.\n",
        "drop(): Use this method to completely remove a collection and all its documents from the database. This operation is irreversible, and all data in the collection will be lost."
      ],
      "metadata": {
        "id": "AiibSQ88cZss"
      }
    },
    {
      "cell_type": "code",
      "execution_count": null,
      "metadata": {
        "id": "WFlQ8JTfaZfu"
      },
      "outputs": [],
      "source": []
    }
  ]
}