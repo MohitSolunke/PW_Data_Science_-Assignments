{
  "nbformat": 4,
  "nbformat_minor": 0,
  "metadata": {
    "colab": {
      "provenance": []
    },
    "kernelspec": {
      "name": "python3",
      "display_name": "Python 3"
    },
    "language_info": {
      "name": "python"
    }
  },
  "cells": [
    {
      "cell_type": "markdown",
      "source": [
        "# Q1. Explain GET and POST methods."
      ],
      "metadata": {
        "id": "fuSlhI45r9jq"
      }
    },
    {
      "cell_type": "markdown",
      "source": [
        "The GET and POST methods are two of the most commonly used HTTP request methods for communication between a client (usually a web browser) and a server. They serve different purposes and have distinct characteristics:\n",
        "\n",
        "# GET Method\n",
        "Purpose: The GET method is used to retrieve data from a specified resource. It requests data from the server, and the server responds with the requested information.\n",
        "\n",
        "Data Transmission: Data is sent as part of the URL in the query string. This means that the data is appended to the URL after a question mark (?), with key-value pairs separated by ampersands (&). For example:\n",
        "\n",
        "Idempotent: GET requests are idempotent, meaning that making the same request multiple times will have the same effect as making it once. It does not change the state of the resource on the server.\n",
        "\n",
        "Caching: GET requests can be cached by browsers and intermediate proxies, which can improve performance for frequently accessed resources.\n",
        "\n",
        "Length Limitations: URLs have a maximum length, which can limit the amount of data that can be sent via a GET request. Different browsers and servers may impose different limits, but it's generally around 2000 characters.\n",
        "\n",
        "Use Cases: GET is commonly used for retrieving data, such as fetching web pages, images, or other resources. It's ideal for actions that do not modify server state.\n",
        "\n",
        "# POST Method\n",
        "Purpose: The POST method is used to send data to a server to create or update a resource. It submits data to the specified resource for processing.\n",
        "\n",
        "Data Transmission: Data is sent in the body of the HTTP request rather than in the URL. This allows for sending larger amounts of data, including complex data structures like JSON or form data.\n",
        "\n",
        "Not Idempotent: POST requests are not idempotent, meaning that making the same request multiple times may result in different outcomes. For example, submitting a form multiple times may create multiple entries in a database.\n",
        "\n",
        "No Caching: POST requests are generally not cached by browsers or proxies, as they are intended for operations that modify server state.\n",
        "\n",
        "No Length Limitations: Unlike GET, POST does not have strict length limitations for the data sent. This makes it suitable for submitting large amounts of data, such as file uploads or lengthy forms.\n",
        "\n",
        "Use Cases: POST is commonly used for actions that create or update resources, such as submitting a user registration form, logging in, or uploading files."
      ],
      "metadata": {
        "id": "IpH67hG2sMd3"
      }
    },
    {
      "cell_type": "markdown",
      "source": [
        "# Q2. Why is request used in Flask?"
      ],
      "metadata": {
        "id": "Tdl74YbLssPE"
      }
    },
    {
      "cell_type": "markdown",
      "source": [
        "n Flask, the request object is used to handle incoming HTTP requests. It provides essential information about the request made by the client (such as a web browser) to the Flask application. The request object is part of Flask’s flask module and is an instance of the Request class.\n",
        "\n",
        "# Why is request Used in Flask?\n",
        "Accessing Request Data: The request object allows developers to access data sent with the request. This includes form data, query parameters, JSON payloads, and file uploads. For example:\n",
        "\n",
        "Form Data: request.form can be used to access data submitted via HTML forms.\n",
        "Query Parameters: request.args provides access to URL query parameters.\n",
        "JSON Payload: request.json can be used to access JSON data sent in the body of a POST request.\n",
        "HTTP Method: The request object provides information about the HTTP method used (GET, POST, PUT, DELETE, etc.) through request.method. This is useful for handling different types of requests in a unified route.\n",
        "\n",
        "URL and Path Information: Developers can access information about the requested URL and path through request.url, request.path, and request.base_url. This information can be useful for logging, redirection, or generating dynamic responses.\n",
        "\n",
        "Headers: The request object allows access to HTTP headers through request.headers. This can be important for authentication, content negotiation, and handling custom headers.\n",
        "\n",
        "Session Management: The request object can be used to manage session data. For example, developers can check for user authentication status or retrieve user-specific data stored in the session.\n",
        "\n",
        "Handling Cookies: The request object provides an easy way to access cookies sent by the client through request.cookies. This can be useful for maintaining user sessions or preferences."
      ],
      "metadata": {
        "id": "N3xNrbhAz9KA"
      }
    },
    {
      "cell_type": "markdown",
      "source": [
        "# Q3. Why is redirect() used in Flask?"
      ],
      "metadata": {
        "id": "O2qL4iGS0EBw"
      }
    },
    {
      "cell_type": "markdown",
      "source": [
        "n Flask, the redirect() function is used to redirect a client to a different URL. This is particularly useful for guiding users to a new location after they perform certain actions, such as submitting a form or logging in. The redirect() function helps manage user navigation in a web application effectively.\n",
        "\n",
        "# Reasons for Using redirect() in Flask\n",
        "Post-Redirect-Get (PRG) Pattern: The redirect() function is often employed to implement the Post-Redirect-Get pattern. This pattern helps prevent the resubmission of forms when a user refreshes a page after submitting a form. Instead of returning a view directly, the server responds with a redirect, which can be followed by a GET request. This way, the form submission data is not resubmitted if the user refreshes the page.\n",
        "\n",
        "Changing URL Locations: If a resource's location changes (e.g., a user moves to a new URL or the application structure is modified), the redirect() function can guide users to the new URL, enhancing the usability and maintainability of the application.\n",
        "\n",
        "Access Control: Redirects can be used to enforce access control. For example, if a user tries to access a restricted area without being authenticated, you can redirect them to a login page or an error page.\n",
        "\n",
        "Workflow Navigation: In multi-step forms or workflows, the redirect() function can help guide users through various steps in the application by directing them to the next relevant page based on their actions.\n",
        "\n",
        "Error Handling: When an error occurs (e.g., validation failure or an unexpected condition), you can redirect the user to an error page or back to the form with appropriate messages."
      ],
      "metadata": {
        "id": "A3YNZcIW0H3A"
      }
    },
    {
      "cell_type": "markdown",
      "source": [
        "# Q4. What are templates in Flask? Why is the render_template() function used?"
      ],
      "metadata": {
        "id": "kgvMJXFg0OX3"
      }
    },
    {
      "cell_type": "markdown",
      "source": [
        "In Flask, templates are used to separate the presentation layer from the application logic. They allow developers to create dynamic HTML pages that can incorporate data from the Flask application, making it easier to render content based on user interactions or other data sources.\n",
        "\n",
        "# What are Templates in Flask?\n",
        "HTML Files: Templates are typically HTML files with placeholders for dynamic content. These placeholders can be filled with data from the Flask application at runtime, allowing for the generation of dynamic web pages.\n",
        "\n",
        "Template Engine: Flask uses the Jinja2 templating engine, which enables features like template inheritance, loops, conditionals, and filters. This makes it easy to create complex layouts and reuse code.\n",
        "\n",
        "Separation of Concerns: By using templates, Flask promotes the separation of concerns, allowing developers to keep the HTML presentation separate from the Python logic. This makes the code more organized, maintainable, and scalable.\n",
        "\n",
        "Why is the render_template() Function Used?\n",
        "The render_template() function is a built-in Flask function that is used to render templates. Here are some key reasons for its use:\n",
        "\n",
        "Rendering HTML: It takes the name of a template file and any context variables (data) as arguments, and it renders the template by replacing placeholders with the provided data. This generates the final HTML response that is sent to the client.\n",
        "\n",
        "Dynamic Content: The function allows you to pass variables from your Flask application to the template, enabling dynamic content generation. For example, you can display user-specific data, form values, or results from database queries.\n",
        "\n",
        "Template Inheritance: render_template() works well with Jinja2’s template inheritance feature, which allows you to define a base template that other templates can extend. This promotes code reuse and simplifies the management of shared layout elements (like headers and footers).\n",
        "\n",
        "Cleaner Code: Using templates with render_template() helps keep the Flask routes cleaner and more readable by offloading the HTML generation to separate files. This makes it easier to manage the application's user interface."
      ],
      "metadata": {
        "id": "fLfTjJMw0XCg"
      }
    },
    {
      "cell_type": "markdown",
      "source": [
        "# Q5. Create a simple API. Use Postman to test it. Attach the screenshot of the output in the Jupyter Notebook."
      ],
      "metadata": {
        "id": "zbQRQtan0akG"
      }
    },
    {
      "cell_type": "markdown",
      "source": [
        "# Step-by-Step Guide to Create a Simple API with Flask\n",
        "1. Install Flask\n",
        "If you haven't already, install Flask using pip:\n",
        "2. Create the Flask API\n",
        "Create a new Python file (e.g., app.py) and add the following code:\n",
        "\n",
        "# Explanation of the API\n",
        "GET /tasks: This endpoint retrieves the list of tasks in JSON format.\n",
        "POST /tasks: This endpoint allows you to create a new task. It expects a JSON body with the task details (e.g., title and done status).\n",
        "3. Run the Flask Application\n",
        "Open a terminal, navigate to the directory where you saved app.py, and run the application:\n",
        "\n",
        "4. Test the API Using Postman\n",
        "Open Postman: If you don't have it installed, you can download it from Postman.\n",
        "\n",
        "# Test the GET Request:\n",
        "\n",
        "Set the request type to GET.\n",
        "Enter the URL: http://127.0.0.1:5000/tasks.\n",
        "Click Send. You should see the list of tasks in the response body.\n",
        "Test the POST Request:\n",
        "\n",
        "Change the request type to POST.\n",
        "Enter the URL: http://127.0.0.1:5000/tasks.\n",
        "Go to the Body tab, select raw, and choose JSON from the dropdown.\n",
        "Enter the JSON data for a new task:\n",
        "json\n",
        "\n"
      ],
      "metadata": {
        "id": "Lj6aUne_0trn"
      }
    },
    {
      "cell_type": "code",
      "execution_count": 1,
      "metadata": {
        "colab": {
          "base_uri": "https://localhost:8080/"
        },
        "id": "yBygQb4Igr8I",
        "outputId": "f6ad2339-ca37-4452-b83e-5b09ce30bed8"
      },
      "outputs": [
        {
          "output_type": "stream",
          "name": "stdout",
          "text": [
            "Requirement already satisfied: Flask in /usr/local/lib/python3.10/dist-packages (2.2.5)\n",
            "Requirement already satisfied: Werkzeug>=2.2.2 in /usr/local/lib/python3.10/dist-packages (from Flask) (3.0.4)\n",
            "Requirement already satisfied: Jinja2>=3.0 in /usr/local/lib/python3.10/dist-packages (from Flask) (3.1.4)\n",
            "Requirement already satisfied: itsdangerous>=2.0 in /usr/local/lib/python3.10/dist-packages (from Flask) (2.2.0)\n",
            "Requirement already satisfied: click>=8.0 in /usr/local/lib/python3.10/dist-packages (from Flask) (8.1.7)\n",
            "Requirement already satisfied: MarkupSafe>=2.0 in /usr/local/lib/python3.10/dist-packages (from Jinja2>=3.0->Flask) (2.1.5)\n"
          ]
        }
      ],
      "source": [
        "pip install Flask\n"
      ]
    },
    {
      "cell_type": "code",
      "source": [
        "from flask import Flask, jsonify, request\n",
        "\n",
        "app = Flask(__name__)\n",
        "\n",
        "# Sample data\n",
        "tasks = [\n",
        "    {'id': 1, 'title': 'Learn Flask', 'done': False},\n",
        "    {'id': 2, 'title': 'Build an API', 'done': False},\n",
        "]\n",
        "\n",
        "@app.route('/tasks', methods=['GET'])\n",
        "def get_tasks():\n",
        "    return jsonify(tasks)\n",
        "\n",
        "@app.route('/tasks', methods=['POST'])\n",
        "def create_task():\n",
        "    new_task = request.get_json()\n",
        "    new_task['id'] = len(tasks) + 1  # Assign a new ID\n",
        "    tasks.append(new_task)\n",
        "    return jsonify(new_task), 201\n",
        "\n",
        "if __name__ == '__main__':\n",
        "    app.run(port=5000, debug=True)\n"
      ],
      "metadata": {
        "colab": {
          "base_uri": "https://localhost:8080/"
        },
        "id": "qMo9ax1a0mgv",
        "outputId": "08131324-d66c-4417-c80b-224eb9a3c036"
      },
      "execution_count": 2,
      "outputs": [
        {
          "output_type": "stream",
          "name": "stdout",
          "text": [
            " * Serving Flask app '__main__'\n",
            " * Debug mode: on\n"
          ]
        },
        {
          "output_type": "stream",
          "name": "stderr",
          "text": [
            "INFO:werkzeug:\u001b[31m\u001b[1mWARNING: This is a development server. Do not use it in a production deployment. Use a production WSGI server instead.\u001b[0m\n",
            " * Running on http://127.0.0.1:5000\n",
            "INFO:werkzeug:\u001b[33mPress CTRL+C to quit\u001b[0m\n",
            "INFO:werkzeug: * Restarting with stat\n"
          ]
        }
      ]
    },
    {
      "cell_type": "code",
      "source": [],
      "metadata": {
        "id": "4nmVf9ey0oFv"
      },
      "execution_count": null,
      "outputs": []
    }
  ]
}