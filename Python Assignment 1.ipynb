{
  "nbformat": 4,
  "nbformat_minor": 0,
  "metadata": {
    "colab": {
      "provenance": []
    },
    "kernelspec": {
      "name": "python3",
      "display_name": "Python 3"
    },
    "language_info": {
      "name": "python"
    }
  },
  "cells": [
    {
      "cell_type": "markdown",
      "source": [
        "# Q1. Which keyword is used to create a function? Create a function to return a list of odd numbers in the range of 1 to 25."
      ],
      "metadata": {
        "id": "auCOBetMI46t"
      }
    },
    {
      "cell_type": "code",
      "source": [
        "#The keyword used to create a function in Python is def.\n",
        "# Here is an example of a function that returns a list of odd numbers in the range of 1 to 25:\n",
        "def get_odd_numbers():\n",
        "    odd_numbers = [num for num in range(1, 26) if num % 2 != 0]\n",
        "    return odd_numbers\n",
        "\n",
        "# Calling the function\n",
        "odd_numbers_list = get_odd_numbers()\n",
        "print(odd_numbers_list)\n"
      ],
      "metadata": {
        "colab": {
          "base_uri": "https://localhost:8080/"
        },
        "id": "neWqq-vuI6r8",
        "outputId": "aedaceec-fe37-4ea6-bf1b-36fe115a3460"
      },
      "execution_count": 1,
      "outputs": [
        {
          "output_type": "stream",
          "name": "stdout",
          "text": [
            "[1, 3, 5, 7, 9, 11, 13, 15, 17, 19, 21, 23, 25]\n"
          ]
        }
      ]
    },
    {
      "cell_type": "markdown",
      "source": [
        "# Q2. Why *args and **kwargs is used in some functions? Create a function each for *args and **kwarg to demonstrate their use.\n"
      ],
      "metadata": {
        "id": "SsjPJghLJrTt"
      }
    },
    {
      "cell_type": "markdown",
      "source": [
        "*args is used to pass a variable number of positional arguments to a function. It allows you to pass a non-keyworded, variable-length argument list, so the function can accept any number of arguments.\n",
        "\n",
        "**kwargs is used to pass a variable number of keyword arguments to a function. It allows you to handle named arguments that are passed as key-value pairs, offering more flexibility."
      ],
      "metadata": {
        "id": "m1wUzz0qJrLs"
      }
    },
    {
      "cell_type": "code",
      "source": [
        "def sum_numbers(*args):\n",
        "    return sum(args)\n",
        "\n",
        "# Calling the function\n",
        "result = sum_numbers(1, 2, 3, 4, 5)\n",
        "print(result)  # Output: 15\n",
        "\n",
        "#Here, *args allows the function to take any number of arguments and sum them up.\n",
        "\n"
      ],
      "metadata": {
        "colab": {
          "base_uri": "https://localhost:8080/"
        },
        "id": "doSBXuzOJE85",
        "outputId": "9346673e-62d6-4dea-d4ec-7701247372f4"
      },
      "execution_count": 4,
      "outputs": [
        {
          "output_type": "stream",
          "name": "stdout",
          "text": [
            "15\n"
          ]
        }
      ]
    },
    {
      "cell_type": "code",
      "source": [
        "def introduce_person(**kwargs):\n",
        "    for key, value in kwargs.items():\n",
        "        print(f\"{key.capitalize()}: {value}\")\n",
        "\n",
        "# Calling the function\n",
        "introduce_person(name=\"Alice\", age=30, city=\"New York\")\n",
        "#In this case, **kwargs enables you to pass and access multiple keyword arguments in the function."
      ],
      "metadata": {
        "colab": {
          "base_uri": "https://localhost:8080/"
        },
        "id": "XR7NHx0OJ182",
        "outputId": "15c507ab-ec75-411c-d456-1bd639b32dbe"
      },
      "execution_count": 5,
      "outputs": [
        {
          "output_type": "stream",
          "name": "stdout",
          "text": [
            "Name: Alice\n",
            "Age: 30\n",
            "City: New York\n"
          ]
        }
      ]
    },
    {
      "cell_type": "markdown",
      "source": [
        "# Q3. What is an iterator in python? Name the method used to initialise the iterator object and the method used for iteration. Use these methods to print the first five elements of the given list [2, 4, 6, 8, 10, 12, 14, 16, 18, 20]."
      ],
      "metadata": {
        "id": "WFzBazYnKXr0"
      }
    },
    {
      "cell_type": "markdown",
      "source": [
        "An iterator in Python is an object that contains a countable number of values and can be iterated upon, meaning you can traverse through all the values. It implements two methods:\n",
        "\n",
        "__iter__() - Used to initialize the iterator object.\n",
        "__next__() - Used to iterate through the elements one by one.\n",
        "Example: Print the first five elements of the given list\n",
        "Here’s how you can use these methods to print the first five elements of the list [2, 4, 6, 8, 10, 12, 14, 16, 18, 20]:"
      ],
      "metadata": {
        "id": "7PgpLyN3KsAt"
      }
    },
    {
      "cell_type": "code",
      "source": [
        "# Given list\n",
        "numbers = [2, 4, 6, 8, 10, 12, 14, 16, 18, 20]\n",
        "\n",
        "# Create an iterator object\n",
        "iterator = iter(numbers)\n",
        "\n",
        "# Print the first five elements using the __next__() method\n",
        "for _ in range(5):\n",
        "    print(next(iterator))\n"
      ],
      "metadata": {
        "colab": {
          "base_uri": "https://localhost:8080/"
        },
        "id": "J2PEzG7SJ8X6",
        "outputId": "956d31ca-09e5-4460-d2b0-f4b68c5fb251"
      },
      "execution_count": 6,
      "outputs": [
        {
          "output_type": "stream",
          "name": "stdout",
          "text": [
            "2\n",
            "4\n",
            "6\n",
            "8\n",
            "10\n"
          ]
        }
      ]
    },
    {
      "cell_type": "markdown",
      "source": [
        "# Q4. What is a generator function in python? Why yield keyword is used? Give an example of a generator function."
      ],
      "metadata": {
        "id": "9-bzbX03KzJ2"
      }
    },
    {
      "cell_type": "markdown",
      "source": [
        "A generator function in Python is a special type of function that returns an iterator, known as a generator, which can be iterated upon (one value at a time) using the yield keyword. Unlike a normal function that uses return to send back a result and terminate, a generator function can yield multiple values over time, suspending its state between executions.\n",
        "\n",
        "Why is the yield keyword used?\n",
        "The yield keyword is used in a generator function to:\n",
        "\n",
        "Produce a value and pause the function, maintaining its state for later use.\n",
        "When the function is called again, execution resumes from where it left off, instead of starting over.\n",
        "This makes generator functions more memory-efficient, especially when dealing with large datasets, as they produce values lazily (on demand) rather than computing and storing all the values at once.\n",
        "\n",
        "Example of a Generator Function\n",
        "Here’s a simple generator function that yields the first n even numbers:"
      ],
      "metadata": {
        "id": "n6q2kr90K4Nl"
      }
    },
    {
      "cell_type": "code",
      "source": [
        "def even_numbers(n):\n",
        "    for num in range(2, 2 * n + 1, 2):\n",
        "        yield num\n",
        "\n",
        "# Using the generator\n",
        "gen = even_numbers(5)\n",
        "\n",
        "# Iterating through the generator\n",
        "for even in gen:\n",
        "    print(even)\n"
      ],
      "metadata": {
        "colab": {
          "base_uri": "https://localhost:8080/"
        },
        "id": "s-MV4de-Kt-T",
        "outputId": "44d6a472-3c99-4ebb-ce19-2390e2634b61"
      },
      "execution_count": 7,
      "outputs": [
        {
          "output_type": "stream",
          "name": "stdout",
          "text": [
            "2\n",
            "4\n",
            "6\n",
            "8\n",
            "10\n"
          ]
        }
      ]
    },
    {
      "cell_type": "code",
      "source": [],
      "metadata": {
        "id": "q77rPcDzK5p1"
      },
      "execution_count": null,
      "outputs": []
    },
    {
      "cell_type": "markdown",
      "source": [
        "# Q5. Create a generator function for prime numbers less than 1000. Use the next() method to print the first 20 prime numbers."
      ],
      "metadata": {
        "id": "JB-1yZhALAaU"
      }
    },
    {
      "cell_type": "markdown",
      "source": [
        "Here's a generator function that generates prime numbers less than 1000:\n",
        "\n",
        "python"
      ],
      "metadata": {
        "id": "dtRNXqARLF_c"
      }
    },
    {
      "cell_type": "code",
      "source": [
        "def prime_numbers():\n",
        "    for num in range(2, 1000):\n",
        "        is_prime = True\n",
        "        for i in range(2, int(num ** 0.5) + 1):\n",
        "            if num % i == 0:\n",
        "                is_prime = False\n",
        "                break\n",
        "        if is_prime:\n",
        "            yield num\n",
        "\n",
        "# Creating the generator\n",
        "prime_gen = prime_numbers()\n",
        "\n",
        "# Using the next() method to print the first 20 prime numbers\n",
        "for _ in range(20):\n",
        "    print(next(prime_gen))\n"
      ],
      "metadata": {
        "colab": {
          "base_uri": "https://localhost:8080/"
        },
        "collapsed": true,
        "id": "eNzcNsWXLDaL",
        "outputId": "c4ad47c8-1bf3-4d7c-abeb-eccd75ebe8ae"
      },
      "execution_count": 8,
      "outputs": [
        {
          "output_type": "stream",
          "name": "stdout",
          "text": [
            "2\n",
            "3\n",
            "5\n",
            "7\n",
            "11\n",
            "13\n",
            "17\n",
            "19\n",
            "23\n",
            "29\n",
            "31\n",
            "37\n",
            "41\n",
            "43\n",
            "47\n",
            "53\n",
            "59\n",
            "61\n",
            "67\n",
            "71\n"
          ]
        }
      ]
    },
    {
      "cell_type": "markdown",
      "source": [
        "# Q6. Write a python program to print the first 10 Fibonacci numbers using a while loop."
      ],
      "metadata": {
        "id": "qq2xbAGsLRnc"
      }
    },
    {
      "cell_type": "code",
      "source": [
        "# Initialize variables for the first two Fibonacci numbers\n",
        "a, b = 0, 1\n",
        "\n",
        "# Counter to track how many Fibonacci numbers have been printed\n",
        "count = 0\n",
        "\n",
        "# Print the first 10 Fibonacci numbers\n",
        "print(\"First 10 Fibonacci numbers:\")\n",
        "while count < 10:\n",
        "    print(a)\n",
        "    # Update values: a becomes b, and b becomes the next Fibonacci number\n",
        "    a, b = b, a + b\n",
        "    count += 1\n"
      ],
      "metadata": {
        "colab": {
          "base_uri": "https://localhost:8080/"
        },
        "id": "P1RfrsTHLLde",
        "outputId": "70eac36f-95d8-4d8a-9ff9-abb3b0ad78b0"
      },
      "execution_count": 9,
      "outputs": [
        {
          "output_type": "stream",
          "name": "stdout",
          "text": [
            "First 10 Fibonacci numbers:\n",
            "0\n",
            "1\n",
            "1\n",
            "2\n",
            "3\n",
            "5\n",
            "8\n",
            "13\n",
            "21\n",
            "34\n"
          ]
        }
      ]
    },
    {
      "cell_type": "markdown",
      "source": [
        "# Q7. Write a List Comprehension to iterate through the given string: ‘pwskills’.\n",
        "Expected output: ['p', 'w', 's', 'k', 'i', 'l', 'l', 's']"
      ],
      "metadata": {
        "id": "7QKZg8K3LZXL"
      }
    },
    {
      "cell_type": "code",
      "source": [
        "string = 'pwskills'\n",
        "output = [char for char in string if char in 'pwskills']\n",
        "print(output)\n"
      ],
      "metadata": {
        "colab": {
          "base_uri": "https://localhost:8080/"
        },
        "id": "RE9aiqKlLUoW",
        "outputId": "76f02aa8-d17c-47a0-9176-ad4b79c610f3"
      },
      "execution_count": 10,
      "outputs": [
        {
          "output_type": "stream",
          "name": "stdout",
          "text": [
            "['p', 'w', 's', 'k', 'i', 'l', 'l', 's']\n"
          ]
        }
      ]
    },
    {
      "cell_type": "markdown",
      "source": [
        "# Q8. Write a python program to check whether a given number is Palindrome or not using a while loop."
      ],
      "metadata": {
        "id": "rQZI3eomLf7k"
      }
    },
    {
      "cell_type": "markdown",
      "source": [],
      "metadata": {
        "id": "AjXAk9cJLhEs"
      }
    },
    {
      "cell_type": "code",
      "source": [
        "# Function to check if a number is a palindrome\n",
        "def is_palindrome(number):\n",
        "    original_number = number\n",
        "    reversed_number = 0\n",
        "\n",
        "    while number > 0:\n",
        "        digit = number % 10  # Extract the last digit\n",
        "        reversed_number = reversed_number * 10 + digit  # Append digit to reversed_number\n",
        "        number //= 10  # Remove the last digit\n",
        "\n",
        "    # Check if the original number and reversed number are the same\n",
        "    return original_number == reversed_number\n",
        "\n",
        "# Input: Number to check\n",
        "num = int(input(\"Enter a number: \"))\n",
        "\n",
        "# Output: Whether the number is a palindrome\n",
        "if is_palindrome(num):\n",
        "    print(f\"{num} is a palindrome.\")\n",
        "else:\n",
        "    print(f\"{num} is not a palindrome.\")\n"
      ],
      "metadata": {
        "colab": {
          "base_uri": "https://localhost:8080/"
        },
        "id": "nAyOdaM-LcWh",
        "outputId": "61d2e4b0-90d9-4a70-bd78-173296612abd"
      },
      "execution_count": 11,
      "outputs": [
        {
          "output_type": "stream",
          "name": "stdout",
          "text": [
            "Enter a number: 121\n",
            "121 is a palindrome.\n"
          ]
        }
      ]
    },
    {
      "cell_type": "markdown",
      "source": [
        "# Q9. Write a code to print odd numbers from 1 to 100 using list comprehension.\n",
        "Note: Use a list comprehension to create a list from 1 to 100 and use another List comprehension to filter\n",
        "out odd numbers."
      ],
      "metadata": {
        "id": "ZXQ9HzA-L_f9"
      }
    },
    {
      "cell_type": "code",
      "source": [
        "# Create a list of numbers from 1 to 100\n",
        "numbers = [num for num in range(1, 101)]\n",
        "\n",
        "# Filter out odd numbers using list comprehension\n",
        "odd_numbers = [num for num in numbers if num % 2 != 0]\n",
        "\n",
        "# Print the odd numbers\n",
        "print(odd_numbers)\n"
      ],
      "metadata": {
        "colab": {
          "base_uri": "https://localhost:8080/"
        },
        "id": "GXUvFYF4L0OJ",
        "outputId": "332fd117-1b22-4bd3-b441-0c1ace3d0122"
      },
      "execution_count": 12,
      "outputs": [
        {
          "output_type": "stream",
          "name": "stdout",
          "text": [
            "[1, 3, 5, 7, 9, 11, 13, 15, 17, 19, 21, 23, 25, 27, 29, 31, 33, 35, 37, 39, 41, 43, 45, 47, 49, 51, 53, 55, 57, 59, 61, 63, 65, 67, 69, 71, 73, 75, 77, 79, 81, 83, 85, 87, 89, 91, 93, 95, 97, 99]\n"
          ]
        }
      ]
    },
    {
      "cell_type": "code",
      "source": [],
      "metadata": {
        "id": "sjKwnpNTMDHl"
      },
      "execution_count": null,
      "outputs": []
    }
  ]
}