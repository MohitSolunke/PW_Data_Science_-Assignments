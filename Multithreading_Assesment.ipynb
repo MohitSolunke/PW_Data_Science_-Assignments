{
  "nbformat": 4,
  "nbformat_minor": 0,
  "metadata": {
    "colab": {
      "provenance": []
    },
    "kernelspec": {
      "name": "python3",
      "display_name": "Python 3"
    },
    "language_info": {
      "name": "python"
    }
  },
  "cells": [
    {
      "cell_type": "markdown",
      "source": [
        "# Q1. What is multithreading in python? Why is it used? Name the module used to handle threads in python."
      ],
      "metadata": {
        "id": "TuaxLT5nRArW"
      }
    },
    {
      "cell_type": "markdown",
      "source": [
        "Multithreading in Python allows the execution of multiple threads (smaller units of a process) simultaneously. It is used to improve the performance of applications by performing multiple tasks at the same time, especially in I/O-bound tasks like file handling or network operations. However, due to the Global Interpreter Lock (GIL), Python's multithreading doesn't offer true parallelism for CPU-bound tasks but is effective for tasks that involve waiting or latency.\n",
        "\n",
        "The module used to handle threads in Python is called threading."
      ],
      "metadata": {
        "id": "lKYYMZXyRIvo"
      }
    },
    {
      "cell_type": "markdown",
      "source": [
        "# Q2. Why threading module used? Write the use of the following functions"
      ],
      "metadata": {
        "id": "4dcXCburRcOa"
      }
    },
    {
      "cell_type": "markdown",
      "source": [
        "he threading module in Python is used to create and manage threads. It simplifies thread creation and synchronization, allowing concurrent execution of tasks, which can be particularly useful for I/O-bound tasks like file operations, network requests, or waiting on resources.\n",
        "\n",
        "Here's the use of the following functions:\n",
        "\n",
        "active_count():\n",
        "\n",
        "Returns the number of currently active threads in the program.\n",
        "current_thread():\n",
        "\n",
        "Returns the current Thread object representing the thread in which it's called.\n",
        "enumerate():\n",
        "\n",
        "Returns a list of all active Thread objects currently alive."
      ],
      "metadata": {
        "id": "TOH4WtMWRo-m"
      }
    },
    {
      "cell_type": "markdown",
      "source": [
        "# Q3. Explain the following functions\n",
        "run()\n",
        "start()\n",
        "join()\n",
        "isAlive()"
      ],
      "metadata": {
        "id": "iLMPt3PPRxH2"
      }
    },
    {
      "cell_type": "markdown",
      "source": [
        "run():\n",
        "\n",
        "Defines the entry point for the thread's activity. When a thread's start() method is called, the thread will execute the code in the run() method. You can override this method in a subclass to specify what the thread should do.\n",
        "start():\n",
        "\n",
        "Starts the thread's activity by invoking the run() method in a separate thread. It tells the thread to begin execution and calls run() internally. You should always use start() to begin a thread rather than calling run() directly.\n",
        "join():\n",
        "\n",
        "Blocks the calling thread until the thread whose join() method is called terminates. It ensures that the main thread waits for the child thread to complete before continuing execution.\n",
        "isAlive():\n",
        "\n",
        "Returns True if the thread is still running (i.e., it has been started and not yet terminated), otherwise returns False. It helps to check the thread's state."
      ],
      "metadata": {
        "id": "fbmzHpYzSGVO"
      }
    },
    {
      "cell_type": "markdown",
      "source": [
        "# Q4. Write a python program to create two threads. Thread one must print the list of squares and thread two must print the list of cubes."
      ],
      "metadata": {
        "id": "cw7vVhNeTJEh"
      }
    },
    {
      "cell_type": "code",
      "execution_count": 1,
      "metadata": {
        "colab": {
          "base_uri": "https://localhost:8080/"
        },
        "id": "KiPPrwLOQlY5",
        "outputId": "ab3a76a1-7b35-47a5-c08c-4b5771097f62"
      },
      "outputs": [
        {
          "output_type": "stream",
          "name": "stdout",
          "text": [
            "Squares: [1, 4, 9, 16, 25]\n",
            "Cubes: [1, 8, 27, 64, 125]\n"
          ]
        }
      ],
      "source": [
        "import threading\n",
        "\n",
        "def print_squares(nums):\n",
        "    squares = [x ** 2 for x in nums]\n",
        "    print(\"Squares:\", squares)\n",
        "\n",
        "def print_cubes(nums):\n",
        "    cubes = [x ** 3 for x in nums]\n",
        "    print(\"Cubes:\", cubes)\n",
        "\n",
        "numbers = [1, 2, 3, 4, 5]\n",
        "\n",
        "t1 = threading.Thread(target=print_squares, args=(numbers,))\n",
        "t2 = threading.Thread(target=print_cubes, args=(numbers,))\n",
        "\n",
        "t1.start()\n",
        "t2.start()\n",
        "\n",
        "t1.join()\n",
        "t2.join()\n"
      ]
    },
    {
      "cell_type": "markdown",
      "source": [
        "# Q5. State advantages and disadvantages of multithreading."
      ],
      "metadata": {
        "id": "mfmrSqa3TSTv"
      }
    },
    {
      "cell_type": "markdown",
      "source": [
        "* Advantages of Multithreading:\n",
        "Increased Responsiveness:\n",
        "   Multithreading makes applications more responsive by performing multiple tasks concurrently, improving the user experience (e.g., GUI applications).\n",
        "Resource Sharing:\n",
        "  Threads within the same process share resources like memory, which leads to efficient utilization of system resources.\n",
        "Improved Performance:\n",
        "  For I/O-bound tasks (such as file handling or network operations), multithreading can improve performance by allowing tasks to proceed while waiting for other tasks.\n",
        "Simplified Program Design:\n",
        "   Multithreading allows complex processes to be divided into smaller, more manageable tasks, improving code structure and maintainability.\n",
        "\n",
        "* Disadvantages of Multithreading:\n",
        "Global Interpreter Lock (GIL):\n",
        "  In Python, the GIL prevents multiple threads from executing Python bytecode simultaneously, which limits the effectiveness of multithreading for CPU-bound tasks.\n",
        "Increased Complexity:\n",
        "   Writing and debugging multithreaded code can be complex due to issues like race conditions, deadlocks, and synchronization problems.\n",
        "Context Switching Overhead:\n",
        "  Frequent context switching between threads may introduce overhead and reduce the overall performance of the system, especially in CPU-bound tasks.\n",
        "Difficulty in Testing:\n",
        "  Multithreaded programs are harder to test due to non-deterministic behavior, which can result in hard-to-reproduce bugs."
      ],
      "metadata": {
        "id": "_Yz6mfBwTXj-"
      }
    },
    {
      "cell_type": "markdown",
      "source": [
        "# Q6. Explain deadlocks and race conditions."
      ],
      "metadata": {
        "id": "0A7gfZbzTrLH"
      }
    },
    {
      "cell_type": "markdown",
      "source": [
        "#Deadlock:\n",
        "A deadlock occurs when two or more threads are blocked forever, waiting for each other to release resources. This situation arises when each thread holds a resource and waits for another resource that another thread holds. As a result, none of the threads can proceed, leading to a standstill.\n",
        "\n",
        "#Example of Deadlock:\n",
        "\n",
        "Thread A locks Resource 1 and waits for Resource 2, which is held by Thread B.\n",
        "Thread B locks Resource 2 and waits for Resource 1, which is held by Thread A.\n",
        "Both threads are waiting for each other to release resources, resulting in a deadlock.\n",
        "\n",
        "#Race Condition:\n",
        "A race condition occurs when the outcome of a program depends on the non-deterministic timing or interleaving of thread execution. It happens when multiple threads access shared resources (like variables, data structures, etc.) concurrently, and at least one thread modifies the resource. If proper synchronization mechanisms aren't used, it can lead to inconsistent or incorrect results.\n",
        "\n",
        "#Example of Race Condition:\n",
        "\n",
        "Two threads simultaneously try to increment a shared counter. If both threads read the current value of the counter before either increments it, the final result will be incorrect.\n",
        "In such cases, the order of execution between threads determines the outcome, leading to unpredictable behavior."
      ],
      "metadata": {
        "id": "cuttXSzFT1RN"
      }
    },
    {
      "cell_type": "code",
      "source": [],
      "metadata": {
        "id": "qS2o9WjrTOex"
      },
      "execution_count": null,
      "outputs": []
    }
  ]
}