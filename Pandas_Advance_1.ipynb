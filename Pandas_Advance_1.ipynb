{
  "nbformat": 4,
  "nbformat_minor": 0,
  "metadata": {
    "colab": {
      "provenance": []
    },
    "kernelspec": {
      "name": "python3",
      "display_name": "Python 3"
    },
    "language_info": {
      "name": "python"
    }
  },
  "cells": [
    {
      "cell_type": "markdown",
      "source": [
        "# Q1. List any five functions of the pandas library with execution."
      ],
      "metadata": {
        "id": "FwYPdeHuRjQf"
      }
    },
    {
      "cell_type": "code",
      "execution_count": 1,
      "metadata": {
        "colab": {
          "base_uri": "https://localhost:8080/"
        },
        "id": "WHnRz1dyRUUw",
        "outputId": "9b615e77-7260-48df-f2ff-d2bc18597d66"
      },
      "outputs": [
        {
          "output_type": "stream",
          "name": "stdout",
          "text": [
            "DataFrame from CSV:\n",
            "      Name  Age  Gender\n",
            "0   Alice   25  Female\n",
            "1     Bob   30    Male\n",
            "2  Claire   27  Female\n"
          ]
        }
      ],
      "source": [
        "import pandas as pd\n",
        "\n",
        "# Create a sample CSV file\n",
        "data = \"\"\"Name,Age,Gender\n",
        "Alice,25,Female\n",
        "Bob,30,Male\n",
        "Claire,27,Female\"\"\"\n",
        "\n",
        "with open('sample_data.csv', 'w') as file:\n",
        "    file.write(data)\n",
        "\n",
        "# Read the CSV file into a DataFrame\n",
        "df_csv = pd.read_csv('sample_data.csv')\n",
        "print(\"DataFrame from CSV:\\n\", df_csv)\n"
      ]
    },
    {
      "cell_type": "code",
      "source": [
        "# Display the first 2 rows of the DataFrame\n",
        "print(\"\\nFirst 2 rows of the DataFrame:\\n\", df_csv.head(2))\n"
      ],
      "metadata": {
        "colab": {
          "base_uri": "https://localhost:8080/"
        },
        "id": "RZR8Cke9Rqs9",
        "outputId": "9833fc9e-3467-4d81-e3f8-c35299580877"
      },
      "execution_count": 2,
      "outputs": [
        {
          "output_type": "stream",
          "name": "stdout",
          "text": [
            "\n",
            "First 2 rows of the DataFrame:\n",
            "     Name  Age  Gender\n",
            "0  Alice   25  Female\n",
            "1    Bob   30    Male\n"
          ]
        }
      ]
    },
    {
      "cell_type": "code",
      "source": [
        "# Create a DataFrame with numerical data\n",
        "df_numbers = pd.DataFrame({\n",
        "    'A': [1, 2, 3, 4, 5],\n",
        "    'B': [5, 6, 7, 8, 9]\n",
        "})\n",
        "\n",
        "# Get descriptive statistics\n",
        "print(\"\\nDescriptive Statistics:\\n\", df_numbers.describe())\n"
      ],
      "metadata": {
        "colab": {
          "base_uri": "https://localhost:8080/"
        },
        "id": "PJS1KjJXRsFl",
        "outputId": "2e67ee17-f9ee-43a0-fd33-851fdc1cf566"
      },
      "execution_count": 3,
      "outputs": [
        {
          "output_type": "stream",
          "name": "stdout",
          "text": [
            "\n",
            "Descriptive Statistics:\n",
            "               A         B\n",
            "count  5.000000  5.000000\n",
            "mean   3.000000  7.000000\n",
            "std    1.581139  1.581139\n",
            "min    1.000000  5.000000\n",
            "25%    2.000000  6.000000\n",
            "50%    3.000000  7.000000\n",
            "75%    4.000000  8.000000\n",
            "max    5.000000  9.000000\n"
          ]
        }
      ]
    },
    {
      "cell_type": "code",
      "source": [
        "# Create a sample DataFrame\n",
        "df_group = pd.DataFrame({\n",
        "    'Name': ['Alice', 'Bob', 'Claire', 'Alice', 'Bob'],\n",
        "    'Age': [25, 30, 27, 26, 31],\n",
        "})\n",
        "\n",
        "# Group by 'Name' and calculate the average age\n",
        "average_age = df_group.groupby('Name')['Age'].mean().reset_index()\n",
        "print(\"\\nAverage Age by Name:\\n\", average_age)\n"
      ],
      "metadata": {
        "colab": {
          "base_uri": "https://localhost:8080/"
        },
        "id": "Fs458uwiRuL-",
        "outputId": "c923863a-0dcc-4d87-b8bf-2a672e0fb1fc"
      },
      "execution_count": 4,
      "outputs": [
        {
          "output_type": "stream",
          "name": "stdout",
          "text": [
            "\n",
            "Average Age by Name:\n",
            "      Name   Age\n",
            "0   Alice  25.5\n",
            "1     Bob  30.5\n",
            "2  Claire  27.0\n"
          ]
        }
      ]
    },
    {
      "cell_type": "code",
      "source": [
        "# Sort the DataFrame by Age\n",
        "sorted_df = df_csv.sort_values(by='Age')\n",
        "print(\"\\nSorted DataFrame by Age:\\n\", sorted_df)\n"
      ],
      "metadata": {
        "colab": {
          "base_uri": "https://localhost:8080/"
        },
        "id": "OdooQO1vRxOi",
        "outputId": "a177e02a-ef71-4620-87c2-39ec4a5131e6"
      },
      "execution_count": 5,
      "outputs": [
        {
          "output_type": "stream",
          "name": "stdout",
          "text": [
            "\n",
            "Sorted DataFrame by Age:\n",
            "      Name  Age  Gender\n",
            "0   Alice   25  Female\n",
            "2  Claire   27  Female\n",
            "1     Bob   30    Male\n"
          ]
        }
      ]
    },
    {
      "cell_type": "markdown",
      "source": [
        "# Q2. Given a Pandas DataFrame df with columns 'A', 'B', and 'C', write a Python function to re-index the\n",
        "DataFrame with a new index that starts from 1 and increments by 2 for each row."
      ],
      "metadata": {
        "id": "lwFK-HxWR4i-"
      }
    },
    {
      "cell_type": "code",
      "source": [
        "import pandas as pd\n",
        "\n",
        "def reindex_dataframe(df):\n",
        "    # Create a new index starting from 1 and incrementing by 2\n",
        "    new_index = range(1, 2 * len(df) + 1, 2)\n",
        "\n",
        "    # Re-index the DataFrame\n",
        "    df_reindexed = df.copy()  # Create a copy to avoid modifying the original\n",
        "    df_reindexed.index = new_index\n",
        "\n",
        "    return df_reindexed\n",
        "\n",
        "# Example DataFrame\n",
        "data = {\n",
        "    'A': [10, 20, 30],\n",
        "    'B': [40, 50, 60],\n",
        "    'C': [70, 80, 90]\n",
        "}\n",
        "df = pd.DataFrame(data)\n",
        "\n",
        "# Re-index the DataFrame\n",
        "df_reindexed = reindex_dataframe(df)\n",
        "\n",
        "# Print the original and re-indexed DataFrame\n",
        "print(\"Original DataFrame:\\n\", df)\n",
        "print(\"\\nRe-indexed DataFrame:\\n\", df_reindexed)\n"
      ],
      "metadata": {
        "colab": {
          "base_uri": "https://localhost:8080/"
        },
        "id": "X0QsJPqzR32G",
        "outputId": "e0846f14-93c8-448b-f4ae-2210709372a8"
      },
      "execution_count": 6,
      "outputs": [
        {
          "output_type": "stream",
          "name": "stdout",
          "text": [
            "Original DataFrame:\n",
            "     A   B   C\n",
            "0  10  40  70\n",
            "1  20  50  80\n",
            "2  30  60  90\n",
            "\n",
            "Re-indexed DataFrame:\n",
            "     A   B   C\n",
            "1  10  40  70\n",
            "3  20  50  80\n",
            "5  30  60  90\n"
          ]
        }
      ]
    },
    {
      "cell_type": "markdown",
      "source": [
        "# Q3. You have a Pandas DataFrame df with a column named 'Values'. Write a Python function thatiterates over the DataFrame and calculates the sum of the first three values in the 'Values' column. The function should print the sum to the console.\n",
        "#For example, if the 'Values' column of df contains the values [10, 20, 30, 40, 50], your function should calculate and print the sum of the first three values, which is 60."
      ],
      "metadata": {
        "id": "55vIuAWoSEm9"
      }
    },
    {
      "cell_type": "code",
      "source": [
        "import pandas as pd\n",
        "\n",
        "def sum_first_three_values(df):\n",
        "    # Check if the 'Values' column exists and has at least three entries\n",
        "    if 'Values' in df.columns and len(df['Values']) >= 3:\n",
        "        # Calculate the sum of the first three values\n",
        "        total = sum(df['Values'].iloc[:3])\n",
        "        print(\"Sum of the first three values:\", total)\n",
        "    else:\n",
        "        print(\"The 'Values' column is missing or does not contain enough entries.\")\n",
        "\n",
        "# Example DataFrame\n",
        "data = {\n",
        "    'Values': [10, 20, 30, 40, 50]\n",
        "}\n",
        "df = pd.DataFrame(data)\n",
        "\n",
        "# Call the function\n",
        "sum_first_three_values(df)\n"
      ],
      "metadata": {
        "colab": {
          "base_uri": "https://localhost:8080/"
        },
        "id": "MXI3aEN7SDWl",
        "outputId": "8c4788e9-cf57-4e49-8d46-e56f232c4d65"
      },
      "execution_count": 7,
      "outputs": [
        {
          "output_type": "stream",
          "name": "stdout",
          "text": [
            "Sum of the first three values: 60\n"
          ]
        }
      ]
    },
    {
      "cell_type": "markdown",
      "source": [
        "#Q4. Given a Pandas DataFrame df with a column 'Text', write a Python function to create a new column 'Word_Count' that contains the number of words in each row of the 'Text' column."
      ],
      "metadata": {
        "id": "kf5uW7g3SOYk"
      }
    },
    {
      "cell_type": "code",
      "source": [
        "import pandas as pd\n",
        "\n",
        "def add_word_count_column(df):\n",
        "    # Check if 'Text' column exists in the DataFrame\n",
        "    if 'Text' in df.columns:\n",
        "        # Create a new column 'Word_Count' that counts the words in each row of 'Text'\n",
        "        df['Word_Count'] = df['Text'].apply(lambda x: len(str(x).split()))\n",
        "    else:\n",
        "        print(\"The 'Text' column is missing in the DataFrame.\")\n",
        "\n",
        "# Example DataFrame\n",
        "data = {\n",
        "    'Text': [\n",
        "        \"Hello world\",\n",
        "        \"This is a sample text.\",\n",
        "        \"Pandas is great for data analysis.\",\n",
        "        \"How many words are in this sentence?\"\n",
        "    ]\n",
        "}\n",
        "df = pd.DataFrame(data)\n",
        "\n",
        "# Call the function to add the 'Word_Count' column\n",
        "add_word_count_column(df)\n",
        "\n",
        "# Print the updated DataFrame\n",
        "print(df)\n"
      ],
      "metadata": {
        "colab": {
          "base_uri": "https://localhost:8080/"
        },
        "id": "w1pVGqRnSNin",
        "outputId": "c6371516-3007-431a-e087-66d4e10903b8"
      },
      "execution_count": 8,
      "outputs": [
        {
          "output_type": "stream",
          "name": "stdout",
          "text": [
            "                                   Text  Word_Count\n",
            "0                           Hello world           2\n",
            "1                This is a sample text.           5\n",
            "2    Pandas is great for data analysis.           6\n",
            "3  How many words are in this sentence?           7\n"
          ]
        }
      ]
    },
    {
      "cell_type": "markdown",
      "source": [
        "# Q5. How are DataFrame.size() and DataFrame.shape() different?"
      ],
      "metadata": {
        "id": "WgIBlGyTSYuU"
      }
    },
    {
      "cell_type": "markdown",
      "source": [
        "DataFrame.size and DataFrame.shape are both attributes in Pandas used to obtain information about the size of a DataFrame, but they provide different types of information.\n",
        "\n",
        "# Differences:\n",
        "Return Value:\n",
        "\n",
        "DataFrame.size: Returns the total number of elements in the DataFrame. This is calculated as the product of the number of rows and the number of columns.\n",
        "DataFrame.shape: Returns a tuple representing the dimensions of the DataFrame. The tuple consists of two values: the number of rows and the number of columns.\n",
        "Data Type:\n",
        "\n",
        "DataFrame.size: Returns an integer value.\n",
        "DataFrame.shape: Returns a tuple of two integers.\n",
        "Examples:"
      ],
      "metadata": {
        "id": "gMDFueRSSeqU"
      }
    },
    {
      "cell_type": "code",
      "source": [
        "import pandas as pd\n",
        "\n",
        "# Create a sample DataFrame\n",
        "data = {\n",
        "    'A': [1, 2, 3],\n",
        "    'B': [4, 5, 6],\n",
        "    'C': [7, 8, 9]\n",
        "}\n",
        "df = pd.DataFrame(data)\n",
        "\n",
        "# Get size and shape\n",
        "total_elements = df.size\n",
        "dimensions = df.shape\n",
        "\n",
        "print(\"Total number of elements (size):\", total_elements)\n",
        "print(\"Dimensions (shape):\", dimensions)\n"
      ],
      "metadata": {
        "colab": {
          "base_uri": "https://localhost:8080/"
        },
        "id": "0GoT9S-FSYBa",
        "outputId": "35be1128-d695-4963-e8c7-77c4626c5bf3"
      },
      "execution_count": 9,
      "outputs": [
        {
          "output_type": "stream",
          "name": "stdout",
          "text": [
            "Total number of elements (size): 9\n",
            "Dimensions (shape): (3, 3)\n"
          ]
        }
      ]
    },
    {
      "cell_type": "markdown",
      "source": [
        "# Q6. Which function of pandas do we use to read an excel file?"
      ],
      "metadata": {
        "id": "wNe25tL6SlzG"
      }
    },
    {
      "cell_type": "markdown",
      "source": [
        "To read an Excel file in Pandas, you use the pandas.read_excel() function. This function can read both .xls and .xlsx file formats.\n",
        "\n",
        "Example Usage:\n",
        "Here’s a simple example demonstrating how to use read_excel():"
      ],
      "metadata": {
        "id": "xqKV-_y6Spik"
      }
    },
    {
      "cell_type": "code",
      "source": [
        "import pandas as pd\n",
        "\n",
        "# Read an Excel file into a DataFrame\n",
        "df = pd.read_excel('path_to_your_file.xlsx')\n",
        "\n",
        "# Display the DataFrame\n",
        "print(df)\n"
      ],
      "metadata": {
        "id": "OyXJiCEQSiwN"
      },
      "execution_count": 11,
      "outputs": []
    },
    {
      "cell_type": "markdown",
      "source": [
        "# Q7. You have a Pandas DataFrame df that contains a column named 'Email' that contains emailaddresses in the format 'username@domain.com'. Write a Python function that creates a new column'Username' in df that contains only the username part of each email address.The username is the part of the email address that appears before the '@' symbol.\n",
        "\n",
        "For example, if the\n",
        "email address is 'john.doe@example.com', the 'Username' column should contain 'john.doe'. Your\n",
        "function should extract the username from each email address and store it in the new 'Username'\n",
        "column."
      ],
      "metadata": {
        "id": "HeJAWpmFSvfd"
      }
    },
    {
      "cell_type": "code",
      "source": [
        "import pandas as pd\n",
        "\n",
        "def add_username_column(df):\n",
        "    # Check if 'Email' column exists in the DataFrame\n",
        "    if 'Email' in df.columns:\n",
        "        # Create a new column 'Username' by extracting the part before '@'\n",
        "        df['Username'] = df['Email'].apply(lambda x: x.split('@')[0])\n",
        "    else:\n",
        "        print(\"The 'Email' column is missing in the DataFrame.\")\n",
        "\n",
        "# Example DataFrame\n",
        "data = {\n",
        "    'Email': [\n",
        "        'john.doe@example.com',\n",
        "        'alice.smith@domain.com',\n",
        "        'bob.jones@test.com'\n",
        "    ]\n",
        "}\n",
        "df = pd.DataFrame(data)\n",
        "\n",
        "# Call the function to add the 'Username' column\n",
        "add_username_column(df)\n",
        "\n",
        "# Print the updated DataFrame\n",
        "print(df)\n"
      ],
      "metadata": {
        "colab": {
          "base_uri": "https://localhost:8080/"
        },
        "id": "NIhCmQuwS5vJ",
        "outputId": "8f76e16f-08a1-4fb9-e6f3-1f7f190d9191"
      },
      "execution_count": 12,
      "outputs": [
        {
          "output_type": "stream",
          "name": "stdout",
          "text": [
            "                    Email     Username\n",
            "0    john.doe@example.com     john.doe\n",
            "1  alice.smith@domain.com  alice.smith\n",
            "2      bob.jones@test.com    bob.jones\n"
          ]
        }
      ]
    },
    {
      "cell_type": "markdown",
      "source": [
        "# Q8. You have a Pandas DataFrame df with columns 'A', 'B', and 'C'. Write a Python function that selectsall rows where the value in column 'A' is greater than 5 and the value in column 'B' is less than 10. The function should return a new DataFrame that contains only the selected rows.\n",
        "\n",
        "\n",
        "For example, if df contains the following values:\n",
        "A B C\n",
        "0 3 5 1\n",
        "1 8 2 7\n",
        "2 6 9 4\n",
        "3 2 3 5\n",
        "4 9 1 2"
      ],
      "metadata": {
        "id": "gv66H596S8tc"
      }
    },
    {
      "cell_type": "code",
      "source": [
        "import pandas as pd\n",
        "\n",
        "def select_rows(df):\n",
        "    # Select rows where column 'A' is greater than 5 and column 'B' is less than 10\n",
        "    filtered_df = df[(df['A'] > 5) & (df['B'] < 10)]\n",
        "    return filtered_df\n",
        "\n",
        "# Example DataFrame\n",
        "data = {\n",
        "    'A': [3, 8, 6, 2, 9],\n",
        "    'B': [5, 2, 9, 3, 1],\n",
        "    'C': [1, 7, 4, 5, 2]\n",
        "}\n",
        "df = pd.DataFrame(data)\n",
        "\n",
        "# Call the function to get the filtered DataFrame\n",
        "result_df = select_rows(df)\n",
        "\n",
        "# Print the result\n",
        "print(result_df)\n"
      ],
      "metadata": {
        "colab": {
          "base_uri": "https://localhost:8080/"
        },
        "id": "KsS6Dk2MS7tZ",
        "outputId": "e3da31f2-3e26-436a-ad77-15a8996c79c1"
      },
      "execution_count": 13,
      "outputs": [
        {
          "output_type": "stream",
          "name": "stdout",
          "text": [
            "   A  B  C\n",
            "1  8  2  7\n",
            "2  6  9  4\n",
            "4  9  1  2\n"
          ]
        }
      ]
    },
    {
      "cell_type": "code",
      "source": [],
      "metadata": {
        "id": "MVsjVp6nTFA_"
      },
      "execution_count": null,
      "outputs": []
    }
  ]
}