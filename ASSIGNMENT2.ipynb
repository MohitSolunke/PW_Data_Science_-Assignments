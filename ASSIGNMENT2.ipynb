{
 "cells": [
  {
   "cell_type": "markdown",
   "id": "aa5ee67a-0d76-464a-9818-f037cc896f00",
   "metadata": {},
   "source": [
    "# Q1. How do you comment code in Python? What are the different types of comments?"
   ]
  },
  {
   "cell_type": "markdown",
   "id": "d3396316-8bd4-4a10-b9ff-3a7a2ed6553a",
   "metadata": {},
   "source": [
    "So, in Python We have a two types of comments as follow\n",
    "1) Single line comment : -  Single line comments are done using # this Symbol\n",
    "\n"
   ]
  },
  {
   "cell_type": "markdown",
   "id": "09379f14-f251-43dc-8be4-6fd9655c7574",
   "metadata": {},
   "source": [
    "2)Multiline Comments: -\n",
    "           Multiline commenet are done using  this chacters\n",
    "for e.g \n",
    "        '''Mohit\n",
    "           Solunke'''\n",
    "           "
   ]
  },
  {
   "cell_type": "markdown",
   "id": "0df6646e-09f9-44a9-b94b-37b485440c9a",
   "metadata": {},
   "source": [
    "# Q2. What are variables in Python? How do you declare and assign values to variables ?"
   ]
  },
  {
   "cell_type": "markdown",
   "id": "0208fa72-28f0-4924-bb59-c966b8557674",
   "metadata": {},
   "source": [
    "In python we have variables of different typess as follow :"
   ]
  },
  {
   "cell_type": "markdown",
   "id": "01707133-cd98-4662-a307-64dcdfad5e68",
   "metadata": {},
   "source": [
    "1) int \n",
    "2) float\n",
    "3) boolen\n",
    "4) character etc"
   ]
  },
  {
   "cell_type": "markdown",
   "id": "a5738f6d-004d-4c08-b816-5171653df51f",
   "metadata": {},
   "source": [
    "we are assign value them using assignment operator '=' \n",
    " e.g a = 50 ,\n",
    "     b = 34.54"
   ]
  },
  {
   "cell_type": "markdown",
   "id": "4b6cf281-8006-495a-85dc-d3d4a26a3c19",
   "metadata": {},
   "source": [
    "# Q3. How do you convert one data type to another in Python ?\n"
   ]
  },
  {
   "cell_type": "markdown",
   "id": "fc8df05f-7465-4955-86fe-58974421a04e",
   "metadata": {},
   "source": [
    "by type casting"
   ]
  },
  {
   "cell_type": "markdown",
   "id": "24553f6b-d3fd-401e-8b62-f6868167b59b",
   "metadata": {},
   "source": [
    "for e.g a = \"50\" , it's  string type of variable ,\n",
    "Convert it into int as follow\n",
    "b = int(a)\n"
   ]
  },
  {
   "cell_type": "markdown",
   "id": "34dafda8-ef71-4a18-bc4e-d0e3fb32455f",
   "metadata": {},
   "source": [
    "# Q4. How do you write and execute a Python script from the command line?"
   ]
  },
  {
   "cell_type": "markdown",
   "id": "0f299da3-1bf2-4d61-b757-cd2b08c8ccc2",
   "metadata": {},
   "source": [
    "using pip sunction we can write and execute the python script"
   ]
  },
  {
   "cell_type": "markdown",
   "id": "8b2e89e1-92b0-4c34-bfce-dc3304f65a82",
   "metadata": {},
   "source": [
    "# Q5. Given a list my_list = [1, 2, 3, 4, 5], write the code to slice the list and obtain the sub-list [2, 3]"
   ]
  },
  {
   "cell_type": "code",
   "execution_count": 2,
   "id": "7113a58b-2c6d-4ba8-bf26-aa72c214c26d",
   "metadata": {},
   "outputs": [
    {
     "data": {
      "text/plain": [
       "[2, 3]"
      ]
     },
     "execution_count": 2,
     "metadata": {},
     "output_type": "execute_result"
    }
   ],
   "source": [
    "my_list = [ 1,2,3,4,5]\n",
    "my_list[1:3]"
   ]
  },
  {
   "cell_type": "markdown",
   "id": "e09332d2-3726-42a2-a13e-e6d353f6e194",
   "metadata": {},
   "source": [
    "# Q6. What is a complex number in mathematics, and how is it represented in Python ?\n"
   ]
  },
  {
   "cell_type": "markdown",
   "id": "2bf42cac-9572-43e4-b5f1-13e37b776cd9",
   "metadata": {},
   "source": [
    "Complex Number means a number that have two part one is real and second is imginary \n",
    ",In real part we have a integer value and in imaginary part have a value to of integer with attaching alphabet 'j' in python."
   ]
  },
  {
   "cell_type": "markdown",
   "id": "09e3f4eb-a25c-4331-ad09-00e9ceef29f5",
   "metadata": {},
   "source": [
    "Its repersent in Python is as follows 👇"
   ]
  },
  {
   "cell_type": "code",
   "execution_count": 8,
   "id": "eeb870e4-5659-4378-bb64-7c9b420504f8",
   "metadata": {},
   "outputs": [],
   "source": [
    "a = 3 + 4j"
   ]
  },
  {
   "cell_type": "code",
   "execution_count": 9,
   "id": "ff1ac0f5-787a-4717-bb47-71762f1f4176",
   "metadata": {},
   "outputs": [
    {
     "data": {
      "text/plain": [
       "complex"
      ]
     },
     "execution_count": 9,
     "metadata": {},
     "output_type": "execute_result"
    }
   ],
   "source": [
    "type(a)"
   ]
  },
  {
   "cell_type": "markdown",
   "id": "dacd2d12-d71d-4753-a46b-dd1477026857",
   "metadata": {},
   "source": [
    "How we can accesing them indivually as follows 👇"
   ]
  },
  {
   "cell_type": "code",
   "execution_count": 12,
   "id": "8658ee95-2970-4b37-abde-e391e1994722",
   "metadata": {},
   "outputs": [
    {
     "data": {
      "text/plain": [
       "3.0"
      ]
     },
     "execution_count": 12,
     "metadata": {},
     "output_type": "execute_result"
    }
   ],
   "source": [
    "a.real"
   ]
  },
  {
   "cell_type": "code",
   "execution_count": 15,
   "id": "e65531b6-64f4-4e09-a3b9-c5dd596350e2",
   "metadata": {},
   "outputs": [
    {
     "data": {
      "text/plain": [
       "4.0"
      ]
     },
     "execution_count": 15,
     "metadata": {},
     "output_type": "execute_result"
    }
   ],
   "source": [
    "a.imag"
   ]
  },
  {
   "cell_type": "markdown",
   "id": "2f096f4d-565b-4dc0-aad2-bbb910035d5c",
   "metadata": {},
   "source": [
    "# Q7. What is the correct way to declare a variable named age and assign the value 25 to it?"
   ]
  },
  {
   "cell_type": "markdown",
   "id": "d0d25d37-8b2b-47ec-8f08-957bc93130d8",
   "metadata": {},
   "source": [
    "Correct way to declare variable named age is as follows 👇"
   ]
  },
  {
   "cell_type": "code",
   "execution_count": 25,
   "id": "c325ab50-60b3-41ff-a584-1e1990f8191e",
   "metadata": {},
   "outputs": [],
   "source": [
    "age = int(25)  \n",
    " "
   ]
  },
  {
   "cell_type": "code",
   "execution_count": 23,
   "id": "03206485-80cb-4059-941b-fc8a3b3ebd77",
   "metadata": {},
   "outputs": [
    {
     "data": {
      "text/plain": [
       "25"
      ]
     },
     "execution_count": 23,
     "metadata": {},
     "output_type": "execute_result"
    }
   ],
   "source": [
    "age\n"
   ]
  },
  {
   "cell_type": "code",
   "execution_count": 26,
   "id": "b2c25a97-2744-4eff-961c-a14ddc3be411",
   "metadata": {},
   "outputs": [
    {
     "data": {
      "text/plain": [
       "complex"
      ]
     },
     "execution_count": 26,
     "metadata": {},
     "output_type": "execute_result"
    }
   ],
   "source": [
    "type(a)"
   ]
  },
  {
   "cell_type": "markdown",
   "id": "51ccf6cc-955d-4345-8de0-2742ef1cb63f",
   "metadata": {},
   "source": [
    "# Q8. Declare a variable named price and assign the value 9.99 to it. What data type does this variable belong to?"
   ]
  },
  {
   "cell_type": "code",
   "execution_count": 27,
   "id": "a6263977-7690-4948-883c-cef48d1cd048",
   "metadata": {},
   "outputs": [],
   "source": [
    "price = int(9.99)"
   ]
  },
  {
   "cell_type": "code",
   "execution_count": 28,
   "id": "4a157429-52b5-4f2d-a3fa-2a808813c503",
   "metadata": {},
   "outputs": [
    {
     "data": {
      "text/plain": [
       "9"
      ]
     },
     "execution_count": 28,
     "metadata": {},
     "output_type": "execute_result"
    }
   ],
   "source": [
    "price\n"
   ]
  },
  {
   "cell_type": "code",
   "execution_count": 29,
   "id": "c88e7c73-07c7-48aa-bb5c-b432446bb112",
   "metadata": {},
   "outputs": [
    {
     "data": {
      "text/plain": [
       "int"
      ]
     },
     "execution_count": 29,
     "metadata": {},
     "output_type": "execute_result"
    }
   ],
   "source": [
    "type(price)"
   ]
  },
  {
   "cell_type": "markdown",
   "id": "ef901083-44e3-470d-9c2d-bc0ea71142f0",
   "metadata": {},
   "source": [
    "# Q9. Create a variable named name and assign your full name to it as a string. How would you print the value of this variable ?"
   ]
  },
  {
   "cell_type": "code",
   "execution_count": 36,
   "id": "96bbc456-81ae-4fa6-af65-1a8c8107770a",
   "metadata": {},
   "outputs": [],
   "source": [
    "name = str(\"Mohit Sanjay Solunke\")"
   ]
  },
  {
   "cell_type": "code",
   "execution_count": 37,
   "id": "a68de00c-546d-4aa2-9aef-7e4241de30a1",
   "metadata": {},
   "outputs": [
    {
     "data": {
      "text/plain": [
       "'Mohit Sanjay Solunke'"
      ]
     },
     "execution_count": 37,
     "metadata": {},
     "output_type": "execute_result"
    }
   ],
   "source": [
    "name"
   ]
  },
  {
   "cell_type": "code",
   "execution_count": 38,
   "id": "3eab2a1e-95bd-4b67-9551-34ca697dfaa5",
   "metadata": {},
   "outputs": [
    {
     "data": {
      "text/plain": [
       "str"
      ]
     },
     "execution_count": 38,
     "metadata": {},
     "output_type": "execute_result"
    }
   ],
   "source": [
    "type(name)"
   ]
  },
  {
   "cell_type": "markdown",
   "id": "bcadf25f-c881-42ec-959c-6d173eecc324",
   "metadata": {},
   "source": [
    "# Q10. Given the string \"Hello, World!\", extract the substring \"World\"."
   ]
  },
  {
   "cell_type": "code",
   "execution_count": 39,
   "id": "80e32795-581d-41b2-84ac-f292d5b49811",
   "metadata": {},
   "outputs": [],
   "source": [
    "string =\"Hello World\""
   ]
  },
  {
   "cell_type": "code",
   "execution_count": 40,
   "id": "67718aa7-885f-4c9a-b4d7-8c721beeaee5",
   "metadata": {},
   "outputs": [
    {
     "data": {
      "text/plain": [
       "'World'"
      ]
     },
     "execution_count": 40,
     "metadata": {},
     "output_type": "execute_result"
    }
   ],
   "source": [
    "string[6:11]"
   ]
  },
  {
   "cell_type": "code",
   "execution_count": 41,
   "id": "35a93e92-b422-4d93-a914-19b1aff5a2e6",
   "metadata": {},
   "outputs": [
    {
     "data": {
      "text/plain": [
       "str"
      ]
     },
     "execution_count": 41,
     "metadata": {},
     "output_type": "execute_result"
    }
   ],
   "source": [
    "type(string)"
   ]
  },
  {
   "cell_type": "markdown",
   "id": "5b316f17-cf37-43ca-b151-f7b9a618dc89",
   "metadata": {},
   "source": [
    "# Q11. Create a variable named \"is_student\" and assign it a boolean value indicating whether you are currently a student or not"
   ]
  },
  {
   "cell_type": "code",
   "execution_count": 42,
   "id": "60b425c8-a92b-4a77-b174-8408e741314b",
   "metadata": {},
   "outputs": [],
   "source": [
    "is_student = True\n"
   ]
  },
  {
   "cell_type": "code",
   "execution_count": 43,
   "id": "32bf3049-da70-44f2-adec-f6224fbc0ffb",
   "metadata": {},
   "outputs": [
    {
     "name": "stdout",
     "output_type": "stream",
     "text": [
      "You are Student Currently\n"
     ]
    }
   ],
   "source": [
    "if(is_student):\n",
    "    print(\"You are Student Currently\")\n",
    "else:\n",
    "    print(\"You are not Student\")"
   ]
  },
  {
   "cell_type": "code",
   "execution_count": null,
   "id": "1ae45999-367c-48eb-a620-3914ac179da3",
   "metadata": {},
   "outputs": [],
   "source": []
  }
 ],
 "metadata": {
  "kernelspec": {
   "display_name": "Python 3 (ipykernel)",
   "language": "python",
   "name": "python3"
  },
  "language_info": {
   "codemirror_mode": {
    "name": "ipython",
    "version": 3
   },
   "file_extension": ".py",
   "mimetype": "text/x-python",
   "name": "python",
   "nbconvert_exporter": "python",
   "pygments_lexer": "ipython3",
   "version": "3.10.8"
  }
 },
 "nbformat": 4,
 "nbformat_minor": 5
}
