{
  "nbformat": 4,
  "nbformat_minor": 0,
  "metadata": {
    "colab": {
      "provenance": []
    },
    "kernelspec": {
      "name": "python3",
      "display_name": "Python 3"
    },
    "language_info": {
      "name": "python"
    }
  },
  "cells": [
    {
      "cell_type": "markdown",
      "source": [
        "# Q1, Create a vehicle class with an init method having instance variables as name_of_vehicle, max_speed and average_of_vehicle."
      ],
      "metadata": {
        "id": "OAjRFJY_O4FH"
      }
    },
    {
      "cell_type": "code",
      "execution_count": 1,
      "metadata": {
        "colab": {
          "base_uri": "https://localhost:8080/"
        },
        "id": "jHTu8tTjOxof",
        "outputId": "cb4485eb-5ec9-4ae1-a199-4ffd64a1a931"
      },
      "outputs": [
        {
          "output_type": "stream",
          "name": "stdout",
          "text": [
            "Name of Vehicle: Car\n",
            "Max Speed: 180 km/h\n",
            "Average Speed: 60 km/h\n"
          ]
        }
      ],
      "source": [
        "class Vehicle:\n",
        "    def __init__(self, name_of_vehicle, max_speed, average_of_vehicle):\n",
        "        self.name_of_vehicle = name_of_vehicle       # Name of the vehicle\n",
        "        self.max_speed = max_speed                   # Maximum speed of the vehicle\n",
        "        self.average_of_vehicle = average_of_vehicle # Average speed of the vehicle\n",
        "\n",
        "# Example of creating an instance of the Vehicle class\n",
        "vehicle1 = Vehicle(\"Car\", 180, 60)\n",
        "\n",
        "# Printing the attributes of the vehicle\n",
        "print(f\"Name of Vehicle: {vehicle1.name_of_vehicle}\")\n",
        "print(f\"Max Speed: {vehicle1.max_speed} km/h\")\n",
        "print(f\"Average Speed: {vehicle1.average_of_vehicle} km/h\")\n"
      ]
    },
    {
      "cell_type": "markdown",
      "source": [
        "# Q2. Create a child class car from the vehicle class created in Que 1, which will inherit the vehicle class. Create a method named seating_capacity which takes capacity as an argument and returns the name of the vehicle and its seating capacity."
      ],
      "metadata": {
        "id": "RHFEWQ8XPGEl"
      }
    },
    {
      "cell_type": "code",
      "source": [
        "class Vehicle:\n",
        "    def __init__(self, name_of_vehicle, max_speed, average_of_vehicle):\n",
        "        self.name_of_vehicle = name_of_vehicle       # Name of the vehicle\n",
        "        self.max_speed = max_speed                   # Maximum speed of the vehicle\n",
        "        self.average_of_vehicle = average_of_vehicle # Average speed of the vehicle\n",
        "\n",
        "class Car(Vehicle):  # Inheriting from Vehicle class\n",
        "    def seating_capacity(self, capacity):\n",
        "        return f\"The {self.name_of_vehicle} has a seating capacity of {capacity}.\"\n",
        "\n",
        "# Example of creating an instance of the Car class\n",
        "car1 = Car(\"Sedan\", 200, 70)\n",
        "\n",
        "# Printing the attributes of the car\n",
        "print(f\"Name of Vehicle: {car1.name_of_vehicle}\")\n",
        "print(f\"Max Speed: {car1.max_speed} km/h\")\n",
        "print(f\"Average Speed: {car1.average_of_vehicle} km/h\")\n",
        "\n",
        "# Using the seating_capacity method\n",
        "capacity = 5\n",
        "print(car1.seating_capacity(capacity))\n"
      ],
      "metadata": {
        "colab": {
          "base_uri": "https://localhost:8080/"
        },
        "id": "0Sc75T6xPCKY",
        "outputId": "b79ee38e-c2e7-43bf-a7a5-5391fb09c801"
      },
      "execution_count": 2,
      "outputs": [
        {
          "output_type": "stream",
          "name": "stdout",
          "text": [
            "Name of Vehicle: Sedan\n",
            "Max Speed: 200 km/h\n",
            "Average Speed: 70 km/h\n",
            "The Sedan has a seating capacity of 5.\n"
          ]
        }
      ]
    },
    {
      "cell_type": "markdown",
      "source": [
        "# Q3. What is multiple inheritance? Write a python code to demonstrate multiple inheritance."
      ],
      "metadata": {
        "id": "7wTOMknqPVt3"
      }
    },
    {
      "cell_type": "markdown",
      "source": [
        "\n",
        "Multiple inheritance is a feature in object-oriented programming where a class can inherit attributes and methods from more than one parent class. This allows a subclass to combine the functionalities of multiple classes, promoting code reusability and organization.\n",
        "\n",
        "Python Code to Demonstrate Multiple Inheritance\n",
        "Here’s an example that demonstrates multiple inheritance in Python:"
      ],
      "metadata": {
        "id": "uEOplIbnPaGt"
      }
    },
    {
      "cell_type": "code",
      "source": [
        "# Parent class 1\n",
        "class Vehicle:\n",
        "    def __init__(self, name):\n",
        "        self.name = name\n",
        "\n",
        "    def show_info(self):\n",
        "        return f\"Vehicle Name: {self.name}\"\n",
        "\n",
        "# Parent class 2\n",
        "class Engine:\n",
        "    def __init__(self, engine_type):\n",
        "        self.engine_type = engine_type\n",
        "\n",
        "    def show_engine(self):\n",
        "        return f\"Engine Type: {self.engine_type}\"\n",
        "\n",
        "# Child class that inherits from both Vehicle and Engine\n",
        "class Car(Vehicle, Engine):\n",
        "    def __init__(self, name, engine_type):\n",
        "        Vehicle.__init__(self, name)  # Initialize Vehicle\n",
        "        Engine.__init__(self, engine_type)  # Initialize Engine\n",
        "\n",
        "    def display_info(self):\n",
        "        return f\"{self.show_info()}, {self.show_engine()}\"\n",
        "\n",
        "# Creating an instance of Car\n",
        "car1 = Car(\"Toyota\", \"V6\")\n",
        "\n",
        "# Displaying information about the car\n",
        "print(car1.display_info())\n"
      ],
      "metadata": {
        "colab": {
          "base_uri": "https://localhost:8080/"
        },
        "id": "EDrL06j7PQjk",
        "outputId": "1c77957c-e28d-4bda-8b18-98e3a4fe0f8a"
      },
      "execution_count": 3,
      "outputs": [
        {
          "output_type": "stream",
          "name": "stdout",
          "text": [
            "Vehicle Name: Toyota, Engine Type: V6\n"
          ]
        }
      ]
    },
    {
      "cell_type": "markdown",
      "source": [
        "# Q4. What are getter and setter in python? Create a class and create a getter and a setter method in this class."
      ],
      "metadata": {
        "id": "6PzT9ZmxPgf0"
      }
    },
    {
      "cell_type": "code",
      "source": [
        "class Person:\n",
        "    def __init__(self, name, age):\n",
        "        self.__name = name  # Private attribute\n",
        "        self.__age = age    # Private attribute\n",
        "\n",
        "    # Getter for name\n",
        "    def get_name(self):\n",
        "        return self.__name\n",
        "\n",
        "    # Setter for name\n",
        "    def set_name(self, name):\n",
        "        self.__name = name\n",
        "\n",
        "    # Getter for age\n",
        "    def get_age(self):\n",
        "        return self.__age\n",
        "\n",
        "    # Setter for age\n",
        "    def set_age(self, age):\n",
        "        if age < 0:\n",
        "            print(\"Age cannot be negative.\")\n",
        "        else:\n",
        "            self.__age = age\n",
        "\n",
        "# Creating an instance of Person\n",
        "person = Person(\"Alice\", 30)\n",
        "\n",
        "# Using the getter methods to access private attributes\n",
        "print(f\"Name: {person.get_name()}\")\n",
        "print(f\"Age: {person.get_age()}\")\n",
        "\n",
        "# Using the setter methods to update private attributes\n",
        "person.set_name(\"Bob\")\n",
        "person.set_age(35)\n",
        "\n",
        "# Displaying the updated values\n",
        "print(f\"Updated Name: {person.get_name()}\")\n",
        "print(f\"Updated Age: {person.get_age()}\")\n",
        "\n",
        "# Attempting to set a negative age\n",
        "person.set_age(-5)  # This will trigger the validation check\n"
      ],
      "metadata": {
        "colab": {
          "base_uri": "https://localhost:8080/"
        },
        "id": "9sACDeWyPdN1",
        "outputId": "f82d7fe3-0630-4c9f-af34-c1758268459e"
      },
      "execution_count": 4,
      "outputs": [
        {
          "output_type": "stream",
          "name": "stdout",
          "text": [
            "Name: Alice\n",
            "Age: 30\n",
            "Updated Name: Bob\n",
            "Updated Age: 35\n",
            "Age cannot be negative.\n"
          ]
        }
      ]
    },
    {
      "cell_type": "markdown",
      "source": [
        "# Q5.What is method overriding in python? Write a python code to demonstrate method overriding."
      ],
      "metadata": {
        "id": "mYzt4PbAPooF"
      }
    },
    {
      "cell_type": "markdown",
      "source": [
        "Method overriding is a feature in object-oriented programming that allows a subclass to provide a specific implementation of a method that is already defined in its parent class. When a method in a child class has the same name and parameters as a method in the parent class, the child class method is said to override the parent class method. This enables polymorphism, allowing methods to behave differently based on the object that is invoking them.\n",
        "\n",
        "Python Code to Demonstrate Method Overriding\n",
        "Here’s an example that demonstrates method overriding in Python:"
      ],
      "metadata": {
        "id": "ozFNy1UKPxaE"
      }
    },
    {
      "cell_type": "code",
      "source": [
        "# Parent class\n",
        "class Animal:\n",
        "    def speak(self):\n",
        "        return \"Animal speaks\"\n",
        "\n",
        "# Child class that overrides the speak method\n",
        "class Dog(Animal):\n",
        "    def speak(self):\n",
        "        return \"Woof! Woof!\"\n",
        "\n",
        "# Another child class that overrides the speak method\n",
        "class Cat(Animal):\n",
        "    def speak(self):\n",
        "        return \"Meow!\"\n",
        "\n",
        "# Creating instances of the classes\n",
        "animal = Animal()\n",
        "dog = Dog()\n",
        "cat = Cat()\n",
        "\n",
        "# Calling the speak method on each instance\n",
        "print(animal.speak())  # Calls the method from the Animal class\n",
        "print(dog.speak())     # Calls the overridden method from the Dog class\n",
        "print(cat.speak())     # Calls the overridden method from the Cat class\n"
      ],
      "metadata": {
        "colab": {
          "base_uri": "https://localhost:8080/"
        },
        "id": "3M3tRzbSPk_F",
        "outputId": "a6b2e490-e6d4-4d9e-fca6-2c48e9f024cf"
      },
      "execution_count": 5,
      "outputs": [
        {
          "output_type": "stream",
          "name": "stdout",
          "text": [
            "Animal speaks\n",
            "Woof! Woof!\n",
            "Meow!\n"
          ]
        }
      ]
    },
    {
      "cell_type": "code",
      "source": [],
      "metadata": {
        "id": "dwhMTAMGP6tE"
      },
      "execution_count": null,
      "outputs": []
    }
  ]
}