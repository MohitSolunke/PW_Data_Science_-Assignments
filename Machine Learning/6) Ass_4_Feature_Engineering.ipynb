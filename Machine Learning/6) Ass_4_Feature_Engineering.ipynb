{
 "cells": [
  {
   "cell_type": "markdown",
   "id": "dc1ed10b-01cc-4997-87e5-6340fe1e1924",
   "metadata": {},
   "source": [
    "# Feature Engineering Assignment No.4"
   ]
  },
  {
   "cell_type": "code",
   "execution_count": null,
   "id": "905da05d-80f1-4c47-960f-df0dc52455f0",
   "metadata": {},
   "outputs": [],
   "source": []
  }
 ],
 "metadata": {
  "kernelspec": {
   "display_name": "Python 3 (ipykernel)",
   "language": "python",
   "name": "python3"
  },
  "language_info": {
   "codemirror_mode": {
    "name": "ipython",
    "version": 3
   },
   "file_extension": ".py",
   "mimetype": "text/x-python",
   "name": "python",
   "nbconvert_exporter": "python",
   "pygments_lexer": "ipython3",
   "version": "3.10.8"
  }
 },
 "nbformat": 4,
 "nbformat_minor": 5
}
