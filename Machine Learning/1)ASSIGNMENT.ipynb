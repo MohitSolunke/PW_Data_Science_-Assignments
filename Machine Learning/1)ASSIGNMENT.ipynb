{
 "cells": [
  {
   "cell_type": "markdown",
   "id": "c56918d1-2bde-4dfb-bd3d-cbb0076ab1d9",
   "metadata": {},
   "source": [
    "# ML ASSIGNMENT_NO 1"
   ]
  },
  {
   "cell_type": "markdown",
   "id": "7eb3fee7-9f97-4427-801f-1f7f3ed167d0",
   "metadata": {},
   "source": [
    "Q1: Explain the following with an example:\n",
    "\n",
    "1) Artificial Intelligence\n",
    "2) Machine Learning,\n",
    "3) Deep Learning\n"
   ]
  },
  {
   "cell_type": "markdown",
   "id": "56f85e1a-5844-4c94-844d-462329390d17",
   "metadata": {},
   "source": [
    "1) Artificial intelligence :-  Artificial intelligence is a smart application that can perform any task without iterfering of humen behaviour.\n",
    "e.g Chatbots\n"
   ]
  },
  {
   "cell_type": "markdown",
   "id": "e8d0ef28-2fb8-48a5-9718-453cc7240cb8",
   "metadata": {},
   "source": [
    "2. Machine Learning :- Machine Learning is a Subset of Artificial Intelligence that provide statlools to analyze ,visualize and make a predictive models as well as forcecasting  \n",
    "e.g Recomendation Systems 1) Product Recomendation system \n",
    "                            2) Movie Recomendation System"
   ]
  },
  {
   "cell_type": "markdown",
   "id": "6e93269b-504f-4210-9903-aba24de740c8",
   "metadata": {},
   "source": [
    "3. Deep Leraning :- Deep learning is a subset of Machine Learning that use to mimic the human brain.\n",
    "e.g 1) Image Detection \n",
    "    2) Object Detection"
   ]
  },
  {
   "cell_type": "markdown",
   "id": "72faaf2a-04f6-4b7c-a78f-b2c64d76bf7f",
   "metadata": {},
   "source": [
    "Q2: What is supervised learning? List some examples of supervised learning."
   ]
  },
  {
   "cell_type": "markdown",
   "id": "bdafb002-3b5b-48fd-aa45-f81c63f1738f",
   "metadata": {},
   "source": [
    "Supervised Learning :- Supervised Learning is a one of the type of Machine Learning ,In that We are known the output of the given models ,It is divided in to two part one first is training the models and second is  Testing the models ,It work to classification and Regression to the datasets\n",
    "e.g\n",
    "1) Classification :\n",
    "     It is a part of supervised learning ,In which the Models give the output feature based on the other available feature in the form of categorial \n",
    "    e.g pass or fail\n",
    "        day or night \n",
    "2) Regression :\n",
    "    It is a part of Supervised Learning ,In which the Models give the continious values as output features \n",
    "    e.g\n",
    "     size of house     No. Of Rooms   Price of House\n",
    "        1500 sqfoot       15              1.5cr\n",
    "    "
   ]
  },
  {
   "cell_type": "markdown",
   "id": "4e371086-ba5d-43e4-9d7c-44131383cdbd",
   "metadata": {},
   "source": [
    "Q3:  What is unsupervised learning? List some examples of unsupervised learning."
   ]
  },
  {
   "cell_type": "markdown",
   "id": "83da6bc0-673c-4bf9-a187-cc6ff669a817",
   "metadata": {},
   "source": [
    "Unsupvised Learning :- \n",
    "    It is a one of the important type of Machine learning,In which making the clustring using the available or input feature,In that we do not know the output of the given model.\n",
    "    \n",
    "e.g 1) pass the one bucket of frutes then it group them on thire names ."
   ]
  },
  {
   "cell_type": "markdown",
   "id": "50a98f4a-87f9-43c2-879f-f286e1109c6a",
   "metadata": {},
   "source": [
    "Q4: What is the difference between AI, ML, DL, and DS?"
   ]
  },
  {
   "cell_type": "markdown",
   "id": "d3fd4a35-6f19-4571-bb6c-d097f36d617b",
   "metadata": {},
   "source": [
    "Artificial Intelligence (AI) is a Superset of all these follows,Machine learning(ML) is a Subset of Artificial Intelligence and deep Learning (DL) is a Subset of Machine learning,Data Science (DS) is a Intersection of Artificial Intelligence(AI),Machine Learning(ML) and Deep Learning(DL)."
   ]
  },
  {
   "cell_type": "markdown",
   "id": "437217d0-76c4-463b-a864-4d4d830a4dc8",
   "metadata": {},
   "source": [
    "Q5: What are the main differences between supervised, unsupervised, and semi-supervised learning?"
   ]
  },
  {
   "cell_type": "markdown",
   "id": "b108d3bb-5343-4b17-a371-90c0d3386880",
   "metadata": {},
   "source": [
    "In Supervised Learnig output feature is known and In Unsupervised Learning Output Feature is not known.Semi Supervised learning is a combination of of both supervised as well as Unsupervised learning ."
   ]
  },
  {
   "cell_type": "markdown",
   "id": "7574a7c2-d3f6-4c3e-b915-0fef48f7d2ef",
   "metadata": {},
   "source": [
    "Q6: What is train, test and validation split? Explain the importance of each term."
   ]
  },
  {
   "cell_type": "markdown",
   "id": "f497866a-30fe-4334-8666-8aa8a7ac0763",
   "metadata": {},
   "source": [
    "Train :- In train section of Datasets,its used to train the models \n",
    "Validation :- In Validation of Datasets section In that we check the hyper tuning of the models to enhance the accuracy of models.\n",
    "Test :- In Test Section Datasets ,We will test the model using these data ,Test datasets are keep unknown to models because to give the accurate output "
   ]
  },
  {
   "cell_type": "markdown",
   "id": "97e85743-98ab-40de-85e1-3c8956458a5c",
   "metadata": {},
   "source": [
    "Q7: How can unsupervised learning be used in anomaly detection?"
   ]
  },
  {
   "cell_type": "markdown",
   "id": "91a8784a-d0a9-4343-a7e7-c079f18346a6",
   "metadata": {},
   "source": [
    "Unsupervised Anomaly Detection: This method does not require any training data and instead assumes two things about the data ie Only a small percentage of data is anomalous and Any anomaly is statistically different from the normal samples."
   ]
  },
  {
   "cell_type": "markdown",
   "id": "d5564af1-db14-4fe1-9e72-bf98d2d3bbef",
   "metadata": {},
   "source": [
    "Q8: List down some commonly used supervised learning algorithms and unsupervised learning \n",
    "algorithms."
   ]
  },
  {
   "cell_type": "markdown",
   "id": "a4f1f117-4ba7-42f0-9d3f-72c02148d93c",
   "metadata": {},
   "source": [
    "Supervised Learning Algorithms :- The most commonly used supervised learning algorithms are decision tree, logistic regression, linear regression, support vector machine .\n",
    "UnSupervised Learning Algorithms :- The most commonly used unsupervised learning algorithms are k-means clustering, hierarchical clustering, and apriori algorithm"
   ]
  },
  {
   "cell_type": "code",
   "execution_count": null,
   "id": "313a3f5d-a21f-4be5-a076-07a748553532",
   "metadata": {},
   "outputs": [],
   "source": []
  }
 ],
 "metadata": {
  "kernelspec": {
   "display_name": "Python 3 (ipykernel)",
   "language": "python",
   "name": "python3"
  },
  "language_info": {
   "codemirror_mode": {
    "name": "ipython",
    "version": 3
   },
   "file_extension": ".py",
   "mimetype": "text/x-python",
   "name": "python",
   "nbconvert_exporter": "python",
   "pygments_lexer": "ipython3",
   "version": "3.10.8"
  }
 },
 "nbformat": 4,
 "nbformat_minor": 5
}
