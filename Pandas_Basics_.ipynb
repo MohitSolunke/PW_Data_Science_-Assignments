{
  "nbformat": 4,
  "nbformat_minor": 0,
  "metadata": {
    "colab": {
      "provenance": []
    },
    "kernelspec": {
      "name": "python3",
      "display_name": "Python 3"
    },
    "language_info": {
      "name": "python"
    }
  },
  "cells": [
    {
      "cell_type": "markdown",
      "source": [
        "# Q1. Create a Pandas Series that contains the following data: 4, 8, 15, 16, 23, and 42. Then, print the series."
      ],
      "metadata": {
        "id": "C5xU1jeOOg0V"
      }
    },
    {
      "cell_type": "code",
      "execution_count": 2,
      "metadata": {
        "colab": {
          "base_uri": "https://localhost:8080/"
        },
        "id": "eBZexJznODAX",
        "outputId": "63d7385b-9050-4b1b-bbc8-1124701a8397"
      },
      "outputs": [
        {
          "output_type": "stream",
          "name": "stdout",
          "text": [
            "0     4\n",
            "1     8\n",
            "2    15\n",
            "3    16\n",
            "4    23\n",
            "5    42\n",
            "dtype: int64\n"
          ]
        }
      ],
      "source": [
        "import pandas as pd\n",
        "\n",
        "# Create a Pandas Series with the given data\n",
        "data = [4, 8, 15, 16, 23, 42]\n",
        "series = pd.Series(data)\n",
        "\n",
        "# Print the series\n",
        "print(series)\n"
      ]
    },
    {
      "cell_type": "markdown",
      "source": [
        "# Q2. Create a variable of list type containing 10 elements in it, and apply pandas.Series function on the variable print it."
      ],
      "metadata": {
        "id": "rX_Wu19tPWZt"
      }
    },
    {
      "cell_type": "code",
      "source": [
        "# Create a list containing 10 elements\n",
        "my_list = [10, 20, 30, 40, 50, 60, 70, 80, 90, 100]\n",
        "\n",
        "# Apply the pandas.Series function on the list\n",
        "series_from_list = pd.Series(my_list)\n",
        "\n",
        "# Print the series\n",
        "series_from_list\n"
      ],
      "metadata": {
        "colab": {
          "base_uri": "https://localhost:8080/",
          "height": 397
        },
        "id": "azxi7GhIOrPs",
        "outputId": "529c709b-2fdb-4254-bcbd-accdbd15cd16"
      },
      "execution_count": 3,
      "outputs": [
        {
          "output_type": "execute_result",
          "data": {
            "text/plain": [
              "0     10\n",
              "1     20\n",
              "2     30\n",
              "3     40\n",
              "4     50\n",
              "5     60\n",
              "6     70\n",
              "7     80\n",
              "8     90\n",
              "9    100\n",
              "dtype: int64"
            ],
            "text/html": [
              "<div>\n",
              "<style scoped>\n",
              "    .dataframe tbody tr th:only-of-type {\n",
              "        vertical-align: middle;\n",
              "    }\n",
              "\n",
              "    .dataframe tbody tr th {\n",
              "        vertical-align: top;\n",
              "    }\n",
              "\n",
              "    .dataframe thead th {\n",
              "        text-align: right;\n",
              "    }\n",
              "</style>\n",
              "<table border=\"1\" class=\"dataframe\">\n",
              "  <thead>\n",
              "    <tr style=\"text-align: right;\">\n",
              "      <th></th>\n",
              "      <th>0</th>\n",
              "    </tr>\n",
              "  </thead>\n",
              "  <tbody>\n",
              "    <tr>\n",
              "      <th>0</th>\n",
              "      <td>10</td>\n",
              "    </tr>\n",
              "    <tr>\n",
              "      <th>1</th>\n",
              "      <td>20</td>\n",
              "    </tr>\n",
              "    <tr>\n",
              "      <th>2</th>\n",
              "      <td>30</td>\n",
              "    </tr>\n",
              "    <tr>\n",
              "      <th>3</th>\n",
              "      <td>40</td>\n",
              "    </tr>\n",
              "    <tr>\n",
              "      <th>4</th>\n",
              "      <td>50</td>\n",
              "    </tr>\n",
              "    <tr>\n",
              "      <th>5</th>\n",
              "      <td>60</td>\n",
              "    </tr>\n",
              "    <tr>\n",
              "      <th>6</th>\n",
              "      <td>70</td>\n",
              "    </tr>\n",
              "    <tr>\n",
              "      <th>7</th>\n",
              "      <td>80</td>\n",
              "    </tr>\n",
              "    <tr>\n",
              "      <th>8</th>\n",
              "      <td>90</td>\n",
              "    </tr>\n",
              "    <tr>\n",
              "      <th>9</th>\n",
              "      <td>100</td>\n",
              "    </tr>\n",
              "  </tbody>\n",
              "</table>\n",
              "</div><br><label><b>dtype:</b> int64</label>"
            ]
          },
          "metadata": {},
          "execution_count": 3
        }
      ]
    },
    {
      "cell_type": "markdown",
      "source": [
        "# Q3. Create a Pandas DataFrame that contains the following data:"
      ],
      "metadata": {
        "id": "yJqgQXXwP5wg"
      }
    },
    {
      "cell_type": "code",
      "source": [
        "import pandas as pd\n",
        "\n",
        "# Create a dictionary with the data\n",
        "data = {\n",
        "    'Name': ['Alice', 'Bob', 'Claire'],\n",
        "    'Age': [25, 30, 27],\n",
        "    'Gender': ['Female', 'Male', 'Female']\n",
        "}\n",
        "\n",
        "# Create a Pandas DataFrame from the dictionary\n",
        "df = pd.DataFrame(data)\n",
        "\n",
        "# Print the DataFrame\n",
        "print(df)\n"
      ],
      "metadata": {
        "colab": {
          "base_uri": "https://localhost:8080/"
        },
        "id": "7I_oHqq2PtYg",
        "outputId": "71def142-bf32-4807-d4a2-579451e93708"
      },
      "execution_count": 4,
      "outputs": [
        {
          "output_type": "stream",
          "name": "stdout",
          "text": [
            "     Name  Age  Gender\n",
            "0   Alice   25  Female\n",
            "1     Bob   30    Male\n",
            "2  Claire   27  Female\n"
          ]
        }
      ]
    },
    {
      "cell_type": "markdown",
      "source": [
        "# Q4. What is ‘DataFrame’ in pandas and how is it different from pandas.series? Explain with an example."
      ],
      "metadata": {
        "id": "R72Z3lMDP_7E"
      }
    },
    {
      "cell_type": "markdown",
      "source": [
        "A DataFrame in Pandas is a two-dimensional, size-mutable, and potentially heterogeneous tabular data structure. It can be thought of as a spreadsheet or a SQL table. A DataFrame consists of rows and columns, where each column can contain different types of data (integers, floats, strings, etc.).\n",
        "\n",
        "# Key Differences Between DataFrame and Series:\n",
        "# Dimension:\n",
        "\n",
        "#DataFrame: Two-dimensional (rows and columns).\n",
        "#Series: One-dimensional (a single column of data).\n",
        "#Structure:\n",
        "\n",
        "DataFrame: Can store multiple Series objects as its columns, where each Series represents a single column of the DataFrame.\n",
        "Series: Represents a single column of data with an index.\n",
        "Usage:\n",
        "\n",
        "DataFrame: Used for more complex data representations, typically for datasets with multiple features (columns).\n",
        "Series: Used for simpler datasets or when you only need to handle one-dimensional data.\n",
        "Example:\n",
        "Here’s a simple example to illustrate the differences:\n",
        "\n",
        "python"
      ],
      "metadata": {
        "id": "DYKcuS00QLXk"
      }
    },
    {
      "cell_type": "code",
      "source": [
        "import pandas as pd\n",
        "\n",
        "# Create a Pandas Series\n",
        "age_series = pd.Series([25, 30, 27], index=['Alice', 'Bob', 'Claire'])\n",
        "print(\"Series:\")\n",
        "print(age_series)\n",
        "\n",
        "# Create a Pandas DataFrame\n",
        "data = {\n",
        "    'Name': ['Alice', 'Bob', 'Claire'],\n",
        "    'Age': [25, 30, 27],\n",
        "    'Gender': ['Female', 'Male', 'Female']\n",
        "}\n",
        "df = pd.DataFrame(data)\n",
        "print(\"\\nDataFrame:\")\n",
        "print(df)\n"
      ],
      "metadata": {
        "colab": {
          "base_uri": "https://localhost:8080/"
        },
        "id": "-KkGHdaDP6RK",
        "outputId": "66054955-0d17-464a-e013-b236521aa98a"
      },
      "execution_count": 5,
      "outputs": [
        {
          "output_type": "stream",
          "name": "stdout",
          "text": [
            "Series:\n",
            "Alice     25\n",
            "Bob       30\n",
            "Claire    27\n",
            "dtype: int64\n",
            "\n",
            "DataFrame:\n",
            "     Name  Age  Gender\n",
            "0   Alice   25  Female\n",
            "1     Bob   30    Male\n",
            "2  Claire   27  Female\n"
          ]
        }
      ]
    },
    {
      "cell_type": "markdown",
      "source": [
        "# Q5. What are some common functions you can use to manipulate data in a Pandas DataFrame? Can you give an example of when you might use one of these functions?"
      ],
      "metadata": {
        "id": "nnKtp9LvQhE1"
      }
    },
    {
      "cell_type": "markdown",
      "source": [
        "Pandas provides a wide array of functions to manipulate data in a DataFrame. Here are some common functions, along with examples of when you might use them:\n",
        "\n",
        "Common Functions for Data Manipulation:\n",
        "head(): Returns the first few rows of the DataFrame.\n",
        "\n",
        "Use Case: Quickly preview the data to understand its structure.\n",
        "python\n",
        "Copy code\n",
        "df.head()\n",
        "tail(): Returns the last few rows of the DataFrame.\n",
        "\n",
        "Use Case: Check the end of the dataset after modifications.\n",
        "python\n",
        "Copy code\n",
        "df.tail()\n",
        "info(): Provides a summary of the DataFrame, including the index dtype and columns, non-null values, and memory usage.\n",
        "\n",
        "Use Case: Understand the structure and data types in the DataFrame.\n",
        "python\n",
        "Copy code\n",
        "df.info()\n",
        "describe(): Generates descriptive statistics for numerical columns (count, mean, std, min, 25%, 50%, 75%, max).\n",
        "\n",
        "Use Case: Get a quick statistical summary of your data.\n",
        "python\n",
        "Copy code\n",
        "df.describe()\n",
        "drop(): Removes specified rows or columns from the DataFrame.\n",
        "\n",
        "Use Case: Remove unnecessary columns from the DataFrame.\n",
        "python\n",
        "Copy code\n",
        "df.drop('Gender', axis=1, inplace=True)\n",
        "filter(): Subsets the DataFrame based on specified conditions.\n",
        "\n",
        "Use Case: Select specific rows based on conditions.\n",
        "python\n",
        "Copy code\n",
        "df[df['Age'] > 25]\n",
        "groupby(): Groups the data based on certain criteria and allows for aggregation.\n",
        "\n",
        "Use Case: Calculate the average age by gender.\n",
        "python\n",
        "Copy code\n",
        "df.groupby('Gender')['Age'].mean()\n",
        "merge(): Combines two DataFrames based on a common column.\n",
        "\n",
        "Use Case: Join additional information to an existing DataFrame.\n",
        "python\n",
        "Copy code\n",
        "pd.merge(df1, df2, on='common_column')\n",
        "sort_values(): Sorts the DataFrame by one or more columns.\n",
        "\n",
        "Use Case: Sort data by age.\n",
        "python\n",
        "Copy code\n",
        "df.sort_values(by='Age')\n",
        "fillna(): Fills missing values in the DataFrame.\n",
        "\n",
        "Use Case: Replace NaN values with the mean or median.\n",
        "python\n",
        "Copy code\n",
        "df.fillna(df.mean(), inplace=True)\n",
        "\n",
        "# Example of Using a Function:\n",
        "Suppose you have a DataFrame containing employee data, and you want to get an overview of the numerical features:"
      ],
      "metadata": {
        "id": "ph0_j7ObQpas"
      }
    },
    {
      "cell_type": "markdown",
      "source": [],
      "metadata": {
        "id": "slXsafMhQsD-"
      }
    },
    {
      "cell_type": "code",
      "source": [
        "import pandas as pd\n",
        "\n",
        "# Sample DataFrame\n",
        "data = {\n",
        "    'Name': ['Alice', 'Bob', 'Claire'],\n",
        "    'Age': [25, 30, 27],\n",
        "    'Salary': [50000, 60000, 55000]\n",
        "}\n",
        "df = pd.DataFrame(data)\n",
        "\n",
        "# Use describe() to get a statistical summary\n",
        "stats_summary = df.describe()\n",
        "print(stats_summary)\n"
      ],
      "metadata": {
        "colab": {
          "base_uri": "https://localhost:8080/"
        },
        "id": "jZvTrOEjQbqm",
        "outputId": "8c316db7-9755-4ba2-8654-30233f15f796"
      },
      "execution_count": 6,
      "outputs": [
        {
          "output_type": "stream",
          "name": "stdout",
          "text": [
            "             Age   Salary\n",
            "count   3.000000      3.0\n",
            "mean   27.333333  55000.0\n",
            "std     2.516611   5000.0\n",
            "min    25.000000  50000.0\n",
            "25%    26.000000  52500.0\n",
            "50%    27.000000  55000.0\n",
            "75%    28.500000  57500.0\n",
            "max    30.000000  60000.0\n"
          ]
        }
      ]
    },
    {
      "cell_type": "markdown",
      "source": [
        "# Q6. Which of the following is mutable in nature Series, DataFrame, Panel?"
      ],
      "metadata": {
        "id": "OfJ5rmZRQxZD"
      }
    },
    {
      "cell_type": "markdown",
      "source": [
        "In Pandas, the following are mutable in nature:\n",
        "\n",
        "# Series: Mutable\n",
        "\n",
        "A Pandas Series can be modified after it has been created. You can change individual values, add new values, or delete values.\n",
        "\n",
        "# DataFrame: Mutable\n",
        "\n",
        "A DataFrame is also mutable. You can add or remove columns, change individual cell values, and modify the overall structure of the DataFrame.\n",
        "\n",
        "# Panel: Mutable (but deprecated)\n",
        "\n",
        "A Panel was mutable as well, but it has been deprecated since version 0.25.0 of Pandas. It is recommended to use multi-dimensional data structures like xarray or DataFrame with hierarchical indexing instead of Panel."
      ],
      "metadata": {
        "id": "BX3TdUZGQ62m"
      }
    },
    {
      "cell_type": "markdown",
      "source": [
        "# Q7. Create a DataFrame using multiple Series. Explain with an example."
      ],
      "metadata": {
        "id": "ysUc6vyOREOM"
      }
    },
    {
      "cell_type": "code",
      "source": [
        "import pandas as pd\n",
        "\n",
        "# Create individual Series\n",
        "name_series = pd.Series(['Alice', 'Bob', 'Claire'])\n",
        "age_series = pd.Series([25, 30, 27])\n",
        "gender_series = pd.Series(['Female', 'Male', 'Female'])\n",
        "\n",
        "# Create a DataFrame using the Series\n",
        "data = {\n",
        "    'Name': name_series,\n",
        "    'Age': age_series,\n",
        "    'Gender': gender_series\n",
        "}\n",
        "\n",
        "df = pd.DataFrame(data)\n",
        "\n",
        "# Print the DataFrame\n",
        "print(df)\n"
      ],
      "metadata": {
        "colab": {
          "base_uri": "https://localhost:8080/"
        },
        "id": "GMPnzP3iQwdr",
        "outputId": "3d846141-e367-4f05-8adf-9ec8385f307d"
      },
      "execution_count": 7,
      "outputs": [
        {
          "output_type": "stream",
          "name": "stdout",
          "text": [
            "     Name  Age  Gender\n",
            "0   Alice   25  Female\n",
            "1     Bob   30    Male\n",
            "2  Claire   27  Female\n"
          ]
        }
      ]
    },
    {
      "cell_type": "code",
      "source": [],
      "metadata": {
        "id": "5oig_ILJRK_s"
      },
      "execution_count": null,
      "outputs": []
    }
  ]
}