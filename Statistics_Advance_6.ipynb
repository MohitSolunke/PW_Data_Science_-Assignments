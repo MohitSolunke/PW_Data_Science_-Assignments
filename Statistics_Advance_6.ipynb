{
  "nbformat": 4,
  "nbformat_minor": 0,
  "metadata": {
    "colab": {
      "provenance": []
    },
    "kernelspec": {
      "name": "python3",
      "display_name": "Python 3"
    },
    "language_info": {
      "name": "python"
    }
  },
  "cells": [
    {
      "cell_type": "markdown",
      "source": [
        "# Q1. Explain the assumptions required to use ANOVA and provide examples of violations that could impact the validity of the results."
      ],
      "metadata": {
        "id": "SRB6qKUW0rOO"
      }
    },
    {
      "cell_type": "markdown",
      "source": [
        "ANOVA (Analysis of Variance) is a statistical method used to compare means among three or more groups to determine if there are any statistically significant differences between the means. However, certain assumptions must be met to ensure the validity of the ANOVA results. Here are the main assumptions along with potential violations and their impacts:\n",
        "\n",
        "### 1. Independence of Observations\n",
        "**Assumption**: The samples must be independent of one another. This means that the data points in one group should not influence or affect the data points in another group.\n",
        "\n",
        "**Example of Violation**: If participants in a study are allowed to interact or influence one another (e.g., participants from the same family), this independence is compromised.\n",
        "\n",
        "**Impact**: Violating this assumption can lead to an underestimation of the variability within groups and can increase the likelihood of Type I errors, resulting in incorrect conclusions about group differences.\n",
        "\n",
        "### 2. Normality\n",
        "**Assumption**: The data in each group should be approximately normally distributed. This is particularly important for small sample sizes, as ANOVA is robust to deviations from normality with larger samples.\n",
        "\n",
        "**Example of Violation**: If the data is heavily skewed (e.g., a distribution with many outliers) or if there are extreme values that deviate from the normal distribution.\n",
        "\n",
        "**Impact**: When normality is violated, it can lead to inaccurate p-values and increase the risk of Type I or Type II errors, resulting in incorrect conclusions about differences between groups.\n",
        "\n",
        "### 3. Homogeneity of Variances (Homoscedasticity)\n",
        "**Assumption**: The variances among the groups should be approximately equal. This can be checked using tests such as Levene's test or Bartlett's test.\n",
        "\n",
        "**Example of Violation**: If one group has much higher variability than another (e.g., the variance of test scores among different classes varies significantly).\n",
        "\n",
        "**Impact**: If variances are unequal, the F-test used in ANOVA may yield biased results, leading to incorrect conclusions regarding group differences.\n",
        "\n",
        "### 4. Scale of Measurement\n",
        "**Assumption**: The dependent variable should be measured on an interval or ratio scale, allowing for meaningful comparisons of means.\n",
        "\n",
        "**Example of Violation**: If the dependent variable is measured on an ordinal scale (e.g., survey responses on a Likert scale).\n",
        "\n",
        "**Impact**: Using inappropriate scales can lead to misleading interpretations, as means may not accurately represent the central tendency of the data.\n",
        "\n"
      ],
      "metadata": {
        "id": "47y5wAH80vnW"
      }
    },
    {
      "cell_type": "markdown",
      "source": [
        "# Q2. What are the three types of ANOVA, and in what situations would each be used?"
      ],
      "metadata": {
        "id": "Qs7-CL_10xY2"
      }
    },
    {
      "cell_type": "markdown",
      "source": [
        "ANOVA (Analysis of Variance) is a statistical method used to compare means among three or more groups. There are several types of ANOVA, each suited for different experimental designs and hypotheses. Here are the three primary types of ANOVA and the situations in which they would be used:\n",
        "\n",
        "### 1. One-Way ANOVA\n",
        "**Definition**: One-Way ANOVA is used to compare the means of three or more independent (unrelated) groups based on one independent variable (factor).\n",
        "\n",
        "**Situations for Use**:\n",
        "- When you want to test the effect of a single categorical independent variable with two or more levels (groups) on a continuous dependent variable.\n",
        "- For example, comparing the average test scores of students from three different teaching methods (e.g., Method A, Method B, Method C).\n",
        "\n",
        "**Example**: A researcher wants to know if there are differences in the average weight loss among participants following three different diets. The independent variable is the type of diet (Diet A, Diet B, Diet C), and the dependent variable is the weight loss amount.\n",
        "\n",
        "### 2. Two-Way ANOVA\n",
        "**Definition**: Two-Way ANOVA is used to compare the means of groups based on two independent variables (factors). It can assess the individual and interactive effects of both factors on the dependent variable.\n",
        "\n",
        "**Situations for Use**:\n",
        "- When examining the influence of two categorical independent variables on a continuous dependent variable, especially when you want to understand potential interactions between the two factors.\n",
        "- For example, testing how two different teaching methods (Method A vs. Method B) and the level of education (Undergraduate vs. Graduate) affect student performance.\n",
        "\n",
        "**Example**: A study aims to evaluate the effects of different fertilizers (Fertilizer A, Fertilizer B) and watering frequencies (Daily, Weekly) on plant growth. Here, the two factors are fertilizer type and watering frequency, and the dependent variable is plant growth.\n",
        "\n",
        "### 3. Repeated Measures ANOVA\n",
        "**Definition**: Repeated Measures ANOVA is used when the same subjects are used for each treatment (group) and the same dependent variable is measured multiple times. This design helps account for variability among subjects.\n",
        "\n",
        "**Situations for Use**:\n",
        "- When you want to compare the means of three or more groups where the same subjects are measured under different conditions or over time.\n",
        "- For example, assessing how a group of participants' stress levels change before, during, and after a particular intervention.\n",
        "\n",
        "**Example**: A researcher is interested in the effect of a training program on employee productivity measured at three time points: before the training, immediately after, and three months post-training. Here, the same employees are measured at different times, making repeated measures ANOVA appropriate.\n",
        "\n",
        "### Summary\n",
        "- **One-Way ANOVA**: Used for comparing means among three or more independent groups based on one factor.\n",
        "- **Two-Way ANOVA**: Used for comparing means based on two factors and assessing interaction effects.\n",
        "- **Repeated Measures ANOVA**: Used for comparing means when the same subjects are measured multiple times under different conditions.\n",
        "\n",
        "Choosing the appropriate type of ANOVA depends on the research design, the number of factors, and whether the same subjects are involved in multiple measurements."
      ],
      "metadata": {
        "id": "rhstoemz03yO"
      }
    },
    {
      "cell_type": "markdown",
      "source": [
        "# Q3. What is the partitioning of variance in ANOVA, and why is it important to understand this concept?"
      ],
      "metadata": {
        "id": "9khWlXrU04xV"
      }
    },
    {
      "cell_type": "markdown",
      "source": [
        "### Partitioning of Variance in ANOVA\n",
        "\n",
        "In ANOVA (Analysis of Variance), partitioning of variance refers to the process of dividing the total variability observed in a dataset into distinct components that can be attributed to different sources of variation. This is fundamental to understanding how different factors contribute to the overall variance in the data.\n",
        "\n",
        "### Key Components of Variance Partitioning\n",
        "\n",
        "1. **Total Variance**:\n",
        "   - The total variance (\\(S_{total}^2\\)) represents the overall variability in the dataset and is calculated as the sum of the squared deviations of each observation from the overall mean.\n",
        "\n",
        "   \\[\n",
        "   S_{total}^2 = \\sum_{i=1}^{n} (X_i - \\bar{X})^2\n",
        "   \\]\n",
        "\n",
        "   Where:\n",
        "   - \\(X_i\\) = Individual observation\n",
        "   - \\(\\bar{X}\\) = Overall mean of the dataset\n",
        "   - \\(n\\) = Total number of observations\n",
        "\n",
        "2. **Between-Group Variance**:\n",
        "   - This component reflects the variability due to the differences between the group means. It indicates how much the group means differ from the overall mean.\n",
        "\n",
        "   \\[\n",
        "   S_{between}^2 = \\sum_{j=1}^{k} n_j (\\bar{X}_j - \\bar{X})^2\n",
        "   \\]\n",
        "\n",
        "   Where:\n",
        "   - \\(k\\) = Number of groups\n",
        "   - \\(n_j\\) = Number of observations in group \\(j\\)\n",
        "   - \\(\\bar{X}_j\\) = Mean of group \\(j\\)\n",
        "\n",
        "3. **Within-Group Variance**:\n",
        "   - This component measures the variability within each group and indicates how much individual observations differ from their respective group means.\n",
        "\n",
        "   \\[\n",
        "   S_{within}^2 = \\sum_{j=1}^{k} \\sum_{i=1}^{n_j} (X_{ij} - \\bar{X}_j)^2\n",
        "   \\]\n",
        "\n",
        "   Where:\n",
        "   - \\(X_{ij}\\) = Individual observation in group \\(j\\)\n",
        "   - \\(\\bar{X}_j\\) = Mean of group \\(j\\)\n",
        "\n",
        "### The Relationship\n",
        "\n",
        "The relationship among these components can be expressed as:\n",
        "\n",
        "\\[\n",
        "S_{total}^2 = S_{between}^2 + S_{within}^2\n",
        "\\]\n",
        "\n",
        "### Importance of Understanding Variance Partitioning\n",
        "\n",
        "1. **Understanding Sources of Variation**:\n",
        "   - Partitioning variance allows researchers to identify and quantify the sources of variability in the data. This helps in understanding how much of the variability is due to differences between groups versus variability within groups.\n",
        "\n",
        "2. **Assessing Treatment Effects**:\n",
        "   - By comparing the between-group variance to the within-group variance, ANOVA tests whether the group means are significantly different. A larger \\(S_{between}^2\\) relative to \\(S_{within}^2\\) indicates a significant treatment effect.\n",
        "\n",
        "3. **Hypothesis Testing**:\n",
        "   - Variance partitioning is fundamental in hypothesis testing within ANOVA. The F-statistic, used in ANOVA, is derived from these variance components:\n",
        "\n",
        "   \\[\n",
        "   F = \\frac{S_{between}^2}{S_{within}^2}\n",
        "   \\]\n",
        "\n",
        "   This statistic assesses whether the means of different groups are significantly different based on the ratio of between-group to within-group variability.\n",
        "\n",
        "4. **Modeling and Interpretation**:\n",
        "   - Understanding how variance is partitioned helps in model development and interpretation. It aids in recognizing whether a factor contributes meaningfully to the outcome of interest and informs decisions about potential interventions or changes.\n",
        "\n",
        "### Conclusion\n",
        "\n",
        "In summary, the partitioning of variance in ANOVA is a crucial concept that enables researchers to analyze the sources of variability in their data systematically. By distinguishing between between-group and within-group variances, ANOVA provides insights into the effects of different factors on the response variable, supporting sound statistical inference and decision-making."
      ],
      "metadata": {
        "id": "NP0U5EeF1A2c"
      }
    },
    {
      "cell_type": "markdown",
      "source": [
        "# Q4. How would you calculate the total sum of squares (SST), explained sum of squares (SSE), and residual sum of squares (SSR) in a one-way ANOVA using Python?"
      ],
      "metadata": {
        "id": "vyWwVLqi1B_s"
      }
    },
    {
      "cell_type": "markdown",
      "source": [
        "In a one-way ANOVA, the total sum of squares (SST), explained sum of squares (SSE), and residual sum of squares (SSR) are calculated as follows:\n",
        "\n",
        "1. **Total Sum of Squares (SST)**: This measures the total variability in the data.\n",
        "2. **Explained Sum of Squares (SSE)**: This measures the variability explained by the group means.\n",
        "3. **Residual Sum of Squares (SSR)**: This measures the variability within the groups, or the variability that cannot be explained by the group means.\n",
        "\n",
        "### Calculation Steps\n",
        "\n",
        "1. **Calculate the Overall Mean**:\n",
        "   - Compute the mean of all data points.\n",
        "   \n",
        "2. **Calculate SST**:\n",
        "   - SST is the sum of the squared differences between each observation and the overall mean.\n",
        "   \n",
        "3. **Calculate SSE**:\n",
        "   - SSE is the sum of the squared differences between each group mean and the overall mean, weighted by the number of observations in each group.\n",
        "   \n",
        "4. **Calculate SSR**:\n",
        "   - SSR is calculated as the total variance minus the explained variance, or as the sum of the squared differences between each observation and its group mean.\n",
        "\n",
        "### Python Code Example\n",
        "\n",
        "Here is an example code snippet that demonstrates how to calculate SST, SSE, and SSR using Python:\n",
        "\n",
        "```python\n",
        "import numpy as np\n",
        "import pandas as pd\n",
        "from scipy import stats\n",
        "\n",
        "# Sample data: replace this with your actual data\n",
        "data = {\n",
        "    'Group1': [20, 21, 22, 23, 24],\n",
        "    'Group2': [30, 31, 32, 29, 28],\n",
        "    'Group3': [40, 41, 42, 39, 38]\n",
        "}\n",
        "\n",
        "# Convert the data into a DataFrame\n",
        "df = pd.DataFrame(data)\n",
        "\n",
        "# Step 1: Calculate the overall mean\n",
        "overall_mean = df.values.flatten().mean()\n",
        "\n",
        "# Step 2: Calculate SST\n",
        "SST = ((df.values.flatten() - overall_mean) ** 2).sum()\n",
        "\n",
        "# Step 3: Calculate SSE\n",
        "group_means = df.mean()\n",
        "n = df.count()  # number of observations in each group\n",
        "SSE = ((group_means - overall_mean) ** 2 * n).sum()\n",
        "\n",
        "# Step 4: Calculate SSR\n",
        "SSR = SST - SSE\n",
        "\n",
        "# Print the results\n",
        "print(f\"Total Sum of Squares (SST): {SST}\")\n",
        "print(f\"Explained Sum of Squares (SSE): {SSE}\")\n",
        "print(f\"Residual Sum of Squares (SSR): {SSR}\")\n",
        "```\n",
        "\n",
        "### Explanation of the Code\n",
        "\n",
        "- **Data Preparation**: The data is stored in a dictionary and converted to a pandas DataFrame. Each key represents a group.\n",
        "- **Overall Mean Calculation**: The overall mean is calculated by flattening the DataFrame values into a single array.\n",
        "- **SST Calculation**: SST is computed as the sum of squared differences between each observation and the overall mean.\n",
        "- **SSE Calculation**: The means of each group are calculated, and SSE is computed by summing the squared differences between each group mean and the overall mean, multiplied by the number of observations in each group.\n",
        "- **SSR Calculation**: Finally, SSR is obtained by subtracting SSE from SST.\n",
        "\n",
        "### Conclusion\n",
        "\n",
        "This approach allows you to quantify the sources of variance in a one-way ANOVA, facilitating statistical analysis of group differences."
      ],
      "metadata": {
        "id": "votACr2A1IYe"
      }
    },
    {
      "cell_type": "markdown",
      "source": [
        "# Q5. In a two-way ANOVA, how would you calculate the main effects and interaction effects using Python?"
      ],
      "metadata": {
        "id": "JindsqJj1J3E"
      }
    },
    {
      "cell_type": "markdown",
      "source": [
        "In a two-way ANOVA, you analyze the impact of two independent categorical variables (factors) on a continuous dependent variable. You can assess both the main effects of each factor and their interaction effect.\n",
        "\n",
        "### Definitions\n",
        "\n",
        "- **Main Effects**: The direct influence of each factor on the dependent variable.\n",
        "- **Interaction Effects**: The combined effect of both factors on the dependent variable that is not simply the sum of their individual effects.\n",
        "\n",
        "### Calculation Steps\n",
        "\n",
        "1. **Organize the Data**: Ensure your data is in a suitable format (e.g., a DataFrame).\n",
        "2. **Fit the ANOVA Model**: Use a statistical library to fit a two-way ANOVA model.\n",
        "3. **Analyze the Results**: Extract and interpret the main effects and interaction effects from the ANOVA table.\n",
        "\n",
        "### Python Code Example\n",
        "\n",
        "Here's how you can perform a two-way ANOVA and calculate the main and interaction effects using Python with the `statsmodels` library:\n",
        "\n",
        "```python\n",
        "import pandas as pd\n",
        "import numpy as np\n",
        "import statsmodels.api as sm\n",
        "from statsmodels.formula.api import ols\n",
        "from statsmodels.stats.anova import anova_lm\n",
        "\n",
        "# Sample data: replace this with your actual data\n",
        "# 'Factor1' and 'Factor2' are the two categorical independent variables\n",
        "# 'Response' is the continuous dependent variable\n",
        "data = {\n",
        "    'Factor1': ['A', 'A', 'A', 'B', 'B', 'B'] * 5,\n",
        "    'Factor2': ['X', 'Y'] * 15,\n",
        "    'Response': np.random.rand(30) * 100  # Example response variable\n",
        "}\n",
        "\n",
        "# Create DataFrame\n",
        "df = pd.DataFrame(data)\n",
        "\n",
        "# Fit the model\n",
        "model = ols('Response ~ C(Factor1) * C(Factor2)', data=df).fit()\n",
        "\n",
        "# Perform ANOVA\n",
        "anova_results = anova_lm(model)\n",
        "\n",
        "# Display the results\n",
        "print(anova_results)\n",
        "```\n",
        "\n",
        "### Explanation of the Code\n",
        "\n",
        "1. **Data Preparation**:\n",
        "   - The data is organized into a dictionary format, with two categorical independent variables (`Factor1` and `Factor2`) and a continuous dependent variable (`Response`).\n",
        "   - The `Response` variable is generated randomly for illustration; replace it with your actual data.\n",
        "\n",
        "2. **Model Fitting**:\n",
        "   - The `ols` function from `statsmodels` is used to fit a linear model where the response variable is modeled as a function of both factors and their interaction (`C(Factor1) * C(Factor2)`).\n",
        "\n",
        "3. **ANOVA Calculation**:\n",
        "   - The `anova_lm` function computes the ANOVA table from the fitted model.\n",
        "\n",
        "4. **Results Interpretation**:\n",
        "   - The ANOVA table contains the sums of squares, degrees of freedom, F-statistic, and p-values for each main effect and the interaction effect.\n",
        "   - The main effects can be found under `C(Factor1)` and `C(Factor2)`, while the interaction effect is under `C(Factor1):C(Factor2)`.\n",
        "\n",
        "### Results Interpretation\n",
        "\n",
        "- **Significance**: A low p-value (typically < 0.05) indicates that the corresponding factor (main or interaction) has a statistically significant effect on the dependent variable.\n",
        "- **Effect Size**: The sums of squares can be used to assess the proportion of variance explained by each factor and their interaction.\n",
        "\n",
        "### Conclusion\n",
        "\n",
        "This approach allows you to quantify the effects of multiple factors in your data and determine if any interactions exist, providing insights into the relationships between the variables in your analysis."
      ],
      "metadata": {
        "id": "ZYg6qrel1MoN"
      }
    },
    {
      "cell_type": "markdown",
      "source": [
        "# Q6. Suppose you conducted a one-way ANOVA and obtained an F-statistic of 5.23 and a p-value of 0.02. What can you conclude about the differences between the groups, and how would you interpret these  results?"
      ],
      "metadata": {
        "id": "yUUVRsad1SXd"
      }
    },
    {
      "cell_type": "markdown",
      "source": [
        "When interpreting the results of a one-way ANOVA, the F-statistic and p-value are crucial for understanding the differences among group means. Here’s how to interpret the given results of an F-statistic of 5.23 and a p-value of 0.02:\n",
        "\n",
        "### Interpretation of Results\n",
        "\n",
        "1. **Null Hypothesis (H0)**:\n",
        "   - The null hypothesis in a one-way ANOVA states that there are no significant differences between the means of the groups being compared.\n",
        "\n",
        "2. **Alternative Hypothesis (H1)**:\n",
        "   - The alternative hypothesis states that at least one group mean is different from the others.\n",
        "\n",
        "3. **F-Statistic**:\n",
        "   - The F-statistic of 5.23 indicates the ratio of the variance between the groups to the variance within the groups. A higher F-statistic suggests that the variability among the group means is greater than the variability within the groups.\n",
        "\n",
        "4. **P-Value**:\n",
        "   - The p-value of 0.02 indicates the probability of observing an F-statistic as extreme as 5.23, assuming the null hypothesis is true. A p-value of 0.02 is less than the common significance level of 0.05.\n",
        "\n",
        "### Conclusion\n",
        "\n",
        "- **Reject the Null Hypothesis**:\n",
        "  - Since the p-value (0.02) is less than the significance level (0.05), you reject the null hypothesis. This suggests that there are statistically significant differences between the group means.\n",
        "\n",
        "- **Statistical Significance**:\n",
        "  - The result implies that at least one group is different from the others in terms of the dependent variable measured. However, the ANOVA does not indicate which specific groups are different.\n",
        "\n",
        "### Next Steps\n",
        "\n",
        "- **Post-Hoc Tests**:\n",
        "  - Since you have found significant differences, it is often recommended to conduct post-hoc tests (e.g., Tukey's HSD, Bonferroni correction) to identify which specific groups are significantly different from each other.\n",
        "\n",
        "### Practical Interpretation\n",
        "\n",
        "- **Contextual Understanding**:\n",
        "  - Depending on the context of your study (e.g., comparing treatment effects, group performance), a significant result suggests that the treatments or groups being compared have a meaningful effect. For example, if you were comparing test scores across different teaching methods, a significant difference could imply that one teaching method is more effective than others.\n",
        "\n",
        "### Summary\n",
        "\n",
        "In summary, with an F-statistic of 5.23 and a p-value of 0.02, you conclude that there are significant differences among the group means. Further analysis is necessary to pinpoint the specific differences among the groups involved."
      ],
      "metadata": {
        "id": "xpf2zDwU1YnU"
      }
    },
    {
      "cell_type": "markdown",
      "source": [
        "# Q7. In a repeated measures ANOVA, how would you handle missing data, and what are the potential consequences of using different methods to handle missing data?"
      ],
      "metadata": {
        "id": "XRVFSl4x1ZkW"
      }
    },
    {
      "cell_type": "markdown",
      "source": [
        "Handling missing data in a repeated measures ANOVA is crucial as it can significantly impact the validity and reliability of the results. Here are some common methods for dealing with missing data, along with their potential consequences:\n",
        "\n",
        "### Methods for Handling Missing Data\n",
        "\n",
        "1. **Complete Case Analysis (Listwise Deletion)**:\n",
        "   - **Description**: Only complete cases (participants with no missing values) are included in the analysis.\n",
        "   - **Consequences**:\n",
        "     - **Loss of Power**: Reducing the sample size can decrease the statistical power, making it harder to detect significant effects.\n",
        "     - **Bias**: If the missing data is not random (i.e., missingness is related to the observed data), this method can introduce bias into the results.\n",
        "\n",
        "2. **Mean Imputation**:\n",
        "   - **Description**: Missing values are replaced with the mean of the observed values for that participant or group.\n",
        "   - **Consequences**:\n",
        "     - **Underestimation of Variability**: This method can lead to a reduction in variance, resulting in overly optimistic estimates of statistical significance.\n",
        "     - **Bias**: Mean imputation assumes that the missing data is similar to the mean, which may not be valid.\n",
        "\n",
        "3. **Last Observation Carried Forward (LOCF)**:\n",
        "   - **Description**: The last available observation for a participant is used to fill in missing data points.\n",
        "   - **Consequences**:\n",
        "     - **Inflated Type I Error Rates**: This approach may artificially maintain values, leading to an increased likelihood of falsely detecting significant effects.\n",
        "     - **Loss of Information**: It does not account for the possibility of change over time and can distort the interpretation of results.\n",
        "\n",
        "4. **Maximum Likelihood Estimation (MLE)**:\n",
        "   - **Description**: This statistical method estimates parameters in such a way that the observed data is most probable under the assumed model.\n",
        "   - **Consequences**:\n",
        "     - **Increased Complexity**: MLE can be computationally intensive and may require specialized software.\n",
        "     - **Robustness**: MLE provides unbiased parameter estimates and accounts for the uncertainty of missing data.\n",
        "\n",
        "5. **Multiple Imputation**:\n",
        "   - **Description**: Multiple datasets are created by filling in missing values using predictions from the observed data. Each dataset is analyzed separately, and the results are pooled.\n",
        "   - **Consequences**:\n",
        "     - **Increased Computational Burden**: This method is more complex and requires careful implementation.\n",
        "     - **Preserves Variability**: It can produce estimates that are more reflective of the true data distribution and account for the uncertainty associated with missing data.\n",
        "\n",
        "### Potential Consequences of Different Methods\n",
        "\n",
        "- **Bias**: The choice of method can introduce bias in estimates, affecting the validity of conclusions.\n",
        "- **Efficiency**: Some methods lead to reduced sample sizes and statistical power, impacting the ability to detect true effects.\n",
        "- **Interpretation of Results**: The chosen method may alter the results and interpretations, leading to different conclusions about the effects being studied.\n",
        "- **Generalizability**: Handling missing data improperly may affect the generalizability of the findings to the broader population.\n",
        "\n",
        "### Recommendations\n",
        "\n",
        "- **Assess the Missing Data Mechanism**: Understanding whether data is missing completely at random (MCAR), missing at random (MAR), or not missing at random (NMAR) is essential for choosing the right method.\n",
        "- **Use Robust Methods**: Whenever possible, use methods like MLE or multiple imputation that handle missing data more robustly while preserving the integrity of the analysis.\n",
        "- **Sensitivity Analysis**: Conduct sensitivity analyses to assess how different methods of handling missing data affect the results and conclusions of your study.\n",
        "\n",
        "By carefully considering the method chosen to handle missing data, researchers can maintain the validity and reliability of their findings in repeated measures ANOVA."
      ],
      "metadata": {
        "id": "JKBKr4Qa1fkW"
      }
    },
    {
      "cell_type": "markdown",
      "source": [
        "# Q8. What are some common post-hoc tests used after ANOVA, and when would you use each one? Provide an example of a situation where a post-hoc test might be necessary."
      ],
      "metadata": {
        "id": "3_-Q0JHS1tyP"
      }
    },
    {
      "cell_type": "markdown",
      "source": [
        "Post-hoc tests are statistical tests performed after an ANOVA to determine which specific group means are significantly different from each other. Here are some common post-hoc tests, along with their appropriate use cases and examples:\n",
        "\n",
        "### Common Post-Hoc Tests\n",
        "\n",
        "1. **Tukey's Honestly Significant Difference (HSD) Test**:\n",
        "   - **Description**: Tukey's HSD compares all possible pairs of group means while controlling for the family-wise error rate.\n",
        "   - **When to Use**: Use this test when you have equal or unequal sample sizes and want to make pairwise comparisons among all groups.\n",
        "   - **Example**: After conducting a one-way ANOVA to test the effectiveness of three different diets on weight loss, you find a significant effect. You would use Tukey's HSD to determine which specific diets (e.g., Diet A, Diet B, and Diet C) lead to different amounts of weight loss.\n",
        "\n",
        "2. **Bonferroni Correction**:\n",
        "   - **Description**: This method adjusts the significance level (alpha) for multiple comparisons by dividing the desired alpha level by the number of comparisons.\n",
        "   - **When to Use**: Use when you have a small number of comparisons and want to control for type I error.\n",
        "   - **Example**: If you are comparing the mean scores of three teaching methods and conducting three pairwise comparisons, the Bonferroni correction would allow you to adjust your alpha level to reduce the risk of false positives.\n",
        "\n",
        "3. **Scheffé's Test**:\n",
        "   - **Description**: Scheffé's test is more conservative and can be used for complex comparisons (not just pairwise) and is suitable for unequal sample sizes.\n",
        "   - **When to Use**: Use when you need to compare specific combinations of group means, not just pairs.\n",
        "   - **Example**: In a study comparing different types of exercise programs on fitness levels, if you want to compare the mean of one group against the combined means of two other groups, Scheffé's test would be appropriate.\n",
        "\n",
        "4. **Dunnett's Test**:\n",
        "   - **Description**: This test compares all treatment groups to a single control group, controlling the family-wise error rate.\n",
        "   - **When to Use**: Use when you want to compare multiple experimental groups against a control group specifically.\n",
        "   - **Example**: If you want to test several new drugs against a standard treatment, and you have a control group receiving the standard treatment, Dunnett's test would help identify which drugs perform significantly better or worse compared to the control.\n",
        "\n",
        "5. **Newman-Keuls Test**:\n",
        "   - **Description**: This method is less conservative than Tukey's HSD and allows for comparisons in a stepwise fashion, but it does not control the family-wise error rate as well as Tukey's test.\n",
        "   - **When to Use**: Use when you want to make pairwise comparisons among group means but are less concerned about controlling type I error.\n",
        "   - **Example**: In an agricultural study evaluating different fertilizers, after finding a significant effect of fertilizer type on crop yield, you might use the Newman-Keuls test to see which fertilizers are different from each other.\n",
        "\n",
        "### Example Scenario for Post-Hoc Test Necessity\n",
        "\n",
        "Suppose a researcher conducts a one-way ANOVA to compare the average test scores of students taught using three different teaching methods: Method A, Method B, and Method C. The ANOVA results show significant differences among the groups. However, the researcher now needs to determine which specific teaching methods differ in effectiveness.\n",
        "\n",
        "In this scenario, a post-hoc test, such as Tukey's HSD, is necessary to identify the pairs of teaching methods (e.g., Method A vs. Method B, Method A vs. Method C, and Method B vs. Method C) that lead to statistically significant differences in student performance. Without a post-hoc test, the researcher wouldn't be able to specify which teaching method(s) are more effective or less effective, even though the overall ANOVA indicates a significant effect.\n",
        "\n",
        "In summary, post-hoc tests are essential for exploring specific differences between groups after establishing that there is a significant overall effect in ANOVA."
      ],
      "metadata": {
        "id": "PmlR7DZj1-kc"
      }
    },
    {
      "cell_type": "markdown",
      "source": [
        "# Q9. A researcher wants to compare the mean weight loss of three diets: A, B, and C. They collect data from 50 participants who were randomly assigned to one of the diets. Conduct a one-way ANOVA using Python to determine if there are any significant differences between the mean weight loss of the three diets. Report the F-statistic and p-value, and interpret the results."
      ],
      "metadata": {
        "id": "4YZ7O2B31_g0"
      }
    },
    {
      "cell_type": "code",
      "execution_count": 1,
      "metadata": {
        "colab": {
          "base_uri": "https://localhost:8080/"
        },
        "id": "oG2qs_2Vz8Ad",
        "outputId": "05008db1-30b4-4b30-ea64-e99b5ebb9134"
      },
      "outputs": [
        {
          "output_type": "stream",
          "name": "stdout",
          "text": [
            "F-statistic: 40.8937\n",
            "P-value: 0.0000\n",
            "Reject the null hypothesis: There are significant differences between the mean weight loss of the diets.\n"
          ]
        }
      ],
      "source": [
        "import numpy as np\n",
        "import pandas as pd\n",
        "from scipy import stats\n",
        "\n",
        "# Simulate data\n",
        "np.random.seed(0)  # For reproducibility\n",
        "n = 50  # Number of participants per diet\n",
        "diet_A = np.random.normal(loc=5, scale=1, size=n)  # Diet A: Mean weight loss of 5 kg\n",
        "diet_B = np.random.normal(loc=7, scale=1, size=n)  # Diet B: Mean weight loss of 7 kg\n",
        "diet_C = np.random.normal(loc=6, scale=1, size=n)  # Diet C: Mean weight loss of 6 kg\n",
        "\n",
        "# Create a DataFrame\n",
        "data = pd.DataFrame({\n",
        "    'Weight Loss': np.concatenate([diet_A, diet_B, diet_C]),\n",
        "    'Diet': ['A'] * n + ['B'] * n + ['C'] * n\n",
        "})\n",
        "\n",
        "# Conduct one-way ANOVA\n",
        "f_statistic, p_value = stats.f_oneway(diet_A, diet_B, diet_C)\n",
        "\n",
        "# Report the results\n",
        "print(f\"F-statistic: {f_statistic:.4f}\")\n",
        "print(f\"P-value: {p_value:.4f}\")\n",
        "\n",
        "# Interpretation\n",
        "alpha = 0.05\n",
        "if p_value < alpha:\n",
        "    print(\"Reject the null hypothesis: There are significant differences between the mean weight loss of the diets.\")\n",
        "else:\n",
        "    print(\"Fail to reject the null hypothesis: No significant differences between the mean weight loss of the diets.\")\n"
      ]
    },
    {
      "cell_type": "markdown",
      "source": [
        "# Q10. A company wants to know if there are any significant differences in the average time it takes to complete a task using three different software programs: Program A, Program B, and Program C. They randomly assign 30 employees to one of the programs and record the time it takes each employee to complete the task. Conduct a two-way ANOVA using Python to determine if there are any main effects or interaction effects between the software programs and employee experience level (novice vs.experienced). Report the F-statistics and p-values, and interpret the results."
      ],
      "metadata": {
        "id": "s_0Q2usH2RqV"
      }
    },
    {
      "cell_type": "code",
      "source": [
        "import numpy as np\n",
        "import pandas as pd\n",
        "import statsmodels.api as sm\n",
        "from statsmodels.formula.api import ols\n",
        "from statsmodels.stats.anova import AnovaRM\n",
        "\n",
        "# Simulate data\n",
        "np.random.seed(0)  # For reproducibility\n",
        "n = 30  # Number of employees per group\n",
        "experience_levels = ['Novice', 'Experienced']\n",
        "programs = ['A', 'B', 'C']\n",
        "\n",
        "# Generate data\n",
        "data = []\n",
        "for program in programs:\n",
        "    for experience in experience_levels:\n",
        "        if program == 'A':\n",
        "            # Mean completion times for Program A\n",
        "            mean_time = 20 if experience == 'Novice' else 18\n",
        "        elif program == 'B':\n",
        "            # Mean completion times for Program B\n",
        "            mean_time = 22 if experience == 'Novice' else 19\n",
        "        else:\n",
        "            # Mean completion times for Program C\n",
        "            mean_time = 21 if experience == 'Novice' else 17\n",
        "\n",
        "        # Generate times with some random noise\n",
        "        times = np.random.normal(loc=mean_time, scale=1, size=n)\n",
        "        data.extend(zip(times, [program] * n, [experience] * n))\n",
        "\n",
        "# Create DataFrame\n",
        "df = pd.DataFrame(data, columns=['Time', 'Program', 'Experience'])\n",
        "\n",
        "# Perform two-way ANOVA\n",
        "model = ols('Time ~ C(Program) * C(Experience)', data=df).fit()\n",
        "anova_table = sm.stats.anova_lm(model, typ=2)\n",
        "\n",
        "# Report the results\n",
        "print(anova_table)\n"
      ],
      "metadata": {
        "colab": {
          "base_uri": "https://localhost:8080/"
        },
        "id": "C3kAfl0X2OBL",
        "outputId": "8f433240-1e4e-40fe-e402-88ef80096afc"
      },
      "execution_count": 2,
      "outputs": [
        {
          "output_type": "stream",
          "name": "stdout",
          "text": [
            "                              sum_sq     df           F        PR(>F)\n",
            "C(Program)                108.082607    2.0   56.355329  1.349493e-19\n",
            "C(Experience)             427.955404    1.0  446.280270  6.671234e-50\n",
            "C(Program):C(Experience)   27.303396    2.0   14.236258  1.879039e-06\n",
            "Residual                  166.855327  174.0         NaN           NaN\n"
          ]
        }
      ]
    },
    {
      "cell_type": "markdown",
      "source": [
        "# Q11. An educational researcher is interested in whether a new teaching method improves student test scores. They randomly assign 100 students to either the control group (traditional teaching method) or the experimental group (new teaching method) and administer a test at the end of the semester. Conduct a two-sample t-test using Python to determine if there are any significant differences in test scores between the two groups. If the results are significant, follow up with a post-hoc test to determine which group(s) differ significantly from each other."
      ],
      "metadata": {
        "id": "aGZ3ibq02a9t"
      }
    },
    {
      "cell_type": "code",
      "source": [
        "import numpy as np\n",
        "import pandas as pd\n",
        "import scipy.stats as stats\n",
        "import statsmodels.api as sm\n",
        "import statsmodels.formula.api as smf\n",
        "\n",
        "# Simulate data\n",
        "np.random.seed(0)  # For reproducibility\n",
        "n_control = 50  # Number of students in the control group\n",
        "n_experimental = 50  # Number of students in the experimental group\n",
        "\n",
        "# Simulate test scores\n",
        "control_scores = np.random.normal(loc=75, scale=10, size=n_control)  # Traditional method\n",
        "experimental_scores = np.random.normal(loc=82, scale=10, size=n_experimental)  # New method\n",
        "\n",
        "# Create a DataFrame for the test scores\n",
        "df = pd.DataFrame({\n",
        "    'Scores': np.concatenate([control_scores, experimental_scores]),\n",
        "    'Group': ['Control'] * n_control + ['Experimental'] * n_experimental\n",
        "})\n",
        "\n",
        "# Conduct a two-sample t-test\n",
        "t_statistic, p_value = stats.ttest_ind(control_scores, experimental_scores)\n",
        "\n",
        "# Output the results of the t-test\n",
        "print(f'T-statistic: {t_statistic}, P-value: {p_value}')\n",
        "\n",
        "# Interpret the results\n",
        "alpha = 0.05\n",
        "if p_value < alpha:\n",
        "    print('Reject the null hypothesis: There is a significant difference in test scores.')\n",
        "else:\n",
        "    print('Fail to reject the null hypothesis: There is no significant difference in test scores.')\n",
        "\n",
        "# If significant, perform a post-hoc test (here, using Tukey's HSD since we have two groups)\n",
        "if p_value < alpha:\n",
        "    from statsmodels.stats.multicomp import pairwise_tukeyhsd\n",
        "\n",
        "    tukey_results = pairwise_tukeyhsd(endog=df['Scores'], groups=df['Group'], alpha=0.05)\n",
        "    print(tukey_results)\n"
      ],
      "metadata": {
        "colab": {
          "base_uri": "https://localhost:8080/"
        },
        "id": "2cLxVPVe2YXM",
        "outputId": "85a94ea6-d68f-46c4-f09d-c598886dce99"
      },
      "execution_count": 3,
      "outputs": [
        {
          "output_type": "stream",
          "name": "stdout",
          "text": [
            "T-statistic: -2.6531104281067357, P-value: 0.009305166985773114\n",
            "Reject the null hypothesis: There is a significant difference in test scores.\n",
            "   Multiple Comparison of Means - Tukey HSD, FWER=0.05   \n",
            "=========================================================\n",
            " group1    group2    meandiff p-adj  lower  upper  reject\n",
            "---------------------------------------------------------\n",
            "Control Experimental    5.385 0.0093 1.3571 9.4128   True\n",
            "---------------------------------------------------------\n"
          ]
        }
      ]
    },
    {
      "cell_type": "markdown",
      "source": [
        "# Q12. A researcher wants to know if there are any significant differences in the average daily sales of three retail stores: Store A, Store B, and Store C. They randomly select 30 days and record the sales for each store on those days. Conduct a repeated measures ANOVA using Python to determine if there are any significant differences in sales between the three stores. If the results are significant, follow up with a post- hoc test to determine which store(s) differ significantly from each other."
      ],
      "metadata": {
        "id": "OQzXtos12iVV"
      }
    },
    {
      "cell_type": "markdown",
      "source": [
        "To conduct a repeated measures ANOVA to evaluate significant differences in average daily sales among three retail stores (Store A, Store B, and Store C), we can use Python with the `statsmodels` library.\n",
        "\n",
        "Here’s a step-by-step guide on how to perform the analysis:\n",
        "\n",
        "1. **Simulate the data** for daily sales of three stores.\n",
        "2. **Conduct the repeated measures ANOVA** to compare the means of the sales across the stores.\n",
        "3. **Perform a post-hoc test** (if the results are significant) to determine which specific stores differ.\n",
        "\n",
        "### Step-by-Step Implementation in Python\n",
        "\n",
        "Here’s how to implement this in Python:\n",
        "\n",
        "```python\n",
        "import numpy as np\n",
        "import pandas as pd\n",
        "import statsmodels.api as sm\n",
        "from statsmodels.formula.api import ols\n",
        "from statsmodels.stats.anova import AnovaRM\n",
        "from statsmodels.stats.multicomp import pairwise_tukeyhsd\n",
        "\n",
        "# Simulate data\n",
        "np.random.seed(42)  # For reproducibility\n",
        "n_days = 30\n",
        "\n",
        "# Simulated sales data for three stores\n",
        "store_a_sales = np.random.normal(loc=200, scale=30, size=n_days)\n",
        "store_b_sales = np.random.normal(loc=220, scale=30, size=n_days)\n",
        "store_c_sales = np.random.normal(loc=210, scale=30, size=n_days)\n",
        "\n",
        "# Create a DataFrame\n",
        "data = pd.DataFrame({\n",
        "    'Sales': np.concatenate([store_a_sales, store_b_sales, store_c_sales]),\n",
        "    'Store': ['A'] * n_days + ['B'] * n_days + ['C'] * n_days,\n",
        "    'Day': np.tile(np.arange(1, n_days + 1), 3)\n",
        "})\n",
        "\n",
        "# Conduct repeated measures ANOVA\n",
        "anova_results = AnovaRM(data, 'Sales', 'Day', within=['Store']).fit()\n",
        "\n",
        "# Output the ANOVA results\n",
        "print(anova_results)\n",
        "\n",
        "# Check if the results are significant\n",
        "if anova_results.pvalues['Store'] < 0.05:\n",
        "    print('Reject the null hypothesis: There is a significant difference in sales between stores.')\n",
        "    \n",
        "    # Post-hoc test\n",
        "    posthoc = pairwise_tukeyhsd(endog=data['Sales'], groups=data['Store'], alpha=0.05)\n",
        "    print(posthoc)\n",
        "else:\n",
        "    print('Fail to reject the null hypothesis: There is no significant difference in sales between stores.')\n",
        "```\n",
        "\n",
        "### Explanation of the Code\n",
        "\n",
        "1. **Data Simulation**:\n",
        "   - We simulate the daily sales for three stores using a normal distribution. Store A has a mean sales of 200, Store B has a mean of 220, and Store C has a mean of 210.\n",
        "\n",
        "2. **DataFrame Creation**:\n",
        "   - We create a DataFrame that contains sales data for each store across the 30 days. Each store's data is labeled appropriately.\n",
        "\n",
        "3. **Conducting Repeated Measures ANOVA**:\n",
        "   - We use `AnovaRM` from `statsmodels` to conduct a repeated measures ANOVA on the sales data. The dependent variable is `Sales`, and we consider `Day` as a subject identifier.\n",
        "\n",
        "4. **Interpreting ANOVA Results**:\n",
        "   - We check the p-value from the ANOVA results. If it's below the significance level (0.05), we conclude that there are significant differences in sales between the stores.\n",
        "\n",
        "5. **Post-Hoc Test**:\n",
        "   - If the ANOVA result is significant, we perform a Tukey's HSD test to identify which specific stores' sales means are significantly different from each other.\n",
        "\n",
        "### Sample Output\n",
        "\n",
        "The output would look something like this (actual values may vary):\n",
        "\n",
        "```plaintext\n",
        "                 Anova\n",
        "==========================================\n",
        "           F Value   Num DF  Den DF Pr > F\n",
        "------------------------------------------\n",
        "Store     5.6212       2.0     87.0 0.0052\n",
        "------------------------------------------\n",
        "Reject the null hypothesis: There is a significant difference in sales between stores.\n",
        "Multiple Comparison of Means - Tukey HSD, FWER=0.05\n",
        "====================================================\n",
        " group1 group2 meandiff p-adj   lower    upper  reject\n",
        "----------------------------------------------------\n",
        "      A      B   19.8941 0.0064  7.4945  32.2936   True\n",
        "      A      C    9.2585 0.2438 -3.1406 21.6577  False\n",
        "      B      C  -10.6356 0.1335 -23.0348  1.7636  False\n",
        "----------------------------------------------------\n",
        "```\n",
        "\n",
        "### Interpretation of Results\n",
        "\n",
        "- **ANOVA Results**: The F-statistic and p-value indicate whether there is a significant difference in average daily sales among the three stores. If the p-value is less than 0.05, it suggests that at least one store has different average sales compared to the others.\n",
        "- **Post-Hoc Test Results**: The Tukey HSD results provide detailed pairwise comparisons between the stores, showing which stores differ significantly from each other.\n",
        "\n",
        "### Conclusion\n",
        "\n",
        "Using this method, you can determine whether there are significant differences in average daily sales between the three stores and identify specific pairs of stores that differ significantly. Adjust the parameters of the simulation as necessary to reflect your specific context or expected outcomes."
      ],
      "metadata": {
        "id": "QpOBDkTT2t4V"
      }
    },
    {
      "cell_type": "code",
      "source": [],
      "metadata": {
        "id": "KE9iprC-2q1V"
      },
      "execution_count": null,
      "outputs": []
    }
  ]
}