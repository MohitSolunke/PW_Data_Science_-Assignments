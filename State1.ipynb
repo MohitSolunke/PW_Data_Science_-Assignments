{
 "cells": [
  {
   "cell_type": "markdown",
   "id": "8cb207c8-3a8e-40e5-ad41-61708f95ea2d",
   "metadata": {},
   "source": [
    "# Statistic Assignment No.1"
   ]
  },
  {
   "cell_type": "raw",
   "id": "fb6482ae-76c0-4d79-b109-acb2be35417c",
   "metadata": {},
   "source": [
    "Q1) What are the Three measures of Central Tendency ?"
   ]
  },
  {
   "cell_type": "markdown",
   "id": "6257d8b5-73fe-459d-99b1-a0e749cc9686",
   "metadata": {},
   "source": [
    "1) Mean :- its is avarage of the given data ."
   ]
  },
  {
   "cell_type": "markdown",
   "id": "4ec3e996-db03-41af-8f13-b7277e5eace3",
   "metadata": {},
   "source": [
    "2) Median :- Median is a Give the central element of the given data."
   ]
  },
  {
   "cell_type": "markdown",
   "id": "14e0619c-2b8b-45e4-a4be-6a11df8cc4c5",
   "metadata": {},
   "source": [
    "3) Mode :- mode is give the highest frequency element from the given data "
   ]
  },
  {
   "cell_type": "raw",
   "id": "9a2b29d5-e9bb-49f0-a328-3077c0015fd6",
   "metadata": {},
   "source": [
    "Q.2) What is the difference between the mean, median, and mode? How are they used to measure the\n",
    "central tendency of a dataset?"
   ]
  },
  {
   "cell_type": "markdown",
   "id": "6c5ce122-bcf8-4a15-8e82-523dd2463088",
   "metadata": {},
   "source": [
    "The main difference in mean and median is ,If we add any outlier in the givenn data that time then we canculate the mean is give large difference from before mean rather than we calculate the median after adding outlier give slightly change in that "
   ]
  },
  {
   "cell_type": "raw",
   "id": "f09eb35f-90b3-4eef-8d66-1f832ad13be9",
   "metadata": {},
   "source": [
    "Q.3) What is the difference between the mean, median, and mode? How are they used to measure the\n",
    "central tendency of a dataset?\n",
    "\n",
    "[178,177,176,177,178.2,178,175,179,180,175,178.9,176.2,177,172.5,178,176.5]3"
   ]
  },
  {
   "cell_type": "code",
   "execution_count": 1,
   "id": "0a395c3b-e14e-496d-a6ea-427bd239c1de",
   "metadata": {},
   "outputs": [],
   "source": [
    "import numpy as np"
   ]
  },
  {
   "cell_type": "code",
   "execution_count": 2,
   "id": "1ab0b8f3-cecf-44bd-818e-4010dddaef00",
   "metadata": {},
   "outputs": [],
   "source": [
    "data = [178,177,176,177,178.2,178,175,179,180,175,178.9,176.2,177,172.5,178,176.5]"
   ]
  },
  {
   "cell_type": "code",
   "execution_count": 3,
   "id": "e7989344-061a-4348-a3e5-447e4e498bf3",
   "metadata": {},
   "outputs": [],
   "source": [
    "mean = np.mean(data)"
   ]
  },
  {
   "cell_type": "code",
   "execution_count": 4,
   "id": "efc07271-d0fb-4ae9-8e58-61b664427d7a",
   "metadata": {},
   "outputs": [
    {
     "data": {
      "text/plain": [
       "177.01875"
      ]
     },
     "execution_count": 4,
     "metadata": {},
     "output_type": "execute_result"
    }
   ],
   "source": [
    "mean"
   ]
  },
  {
   "cell_type": "code",
   "execution_count": 5,
   "id": "9f9884ba-71bd-4d87-b3b4-6c9b584961e1",
   "metadata": {},
   "outputs": [],
   "source": [
    "median = np.median(data)"
   ]
  },
  {
   "cell_type": "code",
   "execution_count": 6,
   "id": "cebc8091-20d2-4053-bb49-58a00c1fe46b",
   "metadata": {},
   "outputs": [
    {
     "data": {
      "text/plain": [
       "177.0"
      ]
     },
     "execution_count": 6,
     "metadata": {},
     "output_type": "execute_result"
    }
   ],
   "source": [
    "median"
   ]
  },
  {
   "cell_type": "raw",
   "id": "a2ed6e47-e6bf-4fa3-92fc-f5dc0fdd7efb",
   "metadata": {},
   "source": [
    "Q4. Find the standard deviation for the given data:\n",
    "[178,177,176,177,178.2,178,175,179,180,175,178.9,176.2,177,172.5,178,176.5]"
   ]
  },
  {
   "cell_type": "code",
   "execution_count": 10,
   "id": "578c852f-5e75-4e46-af49-10c2976597e4",
   "metadata": {},
   "outputs": [],
   "source": [
    "height_list = [178,177,176,177,178.2,178,175,179,180,175,178.9,176.2,177,172.5,178,176.5]"
   ]
  },
  {
   "cell_type": "code",
   "execution_count": 11,
   "id": "fe999965-f9aa-4a87-8772-b752b0761321",
   "metadata": {},
   "outputs": [],
   "source": [
    "std = np.std(height_list)"
   ]
  },
  {
   "cell_type": "code",
   "execution_count": 12,
   "id": "0770774d-8184-4ec9-b935-27ddc0eca03a",
   "metadata": {},
   "outputs": [
    {
     "data": {
      "text/plain": [
       "1.7885814036548633"
      ]
     },
     "execution_count": 12,
     "metadata": {},
     "output_type": "execute_result"
    }
   ],
   "source": [
    "std"
   ]
  },
  {
   "cell_type": "raw",
   "id": "d6012cd4-6320-40ab-9978-7ac4cde554d2",
   "metadata": {},
   "source": [
    "Q5. How are measures of dispersion such as range, variance, and standard deviation used to describe\n",
    "the spread of a dataset? Provide an example."
   ]
  },
  {
   "cell_type": "markdown",
   "id": "0654fd96-0c5f-4dff-8348-9d0068ae25be",
   "metadata": {},
   "source": [
    "Variance gives the spreadness of the element and standard deviation give the distance of the element from  the mean "
   ]
  },
  {
   "cell_type": "raw",
   "id": "7107abc7-adec-4dd7-a179-872dfb18dcb5",
   "metadata": {},
   "source": [
    "Q6. What is a Venn diagram?"
   ]
  },
  {
   "cell_type": "markdown",
   "id": "6274b994-a38b-41e0-aea0-b138033f3fe7",
   "metadata": {},
   "source": [
    "Venn Diagram is Diagram that used to represent the operations of the sets"
   ]
  },
  {
   "cell_type": "raw",
   "id": "14a8b123-7da2-4477-992e-fb81a0d9a95c",
   "metadata": {},
   "source": [
    "Q7. For the two given sets A = (2,3,4,5,6,7) & B = (0,2,6,8,10). Find:"
   ]
  },
  {
   "cell_type": "markdown",
   "id": "ec6ef94e-786b-47fb-a391-dcde551dd0f6",
   "metadata": {},
   "source": [
    "i) A Intersection B = (2,6) "
   ]
  },
  {
   "cell_type": "markdown",
   "id": "8d797ad5-0cf3-4c4b-aed8-6aede4f0cc3c",
   "metadata": {},
   "source": [
    "ii)  A Union B = (0,2,3,4,5,6,7,8,10)"
   ]
  },
  {
   "cell_type": "raw",
   "id": "146cf34f-113a-4720-98b0-0e265638c895",
   "metadata": {},
   "source": [
    "Q8. What do you understand about skewness in data?"
   ]
  },
  {
   "cell_type": "markdown",
   "id": "f7536b54-791d-4a6a-900f-e00acd0cfe4f",
   "metadata": {},
   "source": [
    "Skewness is a measurement of the distortion of symmetrical distribution or asymmetry in a data set"
   ]
  },
  {
   "cell_type": "raw",
   "id": "3db14ce1-4276-45d2-a492-4c9d0902b253",
   "metadata": {},
   "source": [
    "Q9. If a data is right skewed then what will be the position of median with respect to mean?"
   ]
  },
  {
   "cell_type": "markdown",
   "id": "01cf3869-c0a1-435c-9d4e-741a4e56af9c",
   "metadata": {},
   "source": [
    "Mean > Median >mode"
   ]
  },
  {
   "cell_type": "raw",
   "id": "b15b105b-1668-4fda-9d07-8c3f0286fcea",
   "metadata": {},
   "source": [
    "Q10. Explain the difference between covariance and correlation. How are these measures used in\n",
    "statistical analysis?"
   ]
  },
  {
   "cell_type": "markdown",
   "id": "a1076612-601a-4289-a4e5-053bf5f0333c",
   "metadata": {},
   "source": [
    "Covariance is an indicator of how two random variables change concerning each other.Correlation, on the other hand, measures the strength of this relationship. The correlation. It is calculated as (x(i)-mean(x))*(y(i)-mean(y)) / ((x(i)-mean(x))2 * (y(i)-mean(y))2."
   ]
  },
  {
   "cell_type": "raw",
   "id": "c9da3b8a-6559-40ad-9d4a-7bc349eee388",
   "metadata": {},
   "source": [
    "Q11. What is the formula for calculating the sample mean? Provide an example calculation for a\n",
    "dataset."
   ]
  },
  {
   "cell_type": "code",
   "execution_count": 16,
   "id": "8e9161b5-d008-4e2f-836f-32334a8f045e",
   "metadata": {},
   "outputs": [
    {
     "data": {
      "text/plain": [
       "177.01875"
      ]
     },
     "execution_count": 16,
     "metadata": {},
     "output_type": "execute_result"
    }
   ],
   "source": [
    "# The sample mean formula is: x̄= (xi)/n\n",
    "\n",
    "data = [178,177,176,177,178.2,178,175,179,180,175,178.9,176.2,177,172.5,178,176.5]\n",
    "np.mean(data)"
   ]
  },
  {
   "cell_type": "raw",
   "id": "56e0b01d-2e20-4a91-896c-5df7503c997c",
   "metadata": {},
   "source": [
    "Q12. For a normal distribution data what is the relationship between its measure of central tendency?"
   ]
  },
  {
   "cell_type": "markdown",
   "id": "706d4dbd-47d9-4347-8eed-803f8d91e2e5",
   "metadata": {},
   "source": [
    "mean = median = mode"
   ]
  },
  {
   "cell_type": "raw",
   "id": "6789e694-c568-455e-aa64-f2cec0258c7f",
   "metadata": {},
   "source": [
    "Q13. How is covariance different from correlation?"
   ]
  },
  {
   "cell_type": "markdown",
   "id": "2044f473-e99e-4c1a-a617-4a4fa0018c00",
   "metadata": {},
   "source": [
    "Covariance tells us the direction of the relationship between two variables, while correlation provides an indication as to how strong the relationship between the two variables ."
   ]
  },
  {
   "cell_type": "raw",
   "id": "a1db8a93-e077-4857-b072-2583bb8c5454",
   "metadata": {},
   "source": [
    "Q14. How do outliers affect measures of central tendency and dispersion? Provide an example."
   ]
  },
  {
   "cell_type": "markdown",
   "id": "59199c0a-aafd-4ce3-997f-4356eddd0b80",
   "metadata": {},
   "source": [
    "Mean increases with the high outlier and decreases with the low outlier. Consider a small dataset having 5 values. The values in ascending order are 10,13,13,17,100. From the above example, we can interpret that the mean is the only measure of central tendency affected by outliers."
   ]
  },
  {
   "cell_type": "code",
   "execution_count": null,
   "id": "0ca08bf6-8e5d-4ad6-8a93-c966fb04177c",
   "metadata": {},
   "outputs": [],
   "source": []
  }
 ],
 "metadata": {
  "kernelspec": {
   "display_name": "Python 3 (ipykernel)",
   "language": "python",
   "name": "python3"
  },
  "language_info": {
   "codemirror_mode": {
    "name": "ipython",
    "version": 3
   },
   "file_extension": ".py",
   "mimetype": "text/x-python",
   "name": "python",
   "nbconvert_exporter": "python",
   "pygments_lexer": "ipython3",
   "version": "3.10.8"
  }
 },
 "nbformat": 4,
 "nbformat_minor": 5
}
