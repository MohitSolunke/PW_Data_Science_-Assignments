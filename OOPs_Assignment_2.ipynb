{
  "nbformat": 4,
  "nbformat_minor": 0,
  "metadata": {
    "colab": {
      "provenance": []
    },
    "kernelspec": {
      "name": "python3",
      "display_name": "Python 3"
    },
    "language_info": {
      "name": "python"
    }
  },
  "cells": [
    {
      "cell_type": "markdown",
      "source": [
        "# Q1. What is Abstraction in OOps? Explain with an example."
      ],
      "metadata": {
        "id": "6ZeDUq-8SK1d"
      }
    },
    {
      "cell_type": "markdown",
      "source": [
        "Abstraction is one of the four fundamental principles of Object-Oriented Programming (OOP). It refers to the concept of hiding the complex implementation details of a system and exposing only the essential features to the user. This allows the user to interact with the system without needing to understand the underlying complexities, thereby simplifying the interface and making the system easier to use.\n",
        "\n",
        "Key Points about Abstraction:\n",
        "Focus on Essential Features: Abstraction emphasizes the essential properties of an object while ignoring the irrelevant details.\n",
        "Simplifies Interaction: By exposing only the necessary parts of an object, abstraction simplifies how users interact with the system.\n",
        "Promotes Flexibility: Changes in implementation can occur without affecting how users interact with the object, as long as the interface remains consistent.\n",
        "Example of Abstraction\n",
        "In Python, abstraction can be achieved through the use of abstract classes and interfaces. An abstract class is a class that cannot be instantiated and can contain abstract methods, which are methods without implementation.\n",
        "\n",
        "Here’s an example to illustrate abstraction in Python:"
      ],
      "metadata": {
        "id": "zlTUov5yShDL"
      }
    },
    {
      "cell_type": "code",
      "execution_count": 1,
      "metadata": {
        "colab": {
          "base_uri": "https://localhost:8080/"
        },
        "id": "eQttbdTMSGWQ",
        "outputId": "1a9558fd-843e-49a1-aec6-7c54fefe21d3"
      },
      "outputs": [
        {
          "output_type": "stream",
          "name": "stdout",
          "text": [
            "Woof!\n",
            "Runs on four legs\n",
            "Chirp!\n",
            "Flies in the sky\n"
          ]
        }
      ],
      "source": [
        "from abc import ABC, abstractmethod\n",
        "\n",
        "# Abstract class\n",
        "class Animal(ABC):\n",
        "    @abstractmethod\n",
        "    def sound(self):\n",
        "        pass  # Abstract method\n",
        "\n",
        "    @abstractmethod\n",
        "    def move(self):\n",
        "        pass  # Abstract method\n",
        "\n",
        "# Subclass that inherits from the abstract class\n",
        "class Dog(Animal):\n",
        "    def sound(self):\n",
        "        return \"Woof!\"\n",
        "\n",
        "    def move(self):\n",
        "        return \"Runs on four legs\"\n",
        "\n",
        "# Another subclass that inherits from the abstract class\n",
        "class Bird(Animal):\n",
        "    def sound(self):\n",
        "        return \"Chirp!\"\n",
        "\n",
        "    def move(self):\n",
        "        return \"Flies in the sky\"\n",
        "\n",
        "# Creating instances of Dog and Bird\n",
        "dog = Dog()\n",
        "bird = Bird()\n",
        "\n",
        "# Using the instances to call methods\n",
        "print(dog.sound())  # Output: Woof!\n",
        "print(dog.move())   # Output: Runs on four legs\n",
        "print(bird.sound()) # Output: Chirp!\n",
        "print(bird.move())  # Output: Flies in the sky\n"
      ]
    },
    {
      "cell_type": "code",
      "source": [],
      "metadata": {
        "id": "b25e8L-WS-Cx"
      },
      "execution_count": null,
      "outputs": []
    },
    {
      "cell_type": "markdown",
      "source": [
        "# Q2. Differentiate between Abstraction and Encapsulation. Explain with an example."
      ],
      "metadata": {
        "id": "cWXXESRmTM79"
      }
    },
    {
      "cell_type": "markdown",
      "source": [
        "Abstraction and Encapsulation are both fundamental concepts in Object-Oriented Programming (OOP), but they serve different purposes and focus on different aspects of data handling. Here’s a detailed comparison of the two concepts:\n",
        "\n",
        "Feature\tAbstraction\tEncapsulation\n",
        "Definition\tAbstraction is the concept of hiding the complex implementation details and showing only the essential features of the object.\tEncapsulation is the bundling of data (attributes) and methods (functions) that operate on the data into a single unit (class). It restricts access to some of the object's components.\n",
        "Purpose\tTo reduce complexity by providing a simplified model of the system.\tTo protect the internal state of the object and prevent unauthorized access and modification.\n",
        "Focus\tFocuses on what an object does (the interface).\tFocuses on how an object achieves its functionality (the implementation).\n",
        "Implementation\tAchieved through abstract classes and interfaces.\tAchieved through access modifiers (private, protected, public) to control access to class members.\n",
        "Example of Abstraction\n",
        "In abstraction, we can use an abstract class to define a method that must be implemented by its subclasses, hiding the implementation details."
      ],
      "metadata": {
        "id": "UHiF2mAtTNVF"
      }
    },
    {
      "cell_type": "code",
      "source": [
        "from abc import ABC, abstractmethod\n",
        "\n",
        "# Abstract class\n",
        "class Shape(ABC):\n",
        "    @abstractmethod\n",
        "    def area(self):\n",
        "        pass  # Abstract method\n",
        "\n",
        "# Subclass that inherits from the abstract class\n",
        "class Rectangle(Shape):\n",
        "    def __init__(self, width, height):\n",
        "        self.width = width\n",
        "        self.height = height\n",
        "\n",
        "    def area(self):\n",
        "        return self.width * self.height  # Implementation of the abstract method\n",
        "\n",
        "# Creating an instance of Rectangle\n",
        "rectangle = Rectangle(5, 3)\n",
        "print(f\"Area of rectangle: {rectangle.area()}\")  # Output: Area of rectangle: 15\n"
      ],
      "metadata": {
        "colab": {
          "base_uri": "https://localhost:8080/"
        },
        "id": "JQ9DC6GATONM",
        "outputId": "1c0931e9-6b26-497f-eb4b-61be5da1b30e"
      },
      "execution_count": 2,
      "outputs": [
        {
          "output_type": "stream",
          "name": "stdout",
          "text": [
            "Area of rectangle: 15\n"
          ]
        }
      ]
    },
    {
      "cell_type": "code",
      "source": [
        "class BankAccount:\n",
        "    def __init__(self, account_number, balance=0):\n",
        "        self.__account_number = account_number  # Private attribute\n",
        "        self.__balance = balance                  # Private attribute\n",
        "\n",
        "    def deposit(self, amount):\n",
        "        if amount > 0:\n",
        "            self.__balance += amount\n",
        "            print(f\"Deposited: {amount}\")\n",
        "\n",
        "    def withdraw(self, amount):\n",
        "        if 0 < amount <= self.__balance:\n",
        "            self.__balance -= amount\n",
        "            print(f\"Withdrew: {amount}\")\n",
        "        else:\n",
        "            print(\"Insufficient funds\")\n",
        "\n",
        "    def get_balance(self):\n",
        "        return self.__balance\n",
        "\n",
        "# Creating an instance of BankAccount\n",
        "account = BankAccount(\"123456789\")\n",
        "account.deposit(1000)        # Output: Deposited: 1000\n",
        "account.withdraw(500)        # Output: Withdrew: 500\n",
        "print(f\"Current balance: {account.get_balance()}\")  # Output: Current balance: 500\n",
        "\n",
        "# Trying to access private attributes (will raise an error)\n",
        "# print(account.__balance)  # Uncommenting this line will raise an AttributeError\n"
      ],
      "metadata": {
        "colab": {
          "base_uri": "https://localhost:8080/"
        },
        "id": "o8Dg0NYDTUXc",
        "outputId": "323fabf5-4145-4829-89c0-76dba2121f63"
      },
      "execution_count": 3,
      "outputs": [
        {
          "output_type": "stream",
          "name": "stdout",
          "text": [
            "Deposited: 1000\n",
            "Withdrew: 500\n",
            "Current balance: 500\n"
          ]
        }
      ]
    },
    {
      "cell_type": "markdown",
      "source": [
        "# Q3. What is abc module in python? Why is it used?"
      ],
      "metadata": {
        "id": "3ARKkBR-TrH8"
      }
    },
    {
      "cell_type": "markdown",
      "source": [
        "The abc module in Python stands for Abstract Base Classes. It provides the infrastructure for defining abstract base classes, which are classes that cannot be instantiated and are designed to be subclassed. The abc module is part of the standard library and is used to define a common interface for a group of related classes.\n",
        "\n",
        "Why is the abc Module Used?\n",
        "Defining Abstract Methods: The abc module allows you to define methods that must be implemented by subclasses. This ensures that all subclasses adhere to a specific interface.\n",
        "\n",
        "Promoting Code Consistency: By using abstract base classes, you can ensure that all subclasses implement the required methods, promoting consistency across your codebase.\n",
        "\n",
        "Enhancing Code Readability: Abstract base classes provide a clear and structured way to define interfaces, making it easier for developers to understand the expected behavior of subclasses.\n",
        "\n",
        "Facilitating Polymorphism: The abc module supports polymorphism by allowing you to use abstract base classes as types for function parameters and return types, enabling you to write more flexible and reusable code."
      ],
      "metadata": {
        "id": "sKFThdiDTvot"
      }
    },
    {
      "cell_type": "code",
      "source": [
        "from abc import ABC, abstractmethod\n",
        "\n",
        "class Shape(ABC):\n",
        "    @abstractmethod\n",
        "    def area(self):\n",
        "        pass\n",
        "\n",
        "class Rectangle(Shape):\n",
        "    def __init__(self, width, height):\n",
        "        self.width = width\n",
        "        self.height = height\n",
        "\n",
        "    def area(self):\n",
        "        return self.width * self.height\n",
        "\n",
        "class Circle(Shape):\n",
        "    def __init__(self, radius):\n",
        "        self.radius = radius\n",
        "\n",
        "    def area(self):\n",
        "        return 3.14 * self.radius ** 2\n",
        "\n",
        "rectangle = Rectangle(5, 3)\n",
        "circle = Circle(4)\n",
        "\n",
        "print(f\"Area of rectangle: {rectangle.area()}\")\n",
        "print(f\"Area of circle: {circle.area()}\")\n"
      ],
      "metadata": {
        "colab": {
          "base_uri": "https://localhost:8080/"
        },
        "id": "a4Nx3vf2TWoY",
        "outputId": "c1e3bb29-af24-470d-f8c4-3a2b56f5d649"
      },
      "execution_count": 5,
      "outputs": [
        {
          "output_type": "stream",
          "name": "stdout",
          "text": [
            "Area of rectangle: 15\n",
            "Area of circle: 50.24\n"
          ]
        }
      ]
    },
    {
      "cell_type": "markdown",
      "source": [
        "# Q4. How can we achieve data abstraction?"
      ],
      "metadata": {
        "id": "19-e0w0jT3-u"
      }
    },
    {
      "cell_type": "markdown",
      "source": [
        "Data abstraction can be achieved in Python through various methods, primarily by using abstract classes, encapsulation, and interfaces. Here’s how each method contributes to data abstraction:\n",
        "\n",
        "Using Abstract Classes:\n",
        "\n",
        "Abstract classes are defined using the abc module. They can contain abstract methods that must be implemented by any subclass. This allows you to define a common interface for a group of related classes while hiding the implementation details.\n",
        "python"
      ],
      "metadata": {
        "id": "gGAGqeKDT-zk"
      }
    },
    {
      "cell_type": "code",
      "source": [
        "from abc import ABC, abstractmethod\n",
        "\n",
        "class Animal(ABC):\n",
        "    @abstractmethod\n",
        "    def sound(self):\n",
        "        pass\n",
        "\n",
        "class Dog(Animal):\n",
        "    def sound(self):\n",
        "        return \"Woof!\"\n",
        "\n",
        "class Cat(Animal):\n",
        "    def sound(self):\n",
        "        return \"Meow!\"\n",
        "\n",
        "dog = Dog()\n",
        "cat = Cat()\n",
        "\n",
        "print(dog.sound())\n",
        "print(cat.sound())\n"
      ],
      "metadata": {
        "colab": {
          "base_uri": "https://localhost:8080/"
        },
        "id": "MQ5qShhXTxS4",
        "outputId": "86c571eb-7c2a-4d59-934d-ba7ed26ae475"
      },
      "execution_count": 6,
      "outputs": [
        {
          "output_type": "stream",
          "name": "stdout",
          "text": [
            "Woof!\n",
            "Meow!\n"
          ]
        }
      ]
    },
    {
      "cell_type": "markdown",
      "source": [
        "# Q5. Can we create an instance of an abstract class? Explain your answer."
      ],
      "metadata": {
        "id": "aSOGmXtPUEhc"
      }
    },
    {
      "cell_type": "markdown",
      "source": [
        "No, we cannot create an instance of an abstract class in Python. An abstract class is designed to be a blueprint for other classes, providing a common interface without a complete implementation. It often contains one or more abstract methods, which are methods declared without implementation. Because abstract classes are incomplete, Python prevents them from being instantiated directly.\n",
        "\n",
        "Explanation\n",
        "Abstract Methods: An abstract class can include abstract methods, which must be implemented by any subclass. If a subclass does not implement all abstract methods, it also becomes an abstract class and cannot be instantiated.\n",
        "\n",
        "Purpose of Abstract Classes: The main purpose of abstract classes is to enforce a certain structure and define a common interface for subclasses. They are meant to be subclassed, allowing the concrete implementation to be provided in the subclasses."
      ],
      "metadata": {
        "id": "DJpEWzI4UIwt"
      }
    },
    {
      "cell_type": "code",
      "source": [
        "from abc import ABC, abstractmethod\n",
        "\n",
        "class Shape(ABC):\n",
        "    @abstractmethod\n",
        "    def area(self):\n",
        "        pass\n",
        "\n",
        "# Attempting to create an instance of the abstract class\n",
        "try:\n",
        "    shape = Shape()  # This will raise an error\n",
        "except TypeError as e:\n",
        "    print(e)  # Output: Can't instantiate abstract class Shape with abstract methods area\n",
        "\n",
        "# Creating a subclass that implements the abstract method\n",
        "class Rectangle(Shape):\n",
        "    def __init__(self, width, height):\n",
        "        self.width = width\n",
        "        self.height = height\n",
        "\n",
        "    def area(self):\n",
        "        return self.width * self.height\n",
        "\n",
        "# Now we can create an instance of the subclass\n",
        "rectangle = Rectangle(5, 3)\n",
        "print(f\"Area of rectangle: {rectangle.area()}\")  # Output: Area of rectangle: 15\n"
      ],
      "metadata": {
        "colab": {
          "base_uri": "https://localhost:8080/"
        },
        "id": "u-eBhrqUUBVl",
        "outputId": "6d0db765-eee5-4de9-b546-8c98142c26f4"
      },
      "execution_count": 7,
      "outputs": [
        {
          "output_type": "stream",
          "name": "stdout",
          "text": [
            "Can't instantiate abstract class Shape with abstract method area\n",
            "Area of rectangle: 15\n"
          ]
        }
      ]
    },
    {
      "cell_type": "code",
      "source": [],
      "metadata": {
        "id": "QPEW67nXULL_"
      },
      "execution_count": null,
      "outputs": []
    }
  ]
}