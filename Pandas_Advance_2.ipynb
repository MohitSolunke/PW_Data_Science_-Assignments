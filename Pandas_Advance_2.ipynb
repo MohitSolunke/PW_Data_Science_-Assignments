{
  "nbformat": 4,
  "nbformat_minor": 0,
  "metadata": {
    "colab": {
      "provenance": []
    },
    "kernelspec": {
      "name": "python3",
      "display_name": "Python 3"
    },
    "language_info": {
      "name": "python"
    }
  },
  "cells": [
    {
      "cell_type": "markdown",
      "source": [
        "# Q1. Write a code to print the data present in the second row of the dataframe, df."
      ],
      "metadata": {
        "id": "d6sGfP40TYGQ"
      }
    },
    {
      "cell_type": "code",
      "execution_count": 1,
      "metadata": {
        "colab": {
          "base_uri": "https://localhost:8080/"
        },
        "id": "psumYqt3TK6l",
        "outputId": "0ec483cc-538e-4734-cdfd-5ba6564b7b9e"
      },
      "outputs": [
        {
          "output_type": "stream",
          "name": "stdout",
          "text": [
            "course_name    Machine Learning\n",
            "duration                      3\n",
            "Name: 1, dtype: object\n"
          ]
        }
      ],
      "source": [
        "import pandas as pd\n",
        "\n",
        "# Given data\n",
        "course_name = ['Data Science', 'Machine Learning', 'Big Data', 'Data Engineer']\n",
        "duration = [2, 3, 6, 4]\n",
        "df = pd.DataFrame(data={'course_name': course_name, 'duration': duration})\n",
        "\n",
        "# Print the data present in the second row (index 1)\n",
        "second_row = df.iloc[1]\n",
        "print(second_row)\n"
      ]
    },
    {
      "cell_type": "markdown",
      "source": [
        "# Q2. What is the difference between the functions loc and iloc in pandas.DataFrame?"
      ],
      "metadata": {
        "id": "HSuWeHuoTl-w"
      }
    },
    {
      "cell_type": "markdown",
      "source": [
        "In Pandas, loc and iloc are both used for indexing and selecting data from a DataFrame, but they operate in different ways and use different types of indexing.\n",
        "\n",
        "Differences between loc and iloc:\n",
        "Type of Indexing:\n",
        "\n",
        "loc: Uses label-based indexing. This means you select rows and columns by their labels (the names of the indices or column headers).\n",
        "iloc: Uses integer-based indexing. This means you select rows and columns by their integer position (the integer index of rows or columns).\n",
        "Usage:\n",
        "\n",
        "loc:\n",
        "Syntax: df.loc[row_label, column_label]\n",
        "Example: df.loc[1, 'course_name'] selects the 'course_name' value of the row with index label 1.\n",
        "iloc:\n",
        "Syntax: df.iloc[row_index, column_index]\n",
        "Example: df.iloc[1, 0] selects the value from the first column (index 0) of the second row (index 1).\n",
        "Slicing:\n",
        "\n",
        "loc: Slices include both the start and end labels. For example, df.loc[0:2] selects rows with indices 0, 1, and 2.\n",
        "iloc: Slices exclude the end index. For example, df.iloc[0:2] selects rows with indices 0 and 1 but not 2.\n",
        "Return Type:\n",
        "\n",
        "Both loc and iloc can return Series or DataFrames depending on the selection. However, the type returned will depend on whether you are selecting a single row/column or multiple ones."
      ],
      "metadata": {
        "id": "ayBAHthHTsyM"
      }
    },
    {
      "cell_type": "markdown",
      "source": [
        "# Q3. Reindex the given dataframe using a variable, reindex = [3,0,1,2] and store it in the variable, new_df then find the output for both new_df.loc[2] and new_df.iloc[2]."
      ],
      "metadata": {
        "id": "hSd1A6_sTt-v"
      }
    },
    {
      "cell_type": "code",
      "source": [
        "import pandas as pd\n",
        "import numpy as np\n",
        "\n",
        "# Creating a DataFrame\n",
        "columns = ['column_1', 'column_2', 'column_3', 'column_4', 'column_5', 'column_6']\n",
        "indices = [1, 2, 3, 4, 5, 6]\n",
        "df1 = pd.DataFrame(np.random.rand(6, 6), columns=columns, index=indices)\n",
        "\n",
        "# Print the original DataFrame\n",
        "print(\"Original DataFrame (df1):\")\n",
        "print(df1)\n",
        "\n",
        "# Reindexing the DataFrame\n",
        "reindex = [3, 0, 1, 2]\n",
        "new_df = df1.reindex(reindex)\n",
        "\n",
        "# Print the new DataFrame\n",
        "print(\"\\nReindexed DataFrame (new_df):\")\n",
        "print(new_df)\n",
        "\n",
        "# Accessing using loc and iloc\n",
        "loc_output = new_df.loc[2]\n",
        "iloc_output = new_df.iloc[2]\n",
        "\n",
        "# Print outputs\n",
        "print(\"\\nOutput of new_df.loc[2]:\")\n",
        "print(loc_output)\n",
        "\n",
        "print(\"\\nOutput of new_df.iloc[2]:\")\n",
        "print(iloc_output)\n"
      ],
      "metadata": {
        "colab": {
          "base_uri": "https://localhost:8080/"
        },
        "id": "Yb2oanyTTisv",
        "outputId": "0ea20f63-58ce-4a74-ef1b-7ae8c8b47f05"
      },
      "execution_count": 3,
      "outputs": [
        {
          "output_type": "stream",
          "name": "stdout",
          "text": [
            "Original DataFrame (df1):\n",
            "   column_1  column_2  column_3  column_4  column_5  column_6\n",
            "1  0.201388  0.486048  0.505277  0.271665  0.842653  0.201611\n",
            "2  0.521365  0.656958  0.029373  0.239565  0.223036  0.222795\n",
            "3  0.839679  0.544253  0.286748  0.722983  0.933801  0.123326\n",
            "4  0.828452  0.834460  0.346496  0.029591  0.555597  0.290634\n",
            "5  0.618282  0.330522  0.974079  0.522566  0.508414  0.894783\n",
            "6  0.937499  0.485388  0.877181  0.619642  0.063795  0.065141\n",
            "\n",
            "Reindexed DataFrame (new_df):\n",
            "   column_1  column_2  column_3  column_4  column_5  column_6\n",
            "3  0.839679  0.544253  0.286748  0.722983  0.933801  0.123326\n",
            "0       NaN       NaN       NaN       NaN       NaN       NaN\n",
            "1  0.201388  0.486048  0.505277  0.271665  0.842653  0.201611\n",
            "2  0.521365  0.656958  0.029373  0.239565  0.223036  0.222795\n",
            "\n",
            "Output of new_df.loc[2]:\n",
            "column_1    0.521365\n",
            "column_2    0.656958\n",
            "column_3    0.029373\n",
            "column_4    0.239565\n",
            "column_5    0.223036\n",
            "column_6    0.222795\n",
            "Name: 2, dtype: float64\n",
            "\n",
            "Output of new_df.iloc[2]:\n",
            "column_1    0.201388\n",
            "column_2    0.486048\n",
            "column_3    0.505277\n",
            "column_4    0.271665\n",
            "column_5    0.842653\n",
            "column_6    0.201611\n",
            "Name: 1, dtype: float64\n"
          ]
        }
      ]
    },
    {
      "cell_type": "markdown",
      "source": [
        "# Q4. Write a code to find the following statistical measurements for the above dataframe df1:\n",
        "(i) mean of each and every column present in the dataframe.\n",
        "(ii) standard deviation of column, ‘column_2’"
      ],
      "metadata": {
        "id": "iRz4V0GhUG80"
      }
    },
    {
      "cell_type": "code",
      "source": [
        "import pandas as pd\n",
        "import numpy as np\n",
        "\n",
        "# Creating a DataFrame\n",
        "columns = ['column_1', 'column_2', 'column_3', 'column_4', 'column_5', 'column_6']\n",
        "indices = [1, 2, 3, 4, 5, 6]\n",
        "df1 = pd.DataFrame(np.random.rand(6, 6), columns=columns, index=indices)\n",
        "\n",
        "# (i) Calculate the mean of each column\n",
        "mean_values = df1.mean()\n",
        "print(\"Mean of each column:\")\n",
        "print(mean_values)\n",
        "\n",
        "# (ii) Calculate the standard deviation of 'column_2'\n",
        "std_column_2 = df1['column_2'].std()\n",
        "print(\"\\nStandard deviation of 'column_2':\")\n",
        "print(std_column_2)\n"
      ],
      "metadata": {
        "colab": {
          "base_uri": "https://localhost:8080/"
        },
        "id": "tFPEwGtEUCkz",
        "outputId": "5108af4f-72ba-4061-ff77-a00355345e98"
      },
      "execution_count": 4,
      "outputs": [
        {
          "output_type": "stream",
          "name": "stdout",
          "text": [
            "Mean of each column:\n",
            "column_1    0.708566\n",
            "column_2    0.405930\n",
            "column_3    0.578466\n",
            "column_4    0.662328\n",
            "column_5    0.465369\n",
            "column_6    0.563158\n",
            "dtype: float64\n",
            "\n",
            "Standard deviation of 'column_2':\n",
            "0.33334871397533106\n"
          ]
        }
      ]
    },
    {
      "cell_type": "markdown",
      "source": [
        "# Q5. Replace the data present in the second row of column, ‘column_2’ by a string variable then find the mean of column, column_2.\n",
        "\n",
        "\n",
        "If you are getting errors in executing it then explain why.\n",
        "[Hint: To replace the data use df1.loc[] and equate this to string data of your choice.]"
      ],
      "metadata": {
        "id": "zVWZBnuYUX2O"
      }
    },
    {
      "cell_type": "code",
      "source": [
        "import pandas as pd\n",
        "import numpy as np\n",
        "\n",
        "# Creating a DataFrame\n",
        "columns = ['column_1', 'column_2', 'column_3', 'column_4', 'column_5', 'column_6']\n",
        "indices = [1, 2, 3, 4, 5, 6]\n",
        "df1 = pd.DataFrame(np.random.rand(6, 6), columns=columns, index=indices)\n",
        "\n",
        "# Print the original DataFrame\n",
        "print(\"Original DataFrame (df1):\")\n",
        "print(df1)\n",
        "\n",
        "# Replace the data present in the second row of column 'column_2' with a string\n",
        "df1.loc[2, 'column_2'] = \"string_value\"\n",
        "\n",
        "# Print the modified DataFrame\n",
        "print(\"\\nModified DataFrame (df1) after replacing value in column_2:\")\n",
        "print(df1)\n",
        "\n",
        "# Calculate the mean of 'column_2'\n",
        "try:\n",
        "    mean_column_2 = df1['column_2'].mean()\n",
        "    print(\"\\nMean of 'column_2':\")\n",
        "    print(mean_column_2)\n",
        "except Exception as e:\n",
        "    print(\"\\nError occurred while calculating mean of 'column_2':\")\n",
        "    print(e)\n"
      ],
      "metadata": {
        "colab": {
          "base_uri": "https://localhost:8080/"
        },
        "id": "xz7AdVjtUL8M",
        "outputId": "10a4b098-9c1c-4ba6-f8cd-f39828fd8ec1"
      },
      "execution_count": 5,
      "outputs": [
        {
          "output_type": "stream",
          "name": "stdout",
          "text": [
            "Original DataFrame (df1):\n",
            "   column_1  column_2  column_3  column_4  column_5  column_6\n",
            "1  0.124960  0.448531  0.173409  0.703360  0.916581  0.004564\n",
            "2  0.216810  0.224721  0.912778  0.724128  0.650731  0.428119\n",
            "3  0.653001  0.418411  0.350486  0.107327  0.638239  0.478575\n",
            "4  0.512862  0.571234  0.560511  0.916080  0.909271  0.344939\n",
            "5  0.985745  0.779364  0.320095  0.892079  0.688603  0.509696\n",
            "6  0.559928  0.134649  0.993566  0.819205  0.753544  0.194318\n",
            "\n",
            "Modified DataFrame (df1) after replacing value in column_2:\n",
            "   column_1      column_2  column_3  column_4  column_5  column_6\n",
            "1  0.124960      0.448531  0.173409  0.703360  0.916581  0.004564\n",
            "2  0.216810  string_value  0.912778  0.724128  0.650731  0.428119\n",
            "3  0.653001      0.418411  0.350486  0.107327  0.638239  0.478575\n",
            "4  0.512862      0.571234  0.560511  0.916080  0.909271  0.344939\n",
            "5  0.985745      0.779364  0.320095  0.892079  0.688603  0.509696\n",
            "6  0.559928      0.134649  0.993566  0.819205  0.753544  0.194318\n",
            "\n",
            "Error occurred while calculating mean of 'column_2':\n",
            "unsupported operand type(s) for +: 'float' and 'str'\n"
          ]
        },
        {
          "output_type": "stream",
          "name": "stderr",
          "text": [
            "<ipython-input-5-a1860fedde19>:14: FutureWarning: Setting an item of incompatible dtype is deprecated and will raise an error in a future version of pandas. Value 'string_value' has dtype incompatible with float64, please explicitly cast to a compatible dtype first.\n",
            "  df1.loc[2, 'column_2'] = \"string_value\"\n"
          ]
        }
      ]
    },
    {
      "cell_type": "markdown",
      "source": [
        "# Q6. What do you understand about the windows function in pandas and list the types of windows functions?"
      ],
      "metadata": {
        "id": "24XbUmuvUgO9"
      }
    },
    {
      "cell_type": "markdown",
      "source": [
        "In Pandas, window functions are powerful tools used for performing operations on a subset of data points, known as a \"window,\" within a larger dataset. These functions are particularly useful for analyzing time-series data or other data where you want to apply calculations over a sliding window of data.\n",
        "\n",
        "# Understanding Window Functions:\n",
        "Definition: A window function performs a calculation across a set of rows related to the current row within the dataset. Unlike traditional aggregation functions (like mean() or sum()), which return a single result for the entire dataset, window functions return a result for each row in the original dataset based on the defined window of rows.\n",
        "Use Cases: Window functions are used for various purposes, including:\n",
        "Moving averages: Calculating averages over a sliding window of data points.\n",
        "Cumulative sums: Summing values up to the current row.\n",
        "Ranking: Assigning ranks to values in a column.\n",
        "\n",
        "# Types of Window Functions in Pandas:\n",
        "\n",
        "Pandas provides several types of window functions that can be applied using the .rolling(), .expanding(), and .ewm() methods. Here are the main types:\n",
        "\n",
        "Rolling Window Functions (rolling()):\n",
        "\n",
        "Description: Performs calculations over a fixed-size window that moves over the data.\n",
        "Examples:\n",
        "mean(): Calculate the moving average.\n",
        "sum(): Calculate the moving sum.\n",
        "min(), max(): Calculate the moving minimum and maximum."
      ],
      "metadata": {
        "id": "c82D-kCOUnot"
      }
    },
    {
      "cell_type": "markdown",
      "source": [
        "# Q7. Write a code to print only the current month and year at the time of answering this question.\n",
        "[Hint: Use pandas.datetime function]"
      ],
      "metadata": {
        "id": "HQJZuMv-UtA-"
      }
    },
    {
      "cell_type": "code",
      "source": [
        "import pandas as pd\n",
        "\n",
        "# Get the current date\n",
        "current_date = pd.Timestamp.now()\n",
        "\n",
        "# Extract the current month and year\n",
        "current_month = current_date.month\n",
        "current_year = current_date.year\n",
        "\n",
        "# Print the current month and year\n",
        "print(f\"Current Month: {current_month}, Current Year: {current_year}\")\n"
      ],
      "metadata": {
        "colab": {
          "base_uri": "https://localhost:8080/"
        },
        "id": "cRTULF_pUfR0",
        "outputId": "b1f75a64-6f98-4598-be2b-d8d09c0cf9d8"
      },
      "execution_count": 6,
      "outputs": [
        {
          "output_type": "stream",
          "name": "stdout",
          "text": [
            "Current Month: 10, Current Year: 2024\n"
          ]
        }
      ]
    },
    {
      "cell_type": "markdown",
      "source": [
        "# Q8. Write a Python program that takes in two dates as input (in the format YYYY-MM-DD) and calculates the difference between them in days, hours, and minutes using Pandas time delta. The program should prompt the user to enter the dates and display the result."
      ],
      "metadata": {
        "id": "3UoOzwrTUx-2"
      }
    },
    {
      "cell_type": "code",
      "source": [
        "import pandas as pd\n",
        "\n",
        "def calculate_date_difference():\n",
        "    # Prompt the user to enter two dates\n",
        "    date1_str = input(\"Enter the first date (YYYY-MM-DD): \")\n",
        "    date2_str = input(\"Enter the second date (YYYY-MM-DD): \")\n",
        "\n",
        "    # Convert input strings to pandas Timestamp\n",
        "    date1 = pd.Timestamp(date1_str)\n",
        "    date2 = pd.Timestamp(date2_str)\n",
        "\n",
        "    # Calculate the difference\n",
        "    delta = date2 - date1\n",
        "\n",
        "    # Get the total days, hours, and minutes\n",
        "    total_days = delta.days\n",
        "    total_seconds = delta.total_seconds()\n",
        "    total_hours = total_seconds // 3600\n",
        "    total_minutes = (total_seconds % 3600) // 60\n",
        "\n",
        "    # Print the result\n",
        "    print(f\"\\nDifference between {date1_str} and {date2_str}:\")\n",
        "    print(f\"Days: {total_days}\")\n",
        "    print(f\"Hours: {total_hours}\")\n",
        "    print(f\"Minutes: {total_minutes}\")\n",
        "\n",
        "# Call the function\n",
        "calculate_date_difference()\n"
      ],
      "metadata": {
        "colab": {
          "base_uri": "https://localhost:8080/"
        },
        "id": "FbhFU-tMUxfE",
        "outputId": "08b9ea40-5e7e-40d0-aea2-a85a23b7116a"
      },
      "execution_count": 7,
      "outputs": [
        {
          "output_type": "stream",
          "name": "stdout",
          "text": [
            "Enter the first date (YYYY-MM-DD): 20030703\n",
            "Enter the second date (YYYY-MM-DD): 20080205\n",
            "\n",
            "Difference between 20030703 and 20080205:\n",
            "Days: 1678\n",
            "Hours: 40272.0\n",
            "Minutes: 0.0\n"
          ]
        }
      ]
    },
    {
      "cell_type": "markdown",
      "source": [
        "# Q9. Write a Python program that reads a CSV file containing categorical data and converts a specifiedcolumn to a categorical data type. The program should prompt the user to enter the file path, column name, and category order, and then display the sorted data."
      ],
      "metadata": {
        "id": "P6-OfvxJVP5E"
      }
    },
    {
      "cell_type": "code",
      "source": [
        "\n",
        "import pandas as pd\n",
        "\n",
        "def process_categorical_data():\n",
        "    # Prompt the user to enter the file path\n",
        "    file_path = input(\"Enter the CSV file path: \")\n",
        "\n",
        "    # Read the CSV file into a DataFrame\n",
        "    try:\n",
        "        df = pd.read_csv(file_path)\n",
        "    except FileNotFoundError:\n",
        "        print(\"The specified file was not found. Please check the file path.\")\n",
        "        return\n",
        "    except pd.errors.EmptyDataError:\n",
        "        print(\"The file is empty. Please provide a valid CSV file.\")\n",
        "        return\n",
        "    except pd.errors.ParserError:\n",
        "        print(\"Error parsing the file. Please check the file format.\")\n",
        "        return\n",
        "\n",
        "    # Display the first few rows of the DataFrame\n",
        "    print(\"\\nData in the CSV file:\")\n",
        "    print(df.head())\n",
        "\n",
        "    # Prompt the user for the column name to convert\n",
        "    column_name = input(\"\\nEnter the column name to convert to categorical: \")\n",
        "\n",
        "    # Check if the column exists in the DataFrame\n",
        "    if column_name not in df.columns:\n",
        "        print(f\"Column '{column_name}' does not exist in the DataFrame.\")\n",
        "        return\n",
        "\n",
        "    # Prompt the user for the category order\n",
        "    category_order = input(\"\\nEnter the category order (comma-separated): \").split(',')\n",
        "\n",
        "    # Strip any extra whitespace from category names\n",
        "    category_order = [category.strip() for category in category_order]\n",
        "\n",
        "    # Convert the specified column to categorical data type with the specified order\n",
        "    df[column_name] = pd.Categorical(df[column_name], categories=category_order, ordered=True)\n",
        "\n",
        "    # Sort the DataFrame by the categorical column\n",
        "    sorted_df = df.sort_values(by=column_name)\n",
        "\n",
        "    # Display the sorted data\n",
        "    print(\"\\nSorted data:\")\n",
        "    print(sorted_df)\n",
        "\n",
        "# Call the function\n",
        "process_categorical_data()\n"
      ],
      "metadata": {
        "colab": {
          "base_uri": "https://localhost:8080/"
        },
        "id": "GYYQ7sN7U6mm",
        "outputId": "85048f4d-194b-4bf9-80f4-297e5bf89c9d"
      },
      "execution_count": 8,
      "outputs": [
        {
          "output_type": "stream",
          "name": "stdout",
          "text": [
            "Enter the CSV file path: /content/telecom_customer_churn.csv\n",
            "\n",
            "Data in the CSV file:\n",
            "  Customer ID  Gender  Age Married  Number of Dependents          City  \\\n",
            "0  0002-ORFBO  Female   37     Yes                     0  Frazier Park   \n",
            "1  0003-MKNFE    Male   46      No                     0      Glendale   \n",
            "2  0004-TLHLJ    Male   50      No                     0    Costa Mesa   \n",
            "3  0011-IGKFF    Male   78     Yes                     0      Martinez   \n",
            "4  0013-EXCHZ  Female   75     Yes                     0     Camarillo   \n",
            "\n",
            "   Zip Code   Latitude   Longitude  Number of Referrals  ...   Payment Method  \\\n",
            "0     93225  34.827662 -118.999073                    2  ...      Credit Card   \n",
            "1     91206  34.162515 -118.203869                    0  ...      Credit Card   \n",
            "2     92627  33.645672 -117.922613                    0  ...  Bank Withdrawal   \n",
            "3     94553  38.014457 -122.115432                    1  ...  Bank Withdrawal   \n",
            "4     93010  34.227846 -119.079903                    3  ...      Credit Card   \n",
            "\n",
            "  Monthly Charge Total Charges  Total Refunds Total Extra Data Charges  \\\n",
            "0           65.6        593.30           0.00                        0   \n",
            "1           -4.0        542.40          38.33                       10   \n",
            "2           73.9        280.85           0.00                        0   \n",
            "3           98.0       1237.85           0.00                        0   \n",
            "4           83.9        267.40           0.00                        0   \n",
            "\n",
            "  Total Long Distance Charges Total Revenue  Customer Status   Churn Category  \\\n",
            "0                      381.51        974.81           Stayed              NaN   \n",
            "1                       96.21        610.28           Stayed              NaN   \n",
            "2                      134.60        415.45          Churned       Competitor   \n",
            "3                      361.66       1599.51          Churned  Dissatisfaction   \n",
            "4                       22.14        289.54          Churned  Dissatisfaction   \n",
            "\n",
            "                    Churn Reason  \n",
            "0                            NaN  \n",
            "1                            NaN  \n",
            "2  Competitor had better devices  \n",
            "3        Product dissatisfaction  \n",
            "4            Network reliability  \n",
            "\n",
            "[5 rows x 38 columns]\n",
            "\n",
            "Enter the column name to convert to categorical: Age\n",
            "\n",
            "Enter the category order (comma-separated): 2\n",
            "\n",
            "Sorted data:\n",
            "     Customer ID  Gender  Age Married  Number of Dependents          City  \\\n",
            "0     0002-ORFBO  Female  NaN     Yes                     0  Frazier Park   \n",
            "1     0003-MKNFE    Male  NaN      No                     0      Glendale   \n",
            "2     0004-TLHLJ    Male  NaN      No                     0    Costa Mesa   \n",
            "3     0011-IGKFF    Male  NaN     Yes                     0      Martinez   \n",
            "4     0013-EXCHZ  Female  NaN     Yes                     0     Camarillo   \n",
            "...          ...     ...  ...     ...                   ...           ...   \n",
            "7038  9987-LUTYD  Female  NaN      No                     0       La Mesa   \n",
            "7039  9992-RRAMN    Male  NaN     Yes                     0     Riverbank   \n",
            "7040  9992-UJOEL    Male  NaN      No                     0           Elk   \n",
            "7041  9993-LHIEB    Male  NaN     Yes                     0  Solana Beach   \n",
            "7042  9995-HOTOH    Male  NaN     Yes                     0   Sierra City   \n",
            "\n",
            "      Zip Code   Latitude   Longitude  Number of Referrals  ...  \\\n",
            "0        93225  34.827662 -118.999073                    2  ...   \n",
            "1        91206  34.162515 -118.203869                    0  ...   \n",
            "2        92627  33.645672 -117.922613                    0  ...   \n",
            "3        94553  38.014457 -122.115432                    1  ...   \n",
            "4        93010  34.227846 -119.079903                    3  ...   \n",
            "...        ...        ...         ...                  ...  ...   \n",
            "7038     91941  32.759327 -116.997260                    0  ...   \n",
            "7039     95367  37.734971 -120.954271                    1  ...   \n",
            "7040     95432  39.108252 -123.645121                    0  ...   \n",
            "7041     92075  33.001813 -117.263628                    5  ...   \n",
            "7042     96125  39.600599 -120.636358                    1  ...   \n",
            "\n",
            "       Payment Method Monthly Charge Total Charges  Total Refunds  \\\n",
            "0         Credit Card          65.60        593.30           0.00   \n",
            "1         Credit Card          -4.00        542.40          38.33   \n",
            "2     Bank Withdrawal          73.90        280.85           0.00   \n",
            "3     Bank Withdrawal          98.00       1237.85           0.00   \n",
            "4         Credit Card          83.90        267.40           0.00   \n",
            "...               ...            ...           ...            ...   \n",
            "7038      Credit Card          55.15        742.90           0.00   \n",
            "7039  Bank Withdrawal          85.10       1873.70           0.00   \n",
            "7040      Credit Card          50.30         92.75           0.00   \n",
            "7041      Credit Card          67.85       4627.65           0.00   \n",
            "7042  Bank Withdrawal          59.00       3707.60           0.00   \n",
            "\n",
            "     Total Extra Data Charges Total Long Distance Charges Total Revenue  \\\n",
            "0                           0                      381.51        974.81   \n",
            "1                          10                       96.21        610.28   \n",
            "2                           0                      134.60        415.45   \n",
            "3                           0                      361.66       1599.51   \n",
            "4                           0                       22.14        289.54   \n",
            "...                       ...                         ...           ...   \n",
            "7038                        0                      606.84       1349.74   \n",
            "7039                        0                      356.40       2230.10   \n",
            "7040                        0                       37.24        129.99   \n",
            "7041                        0                      142.04       4769.69   \n",
            "7042                        0                        0.00       3707.60   \n",
            "\n",
            "      Customer Status   Churn Category                   Churn Reason  \n",
            "0              Stayed              NaN                            NaN  \n",
            "1              Stayed              NaN                            NaN  \n",
            "2             Churned       Competitor  Competitor had better devices  \n",
            "3             Churned  Dissatisfaction        Product dissatisfaction  \n",
            "4             Churned  Dissatisfaction            Network reliability  \n",
            "...               ...              ...                            ...  \n",
            "7038           Stayed              NaN                            NaN  \n",
            "7039          Churned  Dissatisfaction        Product dissatisfaction  \n",
            "7040           Joined              NaN                            NaN  \n",
            "7041           Stayed              NaN                            NaN  \n",
            "7042           Stayed              NaN                            NaN  \n",
            "\n",
            "[7043 rows x 38 columns]\n"
          ]
        }
      ]
    },
    {
      "cell_type": "markdown",
      "source": [
        "# Q10. Write a Python program that reads a CSV file containing sales data for different products and visualizes the data using a stacked bar chart to show the sales of each product category over time. The program should prompt the user to enter the file path and display the chart."
      ],
      "metadata": {
        "id": "JvXKG0X3V1hF"
      }
    },
    {
      "cell_type": "code",
      "source": [
        "import pandas as pd\n",
        "import matplotlib.pyplot as plt\n",
        "\n",
        "def visualize_sales_data():\n",
        "    # Prompt the user to enter the file path\n",
        "    file_path = input(\"Enter the file path\")\n",
        "\n",
        "    # Read the CSV file into a DataFrame\n",
        "    try:\n",
        "        df = pd.read_csv(file_path)\n",
        "    except FileNotFoundError:\n",
        "        print(\"The specified file was not found. Please check the file path.\")\n",
        "        return\n",
        "    except pd.errors.EmptyDataError:\n",
        "        print(\"The file is empty. Please provide a valid CSV file.\")\n",
        "        return\n",
        "    except pd.errors.ParserError:\n",
        "        print(\"Error parsing the file. Please check the file format.\")\n",
        "        return\n",
        "\n",
        "    # Display the first few rows of the DataFrame\n",
        "    print(\"\\nData in the CSV file:\")\n",
        "    print(df.head())\n",
        "\n",
        "    # Check if necessary columns exist in the DataFrame\n",
        "    if 'Date' not in df.columns or 'Product_Category' not in df.columns or 'Sales' not in df.columns:\n",
        "        print(\"The required columns 'Date', 'Product_Category', or 'Sales' do not exist in the DataFrame.\")\n",
        "        return\n",
        "\n",
        "    # Convert 'Date' column to datetime\n",
        "    df['Date'] = pd.to_datetime(df['Date'])\n",
        "\n",
        "    # Group by Date and Product Category, and sum the sales\n",
        "    grouped_data = df.groupby([df['Date'].dt.to_period('M'), 'Product_Category'])['Sales'].sum().unstack()\n",
        "\n",
        "    # Plot the stacked bar chart\n",
        "    grouped_data.plot(kind='bar', stacked=True, figsize=(10, 6))\n",
        "\n",
        "    # Add labels and title\n",
        "    plt.title('Sales of Each Product Category Over Time')\n",
        "    plt.xlabel('Date (Month)')\n",
        "    plt.ylabel('Total Sales')\n",
        "    plt.xticks(rotation=45)\n",
        "    plt.legend(title='Product Category')\n",
        "    plt.tight_layout()\n",
        "\n",
        "    # Show the plot\n",
        "    plt.show()\n",
        "\n",
        "# Call the function\n",
        "visualize_sales_data()\n"
      ],
      "metadata": {
        "colab": {
          "base_uri": "https://localhost:8080/"
        },
        "id": "4zi0oOLtVZzr",
        "outputId": "dd2414f6-5007-4bfe-dede-0da6260781ba"
      },
      "execution_count": 13,
      "outputs": [
        {
          "output_type": "stream",
          "name": "stdout",
          "text": [
            "Enter the file path/content/supermarket_sales - Sheet1.csv\n",
            "\n",
            "Data in the CSV file:\n",
            "    Invoice ID Branch       City Customer type  Gender  \\\n",
            "0  750-67-8428      A     Yangon        Member  Female   \n",
            "1  226-31-3081      C  Naypyitaw        Normal  Female   \n",
            "2  631-41-3108      A     Yangon        Normal    Male   \n",
            "3  123-19-1176      A     Yangon        Member    Male   \n",
            "4  373-73-7910      A     Yangon        Normal    Male   \n",
            "\n",
            "             Product line  Unit price  Quantity   Tax 5%     Total       Date  \\\n",
            "0       Health and beauty       74.69         7  26.1415  548.9715   1/5/2019   \n",
            "1  Electronic accessories       15.28         5   3.8200   80.2200   3/8/2019   \n",
            "2      Home and lifestyle       46.33         7  16.2155  340.5255   3/3/2019   \n",
            "3       Health and beauty       58.22         8  23.2880  489.0480  1/27/2019   \n",
            "4       Sports and travel       86.31         7  30.2085  634.3785   2/8/2019   \n",
            "\n",
            "    Time      Payment    cogs  gross margin percentage  gross income  Rating  \n",
            "0  13:08      Ewallet  522.83                 4.761905       26.1415     9.1  \n",
            "1  10:29         Cash   76.40                 4.761905        3.8200     9.6  \n",
            "2  13:23  Credit card  324.31                 4.761905       16.2155     7.4  \n",
            "3  20:33      Ewallet  465.76                 4.761905       23.2880     8.4  \n",
            "4  10:37      Ewallet  604.17                 4.761905       30.2085     5.3  \n",
            "The required columns 'Date', 'Product_Category', or 'Sales' do not exist in the DataFrame.\n"
          ]
        }
      ]
    },
    {
      "cell_type": "markdown",
      "source": [
        "# Q11. You are given a CSV file containing student data that includes the student ID and their test score. Writea Python program that reads the CSV file, calculates the mean, median, and mode of the test scores, and displays the results in a table."
      ],
      "metadata": {
        "id": "XZDyDyQHXGPk"
      }
    },
    {
      "cell_type": "code",
      "source": [
        "import pandas as pd\n",
        "from scipy import stats\n",
        "\n",
        "def calculate_statistics():\n",
        "    # Prompt the user to enter the file path\n",
        "    file_path = input(\"Enter the file path of the CSV file containing the student data: \")\n",
        "\n",
        "    # Read the CSV file into a DataFrame\n",
        "    try:\n",
        "        df = pd.read_csv(file_path)\n",
        "    except FileNotFoundError:\n",
        "        print(\"The specified file was not found. Please check the file path.\")\n",
        "        return\n",
        "    except pd.errors.EmptyDataError:\n",
        "        print(\"The file is empty. Please provide a valid CSV file.\")\n",
        "        return\n",
        "    except pd.errors.ParserError:\n",
        "        print(\"Error parsing the file. Please check the file format.\")\n",
        "        return\n",
        "\n",
        "    # Check if the necessary column exists\n",
        "    if 'Test Score' not in df.columns:\n",
        "        print(\"The column 'Test Score' does not exist in the DataFrame.\")\n",
        "        return\n",
        "\n",
        "    # Calculate mean, median, and mode of the test scores\n",
        "    mean_score = df['Test Score'].mean()\n",
        "    median_score = df['Test Score'].median()\n",
        "    mode_score = df['Test Score'].mode().tolist()\n",
        "\n",
        "    # Format mode to handle multiple modes\n",
        "    mode_value = ', '.join(map(str, mode_score))\n",
        "\n",
        "    # Display results in a table format\n",
        "    result_table = pd.DataFrame({\n",
        "        'Statistic': ['Mean', 'Median', 'Mode'],\n",
        "        'Value': [mean_score, median_score, mode_value]\n",
        "    })\n",
        "\n",
        "    print(\"\\n+-----------+--------+\")\n",
        "    print(result_table.to_string(index=False, header=True))\n",
        "    print(\"+-----------+--------+\")\n",
        "\n",
        "# Call the function\n",
        "calculate_statistics()\n"
      ],
      "metadata": {
        "colab": {
          "base_uri": "https://localhost:8080/"
        },
        "id": "UpaubOUpWf_K",
        "outputId": "2d0828ca-2217-4990-ed18-bd334bd0ecee"
      },
      "execution_count": 14,
      "outputs": [
        {
          "output_type": "stream",
          "name": "stdout",
          "text": [
            "Enter the file path of the CSV file containing the student data: /content/telecom_customer_churn.csv\n",
            "The column 'Test Score' does not exist in the DataFrame.\n"
          ]
        }
      ]
    },
    {
      "cell_type": "code",
      "source": [],
      "metadata": {
        "id": "yII9TKvaXglC"
      },
      "execution_count": null,
      "outputs": []
    }
  ]
}