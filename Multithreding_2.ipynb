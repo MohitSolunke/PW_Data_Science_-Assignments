{
  "nbformat": 4,
  "nbformat_minor": 0,
  "metadata": {
    "colab": {
      "provenance": []
    },
    "kernelspec": {
      "name": "python3",
      "display_name": "Python 3"
    },
    "language_info": {
      "name": "python"
    }
  },
  "cells": [
    {
      "cell_type": "markdown",
      "source": [
        "# Q1. What is multiprocessing in python? Why is it useful?"
      ],
      "metadata": {
        "id": "XoAm16e6UZ8D"
      }
    },
    {
      "cell_type": "markdown",
      "source": [
        "* Multiprocessing in Python is the ability to run multiple processes simultaneously, where each process has its own Python interpreter and memory space. It bypasses the Global Interpreter Lock (GIL) that limits Python threads from running in true parallel on multi-core processors, making it useful for CPU-bound tasks.\n",
        "\n",
        "# Why is it useful?\n",
        "* True Parallelism:\n",
        " Unlike multithreading, multiprocessing allows multiple processes to run in parallel, making it highly efficient for CPU-bound tasks that require significant computational power (e.g., data processing, complex calculations).\n",
        "* Independent Memory Space:\n",
        " Each process runs in its own memory space, reducing the risk of shared data corruption and improving reliability in concurrent execution.\n",
        "* Efficient Use of Multiple Cores:\n",
        " In a multi-core system, multiprocessing maximizes the use of available CPU cores, speeding up performance-intensive applications.\n",
        "* Better Scalability:\n",
        "It scales well when dealing with tasks that need to be distributed across multiple cores, improving the overall performance of the program."
      ],
      "metadata": {
        "id": "WEKN0TfPUbtJ"
      }
    },
    {
      "cell_type": "markdown",
      "source": [
        "# Q2. What are the differences between multiprocessing and multithreading?"
      ],
      "metadata": {
        "id": "6bJL_LBFU2Es"
      }
    },
    {
      "cell_type": "markdown",
      "source": [
        "# Multiprocessing:\n",
        "* Definition:\n",
        " Involves running multiple processes, each with its own memory space and Python interpreter.\n",
        "* Concurrency Type:\n",
        "Achieves true parallelism by utilizing multiple CPU cores.\n",
        "* CPU Usage:\n",
        "Ideal for CPU-bound tasks, fully utilizing multiple cores and bypassing Python’s GIL.\n",
        "* Memory:\n",
        "Each process has its own memory space, leading to higher memory consumption.\n",
        "* Communication:\n",
        " Requires inter-process communication (e.g., pipes, queues), which is slower than threads.\n",
        "* Overhead:\n",
        " Higher overhead due to process creation and memory duplication.\n",
        "* Global Interpreter Lock (GIL):\n",
        " Not affected; each process runs independently.\n",
        "* Use Cases:\n",
        "Best for tasks like mathematical computations, data processing, or parallel execution on multiple cores.\n",
        "\n",
        "\n",
        "# Multithreading:\n",
        "* Definition:\n",
        " Involves running multiple threads within the same process, sharing the same memory space.\n",
        "* Concurrency Type:\n",
        "Achieves concurrency, though limited parallelism due to the GIL.\n",
        "* CPU Usage: Suitable for I/O-bound tasks but limited for CPU-bound tasks due to the GIL.\n",
        "* Memory:\n",
        " Threads share memory space, leading to more efficient memory usage but also risk of data corruption.\n",
        "* Communication:\n",
        "Easier and faster since threads share memory, but synchronization is required to avoid race conditions.\n",
        "* Overhead:\n",
        " Lower overhead since threads are lightweight and share resources.\n",
        "* Global Interpreter Lock (GIL):\n",
        "Affected by the GIL, limiting true parallel execution for CPU-bound tasks.\n",
        "* Use Cases:\n",
        " Best for tasks involving waiting periods, such as web scraping, file handling, or network operations.\n",
        "\n",
        "\n",
        "\n",
        "\n",
        "\n"
      ],
      "metadata": {
        "id": "57C0eSmrU6sv"
      }
    },
    {
      "cell_type": "markdown",
      "source": [
        "#  Q3. Write a python code to create a process using the multiprocessing module."
      ],
      "metadata": {
        "id": "CNVs1v5SVqlM"
      }
    },
    {
      "cell_type": "code",
      "execution_count": 1,
      "metadata": {
        "colab": {
          "base_uri": "https://localhost:8080/"
        },
        "id": "ZuQt17mCUVyE",
        "outputId": "e8e74dd9-843a-41cf-d97c-91a3a91ac9c4"
      },
      "outputs": [
        {
          "output_type": "stream",
          "name": "stdout",
          "text": [
            "Number: 0\n",
            "Number: 1\n",
            "Number: 2\n",
            "Number: 3\n",
            "Number: 4\n"
          ]
        }
      ],
      "source": [
        "import multiprocessing\n",
        "\n",
        "def print_numbers():\n",
        "    for i in range(5):\n",
        "        print(f\"Number: {i}\")\n",
        "\n",
        "if __name__ == \"__main__\":\n",
        "    process = multiprocessing.Process(target=print_numbers)\n",
        "    process.start()\n",
        "    process.join()\n"
      ]
    },
    {
      "cell_type": "markdown",
      "source": [
        "# Q4. What is a multiprocessing pool in python? Why is it used?"
      ],
      "metadata": {
        "id": "vRjwQV2hVzhv"
      }
    },
    {
      "cell_type": "markdown",
      "source": [
        "Multiprocessing Pool in Python:\n",
        "A multiprocessing Pool in Python is a convenient way to manage a group of worker processes. It allows you to parallelize the execution of a function across multiple input values by distributing the workload among several processes.\n",
        "\n",
        "Why is it Used?:\n",
        "Simplified Process Management: The Pool class abstracts the complexity of creating and managing multiple processes, making it easier to write parallelized code.\n",
        "\n",
        "Efficient Resource Utilization: It helps maximize CPU usage by distributing tasks among available processes, ensuring that all cores are utilized effectively.\n",
        "\n",
        "Task Distribution: You can easily distribute a large number of tasks across the available worker processes, reducing the time required for execution.\n",
        "\n",
        "Result Collection: The Pool class provides methods to collect results from worker processes efficiently, allowing you to retrieve output once all tasks are completed.\n",
        "\n",
        "Automatic Management of Worker Processes: It automatically handles the lifecycle of worker processes, including spawning, joining, and terminating them, which reduces the overhead of manual management.\n",
        "\n",
        "Basic Usage Example:\n",
        "Here's a simple example of using a multiprocessing Pool to calculate the squares of a list of numbers:"
      ],
      "metadata": {
        "id": "PXCa-s_eV4Eo"
      }
    },
    {
      "cell_type": "code",
      "source": [
        "import multiprocessing\n",
        "\n",
        "def square(x):\n",
        "    return x ** 2\n",
        "\n",
        "if __name__ == \"__main__\":\n",
        "    numbers = [1, 2, 3, 4, 5]\n",
        "    with multiprocessing.Pool(processes=3) as pool:\n",
        "        results = pool.map(square, numbers)\n",
        "\n",
        "    print(\"Squares:\", results)\n"
      ],
      "metadata": {
        "colab": {
          "base_uri": "https://localhost:8080/"
        },
        "id": "RVR4RxVUVy0-",
        "outputId": "f460017c-59a1-4ba9-a78f-3f510eea38fa"
      },
      "execution_count": 2,
      "outputs": [
        {
          "output_type": "stream",
          "name": "stdout",
          "text": [
            "Squares: [1, 4, 9, 16, 25]\n"
          ]
        }
      ]
    },
    {
      "cell_type": "markdown",
      "source": [
        "# Q5. How can we create a pool of worker processes in python using the multiprocessing module?"
      ],
      "metadata": {
        "id": "qJHalJ1wWAK3"
      }
    },
    {
      "cell_type": "markdown",
      "source": [
        "To create a pool of worker processes in Python using the multiprocessing module, you can use the Pool class. Here's a step-by-step guide along with an example:\n",
        "\n",
        "Steps to Create a Pool of Worker Processes:\n",
        "Import the multiprocessing module: Make sure to import the required module.\n",
        "Define the target function: Create a function that you want the worker processes to execute.\n",
        "Create a Pool object: Initialize a pool of worker processes by specifying the number of processes you want to create.\n",
        "Use methods like map() or apply_async(): Distribute tasks to the worker processes.\n",
        "Close the pool and wait for the work to finish: Call close() to prevent any more tasks from being submitted, and join() to wait for the worker processes to complete.\n",
        "Example Code:\n",
        "Here's an example that demonstrates how to create a pool of worker processes:"
      ],
      "metadata": {
        "id": "R1vTbRpzWEMt"
      }
    },
    {
      "cell_type": "code",
      "source": [
        "import multiprocessing\n",
        "\n",
        "# Function that each worker will execute\n",
        "def square(x):\n",
        "    return x ** 2\n",
        "\n",
        "if __name__ == \"__main__\":\n",
        "    # Create a list of numbers\n",
        "    numbers = [1, 2, 3, 4, 5]\n",
        "\n",
        "    # Create a pool of 3 worker processes\n",
        "    with multiprocessing.Pool(processes=3) as pool:\n",
        "        # Use map to apply the square function to the list of numbers\n",
        "        results = pool.map(square, numbers)\n",
        "\n",
        "    # Print the results\n",
        "    print(\"Squares:\", results)\n"
      ],
      "metadata": {
        "colab": {
          "base_uri": "https://localhost:8080/"
        },
        "id": "7M0hpKJ3V8n0",
        "outputId": "4c4b6446-4bbf-4e8d-c8b7-67f913cc3fe0"
      },
      "execution_count": 3,
      "outputs": [
        {
          "output_type": "stream",
          "name": "stdout",
          "text": [
            "Squares: [1, 4, 9, 16, 25]\n"
          ]
        }
      ]
    },
    {
      "cell_type": "markdown",
      "source": [
        "# Q6. Write a python program to create 4 processes, each process should print a different number using the multiprocessing module in python."
      ],
      "metadata": {
        "id": "jYz36ZARWIv9"
      }
    },
    {
      "cell_type": "code",
      "source": [
        "import multiprocessing\n",
        "\n",
        "# Function to print a number\n",
        "def print_number(number):\n",
        "    print(f\"Number: {number}\")\n",
        "\n",
        "if __name__ == \"__main__\":\n",
        "    # List of numbers to be printed\n",
        "    numbers = [1, 2, 3, 4]\n",
        "\n",
        "    # Create a list to hold the process objects\n",
        "    processes = []\n",
        "\n",
        "    # Create and start a process for each number\n",
        "    for number in numbers:\n",
        "        process = multiprocessing.Process(target=print_number, args=(number,))\n",
        "        processes.append(process)\n",
        "        process.start()\n",
        "\n",
        "    # Wait for all processes to complete\n",
        "    for process in processes:\n",
        "        process.join()\n"
      ],
      "metadata": {
        "colab": {
          "base_uri": "https://localhost:8080/"
        },
        "id": "jbTOn0YnWFpp",
        "outputId": "1f511be0-7704-4b01-edbe-2fc8c4dc3753"
      },
      "execution_count": 4,
      "outputs": [
        {
          "output_type": "stream",
          "name": "stdout",
          "text": [
            "Number: 1\n",
            "Number: 3Number: 2\n",
            "\n",
            "Number: 4\n"
          ]
        }
      ]
    },
    {
      "cell_type": "code",
      "source": [],
      "metadata": {
        "id": "8xsUXP-BWMol"
      },
      "execution_count": null,
      "outputs": []
    }
  ]
}