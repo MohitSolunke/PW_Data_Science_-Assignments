{
  "nbformat": 4,
  "nbformat_minor": 0,
  "metadata": {
    "colab": {
      "provenance": []
    },
    "kernelspec": {
      "name": "python3",
      "display_name": "Python 3"
    },
    "language_info": {
      "name": "python"
    }
  },
  "cells": [
    {
      "cell_type": "markdown",
      "source": [
        "# Q1. Explain Class and Object with respect to Object-Oriented Programming. Give a suitable example."
      ],
      "metadata": {
        "id": "dUUe0SzPQnMG"
      }
    },
    {
      "cell_type": "markdown",
      "source": [
        "\n",
        "Class and Object are fundamental concepts in object-oriented programming (OOP).\n",
        "\n",
        "Class\n",
        "A class is a blueprint or template for creating objects. It defines a set of attributes (data) and methods (functions) that the created objects will have.\n",
        "A class encapsulates data for the object and provides methods to manipulate that data.\n",
        "It serves as a user-defined data type.\n",
        "Object\n",
        "An object is an instance of a class. It is a concrete representation of the class with its own set of attributes and methods.\n",
        "Each object can have different values for the attributes defined in its class, even though they share the same structure and behavior defined by the class.\n",
        "Objects can interact with one another through methods, allowing for data encapsulation and abstraction.\n",
        "Example of Class and Object\n",
        "Here's an example to illustrate classes and objects in Python:"
      ],
      "metadata": {
        "id": "NiHchc4RQqhE"
      }
    },
    {
      "cell_type": "code",
      "execution_count": 1,
      "metadata": {
        "colab": {
          "base_uri": "https://localhost:8080/"
        },
        "id": "h-y2-8a6QAPB",
        "outputId": "389f27dd-848a-4ca4-959e-b19e2b7bddb7"
      },
      "outputs": [
        {
          "output_type": "stream",
          "name": "stdout",
          "text": [
            "2020 Toyota Camry\n",
            "2021 Honda Accord\n"
          ]
        }
      ],
      "source": [
        "# Defining a class called Car\n",
        "class Car:\n",
        "    def __init__(self, make, model, year):\n",
        "        self.make = make        # Attribute for the car's make\n",
        "        self.model = model      # Attribute for the car's model\n",
        "        self.year = year        # Attribute for the car's year\n",
        "\n",
        "    def display_info(self):\n",
        "        # Method to display information about the car\n",
        "        return f\"{self.year} {self.make} {self.model}\"\n",
        "\n",
        "# Creating objects (instances) of the Car class\n",
        "car1 = Car(\"Toyota\", \"Camry\", 2020)\n",
        "car2 = Car(\"Honda\", \"Accord\", 2021)\n",
        "\n",
        "# Using the display_info method to print details of each car\n",
        "print(car1.display_info())  # Output: 2020 Toyota Camry\n",
        "print(car2.display_info())  # Output: 2021 Honda Accord\n"
      ]
    },
    {
      "cell_type": "markdown",
      "source": [
        "# Q2. Name the four pillars of OOPs."
      ],
      "metadata": {
        "id": "LW6RgAP2Q4Ok"
      }
    },
    {
      "cell_type": "markdown",
      "source": [
        "The four pillars of Object-Oriented Programming (OOP) are:\n",
        "\n",
        "* Encapsulation:\n",
        "\n",
        "Encapsulation is the bundling of data (attributes) and methods (functions) that operate on the data into a single unit, or class.\n",
        "It restricts direct access to some of an object’s components, which is a means of preventing unintended interference and misuse of the methods and attributes.\n",
        "Access modifiers (like private, protected, and public) are often used to achieve encapsulation.\n",
        "\n",
        "* Abstraction:\n",
        "\n",
        "Abstraction is the concept of hiding the complex reality while exposing only the necessary parts.\n",
        "It allows a programmer to focus on a simplified model of the system while ignoring the underlying implementation details.\n",
        "Abstract classes and interfaces are commonly used to define abstract data types.\n",
        "\n",
        "* Inheritance:\n",
        "\n",
        "Inheritance is a mechanism by which one class can inherit the attributes and methods of another class.\n",
        "This promotes code reusability and establishes a hierarchical relationship between classes.\n",
        "A subclass (child class) can inherit properties and behaviors from a superclass (parent class), and it can also override or extend these properties and behaviors.\n",
        "\n",
        "* Polymorphism:\n",
        "\n",
        "Polymorphism allows methods to do different things based on the object it is acting upon, even if they share the same name.\n",
        "This can be achieved through method overriding (in subclasses) and method overloading (within the same class).\n",
        "Polymorphism enables a single interface to represent different underlying forms (data types).\n",
        "These four pillars are fundamental principles that help in designing robust, maintainable, and scalable software systems using OOP."
      ],
      "metadata": {
        "id": "ZVt-PAvPQ8Ds"
      }
    },
    {
      "cell_type": "markdown",
      "source": [
        "# Q3. Explain why the __init__() function is used. Give a suitable example."
      ],
      "metadata": {
        "id": "J7mm22myRQH1"
      }
    },
    {
      "cell_type": "markdown",
      "source": [
        "The __init__() function in Python is a special method known as a constructor. It is automatically called when an instance (object) of a class is created. The primary purpose of the __init__() function is to initialize the attributes of the class and set up any necessary state for the object.\n",
        "\n",
        "Key Points about __init__():\n",
        "Initialization: It allows you to define attributes for your objects at the time of creation, ensuring that the object starts with valid data.\n",
        "Self Parameter: The first parameter of __init__() is always self, which refers to the instance being created. This allows you to access and set the instance variables.\n",
        "Optional Parameters: You can also provide default values for parameters, making some attributes optional during object creation.\n",
        "Example of __init__() Function\n",
        "Here’s an example to illustrate how the __init__() function is used:"
      ],
      "metadata": {
        "id": "_7fX6DNgRac8"
      }
    },
    {
      "cell_type": "code",
      "source": [
        "class Student:\n",
        "    def __init__(self, name, age, major):\n",
        "        self.name = name      # Initialize the name attribute\n",
        "        self.age = age        # Initialize the age attribute\n",
        "        self.major = major    # Initialize the major attribute\n",
        "\n",
        "    def display_info(self):\n",
        "        # Method to display student information\n",
        "        return f\"Name: {self.name}, Age: {self.age}, Major: {self.major}\"\n",
        "\n",
        "# Creating instances of the Student class\n",
        "student1 = Student(\"Alice\", 21, \"Computer Science\")\n",
        "student2 = Student(\"Bob\", 22, \"Mathematics\")\n",
        "\n",
        "# Using the display_info method to print student details\n",
        "print(student1.display_info())  # Output: Name: Alice, Age: 21, Major: Computer Science\n",
        "print(student2.display_info())  # Output: Name: Bob, Age: 22, Major: Mathematics\n"
      ],
      "metadata": {
        "colab": {
          "base_uri": "https://localhost:8080/"
        },
        "id": "5LX8T3JjQupE",
        "outputId": "63243c56-7d18-4689-ad35-7fb649be76d7"
      },
      "execution_count": 2,
      "outputs": [
        {
          "output_type": "stream",
          "name": "stdout",
          "text": [
            "Name: Alice, Age: 21, Major: Computer Science\n",
            "Name: Bob, Age: 22, Major: Mathematics\n"
          ]
        }
      ]
    },
    {
      "cell_type": "markdown",
      "source": [
        "# Q4. Why self is used in OOPs?"
      ],
      "metadata": {
        "id": "ByFEaw8MRf9D"
      }
    },
    {
      "cell_type": "markdown",
      "source": [
        "n Python, self is a conventionally used name for the first parameter of instance methods within a class. It refers to the specific instance of the class that is calling the method. Here are the key reasons why self is used:\n",
        "\n",
        "Instance Reference:\n",
        "\n",
        "self allows access to the attributes and methods of the instance. When you call a method on an object, self refers to that particular instance, enabling you to work with its data.\n",
        "Distinguishing Instance Variables:\n",
        "\n",
        "By using self, you differentiate between instance variables (attributes tied to the instance) and local variables (temporary variables defined within the method). This is essential for maintaining the state of each object independently.\n",
        "Method Invocation:\n",
        "\n",
        "When you call an instance method from within another instance method, you use self to refer to the calling instance. This ensures that you’re accessing or modifying the correct object’s data.\n",
        "Clarity and Readability:\n",
        "\n",
        "Using self makes it clear that you are working with instance attributes and methods. This improves the readability and maintainability of the code.\n",
        "Example of Using self\n",
        "Here’s an example to illustrate the use of self in a Python class:"
      ],
      "metadata": {
        "id": "EhME7JJFRhN9"
      }
    },
    {
      "cell_type": "code",
      "source": [
        "class Circle:\n",
        "    def __init__(self, radius):\n",
        "        self.radius = radius  # Instance variable\n",
        "\n",
        "    def area(self):\n",
        "        return 3.14 * self.radius ** 2  # Using self to access instance variable\n",
        "\n",
        "    def circumference(self):\n",
        "        return 2 * 3.14 * self.radius  # Using self to access instance variable\n",
        "\n",
        "# Creating an instance of Circle\n",
        "circle1 = Circle(5)\n",
        "\n",
        "# Accessing methods\n",
        "print(f\"Area: {circle1.area()}\")           # Output: Area: 78.5\n",
        "print(f\"Circumference: {circle1.circumference()}\")  # Output: Circumference: 31.4\n"
      ],
      "metadata": {
        "colab": {
          "base_uri": "https://localhost:8080/"
        },
        "id": "cx85I16BRcBV",
        "outputId": "66fd925d-e74a-4418-e115-42901d780c4b"
      },
      "execution_count": 3,
      "outputs": [
        {
          "output_type": "stream",
          "name": "stdout",
          "text": [
            "Area: 78.5\n",
            "Circumference: 31.400000000000002\n"
          ]
        }
      ]
    },
    {
      "cell_type": "code",
      "source": [],
      "metadata": {
        "id": "PAGR-f-vR0ax"
      },
      "execution_count": null,
      "outputs": []
    },
    {
      "cell_type": "markdown",
      "source": [
        "# Q5. What is inheritance? Give an example for each type of inheritance."
      ],
      "metadata": {
        "id": "ESciwLD5R1CU"
      }
    },
    {
      "cell_type": "markdown",
      "source": [
        "\n",
        "Q5. What is Inheritance?\n",
        "Inheritance is a fundamental concept in object-oriented programming (OOP) that allows a class (called a child or subclass) to inherit attributes and methods from another class (called a parent or superclass). This promotes code reusability and establishes a hierarchical relationship between classes.\n",
        "\n",
        "Types of Inheritance\n",
        "Here are the main types of inheritance in Python, along with examples for each:\n",
        "\n",
        "Single Inheritance:\n",
        "\n",
        "In single inheritance, a subclass inherits from one superclass.\n",
        "Example:\n",
        "\n",
        "python\n",
        "Copy code\n",
        "# Parent class\n",
        "class Animal:\n",
        "    def speak(self):\n",
        "        return \"Animal speaks\"\n",
        "\n",
        "# Child class inheriting from Animal\n",
        "class Dog(Animal):\n",
        "    def speak(self):\n",
        "        return \"Woof!\"\n",
        "\n",
        "# Creating an instance of Dog\n",
        "dog = Dog()\n",
        "print(dog.speak())  # Output: Woof!\n",
        "Multiple Inheritance:\n",
        "\n",
        "In multiple inheritance, a subclass inherits from more than one superclass.\n",
        "Example:\n",
        "\n",
        "python\n",
        "Copy code\n",
        "# Parent class 1\n",
        "class Flyer:\n",
        "    def fly(self):\n",
        "        return \"Flying high!\"\n",
        "\n",
        "# Parent class 2\n",
        "class Swimmer:\n",
        "    def swim(self):\n",
        "        return \"Swimming in the water!\"\n",
        "\n",
        "# Child class inheriting from both Flyer and Swimmer\n",
        "class Duck(Flyer, Swimmer):\n",
        "    def quack(self):\n",
        "        return \"Quack!\"\n",
        "\n",
        "# Creating an instance of Duck\n",
        "duck = Duck()\n",
        "print(duck.fly())    # Output: Flying high!\n",
        "print(duck.swim())   # Output: Swimming in the water!\n",
        "print(duck.quack())  # Output: Quack!\n",
        "Multilevel Inheritance:\n",
        "\n",
        "In multilevel inheritance, a class inherits from a superclass, which in turn inherits from another superclass.\n",
        "Example:\n",
        "\n",
        "python\n",
        "Copy code\n",
        "# Parent class\n",
        "class Animal:\n",
        "    def speak(self):\n",
        "        return \"Animal speaks\"\n",
        "\n",
        "# Intermediate class inheriting from Animal\n",
        "class Dog(Animal):\n",
        "    def bark(self):\n",
        "        return \"Woof!\"\n",
        "\n",
        "# Child class inheriting from Dog\n",
        "class Puppy(Dog):\n",
        "    def whine(self):\n",
        "        return \"Whine!\"\n",
        "\n",
        "# Creating an instance of Puppy\n",
        "puppy = Puppy()\n",
        "print(puppy.speak())  # Output: Animal speaks\n",
        "print(puppy.bark())   # Output: Woof!\n",
        "print(puppy.whine())  # Output: Whine!\n",
        "Hierarchical Inheritance:\n",
        "\n",
        "In hierarchical inheritance, multiple subclasses inherit from a single superclass.\n",
        "Example:\n",
        "\n",
        "python\n",
        "Copy code\n",
        "# Parent class\n",
        "class Vehicle:\n",
        "    def start(self):\n",
        "        return \"Vehicle started\"\n",
        "\n",
        "# Child class 1 inheriting from Vehicle\n",
        "class Car(Vehicle):\n",
        "    def drive(self):\n",
        "        return \"Car is driving\"\n",
        "\n",
        "# Child class 2 inheriting from Vehicle\n",
        "class Bike(Vehicle):\n",
        "    def ride(self):\n",
        "        return \"Bike is riding\"\n",
        "\n",
        "# Creating instances of Car and Bike\n",
        "car = Car()\n",
        "bike = Bike()\n",
        "print(car.start())  # Output: Vehicle started\n",
        "print(car.drive())  # Output: Car is driving\n",
        "print(bike.start()) # Output: Vehicle started\n",
        "print(bike.ride())  # Output: Bike is riding"
      ],
      "metadata": {
        "id": "2VJCJ2iJR6J0"
      }
    },
    {
      "cell_type": "code",
      "source": [],
      "metadata": {
        "id": "ovNhfwAvR5qv"
      },
      "execution_count": null,
      "outputs": []
    }
  ]
}