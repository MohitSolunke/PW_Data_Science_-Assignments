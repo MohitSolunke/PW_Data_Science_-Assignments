{
  "nbformat": 4,
  "nbformat_minor": 0,
  "metadata": {
    "colab": {
      "provenance": []
    },
    "kernelspec": {
      "name": "python3",
      "display_name": "Python 3"
    },
    "language_info": {
      "name": "python"
    }
  },
  "cells": [
    {
      "cell_type": "markdown",
      "source": [
        "# Q1. Is there any difference in the data type of variables list_ and array_list? If there is then write a code to print the data types of both the variables."
      ],
      "metadata": {
        "id": "uvl7P5iPaxaf"
      }
    },
    {
      "cell_type": "markdown",
      "source": [
        "Yes, there is a difference in the data types of the variables list_ and array_list.\n",
        "\n",
        "list_: This is a standard Python list that contains string elements. Its data type is list.\n",
        "array_list: This is a NumPy array created from list_. The data type of array_list will be numpy.ndarray, and since the original list contains strings, the data type of the elements within the array will be str."
      ],
      "metadata": {
        "id": "6oKObRvibF88"
      }
    },
    {
      "cell_type": "code",
      "execution_count": 1,
      "metadata": {
        "colab": {
          "base_uri": "https://localhost:8080/"
        },
        "id": "ILeHSZYuXrgU",
        "outputId": "68bce413-44e2-4cc3-e2ed-8722d50c41e4"
      },
      "outputs": [
        {
          "output_type": "stream",
          "name": "stdout",
          "text": [
            "Data type of list_: <class 'list'>\n",
            "Data type of array_list: <class 'numpy.ndarray'>\n",
            "Data type of elements in array_list: <U1\n"
          ]
        }
      ],
      "source": [
        "import numpy as np\n",
        "\n",
        "# Create a list with corrected quotes\n",
        "list_ = ['1', '2', '3', '4', '5']\n",
        "array_list = np.array(object=list_)\n",
        "\n",
        "# Print the data types\n",
        "print(\"Data type of list_:\", type(list_))  # Output: <class 'list'>\n",
        "print(\"Data type of array_list:\", type(array_list))  # Output: <class 'numpy.ndarray'>\n",
        "\n",
        "# Print the data type of elements in array_list\n",
        "print(\"Data type of elements in array_list:\", array_list.dtype)  # Output: <U1 (string of Unicode characters)\n"
      ]
    },
    {
      "cell_type": "markdown",
      "source": [
        "# Q2. Write a code to print the data type of each and every element of both the variables list_ and arra_list."
      ],
      "metadata": {
        "id": "yNDSB_dVbIrl"
      }
    },
    {
      "cell_type": "code",
      "source": [
        "import numpy as np\n",
        "\n",
        "# Create a list with corrected quotes\n",
        "list_ = ['1', '2', '3', '4', '5']\n",
        "array_list = np.array(object=list_)\n",
        "\n",
        "# Print the data type of each element in list_\n",
        "print(\"Data types of elements in list_:\")\n",
        "for element in list_:\n",
        "    print(f\"{element}: {type(element)}\")  # Output: <class 'str'>\n",
        "\n",
        "# Print the data type of each element in array_list\n",
        "print(\"\\nData types of elements in array_list:\")\n",
        "for element in array_list:\n",
        "    print(f\"{element}: {type(element)}\")  # Output: <class 'numpy.str_'>\n"
      ],
      "metadata": {
        "colab": {
          "base_uri": "https://localhost:8080/"
        },
        "id": "mlUjMKtHbHbn",
        "outputId": "5419d479-6bd6-405a-f6ab-21b592c6934d"
      },
      "execution_count": 2,
      "outputs": [
        {
          "output_type": "stream",
          "name": "stdout",
          "text": [
            "Data types of elements in list_:\n",
            "1: <class 'str'>\n",
            "2: <class 'str'>\n",
            "3: <class 'str'>\n",
            "4: <class 'str'>\n",
            "5: <class 'str'>\n",
            "\n",
            "Data types of elements in array_list:\n",
            "1: <class 'numpy.str_'>\n",
            "2: <class 'numpy.str_'>\n",
            "3: <class 'numpy.str_'>\n",
            "4: <class 'numpy.str_'>\n",
            "5: <class 'numpy.str_'>\n"
          ]
        }
      ]
    },
    {
      "cell_type": "markdown",
      "source": [
        "# Q3. Considering the following changes in the variable, array_list:\n",
        "array_list = np.array(object = list_, dtype = int)"
      ],
      "metadata": {
        "id": "TtAenwHmbP89"
      }
    },
    {
      "cell_type": "code",
      "source": [
        "import numpy as np\n",
        "\n",
        "# Create a list with corrected quotes\n",
        "list_ = ['1', '2', '3', '4', '5']\n",
        "# Create a NumPy array with dtype set to int\n",
        "array_list = np.array(object=list_, dtype=int)\n",
        "\n",
        "# Print the array\n",
        "print(\"Array List with dtype int:\", array_list)\n",
        "\n",
        "# Print the data type of the array\n",
        "print(\"Data type of array_list:\", array_list.dtype)\n",
        "\n",
        "# Print the data type of each element in the array\n",
        "print(\"Data types of elements in array_list:\")\n",
        "for element in array_list:\n",
        "    print(f\"{element}: {type(element)}\")\n"
      ],
      "metadata": {
        "colab": {
          "base_uri": "https://localhost:8080/"
        },
        "id": "huKzIDhNbPlp",
        "outputId": "0fc9556a-f048-4255-b3b5-c912bdfec29c"
      },
      "execution_count": 3,
      "outputs": [
        {
          "output_type": "stream",
          "name": "stdout",
          "text": [
            "Array List with dtype int: [1 2 3 4 5]\n",
            "Data type of array_list: int64\n",
            "Data types of elements in array_list:\n",
            "1: <class 'numpy.int64'>\n",
            "2: <class 'numpy.int64'>\n",
            "3: <class 'numpy.int64'>\n",
            "4: <class 'numpy.int64'>\n",
            "5: <class 'numpy.int64'>\n"
          ]
        }
      ]
    },
    {
      "cell_type": "markdown",
      "source": [
        "# Q4. Write a code to find the following characteristics of variable, num_array:\n",
        "(i) shape\n",
        "(ii) size"
      ],
      "metadata": {
        "id": "IBWS-IlubZYN"
      }
    },
    {
      "cell_type": "code",
      "source": [
        "import numpy as np\n",
        "\n",
        "# Assuming num_array is similar to the previous example where array_list was created with integers\n",
        "list_ = ['1', '2', '3', '4', '5']\n",
        "num_array = np.array(object=list_, dtype=int)\n",
        "\n",
        "# (i) Find the shape of num_array\n",
        "shape_of_num_array = num_array.shape\n",
        "\n",
        "# (ii) Find the size of num_array\n",
        "size_of_num_array = num_array.size\n",
        "\n",
        "# Print the results\n",
        "print(\"Shape of num_array:\", shape_of_num_array)  # Output: (5,)\n",
        "print(\"Size of num_array:\", size_of_num_array)    # Output: 5\n"
      ],
      "metadata": {
        "colab": {
          "base_uri": "https://localhost:8080/"
        },
        "id": "mUWUfbDnbVof",
        "outputId": "1e4cbf7e-1fc5-4310-9f38-c1eebcc4838a"
      },
      "execution_count": 4,
      "outputs": [
        {
          "output_type": "stream",
          "name": "stdout",
          "text": [
            "Shape of num_array: (5,)\n",
            "Size of num_array: 5\n"
          ]
        }
      ]
    },
    {
      "cell_type": "markdown",
      "source": [
        "# Q5. Write a code to create numpy array of 3*3 matrix containing zeros only, using a numpy array creation function."
      ],
      "metadata": {
        "id": "qgYhsnScbhKV"
      }
    },
    {
      "cell_type": "code",
      "source": [
        "import numpy as np\n",
        "\n",
        "# Create a 3x3 array filled with zeros\n",
        "zero_matrix = np.zeros((3, 3))\n",
        "\n",
        "# Print the resulting matrix\n",
        "print(\"3x3 Matrix of Zeros:\")\n",
        "print(zero_matrix)\n"
      ],
      "metadata": {
        "colab": {
          "base_uri": "https://localhost:8080/"
        },
        "id": "qgIEGzR6bc0m",
        "outputId": "8447d783-1746-4cc2-bc5b-8ad464a79dbf"
      },
      "execution_count": 5,
      "outputs": [
        {
          "output_type": "stream",
          "name": "stdout",
          "text": [
            "3x3 Matrix of Zeros:\n",
            "[[0. 0. 0.]\n",
            " [0. 0. 0.]\n",
            " [0. 0. 0.]]\n"
          ]
        }
      ]
    },
    {
      "cell_type": "markdown",
      "source": [
        "# Q6. Create an identity matrix of shape (5,5) using numpy functions?\n",
        "[Hint: An identity matrix is a matrix containing 1 diagonally and other elements will be 0.]"
      ],
      "metadata": {
        "id": "gzQhg644bod3"
      }
    },
    {
      "cell_type": "code",
      "source": [
        "import numpy as np\n",
        "\n",
        "# Create a 5x5 identity matrix\n",
        "identity_matrix = np.eye(5)\n",
        "\n",
        "# Alternatively, you can use np.identity(5)\n",
        "# identity_matrix = np.identity(5)\n",
        "\n",
        "# Print the resulting identity matrix\n",
        "print(\"5x5 Identity Matrix:\")\n",
        "print(identity_matrix)\n"
      ],
      "metadata": {
        "colab": {
          "base_uri": "https://localhost:8080/"
        },
        "id": "C4BwNTfjboM1",
        "outputId": "252c9b10-6270-4673-e431-fbf350f54a10"
      },
      "execution_count": 6,
      "outputs": [
        {
          "output_type": "stream",
          "name": "stdout",
          "text": [
            "5x5 Identity Matrix:\n",
            "[[1. 0. 0. 0. 0.]\n",
            " [0. 1. 0. 0. 0.]\n",
            " [0. 0. 1. 0. 0.]\n",
            " [0. 0. 0. 1. 0.]\n",
            " [0. 0. 0. 0. 1.]]\n"
          ]
        }
      ]
    },
    {
      "cell_type": "code",
      "source": [],
      "metadata": {
        "id": "4gk4Nh13bvVd"
      },
      "execution_count": null,
      "outputs": []
    }
  ]
}