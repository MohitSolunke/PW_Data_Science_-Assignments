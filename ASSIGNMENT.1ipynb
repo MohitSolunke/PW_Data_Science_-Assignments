
Q1. Create one variable containing following type of data:

1) String 
2) List
3) Float
4) Tuple

a = "Mohit"
type(a)
type(a)
str

b = [ 1,2,3,"Mohit",23.4]
type(b)
list

c = 23.5
type(c)
float

 d = (1,2,(3,4),[5,6],"Hel",'lo')
type(d)
str


Q2. Given are some following variables containing data:
(i) var1 = ‘ ‘ 
(ii) var2 = ‘[ DS , ML , Python]’ 
(iii) var3 = [ ‘DS’ , ’ML’ , ‘Python’ ] 
(iv) var4 = 1.

var1 = ' ' 
var2 = '[ DS , ML , Python]'
var3 = [ 'DS' , 'ML' , 'Python' ]
var4 = 1.

type(var1)
str

type(var2)
str

type(var3)
str

type(var4)
float

Q3. Explain the use of the following operators using an example:

(i) / (ii) % (iii) // (iv) **

" / " :- It's a arithmatic oprator that is use for division of two numbers
for e.g 👇

a = int(10)
b = int(5)

c = a / b
print(c)

2.0

"%" :- It's a Arithmatic Operator , That is use to give the numbers that remaining after division
for e.g 👇

a = int(9)
b = int(5)

c = a % b
print(c)
2

" // " :- It's a Arithmatics Operator , That is used to give the integer value before the decimal point.
for e.g 👇

a = int(11)
b = int(5)

c = a // b
print(c)

2

" ** " :- It's a Arithmatic Operator , that is used for exponential perpous
for e.g 👇

a = int(2)
b = int(3)

c = a ** b
print(c)
8
Q4. Create a list of length 10 of your choice containing multiple types of data. Using for loop print the element and its data type.

print(i)
 l = [ 1,2,"Mohit",23.4,"TRUE",'HELLO',7,33.33, "FALSE","GOOD"]
    
for i in l:
    print(type(i))
    print(i)
        
<class 'int'>
1
<class 'int'>
2
<class 'str'>
Mohit
<class 'float'>
23.4
<class 'str'>
TRUE
<class 'str'>
HELLO
<class 'int'>
7
<class 'float'>
33.33
<class 'str'>
FALSE
<class 'str'>
GOOD
