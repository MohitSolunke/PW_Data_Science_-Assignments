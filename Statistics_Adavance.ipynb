{
  "nbformat": 4,
  "nbformat_minor": 0,
  "metadata": {
    "colab": {
      "provenance": []
    },
    "kernelspec": {
      "name": "python3",
      "display_name": "Python 3"
    },
    "language_info": {
      "name": "python"
    }
  },
  "cells": [
    {
      "cell_type": "markdown",
      "source": [
        "# Q1. What is the Probability density function?"
      ],
      "metadata": {
        "id": "aDqVlMgFEnaS"
      }
    },
    {
      "cell_type": "markdown",
      "source": [
        "The **Probability Density Function (PDF)** is a fundamental concept in statistics and probability theory used to describe the likelihood of a continuous random variable taking on a particular value. Here’s a breakdown of the PDF:\n",
        "\n",
        "### Key Characteristics of PDF\n",
        "\n",
        "1. **Definition**:\n",
        "   - The PDF of a continuous random variable \\( X \\) is a function \\( f(x) \\) such that the probability of \\( X \\) falling within a particular interval can be determined by integrating the PDF over that interval.\n",
        "   - Mathematically, for a continuous random variable \\( X \\), the probability that \\( X \\) lies between two values \\( a \\) and \\( b \\) is given by:\n",
        "     \\[\n",
        "     P(a < X < b) = \\int_{a}^{b} f(x) \\, dx\n",
        "     \\]\n",
        "\n",
        "2. **Properties**:\n",
        "   - **Non-negativity**: The PDF is always non-negative, meaning \\( f(x) \\geq 0 \\) for all \\( x \\).\n",
        "   - **Normalization**: The total area under the PDF curve over the entire range of possible values is equal to 1:\n",
        "     \\[\n",
        "     \\int_{-\\infty}^{\\infty} f(x) \\, dx = 1\n",
        "     \\]\n",
        "   - **Probability Calculation**: The probability of the random variable taking on any specific value is zero, as there are infinitely many possible values. Instead, probabilities are calculated over intervals.\n",
        "\n",
        "3. **Usage**:\n",
        "   - The PDF is used to describe the distribution of continuous random variables, such as height, weight, and temperature.\n",
        "   - Different types of PDFs correspond to different probability distributions, such as the normal distribution, exponential distribution, and uniform distribution.\n",
        "\n",
        "### Example\n",
        "\n",
        "For example, the PDF of a standard normal distribution (mean \\( \\mu = 0 \\) and standard deviation \\( \\sigma = 1 \\)) is given by the formula:\n",
        "\\[\n",
        "f(x) = \\frac{1}{\\sqrt{2\\pi}} e^{-\\frac{x^2}{2}}\n",
        "\\]\n",
        "This function describes how the values of a normally distributed random variable are distributed around the mean.\n",
        "\n",
        "### Visualization\n",
        "\n",
        "A PDF can be visualized as a curve on a graph, where the x-axis represents the possible values of the random variable and the y-axis represents the density of probabilities. The area under the curve between two points represents the probability that the variable falls within that interval."
      ],
      "metadata": {
        "id": "PpQwkef7EucW"
      }
    },
    {
      "cell_type": "markdown",
      "source": [
        "# Q2. What are the types of Probability distribution?"
      ],
      "metadata": {
        "id": "-BHw9bfdEyjV"
      }
    },
    {
      "cell_type": "markdown",
      "source": [
        "Probability distributions can be broadly classified into two main categories: **discrete probability distributions** and **continuous probability distributions**. Each category encompasses various specific types of distributions, each with its own characteristics and applications. Here's a detailed overview of the types of probability distributions:\n",
        "\n",
        "### 1. Discrete Probability Distributions\n",
        "\n",
        "Discrete probability distributions deal with discrete random variables, which can take on a countable number of distinct values. The probability mass function (PMF) defines the probabilities for each possible value of the random variable.\n",
        "\n",
        "#### Common Types of Discrete Probability Distributions:\n",
        "\n",
        "- **Bernoulli Distribution**:\n",
        "  - Represents a random variable that has two possible outcomes, typically labeled as 1 (success) and 0 (failure).\n",
        "  - Example: Coin toss (heads or tails).\n",
        "\n",
        "- **Binomial Distribution**:\n",
        "  - Represents the number of successes in a fixed number of independent Bernoulli trials.\n",
        "  - Example: Flipping a coin \\( n \\) times and counting the number of heads.\n",
        "\n",
        "- **Poisson Distribution**:\n",
        "  - Represents the number of events occurring in a fixed interval of time or space, given a known average rate of occurrence.\n",
        "  - Example: Number of emails received in an hour.\n",
        "\n",
        "- **Geometric Distribution**:\n",
        "  - Represents the number of trials needed to get the first success in a series of independent Bernoulli trials.\n",
        "  - Example: The number of coin flips until the first heads.\n",
        "\n",
        "- **Negative Binomial Distribution**:\n",
        "  - Generalization of the geometric distribution that represents the number of trials needed to achieve a fixed number of successes.\n",
        "  - Example: Number of trials needed to get 3 heads in coin flips.\n",
        "\n",
        "- **Hypergeometric Distribution**:\n",
        "  - Represents the number of successes in a sequence of draws from a finite population without replacement.\n",
        "  - Example: Drawing colored balls from an urn.\n",
        "\n",
        "### 2. Continuous Probability Distributions\n",
        "\n",
        "Continuous probability distributions deal with continuous random variables, which can take on any value within a given range. The probability density function (PDF) describes the probabilities for intervals of values.\n",
        "\n",
        "#### Common Types of Continuous Probability Distributions:\n",
        "\n",
        "- **Normal Distribution**:\n",
        "  - A bell-shaped distribution characterized by its mean and standard deviation. It is defined by the empirical rule, which states that about 68% of the data falls within one standard deviation of the mean.\n",
        "  - Example: Heights of people, measurement errors.\n",
        "\n",
        "- **Uniform Distribution**:\n",
        "  - All outcomes are equally likely within a certain range. It can be discrete (finite number of outcomes) or continuous (any value within a range).\n",
        "  - Example: Rolling a fair die, random selection of numbers between 0 and 1.\n",
        "\n",
        "- **Exponential Distribution**:\n",
        "  - Represents the time between events in a Poisson process. It is often used to model waiting times.\n",
        "  - Example: Time until the next phone call at a call center.\n",
        "\n",
        "- **Gamma Distribution**:\n",
        "  - A two-parameter family of continuous distributions that generalizes the exponential distribution. It is often used to model waiting times.\n",
        "  - Example: Waiting times for multiple events to occur.\n",
        "\n",
        "- **Beta Distribution**:\n",
        "  - A family of distributions defined on the interval [0, 1]. It is often used to model random variables that represent proportions or probabilities.\n",
        "  - Example: Modeling the distribution of probabilities in Bayesian statistics.\n",
        "\n",
        "- **Chi-Squared Distribution**:\n",
        "  - A distribution that arises in the context of hypothesis testing, especially in tests of independence and goodness of fit.\n",
        "  - Example: Variance estimation.\n",
        "\n",
        "- **Student's t-Distribution**:\n",
        "  - A distribution used in statistics for estimating population parameters when the sample size is small and the population standard deviation is unknown.\n",
        "  - Example: Hypothesis testing with small sample sizes.\n",
        "\n"
      ],
      "metadata": {
        "id": "ERbDhDHPE5iV"
      }
    },
    {
      "cell_type": "markdown",
      "source": [
        "# Q3. Write a Python function to calculate the probability density function of a normal distribution with given mean and standard deviation at a given point."
      ],
      "metadata": {
        "id": "v46WeaDsE7cW"
      }
    },
    {
      "cell_type": "markdown",
      "source": [
        "You can calculate the Probability Density Function (PDF) of a normal distribution using the following formula:\n",
        "\n",
        "\\[\n",
        "f(x) = \\frac{1}{\\sigma \\sqrt{2\\pi}} e^{-\\frac{(x - \\mu)^2}{2\\sigma^2}}\n",
        "\\]\n",
        "\n",
        "Where:\n",
        "- \\( \\mu \\) is the mean of the distribution.\n",
        "- \\( \\sigma \\) is the standard deviation of the distribution.\n",
        "- \\( x \\) is the point at which you want to calculate the PDF.\n",
        "\n",
        "Here’s a Python function that implements this formula:\n",
        "\n",
        "```python\n",
        "import numpy as np\n",
        "\n",
        "def normal_pdf(x, mean, std_dev):\n",
        "    \"\"\"Calculate the PDF of a normal distribution at a given point.\n",
        "    \n",
        "    Args:\n",
        "        x (float): The point at which to calculate the PDF.\n",
        "        mean (float): The mean of the normal distribution.\n",
        "        std_dev (float): The standard deviation of the normal distribution.\n",
        "    \n",
        "    Returns:\n",
        "        float: The value of the PDF at the given point.\n",
        "    \"\"\"\n",
        "    coefficient = 1 / (std_dev * np.sqrt(2 * np.pi))\n",
        "    exponent = np.exp(-((x - mean) ** 2) / (2 * std_dev ** 2))\n",
        "    return coefficient * exponent\n",
        "\n",
        "# Example usage\n",
        "mean = 0\n",
        "std_dev = 1\n",
        "point = 1.0\n",
        "pdf_value = normal_pdf(point, mean, std_dev)\n",
        "print(f\"The PDF of the normal distribution at x={point} (mean={mean}, std_dev={std_dev}) is: {pdf_value}\")\n",
        "```\n",
        "\n",
        "### Explanation of the Code:\n",
        "1. **Importing Libraries**: The `numpy` library is imported for mathematical operations like square root and exponential functions.\n",
        "2. **Function Definition**: The function `normal_pdf` takes three parameters: `x`, `mean`, and `std_dev`.\n",
        "3. **Coefficient Calculation**: The coefficient is calculated using the formula \\( \\frac{1}{\\sigma \\sqrt{2\\pi}} \\).\n",
        "4. **Exponent Calculation**: The exponent is computed using the formula \\( e^{-\\frac{(x - \\mu)^2}{2\\sigma^2}} \\).\n",
        "5. **Return Value**: The PDF value is calculated and returned.\n",
        "6. **Example Usage**: The function is called with an example mean, standard deviation, and point to demonstrate its functionality. The result is printed to the console.\n",
        "\n",
        "You can modify the `mean`, `std_dev`, and `point` variables to calculate the PDF for different normal distributions and points."
      ],
      "metadata": {
        "id": "WRkXVBnsFCwt"
      }
    },
    {
      "cell_type": "code",
      "execution_count": 1,
      "metadata": {
        "colab": {
          "base_uri": "https://localhost:8080/"
        },
        "id": "fkxBAAfMEDRy",
        "outputId": "5ccdaf34-dc9d-4b51-9466-2efb7e10a5f5"
      },
      "outputs": [
        {
          "output_type": "stream",
          "name": "stdout",
          "text": [
            "The PDF of the normal distribution at x=1.0 (mean=0, std_dev=1) is: 0.24197072451914337\n"
          ]
        }
      ],
      "source": [
        "import numpy as np\n",
        "\n",
        "def normal_pdf(x, mean, std_dev):\n",
        "    \"\"\"Calculate the PDF of a normal distribution at a given point.\n",
        "\n",
        "    Args:\n",
        "        x (float): The point at which to calculate the PDF.\n",
        "        mean (float): The mean of the normal distribution.\n",
        "        std_dev (float): The standard deviation of the normal distribution.\n",
        "\n",
        "    Returns:\n",
        "        float: The value of the PDF at the given point.\n",
        "    \"\"\"\n",
        "    coefficient = 1 / (std_dev * np.sqrt(2 * np.pi))\n",
        "    exponent = np.exp(-((x - mean) ** 2) / (2 * std_dev ** 2))\n",
        "    return coefficient * exponent\n",
        "\n",
        "# Example usage\n",
        "mean = 0\n",
        "std_dev = 1\n",
        "point = 1.0\n",
        "pdf_value = normal_pdf(point, mean, std_dev)\n",
        "print(f\"The PDF of the normal distribution at x={point} (mean={mean}, std_dev={std_dev}) is: {pdf_value}\")\n"
      ]
    },
    {
      "cell_type": "markdown",
      "source": [
        "# Q4. What are the properties of Binomial distribution? Give two examples of events where binomial distribution can be applied."
      ],
      "metadata": {
        "id": "Fc84WUyDFMXG"
      }
    },
    {
      "cell_type": "markdown",
      "source": [
        "The **Binomial Distribution** is a discrete probability distribution that describes the number of successes in a fixed number of independent Bernoulli trials, each with the same probability of success. Here are the key properties of the binomial distribution:\n",
        "\n",
        "### Properties of Binomial Distribution\n",
        "\n",
        "1. **Fixed Number of Trials (n)**:\n",
        "   - The number of trials (n) is fixed in advance. Each trial is an independent event.\n",
        "\n",
        "2. **Two Possible Outcomes**:\n",
        "   - Each trial has only two possible outcomes: \"success\" (usually denoted as 1) and \"failure\" (denoted as 0).\n",
        "\n",
        "3. **Constant Probability of Success (p)**:\n",
        "   - The probability of success (p) remains constant for each trial. The probability of failure is \\( q = 1 - p \\).\n",
        "\n",
        "4. **Independence**:\n",
        "   - The trials are independent, meaning the outcome of one trial does not affect the outcome of another.\n",
        "\n",
        "5. **Probability Mass Function (PMF)**:\n",
        "   - The probability of getting exactly \\( k \\) successes in \\( n \\) trials is given by the formula:\n",
        "     \\[\n",
        "     P(X = k) = \\binom{n}{k} p^k (1 - p)^{n - k}\n",
        "     \\]\n",
        "   - Where \\( \\binom{n}{k} \\) is the binomial coefficient, calculated as \\( \\frac{n!}{k!(n - k)!} \\).\n",
        "\n",
        "6. **Mean and Variance**:\n",
        "   - The mean (expected value) of a binomial distribution is given by:\n",
        "     \\[\n",
        "     \\mu = n \\cdot p\n",
        "     \\]\n",
        "   - The variance of a binomial distribution is given by:\n",
        "     \\[\n",
        "     \\sigma^2 = n \\cdot p \\cdot (1 - p)\n",
        "     \\]\n",
        "\n",
        "### Examples of Events Suitable for Binomial Distribution\n",
        "\n",
        "1. **Coin Tossing**:\n",
        "   - Consider an experiment where you toss a fair coin 10 times and want to find the probability of getting exactly 7 heads. In this case:\n",
        "     - Number of trials (n) = 10\n",
        "     - Probability of success (p) = 0.5 (for heads)\n",
        "     - You can apply the binomial distribution to calculate the probability of getting exactly 7 heads.\n",
        "\n",
        "2. **Quality Control in Manufacturing**:\n",
        "   - A factory produces light bulbs, and it is known that 95% of the bulbs pass quality control. If a quality inspector randomly selects 20 bulbs, the inspector might want to determine the probability that exactly 18 of them pass quality control. Here:\n",
        "     - Number of trials (n) = 20 (the number of bulbs tested)\n",
        "     - Probability of success (p) = 0.95 (the probability that a bulb passes quality control)\n",
        "     - The binomial distribution can be used to find the probability of exactly 18 passing bulbs.\n",
        "\n",
        "These examples illustrate how the binomial distribution can be applied in real-world scenarios where there are a fixed number of independent trials, each with the same probability of success."
      ],
      "metadata": {
        "id": "pZKJEXcSFQcu"
      }
    },
    {
      "cell_type": "markdown",
      "source": [
        "# Q5. Generate a random sample of size 1000 from a binomial distribution with probability of success 0.4 and plot a histogram of the results using matplotlib."
      ],
      "metadata": {
        "id": "PyDss19iFSFu"
      }
    },
    {
      "cell_type": "code",
      "source": [
        "import numpy as np\n",
        "import matplotlib.pyplot as plt\n",
        "\n",
        "# Parameters for the binomial distribution\n",
        "n = 10       # Number of trials\n",
        "p = 0.4      # Probability of success\n",
        "sample_size = 1000  # Sample size\n",
        "\n",
        "# Generate random sample from binomial distribution\n",
        "random_sample = np.random.binomial(n, p, sample_size)\n",
        "\n",
        "# Plotting the histogram\n",
        "plt.figure(figsize=(10, 6))\n",
        "plt.hist(random_sample, bins=np.arange(0, n + 1) - 0.5, density=True, alpha=0.7, color='blue', edgecolor='black')\n",
        "plt.title('Histogram of Random Sample from Binomial Distribution')\n",
        "plt.xlabel('Number of Successes')\n",
        "plt.ylabel('Probability Density')\n",
        "plt.xticks(range(n + 1))\n",
        "plt.grid(axis='y')\n",
        "plt.show()\n"
      ],
      "metadata": {
        "colab": {
          "base_uri": "https://localhost:8080/",
          "height": 564
        },
        "id": "xs4Gke9jFGYL",
        "outputId": "2bb8eb22-d499-45af-d1a5-f8018825d005"
      },
      "execution_count": 2,
      "outputs": [
        {
          "output_type": "display_data",
          "data": {
            "text/plain": [
              "<Figure size 1000x600 with 1 Axes>"
            ],
            "image/png": "[encoded data removed]"
          },
          "metadata": {}
        }
      ]
    },
    {
      "cell_type": "markdown",
      "source": [
        "# Q6. Write a Python function to calculate the cumulative distribution function of a Poisson distribution with given mean at a given point."
      ],
      "metadata": {
        "id": "9AKZh_u2FZNp"
      }
    },
    {
      "cell_type": "code",
      "source": [
        "import numpy as np\n",
        "from scipy.special import factorial\n",
        "\n",
        "def poisson_cdf(k, mean):\n",
        "    \"\"\"Calculate the CDF of a Poisson distribution at a given point.\n",
        "\n",
        "    Args:\n",
        "        k (int): The point at which to calculate the CDF.\n",
        "        mean (float): The mean (lambda) of the Poisson distribution.\n",
        "\n",
        "    Returns:\n",
        "        float: The value of the CDF at the given point.\n",
        "    \"\"\"\n",
        "    cdf_value = 0\n",
        "    for x in range(k + 1):\n",
        "        cdf_value += (np.exp(-mean) * (mean ** x)) / factorial(x)\n",
        "    return cdf_value\n",
        "\n",
        "# Example usage\n",
        "mean = 4.0  # Average rate of occurrence\n",
        "point = 3   # Calculate CDF at k = 3\n",
        "cdf_result = poisson_cdf(point, mean)\n",
        "print(f\"The CDF of the Poisson distribution at k={point} (mean={mean}) is: {cdf_result}\")\n"
      ],
      "metadata": {
        "colab": {
          "base_uri": "https://localhost:8080/"
        },
        "id": "Zdxi145fFYV6",
        "outputId": "fcf77cd9-64f1-4647-bb28-cdfdb14be20a"
      },
      "execution_count": 3,
      "outputs": [
        {
          "output_type": "stream",
          "name": "stdout",
          "text": [
            "The CDF of the Poisson distribution at k=3 (mean=4.0) is: 0.43347012036670884\n"
          ]
        }
      ]
    },
    {
      "cell_type": "markdown",
      "source": [
        "# Q7. How Binomial distribution different from Poisson distribution?"
      ],
      "metadata": {
        "id": "50CrFZ3RFjcH"
      }
    },
    {
      "cell_type": "markdown",
      "source": [
        "The **Binomial Distribution** and the **Poisson Distribution** are both discrete probability distributions, but they have different characteristics and are used in different contexts. Here are the key differences between the two:\n",
        "\n",
        "### 1. **Definition**\n",
        "- **Binomial Distribution**:\n",
        "  - It represents the number of successes in a fixed number of independent Bernoulli trials (experiments with two outcomes, such as success or failure).\n",
        "  - Defined by two parameters: \\( n \\) (the number of trials) and \\( p \\) (the probability of success in each trial).\n",
        "\n",
        "- **Poisson Distribution**:\n",
        "  - It models the number of events occurring in a fixed interval of time or space when these events happen with a known constant mean rate and are independent of the time since the last event.\n",
        "  - Defined by one parameter: \\( \\lambda \\) (the average rate of occurrence).\n",
        "\n",
        "### 2. **Parameters**\n",
        "- **Binomial Distribution**:\n",
        "  - Two parameters:\n",
        "    - \\( n \\): The number of trials.\n",
        "    - \\( p \\): The probability of success on each trial.\n",
        "\n",
        "- **Poisson Distribution**:\n",
        "  - One parameter:\n",
        "    - \\( \\lambda \\): The average number of occurrences in the given interval.\n",
        "\n",
        "### 3. **Shape of Distribution**\n",
        "- **Binomial Distribution**:\n",
        "  - Can take various shapes depending on the values of \\( n \\) and \\( p \\):\n",
        "    - Symmetrical when \\( p = 0.5 \\).\n",
        "    - Skewed when \\( p < 0.5 \\) or \\( p > 0.5 \\).\n",
        "\n",
        "- **Poisson Distribution**:\n",
        "  - Typically skewed, especially for smaller values of \\( \\lambda \\).\n",
        "  - Becomes more symmetrical as \\( \\lambda \\) increases.\n",
        "\n",
        "### 4. **Applications**\n",
        "- **Binomial Distribution**:\n",
        "  - Used when the number of trials is fixed and each trial is independent.\n",
        "  - Examples:\n",
        "    - Flipping a coin a certain number of times and counting the number of heads.\n",
        "    - Quality control tests where a fixed number of items are inspected, and we count the number of defective items.\n",
        "\n",
        "- **Poisson Distribution**:\n",
        "  - Used for counting the number of events in a continuous interval of time or space.\n",
        "  - Examples:\n",
        "    - The number of phone calls received by a call center in an hour.\n",
        "    - The number of decay events per unit time from a radioactive source.\n",
        "\n",
        "### 5. **Probability Mass Function (PMF)**\n",
        "- **Binomial Distribution**:\n",
        "  \\[\n",
        "  P(X = k) = \\binom{n}{k} p^k (1 - p)^{n - k}\n",
        "  \\]\n",
        "  Where \\( k \\) is the number of successes in \\( n \\) trials.\n",
        "\n",
        "- **Poisson Distribution**:\n",
        "  \\[\n",
        "  P(X = k) = \\frac{e^{-\\lambda} \\lambda^k}{k!}\n",
        "  \\]\n",
        "  Where \\( k \\) is the number of events, and \\( \\lambda \\) is the average rate of occurrence.\n",
        "\n",
        "### 6. **Limitations**\n",
        "- **Binomial Distribution**:\n",
        "  - Requires a fixed number of trials.\n",
        "  - Requires a constant probability of success across trials.\n",
        "\n",
        "- **Poisson Distribution**:\n",
        "  - Assumes that the average rate of occurrence is constant.\n",
        "  - Does not require a fixed number of trials.\n",
        "\n"
      ],
      "metadata": {
        "id": "X-59YYMBFuk2"
      }
    },
    {
      "cell_type": "markdown",
      "source": [
        "# Q8. Generate a random sample of size 1000 from a Poisson distribution with mean 5 and calculate the sample mean and variance."
      ],
      "metadata": {
        "id": "ppB7bvt4FwgN"
      }
    },
    {
      "cell_type": "code",
      "source": [
        "import numpy as np\n",
        "\n",
        "# Parameters for the Poisson distribution\n",
        "mean = 5      # Mean of the distribution\n",
        "sample_size = 1000  # Size of the random sample\n",
        "\n",
        "# Generate random sample from Poisson distribution\n",
        "random_sample = np.random.poisson(mean, sample_size)\n",
        "\n",
        "# Calculate the sample mean and variance\n",
        "sample_mean = np.mean(random_sample)\n",
        "sample_variance = np.var(random_sample)\n",
        "\n",
        "# Print the results\n",
        "print(f\"Sample Mean: {sample_mean}\")\n",
        "print(f\"Sample Variance: {sample_variance}\")\n"
      ],
      "metadata": {
        "colab": {
          "base_uri": "https://localhost:8080/"
        },
        "id": "zEWGOUigFiY6",
        "outputId": "93d144d7-bb9b-41e7-dcc2-a3efc359e006"
      },
      "execution_count": 4,
      "outputs": [
        {
          "output_type": "stream",
          "name": "stdout",
          "text": [
            "Sample Mean: 4.9\n",
            "Sample Variance: 5.034\n"
          ]
        }
      ]
    },
    {
      "cell_type": "markdown",
      "source": [
        "# Q9. How mean and variance are related in Binomial distribution and Poisson distribution?"
      ],
      "metadata": {
        "id": "T6_KSVagF2we"
      }
    },
    {
      "cell_type": "markdown",
      "source": [
        "In both the **Binomial Distribution** and the **Poisson Distribution**, the mean and variance have specific relationships. Here’s how they are defined and related in each distribution:\n",
        "\n",
        "### 1. **Binomial Distribution**\n",
        "- **Definition**: The Binomial Distribution is defined by two parameters:\n",
        "  - \\( n \\): The number of trials.\n",
        "  - \\( p \\): The probability of success on each trial.\n",
        "\n",
        "- **Mean**:\n",
        "  \\[\n",
        "  \\text{Mean} (\\mu) = n \\cdot p\n",
        "  \\]\n",
        "\n",
        "- **Variance**:\n",
        "  \\[\n",
        "  \\text{Variance} (\\sigma^2) = n \\cdot p \\cdot (1 - p)\n",
        "  \\]\n",
        "\n",
        "- **Relationship**:\n",
        "  - In the Binomial Distribution, the variance depends not only on the number of trials and the probability of success but also on the probability of failure \\( (1 - p) \\).\n",
        "  - Thus, if the probability of success is high (close to 1), the variance will be smaller, indicating that the number of successes will be closer to the mean.\n",
        "\n",
        "### 2. **Poisson Distribution**\n",
        "- **Definition**: The Poisson Distribution is defined by one parameter:\n",
        "  - \\( \\lambda \\): The average rate of occurrence (mean).\n",
        "\n",
        "- **Mean**:\n",
        "  \\[\n",
        "  \\text{Mean} (\\mu) = \\lambda\n",
        "  \\]\n",
        "\n",
        "- **Variance**:\n",
        "  \\[\n",
        "  \\text{Variance} (\\sigma^2) = \\lambda\n",
        "  \\]\n",
        "\n",
        "- **Relationship**:\n",
        "  - In the Poisson Distribution, the mean is equal to the variance. This property is a unique characteristic of the Poisson Distribution.\n",
        "  - It implies that as the average rate of occurrence increases, both the mean and the variance increase proportionally.\n",
        "\n",
        "### Summary of Relationships\n",
        "- **Binomial Distribution**:\n",
        "  - **Mean**: \\( \\mu = n \\cdot p \\)\n",
        "  - **Variance**: \\( \\sigma^2 = n \\cdot p \\cdot (1 - p) \\)\n",
        "\n",
        "- **Poisson Distribution**:\n",
        "  - **Mean**: \\( \\mu = \\lambda \\)\n",
        "  - **Variance**: \\( \\sigma^2 = \\lambda \\)\n",
        "\n",
        "### Implications\n",
        "- **Binomial Distribution**: The variance decreases as the probability of success approaches 1 (and correspondingly increases the probability of failure). The distribution can be more concentrated around the mean as \\( n \\) increases.\n",
        "  \n",
        "- **Poisson Distribution**: The mean and variance are equal, indicating a consistent spread of the data around the mean. The distribution becomes more symmetrical as \\( \\lambda \\) increases.\n",
        "\n",
        "Understanding these relationships is crucial for statistical modeling and inference, as they help in predicting the behavior of random variables governed by these distributions."
      ],
      "metadata": {
        "id": "Qu2lCk4UF8k2"
      }
    },
    {
      "cell_type": "markdown",
      "source": [
        "# Q10. In normal distribution with respect to mean position, where does the least frequent data appear?"
      ],
      "metadata": {
        "id": "E4FS1536F9hX"
      }
    },
    {
      "cell_type": "markdown",
      "source": [
        "In a normal distribution, the data is symmetrically distributed around the mean, which is the central point of the distribution. Here’s how the least frequent data is positioned in relation to the mean:\n",
        "\n",
        "### Key Characteristics of Normal Distribution\n",
        "1. **Mean, Median, and Mode**: In a perfectly normal distribution, the mean, median, and mode are all equal and located at the center of the distribution.\n",
        "\n",
        "2. **Symmetry**: The normal distribution is symmetric about the mean. This means that the left side of the distribution mirrors the right side.\n",
        "\n",
        "3. **Shape**: The distribution has a bell-shaped curve, with the highest frequency of data points (the most frequent data) concentrated around the mean.\n",
        "\n",
        "### Position of Least Frequent Data\n",
        "- The least frequent data points in a normal distribution are located in the **tails** of the distribution, which are the areas farthest from the mean. As you move further away from the mean (in both the positive and negative directions), the frequency of data points decreases.\n",
        "\n",
        "### Visual Representation\n",
        "- In a graphical representation of a normal distribution:\n",
        "  - The peak of the curve (where the highest frequency of data occurs) is at the mean.\n",
        "  - The tails extend towards the left and right ends of the x-axis, where the data points become less frequent.\n",
        "\n",
        "### Summary\n",
        "- **Least Frequent Data**: Located in the tails of the normal distribution, farthest from the mean.\n",
        "- **Most Frequent Data**: Concentrated around the mean.\n",
        "\n",
        "Thus, in a normal distribution, as you move away from the mean toward the extremes (tails), the frequency of data decreases, making the least frequent data appear in these tail regions."
      ],
      "metadata": {
        "id": "5YE4QhopGB4m"
      }
    },
    {
      "cell_type": "code",
      "source": [],
      "metadata": {
        "id": "c5qOGJlcF13_"
      },
      "execution_count": null,
      "outputs": []
    }
  ]
}