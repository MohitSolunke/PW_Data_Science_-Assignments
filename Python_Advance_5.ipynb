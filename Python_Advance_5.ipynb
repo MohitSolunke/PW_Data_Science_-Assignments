{
  "nbformat": 4,
  "nbformat_minor": 0,
  "metadata": {
    "colab": {
      "provenance": []
    },
    "kernelspec": {
      "name": "python3",
      "display_name": "Python 3"
    },
    "language_info": {
      "name": "python"
    }
  },
  "cells": [
    {
      "cell_type": "markdown",
      "source": [
        "# Q1. Calculate the 95% confidence interval for a sample of data with a mean of 50 and a standard deviation of 5 using Python. Interpret the results."
      ],
      "metadata": {
        "id": "wnIqesd1xlSX"
      }
    },
    {
      "cell_type": "code",
      "execution_count": 1,
      "metadata": {
        "colab": {
          "base_uri": "https://localhost:8080/"
        },
        "id": "-60PfzunxfNx",
        "outputId": "af9b455a-5c7a-4f97-c6cf-dbdd345ca47e"
      },
      "outputs": [
        {
          "output_type": "execute_result",
          "data": {
            "text/plain": [
              "(48.210805856282846, 51.789194143717154)"
            ]
          },
          "metadata": {},
          "execution_count": 1
        }
      ],
      "source": [
        "import numpy as np\n",
        "import scipy.stats as stats\n",
        "\n",
        "# Given data\n",
        "mean = 50\n",
        "std_dev = 5\n",
        "n = 30  # Sample size\n",
        "\n",
        "# Z-score for 95% confidence\n",
        "z_score = stats.norm.ppf(0.975)  # for two-tailed test\n",
        "\n",
        "# Standard Error (SE)\n",
        "standard_error = std_dev / np.sqrt(n)\n",
        "\n",
        "# Margin of Error (ME)\n",
        "margin_of_error = z_score * standard_error\n",
        "\n",
        "# Confidence Interval\n",
        "confidence_interval = (mean - margin_of_error, mean + margin_of_error)\n",
        "\n",
        "confidence_interval\n"
      ]
    },
    {
      "cell_type": "markdown",
      "source": [
        "# Q2. Conduct a chi-square goodness of fit test to determine if the distribution of colors of M&Ms in a bag matches the expected distribution of 20% blue, 20% orange, 20% green, 10% yellow, 10% red, and 20% brown. Use Python to perform the test with a significance level of 0.05."
      ],
      "metadata": {
        "id": "vmQnkVIoyI0G"
      }
    },
    {
      "cell_type": "code",
      "source": [
        "import numpy as np\n",
        "import scipy.stats as stats\n",
        "\n",
        "# Observed frequencies\n",
        "observed = np.array([30, 25, 27, 10, 5, 28])\n",
        "\n",
        "# Expected proportions\n",
        "expected_proportions = np.array([0.2, 0.2, 0.2, 0.1, 0.1, 0.2])\n",
        "\n",
        "# Calculate expected frequencies\n",
        "n_total = observed.sum()\n",
        "expected = expected_proportions * n_total\n",
        "\n",
        "# Conduct the chi-square goodness of fit test\n",
        "chi2_stat, p_value = stats.chisquare(observed, expected)\n",
        "\n",
        "# Significance level\n",
        "alpha = 0.05\n",
        "\n",
        "# Print the results\n",
        "print(f\"Chi-square statistic: {chi2_stat:.2f}\")\n",
        "print(f\"P-value: {p_value:.4f}\")\n",
        "\n",
        "# Decision\n",
        "if p_value < alpha:\n",
        "    print(\"Reject the null hypothesis: the distribution of M&Ms colors does not match the expected distribution.\")\n",
        "else:\n",
        "    print(\"Fail to reject the null hypothesis: the distribution of M&Ms colors matches the expected distribution.\")\n"
      ],
      "metadata": {
        "colab": {
          "base_uri": "https://localhost:8080/"
        },
        "id": "YmxJRMVCyFO7",
        "outputId": "168ac60d-56ba-4940-a99c-a10d2b9e1ea9"
      },
      "execution_count": 2,
      "outputs": [
        {
          "output_type": "stream",
          "name": "stdout",
          "text": [
            "Chi-square statistic: 6.52\n",
            "P-value: 0.2589\n",
            "Fail to reject the null hypothesis: the distribution of M&Ms colors matches the expected distribution.\n"
          ]
        }
      ]
    },
    {
      "cell_type": "markdown",
      "source": [
        "# Q3. Use Python to calculate the chi-square statistic and p-value for a contingency table with the following\n",
        "data:"
      ],
      "metadata": {
        "id": "_OiqvgE8yicd"
      }
    },
    {
      "cell_type": "code",
      "source": [
        "import numpy as np\n",
        "import scipy.stats as stats\n",
        "\n",
        "# Define the contingency table\n",
        "data = np.array([[20, 15],\n",
        "                 [10, 25],\n",
        "                 [15, 20]])\n",
        "\n",
        "# Perform the chi-square test\n",
        "chi2_stat, p_value, _, _ = stats.chi2_contingency(data)\n",
        "\n",
        "# Print the results\n",
        "print(f\"Chi-square statistic: {chi2_stat:.2f}\")\n",
        "print(f\"P-value: {p_value:.4f}\")\n"
      ],
      "metadata": {
        "colab": {
          "base_uri": "https://localhost:8080/"
        },
        "id": "NxD7tveiyP3L",
        "outputId": "63ab40d1-22ac-422f-e882-632611765960"
      },
      "execution_count": 3,
      "outputs": [
        {
          "output_type": "stream",
          "name": "stdout",
          "text": [
            "Chi-square statistic: 5.83\n",
            "P-value: 0.0541\n"
          ]
        }
      ]
    },
    {
      "cell_type": "markdown",
      "source": [
        "# Q4. A study of the prevalence of smoking in a population of 500 individuals found that 60 individuals smoked. Use Python to calculate the 95% confidence interval for the true proportion of individuals in the population who smoke."
      ],
      "metadata": {
        "id": "Ei_sUL6oymo8"
      }
    },
    {
      "cell_type": "code",
      "source": [
        "import numpy as np\n",
        "import scipy.stats as stats\n",
        "\n",
        "# Given data\n",
        "n = 500  # total individuals\n",
        "x = 60   # individuals who smoke\n",
        "\n",
        "# Sample proportion\n",
        "p_hat = x / n\n",
        "\n",
        "# Z-score for 95% confidence\n",
        "z = stats.norm.ppf(0.975)  # two-tailed, so we use 0.975\n",
        "\n",
        "# Standard error\n",
        "se = np.sqrt(p_hat * (1 - p_hat) / n)\n",
        "\n",
        "# Confidence interval\n",
        "ci_lower = p_hat - z * se\n",
        "ci_upper = p_hat + z * se\n",
        "\n",
        "# Print results\n",
        "print(f\"Sample Proportion (p_hat): {p_hat:.4f}\")\n",
        "print(f\"95% Confidence Interval: [{ci_lower:.4f}, {ci_upper:.4f}]\")\n"
      ],
      "metadata": {
        "colab": {
          "base_uri": "https://localhost:8080/"
        },
        "id": "b12M0mk7ylQS",
        "outputId": "8108797b-e1f1-4079-d451-a4fc10ee51da"
      },
      "execution_count": 4,
      "outputs": [
        {
          "output_type": "stream",
          "name": "stdout",
          "text": [
            "Sample Proportion (p_hat): 0.1200\n",
            "95% Confidence Interval: [0.0915, 0.1485]\n"
          ]
        }
      ]
    },
    {
      "cell_type": "markdown",
      "source": [
        "# Q5. Calculate the 90% confidence interval for a sample of data with a mean of 75 and a standard deviation of 12 using Python. Interpret the results."
      ],
      "metadata": {
        "id": "h6O5cyRFyy3V"
      }
    },
    {
      "cell_type": "code",
      "source": [
        "import numpy as np\n",
        "import scipy.stats as stats\n",
        "\n",
        "# Given data\n",
        "mean = 75           # sample mean\n",
        "std_dev = 12       # sample standard deviation\n",
        "n = 30              # sample size\n",
        "\n",
        "# Z-score for 90% confidence\n",
        "z = stats.norm.ppf(0.95)  # for one-tailed, use 0.95\n",
        "\n",
        "# Standard error\n",
        "se = std_dev / np.sqrt(n)\n",
        "\n",
        "# Confidence interval\n",
        "ci_lower = mean - z * se\n",
        "ci_upper = mean + z * se\n",
        "\n",
        "# Print results\n",
        "print(f\"Mean: {mean}\")\n",
        "print(f\"90% Confidence Interval: [{ci_lower:.4f}, {ci_upper:.4f}]\")\n"
      ],
      "metadata": {
        "colab": {
          "base_uri": "https://localhost:8080/"
        },
        "id": "gxHnUPi8yvaW",
        "outputId": "877836ae-1501-4f88-d205-5f7776c8862b"
      },
      "execution_count": 5,
      "outputs": [
        {
          "output_type": "stream",
          "name": "stdout",
          "text": [
            "Mean: 75\n",
            "90% Confidence Interval: [71.3963, 78.6037]\n"
          ]
        }
      ]
    },
    {
      "cell_type": "markdown",
      "source": [
        "# Q6. Use Python to plot the chi-square distribution with 10 degrees of freedom. Label the axes and shade the area corresponding to a chi-square statistic of 15."
      ],
      "metadata": {
        "id": "VUlC3NM_y4bP"
      }
    },
    {
      "cell_type": "code",
      "source": [
        "import numpy as np\n",
        "import matplotlib.pyplot as plt\n",
        "import scipy.stats as stats\n",
        "\n",
        "# Parameters\n",
        "df = 10  # degrees of freedom\n",
        "chi_square_value = 15\n",
        "\n",
        "# Create an array of x values for the chi-square distribution\n",
        "x = np.linspace(0, 30, 1000)\n",
        "y = stats.chi2.pdf(x, df)\n",
        "\n",
        "# Create the plot\n",
        "plt.figure(figsize=(10, 6))\n",
        "plt.plot(x, y, label=f'Chi-Square Distribution (df={df})', color='blue')\n",
        "plt.fill_between(x, y, where=(x >= chi_square_value), color='lightblue', alpha=0.5, label=f'Shaded Area for Chi-Square > {chi_square_value}')\n",
        "\n",
        "# Add vertical line for the chi-square statistic\n",
        "plt.axvline(chi_square_value, color='red', linestyle='--', label=f'Chi-Square Statistic = {chi_square_value}')\n",
        "\n",
        "# Labeling the axes\n",
        "plt.title('Chi-Square Distribution with 10 Degrees of Freedom')\n",
        "plt.xlabel('Chi-Square Value')\n",
        "plt.ylabel('Probability Density Function')\n",
        "plt.legend()\n",
        "plt.grid()\n",
        "\n",
        "# Show the plot\n",
        "plt.show()\n"
      ],
      "metadata": {
        "colab": {
          "base_uri": "https://localhost:8080/",
          "height": 564
        },
        "id": "CaOH16Gty2QT",
        "outputId": "a79940bf-6853-4801-baa4-2cbc187e9a37"
      },
      "execution_count": 6,
      "outputs": [
        {
          "output_type": "display_data",
          "data": {
            "text/plain": [
              "<Figure size 1000x600 with 1 Axes>"
            ],
            "image/png": "[encoded data removed]"
          },
          "metadata": {}
        }
      ]
    },
    {
      "cell_type": "markdown",
      "source": [
        "# Q7. A random sample of 1000 people was asked if they preferred Coke or Pepsi. Of the sample, 520 preferred Coke. Calculate a 99% confidence interval for the true proportion of people in the population who prefer Coke."
      ],
      "metadata": {
        "id": "chc_29iUy-Fc"
      }
    },
    {
      "cell_type": "code",
      "source": [
        "import numpy as np\n",
        "import scipy.stats as stats\n",
        "\n",
        "# Sample data\n",
        "n = 1000  # Sample size\n",
        "x = 520   # Number of people who prefer Coke\n",
        "p_hat = x / n  # Sample proportion\n",
        "\n",
        "# Confidence level\n",
        "confidence_level = 0.99\n",
        "z_score = stats.norm.ppf((1 + confidence_level) / 2)  # Z-score for 99% CI\n",
        "\n",
        "# Standard error\n",
        "se = np.sqrt((p_hat * (1 - p_hat)) / n)\n",
        "\n",
        "# Margin of error\n",
        "margin_of_error = z_score * se\n",
        "\n",
        "# Confidence interval\n",
        "ci_lower = p_hat - margin_of_error\n",
        "ci_upper = p_hat + margin_of_error\n",
        "\n",
        "print(f\"99% Confidence Interval for the proportion of people who prefer Coke: ({ci_lower:.4f}, {ci_upper:.4f})\")\n"
      ],
      "metadata": {
        "colab": {
          "base_uri": "https://localhost:8080/"
        },
        "id": "PJWAbclpy7H2",
        "outputId": "db96f690-1d23-4325-f56b-661b41f2752f"
      },
      "execution_count": 7,
      "outputs": [
        {
          "output_type": "stream",
          "name": "stdout",
          "text": [
            "99% Confidence Interval for the proportion of people who prefer Coke: (0.4793, 0.5607)\n"
          ]
        }
      ]
    },
    {
      "cell_type": "markdown",
      "source": [
        "# Q8. A researcher hypothesizes that a coin is biased towards tails. They flip the coin 100 times and observe\n",
        "45 tails. Conduct a chi-square goodness of fit test to determine if the observed frequencies match the\n",
        "expected frequencies of a fair coin. Use a significance level of 0.05."
      ],
      "metadata": {
        "id": "_amhS27OzF2E"
      }
    },
    {
      "cell_type": "code",
      "source": [
        "import numpy as np\n",
        "import scipy.stats as stats\n",
        "\n",
        "# Observed frequencies\n",
        "observed = np.array([55, 45])  # 55 heads, 45 tails\n",
        "\n",
        "# Expected frequencies for a fair coin\n",
        "expected = np.array([50, 50])  # 50 heads, 50 tails\n",
        "\n",
        "# Calculate the Chi-square statistic\n",
        "chi_square_statistic = np.sum((observed - expected)**2 / expected)\n",
        "\n",
        "# Calculate the degrees of freedom\n",
        "df = len(observed) - 1\n",
        "\n",
        "# Determine the p-value\n",
        "p_value = 1 - stats.chi2.cdf(chi_square_statistic, df)\n",
        "\n",
        "# Significance level\n",
        "alpha = 0.05\n",
        "\n",
        "# Critical value from Chi-square distribution\n",
        "critical_value = stats.chi2.ppf(1 - alpha, df)\n",
        "\n",
        "# Results\n",
        "print(f\"Chi-square Statistic: {chi_square_statistic:.4f}\")\n",
        "print(f\"Degrees of Freedom: {df}\")\n",
        "print(f\"Critical Value at alpha={alpha}: {critical_value:.4f}\")\n",
        "print(f\"P-Value: {p_value:.4f}\")\n",
        "\n",
        "# Decision\n",
        "if chi_square_statistic > critical_value:\n",
        "    print(\"Reject the null hypothesis: The coin is biased towards tails.\")\n",
        "else:\n",
        "    print(\"Fail to reject the null hypothesis: No evidence that the coin is biased.\")\n"
      ],
      "metadata": {
        "colab": {
          "base_uri": "https://localhost:8080/"
        },
        "id": "8vfYNKCazCaR",
        "outputId": "80d8c629-dcd4-4541-9c66-ff812eada632"
      },
      "execution_count": 8,
      "outputs": [
        {
          "output_type": "stream",
          "name": "stdout",
          "text": [
            "Chi-square Statistic: 1.0000\n",
            "Degrees of Freedom: 1\n",
            "Critical Value at alpha=0.05: 3.8415\n",
            "P-Value: 0.3173\n",
            "Fail to reject the null hypothesis: No evidence that the coin is biased.\n"
          ]
        }
      ]
    },
    {
      "cell_type": "markdown",
      "source": [
        "# Q9. A study was conducted to determine if there is an association between smoking status (smoker or non-smoker) and lung cancer diagnosis (yes or no). The results are shown in the contingency table below. Conduct a chi-square test for independence to determine if there is a significant association between smoking status and lung cancer diagnosis."
      ],
      "metadata": {
        "id": "BDZiRkKSzJ1k"
      }
    },
    {
      "cell_type": "code",
      "source": [
        "import numpy as np\n",
        "import scipy.stats as stats\n",
        "\n",
        "# Observed frequencies from the contingency table\n",
        "observed = np.array([[60, 140],  # Smoker\n",
        "                     [30, 170]]) # Non-smoker\n",
        "\n",
        "# Perform the chi-square test for independence\n",
        "chi2_statistic, p_value, dof, expected = stats.chi2_contingency(observed)\n",
        "\n",
        "# Significance level\n",
        "alpha = 0.05\n",
        "\n",
        "# Critical value from the chi-square distribution\n",
        "critical_value = stats.chi2.ppf(1 - alpha, dof)\n",
        "\n",
        "# Results\n",
        "print(f\"Chi-square Statistic: {chi2_statistic:.4f}\")\n",
        "print(f\"Degrees of Freedom: {dof}\")\n",
        "print(f\"Critical Value at alpha={alpha}: {critical_value:.4f}\")\n",
        "print(f\"P-Value: {p_value:.4f}\")\n",
        "print(\"Expected Frequencies:\")\n",
        "print(expected)\n",
        "\n",
        "# Decision\n",
        "if chi2_statistic > critical_value:\n",
        "    print(\"Reject the null hypothesis: There is a significant association between smoking status and lung cancer diagnosis.\")\n",
        "else:\n",
        "    print(\"Fail to reject the null hypothesis: No significant association between smoking status and lung cancer diagnosis.\")\n"
      ],
      "metadata": {
        "colab": {
          "base_uri": "https://localhost:8080/"
        },
        "id": "-xDUGbW-zJD6",
        "outputId": "f2067bb5-c09a-4ed5-b6e6-eb261688446a"
      },
      "execution_count": 9,
      "outputs": [
        {
          "output_type": "stream",
          "name": "stdout",
          "text": [
            "Chi-square Statistic: 12.0573\n",
            "Degrees of Freedom: 1\n",
            "Critical Value at alpha=0.05: 3.8415\n",
            "P-Value: 0.0005\n",
            "Expected Frequencies:\n",
            "[[ 45. 155.]\n",
            " [ 45. 155.]]\n",
            "Reject the null hypothesis: There is a significant association between smoking status and lung cancer diagnosis.\n"
          ]
        }
      ]
    },
    {
      "cell_type": "markdown",
      "source": [
        "# Q10. A study was conducted to determine if the proportion of people who prefer milk chocolate, dark chocolate, or white chocolate is different in the U.S. versus the U.K. A random sample of 500 people from the U.S. and a random sample of 500 people from the U.K. were surveyed. The results are shown in the contingency table below. Conduct a chi-square test for independence to determine if there is a significant association between chocolate preference and country of origin."
      ],
      "metadata": {
        "id": "6Svyz7MYzZkF"
      }
    },
    {
      "cell_type": "code",
      "source": [
        "import numpy as np\n",
        "import scipy.stats as stats\n",
        "\n",
        "# Observed frequencies from the contingency table\n",
        "observed = np.array([[200, 225],  # Milk Chocolate\n",
        "                     [150, 175],  # Dark Chocolate\n",
        "                     [150, 100]])  # White Chocolate\n",
        "\n",
        "# Perform the chi-square test for independence\n",
        "chi2_statistic, p_value, dof, expected = stats.chi2_contingency(observed)\n",
        "\n",
        "# Significance level\n",
        "alpha = 0.01\n",
        "\n",
        "# Critical value from the chi-square distribution\n",
        "critical_value = stats.chi2.ppf(1 - alpha, dof)\n",
        "\n",
        "# Results\n",
        "print(f\"Chi-square Statistic: {chi2_statistic:.4f}\")\n",
        "print(f\"Degrees of Freedom: {dof}\")\n",
        "print(f\"Critical Value at alpha={alpha}: {critical_value:.4f}\")\n",
        "print(f\"P-Value: {p_value:.4f}\")\n",
        "print(\"Expected Frequencies:\")\n",
        "print(expected)\n",
        "\n",
        "# Decision\n",
        "if chi2_statistic > critical_value:\n",
        "    print(\"Reject the null hypothesis: There is a significant association between chocolate preference and country of origin.\")\n",
        "else:\n",
        "    print(\"Fail to reject the null hypothesis: No significant association between chocolate preference and country of origin.\")\n"
      ],
      "metadata": {
        "colab": {
          "base_uri": "https://localhost:8080/"
        },
        "id": "LlV4_09VzYw2",
        "outputId": "957e51d9-5803-49b0-de5c-b7e5952a0fb5"
      },
      "execution_count": 10,
      "outputs": [
        {
          "output_type": "stream",
          "name": "stdout",
          "text": [
            "Chi-square Statistic: 13.3937\n",
            "Degrees of Freedom: 2\n",
            "Critical Value at alpha=0.01: 9.2103\n",
            "P-Value: 0.0012\n",
            "Expected Frequencies:\n",
            "[[212.5 212.5]\n",
            " [162.5 162.5]\n",
            " [125.  125. ]]\n",
            "Reject the null hypothesis: There is a significant association between chocolate preference and country of origin.\n"
          ]
        }
      ]
    },
    {
      "cell_type": "markdown",
      "source": [
        "# Q11. A random sample of 30 people was selected from a population with an unknown mean and standard deviation. The sample mean was found to be 72 and the sample standard deviation was found to be 10. Conduct a hypothesis test to determine if the population mean is significantly different from 70. Use a significance level of 0.05."
      ],
      "metadata": {
        "id": "cwYQ5efbzxiG"
      }
    },
    {
      "cell_type": "code",
      "source": [
        "import numpy as np\n",
        "import scipy.stats as stats\n",
        "\n",
        "# Given data\n",
        "sample_mean = 72\n",
        "hypothesized_mean = 70\n",
        "sample_std = 10\n",
        "sample_size = 30\n",
        "alpha = 0.05\n",
        "\n",
        "# Calculate the t-statistic\n",
        "t_statistic = (sample_mean - hypothesized_mean) / (sample_std / np.sqrt(sample_size))\n",
        "\n",
        "# Degrees of freedom\n",
        "df = sample_size - 1\n",
        "\n",
        "# Critical t-value for two-tailed test\n",
        "critical_t = stats.t.ppf(1 - alpha/2, df)\n",
        "\n",
        "# Calculate the p-value\n",
        "p_value = 2 * (1 - stats.t.cdf(abs(t_statistic), df))\n",
        "\n",
        "# Results\n",
        "print(f\"T-statistic: {t_statistic:.4f}\")\n",
        "print(f\"Critical t-value: {critical_t:.4f}\")\n",
        "print(f\"P-value: {p_value:.4f}\")\n",
        "\n",
        "# Decision\n",
        "if abs(t_statistic) > critical_t:\n",
        "    print(\"Reject the null hypothesis: There is a significant difference from the population mean of 70.\")\n",
        "else:\n",
        "    print(\"Fail to reject the null hypothesis: There is no significant difference from the population mean of 70.\")\n"
      ],
      "metadata": {
        "colab": {
          "base_uri": "https://localhost:8080/"
        },
        "id": "7iQXs0kvzusQ",
        "outputId": "0a2b27cf-8eae-4878-8265-5d2f83643c5c"
      },
      "execution_count": 11,
      "outputs": [
        {
          "output_type": "stream",
          "name": "stdout",
          "text": [
            "T-statistic: 1.0954\n",
            "Critical t-value: 2.0452\n",
            "P-value: 0.2823\n",
            "Fail to reject the null hypothesis: There is no significant difference from the population mean of 70.\n"
          ]
        }
      ]
    },
    {
      "cell_type": "code",
      "source": [],
      "metadata": {
        "id": "uNLWqyduz2EF"
      },
      "execution_count": null,
      "outputs": []
    }
  ]
}