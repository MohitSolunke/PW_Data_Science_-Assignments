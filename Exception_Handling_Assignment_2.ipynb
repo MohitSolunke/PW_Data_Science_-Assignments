{
  "nbformat": 4,
  "nbformat_minor": 0,
  "metadata": {
    "colab": {
      "provenance": []
    },
    "kernelspec": {
      "name": "python3",
      "display_name": "Python 3"
    },
    "language_info": {
      "name": "python"
    }
  },
  "cells": [
    {
      "cell_type": "markdown",
      "source": [
        "# Q1. Explain why we have to use the Exception class while creating a Custom Exception."
      ],
      "metadata": {
        "id": "MmVLj_rAWYtX"
      }
    },
    {
      "cell_type": "markdown",
      "source": [
        "When creating a custom exception in Python, inheriting from the built-in Exception class (or one of its subclasses) is essential for several reasons:\n",
        "\n",
        "1. Standardized Behavior\n",
        "By inheriting from the Exception class, your custom exception will have the standard behavior associated with exceptions in Python. This includes the ability to be raised and caught using try and except blocks, just like built-in exceptions.\n",
        "2. Integration with Python's Exception Handling Mechanism\n",
        "The Exception class integrates seamlessly with Python's built-in exception handling system. This means that your custom exceptions can be caught, raised, and managed using the same try, except, and finally structures used for built-in exceptions.\n",
        "3. Compatibility with Exception Hierarchy\n",
        "Inheriting from Exception allows your custom exception to participate in the exception hierarchy, which is essential for proper error handling. This way, you can catch your custom exceptions specifically or handle broader categories of exceptions using parent classes.\n",
        "4. Custom Error Messages\n",
        "By inheriting from Exception, you can define custom error messages in your custom exception class. This feature allows for better communication of what went wrong, improving the overall usability and maintainability of the code.\n",
        "5. Consistency and Clarity\n",
        "Using the Exception class provides a consistent way to define errors. Other developers (or even you in the future) will recognize your custom exceptions as valid exceptions, making the code clearer and more understandable."
      ],
      "metadata": {
        "id": "-h2cQOgIWkJ2"
      }
    },
    {
      "cell_type": "markdown",
      "source": [
        "# Q2. Write a python program to print Python Exception Hierarchy."
      ],
      "metadata": {
        "id": "PBttpIFrWoZ1"
      }
    },
    {
      "cell_type": "code",
      "source": [
        "import builtins\n",
        "\n",
        "def print_exception_hierarchy(exception_class, level=0):\n",
        "    print(' ' * level * 4 + str(exception_class.__name__))\n",
        "    for subclass in exception_class.__subclasses__():\n",
        "        print_exception_hierarchy(subclass, level + 1)\n",
        "\n",
        "print(\"Python Exception Hierarchy:\")\n",
        "print_exception_hierarchy(builtins.BaseException)\n"
      ],
      "metadata": {
        "colab": {
          "base_uri": "https://localhost:8080/"
        },
        "id": "XzPuyulLWoLU",
        "outputId": "1de93423-a4de-4105-a861-2d0502d37683"
      },
      "execution_count": 1,
      "outputs": [
        {
          "output_type": "stream",
          "name": "stdout",
          "text": [
            "Python Exception Hierarchy:\n",
            "BaseException\n",
            "    Exception\n",
            "        TypeError\n",
            "            MultipartConversionError\n",
            "            FloatOperation\n",
            "            DTypePromotionError\n",
            "            UFuncTypeError\n",
            "                UFuncTypeError\n",
            "                    UFuncTypeError\n",
            "                UFuncTypeError\n",
            "                    UFuncTypeError\n",
            "                    UFuncTypeError\n",
            "            ConversionError\n",
            "        StopAsyncIteration\n",
            "        StopIteration\n",
            "        ImportError\n",
            "            ModuleNotFoundError\n",
            "                PackageNotFoundError\n",
            "            ZipImportError\n",
            "        OSError\n",
            "            ConnectionError\n",
            "                BrokenPipeError\n",
            "                ConnectionAbortedError\n",
            "                ConnectionRefusedError\n",
            "                ConnectionResetError\n",
            "                    RemoteDisconnected\n",
            "            BlockingIOError\n",
            "            ChildProcessError\n",
            "            FileExistsError\n",
            "            FileNotFoundError\n",
            "                ExecutableNotFoundError\n",
            "            IsADirectoryError\n",
            "            NotADirectoryError\n",
            "            InterruptedError\n",
            "                InterruptedSystemCall\n",
            "            PermissionError\n",
            "            ProcessLookupError\n",
            "            TimeoutError\n",
            "            UnsupportedOperation\n",
            "            itimer_error\n",
            "            Error\n",
            "                SameFileError\n",
            "            SpecialFileError\n",
            "            ExecError\n",
            "            ReadError\n",
            "            herror\n",
            "            gaierror\n",
            "            SSLError\n",
            "                SSLCertVerificationError\n",
            "                SSLZeroReturnError\n",
            "                SSLWantWriteError\n",
            "                SSLWantReadError\n",
            "                SSLSyscallError\n",
            "                SSLEOFError\n",
            "            URLError\n",
            "                HTTPError\n",
            "                ContentTooShortError\n",
            "            UnidentifiedImageError\n",
            "            BadGzipFile\n",
            "            ProxyError\n",
            "                GeneralProxyError\n",
            "                ProxyConnectionError\n",
            "                SOCKS5AuthError\n",
            "                SOCKS5Error\n",
            "                SOCKS4Error\n",
            "                HTTPError\n",
            "        EOFError\n",
            "            IncompleteReadError\n",
            "        RuntimeError\n",
            "            RecursionError\n",
            "            NotImplementedError\n",
            "                StdinNotImplementedError\n",
            "                ZMQVersionError\n",
            "            _DeadlockError\n",
            "            BrokenBarrierError\n",
            "            BrokenExecutor\n",
            "                BrokenThreadPool\n",
            "            SendfileNotAvailableError\n",
            "            RemovedCommandError\n",
            "            PackageDiscoveryError\n",
            "            TooHardError\n",
            "            ExtractionError\n",
            "            VariableError\n",
            "        NameError\n",
            "            UnboundLocalError\n",
            "        AttributeError\n",
            "            FrozenInstanceError\n",
            "        SyntaxError\n",
            "            IndentationError\n",
            "                TabError\n",
            "            ParseError\n",
            "        LookupError\n",
            "            IndexError\n",
            "                AxisError\n",
            "                OutOfBounds\n",
            "            KeyError\n",
            "                UnknownBackend\n",
            "                NoSuchKernel\n",
            "            CodecRegistryError\n",
            "        ValueError\n",
            "            UnicodeError\n",
            "                UnicodeEncodeError\n",
            "                UnicodeDecodeError\n",
            "                UnicodeTranslateError\n",
            "            UnsupportedOperation\n",
            "            JSONDecodeError\n",
            "            UnsupportedDigestmodError\n",
            "            Error\n",
            "            IllegalMonthError\n",
            "            IllegalWeekdayError\n",
            "            MessageDefect\n",
            "                NoBoundaryInMultipartDefect\n",
            "                StartBoundaryNotFoundDefect\n",
            "                CloseBoundaryNotFoundDefect\n",
            "                FirstHeaderLineIsContinuationDefect\n",
            "                MisplacedEnvelopeHeaderDefect\n",
            "                MissingHeaderBodySeparatorDefect\n",
            "                MultipartInvariantViolationDefect\n",
            "                InvalidMultipartContentTransferEncodingDefect\n",
            "                UndecodableBytesDefect\n",
            "                InvalidBase64PaddingDefect\n",
            "                InvalidBase64CharactersDefect\n",
            "                InvalidBase64LengthDefect\n",
            "                HeaderDefect\n",
            "                    InvalidHeaderDefect\n",
            "                    HeaderMissingRequiredValue\n",
            "                    NonPrintableDefect\n",
            "                    ObsoleteHeaderDefect\n",
            "                    NonASCIILocalPartDefect\n",
            "                    InvalidDateDefect\n",
            "            ClassNotFound\n",
            "            SSLCertVerificationError\n",
            "            ClipboardEmpty\n",
            "            MacroToEdit\n",
            "            ParserError\n",
            "            UnequalIterablesError\n",
            "            ELFInvalid\n",
            "            InvalidVersion\n",
            "            InvalidName\n",
            "            InvalidWheelFilename\n",
            "            InvalidSdistFilename\n",
            "            InvalidVersion\n",
            "            UnequalIterablesError\n",
            "            ELFInvalid\n",
            "            InvalidName\n",
            "            InvalidWheelFilename\n",
            "            InvalidSdistFilename\n",
            "            InvalidSpecifier\n",
            "            InvalidMarker\n",
            "            UndefinedComparison\n",
            "            UndefinedEnvironmentName\n",
            "            InvalidRequirement\n",
            "                RequirementParseError\n",
            "            DisabledFunctionError\n",
            "            AxisError\n",
            "            LinAlgError\n",
            "            DefusedXmlException\n",
            "                DTDForbidden\n",
            "                EntitiesForbidden\n",
            "                ExternalReferenceForbidden\n",
            "                NotSupportedError\n",
            "            NonIntersectingPathException\n",
            "            InvalidFileException\n",
            "        AssertionError\n",
            "        ArithmeticError\n",
            "            FloatingPointError\n",
            "            OverflowError\n",
            "            ZeroDivisionError\n",
            "                DivisionByZero\n",
            "                DivisionUndefined\n",
            "            DecimalException\n",
            "                Clamped\n",
            "                Rounded\n",
            "                    Underflow\n",
            "                    Overflow\n",
            "                Inexact\n",
            "                    Underflow\n",
            "                    Overflow\n",
            "                Subnormal\n",
            "                    Underflow\n",
            "                DivisionByZero\n",
            "                FloatOperation\n",
            "                InvalidOperation\n",
            "                    ConversionSyntax\n",
            "                    DivisionImpossible\n",
            "                    DivisionUndefined\n",
            "                    InvalidContext\n",
            "        SystemError\n",
            "            CodecRegistryError\n",
            "        ReferenceError\n",
            "        MemoryError\n",
            "            MemoryError\n",
            "        BufferError\n",
            "        Warning\n",
            "            UserWarning\n",
            "                GetPassWarning\n",
            "                FormatterWarning\n",
            "                SetuptoolsWarning\n",
            "                    InformationOnly\n",
            "                    SetuptoolsDeprecationWarning\n",
            "                        _AmbiguousMarker\n",
            "                        _DeprecatedConfig\n",
            "                        DistDeprecationWarning\n",
            "                    _MissingDynamic\n",
            "                    _ExperimentalConfiguration\n",
            "                    _ToolsTypoInMetadata\n",
            "                VisibleDeprecationWarning\n",
            "                RankWarning\n",
            "                ConversionWarning\n",
            "                RankWarning\n",
            "            EncodingWarning\n",
            "            DeprecationWarning\n",
            "                ProvisionalWarning\n",
            "                ModuleDeprecationWarning\n",
            "                MatplotlibDeprecationWarning\n",
            "            PendingDeprecationWarning\n",
            "            SyntaxWarning\n",
            "            RuntimeWarning\n",
            "                ProactorSelectorThreadWarning\n",
            "                UnknownTimezoneWarning\n",
            "                ComplexWarning\n",
            "                DecompressionBombWarning\n",
            "                PEP440Warning\n",
            "            FutureWarning\n",
            "                ProvisionalCompleterWarning\n",
            "                MaskedArrayFutureWarning\n",
            "            ImportWarning\n",
            "            UnicodeWarning\n",
            "            BytesWarning\n",
            "            ResourceWarning\n",
            "            DeprecatedTzFormatWarning\n",
            "            MathTextWarning\n",
            "            PkgResourcesDeprecationWarning\n",
            "        _OptionError\n",
            "        error\n",
            "        Verbose\n",
            "        Error\n",
            "        _Error\n",
            "        SubprocessError\n",
            "            CalledProcessError\n",
            "            TimeoutExpired\n",
            "        Error\n",
            "        TokenError\n",
            "        StopTokenizing\n",
            "        error\n",
            "        LZMAError\n",
            "        RegistryError\n",
            "        _GiveupOnFastCopy\n",
            "        ClassFoundException\n",
            "        EndOfBlock\n",
            "        TraitError\n",
            "        _GiveupOnSendfile\n",
            "        error\n",
            "        PickleError\n",
            "            PicklingError\n",
            "            UnpicklingError\n",
            "        _Stop\n",
            "        Empty\n",
            "        Full\n",
            "        ArgumentError\n",
            "        ArgumentTypeError\n",
            "        ConfigError\n",
            "            ConfigLoaderError\n",
            "                ArgumentError\n",
            "            ConfigFileNotFound\n",
            "        ConfigurableError\n",
            "            MultipleInstanceError\n",
            "        ApplicationError\n",
            "        ErrorDuringImport\n",
            "        BdbQuit\n",
            "        Restart\n",
            "        ExceptionPexpect\n",
            "            EOF\n",
            "            TIMEOUT\n",
            "        error\n",
            "        PtyProcessError\n",
            "        FindCmdError\n",
            "        HomeDirError\n",
            "        ProfileDirError\n",
            "        IPythonCoreError\n",
            "            TryNext\n",
            "            UsageError\n",
            "            StdinNotImplementedError\n",
            "        InputRejected\n",
            "        GetoptError\n",
            "        Incomplete\n",
            "        Error\n",
            "        BadZipFile\n",
            "        LargeZipFile\n",
            "        Error\n",
            "        MessageError\n",
            "            MessageParseError\n",
            "                HeaderParseError\n",
            "                    _InvalidEwError\n",
            "                BoundaryError\n",
            "            MultipartConversionError\n",
            "            CharsetError\n",
            "            HeaderWriteError\n",
            "        OptionError\n",
            "        ErrorToken\n",
            "        PrefilterError\n",
            "        AliasError\n",
            "            InvalidAliasError\n",
            "        Error\n",
            "            InterfaceError\n",
            "            DatabaseError\n",
            "                InternalError\n",
            "                OperationalError\n",
            "                ProgrammingError\n",
            "                IntegrityError\n",
            "                DataError\n",
            "                NotSupportedError\n",
            "        Warning\n",
            "        Error\n",
            "            CancelledError\n",
            "            TimeoutError\n",
            "            InvalidStateError\n",
            "        TimeoutError\n",
            "        InvalidStateError\n",
            "        LimitOverrunError\n",
            "        QueueEmpty\n",
            "        QueueFull\n",
            "        SpaceInInput\n",
            "        DOMException\n",
            "            IndexSizeErr\n",
            "            DomstringSizeErr\n",
            "            HierarchyRequestErr\n",
            "            WrongDocumentErr\n",
            "            InvalidCharacterErr\n",
            "            NoDataAllowedErr\n",
            "            NoModificationAllowedErr\n",
            "            NotFoundErr\n",
            "            NotSupportedErr\n",
            "            InuseAttributeErr\n",
            "            InvalidStateErr\n",
            "            SyntaxErr\n",
            "            InvalidModificationErr\n",
            "            NamespaceErr\n",
            "            InvalidAccessErr\n",
            "            ValidationErr\n",
            "        ValidationError\n",
            "        EditReadOnlyBuffer\n",
            "        _Retry\n",
            "        InvalidLayoutError\n",
            "        HeightIsUnknownError\n",
            "        ExpatError\n",
            "        ParseEscape\n",
            "        HTTPException\n",
            "            NotConnected\n",
            "            InvalidURL\n",
            "            UnknownProtocol\n",
            "            UnknownTransferEncoding\n",
            "            UnimplementedFileMode\n",
            "            IncompleteRead\n",
            "            ImproperConnectionState\n",
            "                CannotSendRequest\n",
            "                CannotSendHeader\n",
            "                ResponseNotReady\n",
            "            BadStatusLine\n",
            "                RemoteDisconnected\n",
            "            LineTooLong\n",
            "        InteractivelyDefined\n",
            "        KillEmbedded\n",
            "        ArgumentError\n",
            "        ZMQBaseError\n",
            "            ZMQError\n",
            "                ContextTerminated\n",
            "                Again\n",
            "                InterruptedSystemCall\n",
            "            ZMQBindError\n",
            "            NotDone\n",
            "        NoIPAddresses\n",
            "        Error\n",
            "            NoSectionError\n",
            "            DuplicateSectionError\n",
            "            DuplicateOptionError\n",
            "            NoOptionError\n",
            "            InterpolationError\n",
            "                InterpolationMissingOptionError\n",
            "                InterpolationSyntaxError\n",
            "                InterpolationDepthError\n",
            "            ParsingError\n",
            "                MissingSectionHeaderError\n",
            "        InvalidPortNumber\n",
            "        DuplicateKernelError\n",
            "        error\n",
            "        ReturnValueIgnoredError\n",
            "        KeyReuseError\n",
            "        UnknownKeyError\n",
            "        LeakedCallbackError\n",
            "        BadYieldError\n",
            "        ReturnValueIgnoredError\n",
            "        Return\n",
            "        QueueEmpty\n",
            "        QueueFull\n",
            "        IPythonError\n",
            "            KernelError\n",
            "                EngineError\n",
            "                NoEnginesRegistered\n",
            "                TaskAborted\n",
            "                TaskTimeout\n",
            "                UnmetDependency\n",
            "                    ImpossibleDependency\n",
            "                        DependencyTimeout\n",
            "                        InvalidDependency\n",
            "                RemoteError\n",
            "                    CompositeError\n",
            "                    AlreadyDisplayedError\n",
            "                TaskRejectError\n",
            "        ProcessError\n",
            "            BufferTooShort\n",
            "            TimeoutError\n",
            "            AuthenticationError\n",
            "        BadEntryPoint\n",
            "        NoSuchEntryPoint\n",
            "        Error\n",
            "            NoSuchProcess\n",
            "                ZombieProcess\n",
            "            AccessDenied\n",
            "            TimeoutExpired\n",
            "        _Ipv6UnsupportedError\n",
            "        LauncherError\n",
            "            ProcessStateError\n",
            "            UnknownStatus\n",
            "            NotRunning\n",
            "        DistutilsError\n",
            "            DistutilsModuleError\n",
            "            DistutilsClassError\n",
            "            DistutilsGetoptError\n",
            "            DistutilsArgError\n",
            "            DistutilsFileError\n",
            "            DistutilsOptionError\n",
            "                InvalidConfigError\n",
            "                RemovedConfigError\n",
            "            DistutilsSetupError\n",
            "            DistutilsPlatformError\n",
            "            DistutilsExecError\n",
            "            DistutilsInternalError\n",
            "            DistutilsTemplateError\n",
            "            DistutilsByteCompileError\n",
            "            RemovedCommandError\n",
            "            PackageDiscoveryError\n",
            "        CCompilerError\n",
            "            PreprocessError\n",
            "            CompileError\n",
            "            LibError\n",
            "            LinkError\n",
            "            UnknownFileError\n",
            "        ParserSyntaxError\n",
            "        TarError\n",
            "            ExtractError\n",
            "            ReadError\n",
            "            CompressionError\n",
            "            StreamError\n",
            "            HeaderError\n",
            "                EmptyHeaderError\n",
            "                TruncatedHeaderError\n",
            "                EOFHeaderError\n",
            "                InvalidHeaderError\n",
            "                SubsequentHeaderError\n",
            "            FilterError\n",
            "                AbsolutePathError\n",
            "                OutsideDestinationError\n",
            "                SpecialFileError\n",
            "                AbsoluteLinkError\n",
            "                LinkOutsideDestinationError\n",
            "        Error\n",
            "            AuthorizationError\n",
            "            RuntimeManagementError\n",
            "            MessageError\n",
            "        WidgetException\n",
            "        JsException\n",
            "        ConverterError\n",
            "            ConverterLockError\n",
            "        MAError\n",
            "            MaskError\n",
            "        FormattedTracebackError\n",
            "        ParseBaseException\n",
            "            ParseException\n",
            "            ParseFatalException\n",
            "                ParseSyntaxException\n",
            "        RecursiveGrammarException\n",
            "        HttpLib2Error\n",
            "            HttpLib2ErrorWithResponse\n",
            "                RedirectMissingLocation\n",
            "                RedirectLimit\n",
            "                FailedToDecompressContent\n",
            "                UnimplementedDigestAuthOptionError\n",
            "                UnimplementedHmacDigestAuthOptionError\n",
            "            MalformedHeader\n",
            "            RelativeURIError\n",
            "            ServerNotFoundError\n",
            "            ProxiesUnavailableError\n",
            "        DecompressionBombError\n",
            "        FFIError\n",
            "        CDefError\n",
            "        VerificationError\n",
            "        VerificationMissing\n",
            "        PkgConfigError\n",
            "        BadRequiredStrength\n",
            "        DuplicateConstraint\n",
            "        DuplicateEditVariable\n",
            "        UnknownConstraint\n",
            "        UnknownEditVariable\n",
            "        UnsatisfiableConstraint\n",
            "        NonGuiException\n",
            "        InvalidIndexError\n",
            "        TerminateTrajectory\n",
            "        NoFreePortFoundError\n",
            "        DebuggerInitializationError\n",
            "        Error\n",
            "            ProtocolError\n",
            "            ResponseError\n",
            "            Fault\n",
            "        ResolutionError\n",
            "            VersionConflict\n",
            "                ContextualVersionConflict\n",
            "            DistributionNotFound\n",
            "            UnknownExtra\n",
            "        _Error\n",
            "        UnableToResolveVariableException\n",
            "        InvalidTypeInArgsException\n",
            "    GeneratorExit\n",
            "    SystemExit\n",
            "    KeyboardInterrupt\n",
            "    CancelledError\n",
            "    AbortThread\n"
          ]
        }
      ]
    },
    {
      "cell_type": "markdown",
      "source": [
        "# Q3. What errors are defined in the ArithmeticError class? Explain any two with an example."
      ],
      "metadata": {
        "id": "sXK9iPPsW2VE"
      }
    },
    {
      "cell_type": "markdown",
      "source": [
        "In Python, ArithmeticError is a built-in exception class that serves as the base class for exceptions that occur for numeric calculations. The main subclasses of ArithmeticError include:\n",
        "\n",
        "ZeroDivisionError: Raised when a division or modulo operation is performed with zero as the divisor.\n",
        "OverflowError: Raised when the result of an arithmetic operation is too large to be represented.\n",
        "FloatingPointError: Raised when a floating-point operation fails.\n",
        "ValueError: Raised when a function receives an argument of the right type but an inappropriate value, particularly in numeric operations.\n",
        "Explanation of ZeroDivisionError and OverflowError\n",
        "1. ZeroDivisionError\n",
        "Description: This error occurs when a number is divided by zero, which is mathematically undefined.\n",
        "\n",
        "Example:"
      ],
      "metadata": {
        "id": "z0ANay4NW8PE"
      }
    },
    {
      "cell_type": "code",
      "execution_count": 2,
      "metadata": {
        "colab": {
          "base_uri": "https://localhost:8080/"
        },
        "id": "9azaYZ1YWMLG",
        "outputId": "a703d28f-14e4-4d56-9e2c-36882613587f"
      },
      "outputs": [
        {
          "output_type": "stream",
          "name": "stdout",
          "text": [
            "ZeroDivisionError: division by zero\n"
          ]
        }
      ],
      "source": [
        "try:\n",
        "    result = 10 / 0\n",
        "except ZeroDivisionError as e:\n",
        "    print(f\"ZeroDivisionError: {e}\")\n"
      ]
    },
    {
      "cell_type": "markdown",
      "source": [
        "2. OverflowError\n",
        "Description: This error is raised when an arithmetic operation exceeds the limits of the number representation. For example, trying to compute a number that is too large for Python to handle."
      ],
      "metadata": {
        "id": "Sypx_26sXIu9"
      }
    },
    {
      "cell_type": "code",
      "source": [
        "import math\n",
        "\n",
        "try:\n",
        "    result = math.exp(1000)  # This can cause an overflow error\n",
        "except OverflowError as e:\n",
        "    print(f\"OverflowError: {e}\")\n"
      ],
      "metadata": {
        "colab": {
          "base_uri": "https://localhost:8080/"
        },
        "id": "kqGzAza3XFVH",
        "outputId": "00827af2-78d6-4a65-b679-790043b3bb67"
      },
      "execution_count": 3,
      "outputs": [
        {
          "output_type": "stream",
          "name": "stdout",
          "text": [
            "OverflowError: math range error\n"
          ]
        }
      ]
    },
    {
      "cell_type": "markdown",
      "source": [
        "# Q4. Why LookupError class is used? Explain with an example KeyError and IndexError."
      ],
      "metadata": {
        "id": "CKd9-w-aXPFc"
      }
    },
    {
      "cell_type": "markdown",
      "source": [
        "In Python, the LookupError class serves as the base class for exceptions raised when a key or index used for lookups is not found. This means it is a superclass for more specific exceptions that arise from operations involving sequences or mappings (like lists, dictionaries, etc.) when the required key or index is unavailable.\n",
        "\n",
        "The two most common subclasses of LookupError are:\n",
        "\n",
        "KeyError: Raised when trying to access a dictionary with a key that does not exist.\n",
        "IndexError: Raised when trying to access an index in a list or tuple that is out of range.\n",
        "Explanation of KeyError and IndexError\n",
        "1. KeyError\n",
        "Description: This error occurs when you attempt to access a dictionary with a key that is not present in that dictionary."
      ],
      "metadata": {
        "id": "fQe0ceUYXmGk"
      }
    },
    {
      "cell_type": "code",
      "source": [
        "my_dict = {'name': 'Alice', 'age': 30}\n",
        "\n",
        "try:\n",
        "    value = my_dict['gender']  # Accessing a non-existing key\n",
        "except KeyError as e:\n",
        "    print(f\"KeyError: {e}\")\n"
      ],
      "metadata": {
        "colab": {
          "base_uri": "https://localhost:8080/"
        },
        "id": "MxMZvVztXKcg",
        "outputId": "22efa8f9-dbe5-4a63-baf9-2c7b48dd64fb"
      },
      "execution_count": 4,
      "outputs": [
        {
          "output_type": "stream",
          "name": "stdout",
          "text": [
            "KeyError: 'gender'\n"
          ]
        }
      ]
    },
    {
      "cell_type": "markdown",
      "source": [
        "2. IndexError\n",
        "Description: This error occurs when you attempt to access an index that is outside the bounds of a list or tuple.\n",
        "\n",
        "Example:"
      ],
      "metadata": {
        "id": "DL9GQjfRXrmU"
      }
    },
    {
      "cell_type": "code",
      "source": [
        "my_list = [1, 2, 3]\n",
        "\n",
        "try:\n",
        "    value = my_list[5]  # Accessing an out-of-range index\n",
        "except IndexError as e:\n",
        "    print(f\"IndexError: {e}\")\n"
      ],
      "metadata": {
        "colab": {
          "base_uri": "https://localhost:8080/"
        },
        "id": "fQp30jgjXoE2",
        "outputId": "41d0d67a-d0e2-463a-ac16-792518428dc7"
      },
      "execution_count": 5,
      "outputs": [
        {
          "output_type": "stream",
          "name": "stdout",
          "text": [
            "IndexError: list index out of range\n"
          ]
        }
      ]
    },
    {
      "cell_type": "markdown",
      "source": [
        "# Q5. Explain ImportError. What is ModuleNotFoundError?"
      ],
      "metadata": {
        "id": "y_s6PDUqXxtc"
      }
    },
    {
      "cell_type": "markdown",
      "source": [
        "ImportError\n",
        "Description: ImportError is an exception raised when an import statement fails to find the specified module or when a module cannot be imported for some reason. This can happen due to various reasons, such as:\n",
        "\n",
        "The module does not exist.\n",
        "The module is not installed.\n",
        "There is a typo in the module name.\n",
        "There is an issue with the module's path"
      ],
      "metadata": {
        "id": "RFTdJ5FSX3Yz"
      }
    },
    {
      "cell_type": "markdown",
      "source": [
        "# Q6. List down some best practices for exception handling in python."
      ],
      "metadata": {
        "id": "Pny3zus3X8Wk"
      }
    },
    {
      "cell_type": "markdown",
      "source": [
        "Here are some best practices for handling exceptions in Python effectively:\n",
        "\n",
        "Use Specific Exceptions:\n",
        "\n",
        "Catch specific exceptions instead of using a broad except Exception: clause. This helps in identifying the exact issue and makes your code easier to debug."
      ],
      "metadata": {
        "id": "FFMKd-l2YCdl"
      }
    },
    {
      "cell_type": "code",
      "source": [
        "try:\n",
        "    value = my_dict['key']\n",
        "except KeyError:\n",
        "    print(\"Key not found!\")\n"
      ],
      "metadata": {
        "colab": {
          "base_uri": "https://localhost:8080/"
        },
        "id": "PWRTp8egXuem",
        "outputId": "a68fcad6-fbea-4bb3-8c2d-6b495c55ae98"
      },
      "execution_count": 6,
      "outputs": [
        {
          "output_type": "stream",
          "name": "stdout",
          "text": [
            "Key not found!\n"
          ]
        }
      ]
    },
    {
      "cell_type": "markdown",
      "source": [
        "Avoid Silent Failures:\n",
        "\n",
        "Don’t suppress exceptions without handling them. Use logging or print statements to ensure that you are aware of issues that arise."
      ],
      "metadata": {
        "id": "MvTFbB5EXxQE"
      }
    },
    {
      "cell_type": "code",
      "source": [
        "try:\n",
        "    file = open('data.txt', 'r')\n",
        "    # Process file\n",
        "except FileNotFoundError:\n",
        "    print(\"File not found.\")\n",
        "finally:\n",
        "    file.close()  # Ensure the file is closed\n"
      ],
      "metadata": {
        "id": "PjZhJDIgYI1S"
      },
      "execution_count": null,
      "outputs": []
    },
    {
      "cell_type": "markdown",
      "source": [
        "Use Specific Exceptions: Catch specific exceptions instead of using a broad except Exception: clause.\n",
        "\n",
        "Avoid Silent Failures: Don’t suppress exceptions without handling them; use logging or print statements to be aware of issues.\n",
        "\n",
        "Use finally for Cleanup: Ensure that code in the finally block executes regardless of whether an exception occurred.\n",
        "\n",
        "Keep Try Blocks Small: Limit the code within try blocks to specific statements that might raise exceptions.\n",
        "\n",
        "Use Custom Exceptions: Define custom exception classes to handle specific error conditions clearly.\n",
        "\n",
        "Avoid Using Exceptions for Control Flow: Do not use exceptions for normal control flow; use conditional checks instead.\n",
        "\n",
        "Log Exceptions: Use logging to record exceptions for later analysis, especially in production environments.\n",
        "\n",
        "Document Exceptions: Document the exceptions that your functions or methods can raise in the docstring.\n",
        "\n",
        "Use Context Managers: Utilize context managers for resource management to ensure proper cleanup and reduce the risk of exceptions.\n",
        "\n",
        "Test Exception Handling: Write tests to ensure that your code handles exceptions as expected.\n",
        "\n",
        "This list serves as a quick reference to ensure effective and robust exception handling in your Python\n"
      ],
      "metadata": {
        "id": "-8_7eaeNYlkt"
      }
    },
    {
      "cell_type": "code",
      "source": [],
      "metadata": {
        "id": "7AYqrvouYRDP"
      },
      "execution_count": null,
      "outputs": []
    }
  ]
}