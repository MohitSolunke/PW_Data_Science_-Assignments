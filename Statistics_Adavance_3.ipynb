{
  "nbformat": 4,
  "nbformat_minor": 0,
  "metadata": {
    "colab": {
      "provenance": []
    },
    "kernelspec": {
      "name": "python3",
      "display_name": "Python 3"
    },
    "language_info": {
      "name": "python"
    }
  },
  "cells": [
    {
      "cell_type": "markdown",
      "source": [
        "# Q1: What is Estimation Statistics? Explain point estimate and interval estimate."
      ],
      "metadata": {
        "id": "ktd1BO70H-5H"
      }
    },
    {
      "cell_type": "markdown",
      "source": [
        "### Estimation Statistics\n",
        "\n",
        "**Estimation statistics** refers to the process of inferring the value of a population parameter based on sample data. This is a crucial aspect of inferential statistics, where researchers aim to estimate characteristics of a larger population using information gathered from a smaller subset (sample).\n",
        "\n",
        "There are two primary types of estimation: **point estimation** and **interval estimation**.\n",
        "\n",
        "---\n",
        "\n",
        "### 1. Point Estimate\n",
        "\n",
        "A **point estimate** is a single value or statistic that serves as the best guess or approximation of an unknown population parameter. This estimate is derived from sample data and can be calculated using various statistics, such as the sample mean or sample proportion.\n",
        "\n",
        "**Example**:\n",
        "- Suppose you want to estimate the average height of adult men in a city. You take a random sample of 100 men and find their average height (sample mean) to be 175 cm. The point estimate of the average height of all adult men in the city is 175 cm.\n",
        "\n",
        "**Key Characteristics**:\n",
        "- **Simplicity**: Point estimates provide a straightforward value, making them easy to understand.\n",
        "- **Lack of Information about Precision**: Point estimates do not indicate how close the estimate is to the true population parameter or the degree of uncertainty involved.\n",
        "\n",
        "---\n",
        "\n",
        "### 2. Interval Estimate\n",
        "\n",
        "An **interval estimate**, on the other hand, provides a range of values within which the population parameter is expected to lie. This range is constructed from the sample data and is often accompanied by a level of confidence, indicating how certain we are that the population parameter falls within that range.\n",
        "\n",
        "**Example**:\n",
        "- Continuing with the height example, after calculating the sample mean, you might also calculate a confidence interval. If you find that the 95% confidence interval for the average height of adult men in the city is (172 cm, 178 cm), it suggests that you are 95% confident that the true population mean height lies between 172 cm and 178 cm.\n",
        "\n",
        "**Key Characteristics**:\n",
        "- **Provides a Range**: Interval estimates account for sampling variability and provide a range of plausible values for the parameter.\n",
        "- **Confidence Level**: Interval estimates are often associated with a confidence level (e.g., 90%, 95%, 99%), which quantifies the level of certainty regarding the interval's accuracy. A higher confidence level results in a wider interval.\n",
        "\n",
        "---\n",
        "\n",
        "### Summary\n",
        "\n",
        "In summary, estimation statistics allow researchers to infer population parameters from sample data. Point estimates provide a single value approximation, while interval estimates offer a range of values that reflect uncertainty in the estimation process. Interval estimates are generally more informative because they account for variability and provide a confidence level regarding the estimate's accuracy."
      ],
      "metadata": {
        "id": "AVl_7ORLIP1d"
      }
    },
    {
      "cell_type": "markdown",
      "source": [
        "# Q2. Write a Python function to estimate the population mean using a sample mean and standard deviation."
      ],
      "metadata": {
        "id": "8jzwyaPyIQl3"
      }
    },
    {
      "cell_type": "code",
      "execution_count": 1,
      "metadata": {
        "colab": {
          "base_uri": "https://localhost:8080/"
        },
        "id": "n9LuuhSoH3rP",
        "outputId": "ba1b67a7-03a7-4a50-dec6-ce01a3ba438c"
      },
      "outputs": [
        {
          "output_type": "stream",
          "name": "stdout",
          "text": [
            "Estimated Population Mean: 23.80\n",
            "95% Confidence Interval: 21.28 to 26.32\n"
          ]
        }
      ],
      "source": [
        "import numpy as np\n",
        "import scipy.stats as stats\n",
        "\n",
        "def estimate_population_mean(sample_data, confidence_level=0.95):\n",
        "    \"\"\"\n",
        "    Estimate the population mean using sample mean and standard deviation.\n",
        "\n",
        "    Args:\n",
        "        sample_data (list or numpy array): The sample data.\n",
        "        confidence_level (float): The desired confidence level (default is 0.95).\n",
        "\n",
        "    Returns:\n",
        "        tuple: Estimated population mean and confidence interval (lower, upper).\n",
        "    \"\"\"\n",
        "    # Convert sample_data to a numpy array\n",
        "    sample_data = np.array(sample_data)\n",
        "\n",
        "    # Calculate sample mean and standard deviation\n",
        "    sample_mean = np.mean(sample_data)\n",
        "    sample_std = np.std(sample_data, ddof=1)  # Use ddof=1 for sample standard deviation\n",
        "    n = len(sample_data)\n",
        "\n",
        "    # Calculate the critical t value for the given confidence level\n",
        "    t_critical = stats.t.ppf((1 + confidence_level) / 2, df=n-1)\n",
        "\n",
        "    # Calculate margin of error\n",
        "    margin_of_error = t_critical * (sample_std / np.sqrt(n))\n",
        "\n",
        "    # Calculate confidence interval\n",
        "    confidence_interval = (sample_mean - margin_of_error, sample_mean + margin_of_error)\n",
        "\n",
        "    return sample_mean, confidence_interval\n",
        "\n",
        "# Example usage\n",
        "sample_data = [23, 21, 19, 24, 30, 22, 28, 20, 26, 25]\n",
        "estimated_mean, ci = estimate_population_mean(sample_data)\n",
        "print(f\"Estimated Population Mean: {estimated_mean:.2f}\")\n",
        "print(f\"95% Confidence Interval: {ci[0]:.2f} to {ci[1]:.2f}\")\n"
      ]
    },
    {
      "cell_type": "markdown",
      "source": [
        "# Q3: What is Hypothesis testing? Why is it used? State the importance of Hypothesis testing."
      ],
      "metadata": {
        "id": "WN85tt6sIW1-"
      }
    },
    {
      "cell_type": "markdown",
      "source": [
        "### Hypothesis Testing\n",
        "\n",
        "**Hypothesis testing** is a statistical method used to make inferences about a population based on sample data. It involves formulating a hypothesis (an assumption or claim about a population parameter), collecting data, and then using statistical techniques to determine whether there is enough evidence to accept or reject the hypothesis.\n",
        "\n",
        "#### Steps in Hypothesis Testing\n",
        "\n",
        "1. **Formulate Hypotheses**:\n",
        "   - **Null Hypothesis (\\(H_0\\))**: This is a statement of no effect or no difference. It serves as the default assumption that there is no relationship between two measured phenomena.\n",
        "   - **Alternative Hypothesis (\\(H_a\\) or \\(H_1\\))**: This represents the statement we want to test. It suggests that there is a significant effect or difference.\n",
        "\n",
        "2. **Choose a Significance Level (\\(\\alpha\\))**:\n",
        "   - The significance level (commonly set at 0.05 or 0.01) is the probability of rejecting the null hypothesis when it is true. It defines the threshold for determining whether the observed data is statistically significant.\n",
        "\n",
        "3. **Collect Data**:\n",
        "   - Gather data relevant to the hypotheses being tested, often through experiments or surveys.\n",
        "\n",
        "4. **Conduct the Test**:\n",
        "   - Calculate the appropriate test statistic (e.g., t-statistic, z-statistic) based on the sample data and the hypotheses.\n",
        "\n",
        "5. **Make a Decision**:\n",
        "   - Compare the test statistic to a critical value determined by the significance level. If the test statistic falls into the critical region, reject the null hypothesis; otherwise, do not reject it.\n",
        "\n",
        "6. **Draw a Conclusion**:\n",
        "   - Report the results, indicating whether there is sufficient evidence to reject the null hypothesis in favor of the alternative hypothesis.\n",
        "\n",
        "---\n",
        "\n",
        "### Why Hypothesis Testing is Used\n",
        "\n",
        "Hypothesis testing is employed for several reasons:\n",
        "\n",
        "1. **Decision-Making**:\n",
        "   - It provides a structured framework for making decisions based on data, helping researchers and analysts draw conclusions from experimental results.\n",
        "\n",
        "2. **Assessing Relationships**:\n",
        "   - Hypothesis testing helps determine whether there are statistically significant relationships or differences between variables or groups.\n",
        "\n",
        "3. **Guiding Research**:\n",
        "   - Researchers can use hypothesis testing to confirm or refute theoretical claims, helping to build knowledge in various fields, including medicine, social sciences, and economics.\n",
        "\n",
        "4. **Quality Control**:\n",
        "   - In manufacturing and business, hypothesis testing can help ensure that products meet quality standards by testing whether a process or product deviates from specifications.\n",
        "\n",
        "---\n",
        "\n",
        "### Importance of Hypothesis Testing\n",
        "\n",
        "1. **Scientific Validity**:\n",
        "   - Hypothesis testing is fundamental to scientific research, allowing for the validation or rejection of theories based on empirical evidence.\n",
        "\n",
        "2. **Reducing Bias**:\n",
        "   - It minimizes personal bias in decision-making by relying on statistical evidence rather than subjective judgment.\n",
        "\n",
        "3. **Error Control**:\n",
        "   - By establishing significance levels, hypothesis testing helps control the likelihood of making Type I errors (rejecting a true null hypothesis) and Type II errors (failing to reject a false null hypothesis).\n",
        "\n",
        "4. **Facilitating Comparisons**:\n",
        "   - It enables the comparison of different groups or treatments, providing a basis for evaluating the effectiveness of interventions or treatments.\n",
        "\n",
        "5. **Providing Confidence**:\n",
        "   - The results of hypothesis testing, often reported with confidence intervals, provide a quantifiable measure of certainty regarding the conclusions drawn from the sample data.\n",
        "\n"
      ],
      "metadata": {
        "id": "IytauyGsIiZF"
      }
    },
    {
      "cell_type": "markdown",
      "source": [
        "# Q4. Create a hypothesis that states whether the average weight of male college students is greater than the average weight of female college students."
      ],
      "metadata": {
        "id": "sqi740knIkEF"
      }
    },
    {
      "cell_type": "markdown",
      "source": [
        "To formulate a hypothesis regarding the average weights of male and female college students, we can set up the null and alternative hypotheses as follows:\n",
        "\n",
        "### Hypotheses\n",
        "\n",
        "1. **Null Hypothesis (\\(H_0\\))**:\n",
        "   - This hypothesis states that there is no difference between the average weights of male and female college students. Specifically, it can be stated as:\n",
        "   \\[\n",
        "   H_0: \\mu_m \\leq \\mu_f\n",
        "   \\]\n",
        "   Where:\n",
        "   - \\( \\mu_m \\) = average weight of male college students\n",
        "   - \\( \\mu_f \\) = average weight of female college students\n",
        "\n",
        "2. **Alternative Hypothesis (\\(H_a\\))**:\n",
        "   - This hypothesis states that the average weight of male college students is greater than the average weight of female college students. It can be stated as:\n",
        "   \\[\n",
        "   H_a: \\mu_m > \\mu_f\n",
        "   \\]\n",
        "\n"
      ],
      "metadata": {
        "id": "QyqFeoYjIoTm"
      }
    },
    {
      "cell_type": "markdown",
      "source": [
        "# Q5. Write a Python script to conduct a hypothesis test on the difference between two population means, given a sample from each population."
      ],
      "metadata": {
        "id": "Hmosee3RIqht"
      }
    },
    {
      "cell_type": "code",
      "source": [
        "import numpy as np\n",
        "import scipy.stats as stats\n",
        "\n",
        "def two_sample_t_test(sample1, sample2, alpha=0.05):\n",
        "    \"\"\"\n",
        "    Conduct a two-sample t-test on the means of two independent samples.\n",
        "\n",
        "    Args:\n",
        "        sample1 (list or numpy array): Sample data from the first population.\n",
        "        sample2 (list or numpy array): Sample data from the second population.\n",
        "        alpha (float): Significance level for the test (default is 0.05).\n",
        "\n",
        "    Returns:\n",
        "        dict: A dictionary containing the t-statistic, p-value, and conclusion.\n",
        "    \"\"\"\n",
        "    # Calculate the means and standard deviations\n",
        "    mean1 = np.mean(sample1)\n",
        "    mean2 = np.mean(sample2)\n",
        "    std1 = np.std(sample1, ddof=1)  # Sample standard deviation\n",
        "    std2 = np.std(sample2, ddof=1)  # Sample standard deviation\n",
        "    n1 = len(sample1)\n",
        "    n2 = len(sample2)\n",
        "\n",
        "    # Perform the two-sample t-test\n",
        "    t_statistic, p_value = stats.ttest_ind(sample1, sample2, equal_var=False)\n",
        "\n",
        "    # Determine the critical value for the given alpha level\n",
        "    critical_value = stats.t.ppf(1 - alpha, df=n1 + n2 - 2)\n",
        "\n",
        "    # Conclusion\n",
        "    conclusion = \"Fail to reject the null hypothesis\" if p_value > alpha else \"Reject the null hypothesis\"\n",
        "\n",
        "    # Create a results dictionary\n",
        "    results = {\n",
        "        \"Mean Sample 1\": mean1,\n",
        "        \"Mean Sample 2\": mean2,\n",
        "        \"Standard Deviation Sample 1\": std1,\n",
        "        \"Standard Deviation Sample 2\": std2,\n",
        "        \"T-Statistic\": t_statistic,\n",
        "        \"P-Value\": p_value,\n",
        "        \"Alpha\": alpha,\n",
        "        \"Conclusion\": conclusion\n",
        "    }\n",
        "\n",
        "    return results\n",
        "\n",
        "# Example usage\n",
        "sample1 = [23, 21, 19, 24, 30, 22, 28, 20, 26, 25]  # Sample data for group 1\n",
        "sample2 = [20, 22, 18, 23, 25, 21, 19, 24, 22, 20]  # Sample data for group 2\n",
        "\n",
        "results = two_sample_t_test(sample1, sample2)\n",
        "print(\"Hypothesis Test Results:\")\n",
        "for key, value in results.items():\n",
        "    print(f\"{key}: {value:.4f}\" if isinstance(value, float) else f\"{key}: {value}\")\n"
      ],
      "metadata": {
        "colab": {
          "base_uri": "https://localhost:8080/"
        },
        "id": "bOefXL6RIWaY",
        "outputId": "668e9806-61ea-4aa4-9a5d-528978c7f3f6"
      },
      "execution_count": 2,
      "outputs": [
        {
          "output_type": "stream",
          "name": "stdout",
          "text": [
            "Hypothesis Test Results:\n",
            "Mean Sample 1: 23.8000\n",
            "Mean Sample 2: 21.4000\n",
            "Standard Deviation Sample 1: 3.5214\n",
            "Standard Deviation Sample 2: 2.2211\n",
            "T-Statistic: 1.8229\n",
            "P-Value: 0.0881\n",
            "Alpha: 0.0500\n",
            "Conclusion: Fail to reject the null hypothesis\n"
          ]
        }
      ]
    },
    {
      "cell_type": "markdown",
      "source": [
        "# Q6: What is a null and alternative hypothesis? Give some examples."
      ],
      "metadata": {
        "id": "PrWKja_sI0Gu"
      }
    },
    {
      "cell_type": "markdown",
      "source": [
        "### Null and Alternative Hypothesis\n",
        "\n",
        "In hypothesis testing, a **null hypothesis** (\\(H_0\\)) and an **alternative hypothesis** (\\(H_a\\) or \\(H_1\\)) are two competing statements about a population parameter. They form the foundation of statistical tests, guiding researchers in making inferences based on sample data.\n",
        "\n",
        "---\n",
        "\n",
        "### Null Hypothesis (\\(H_0\\))\n",
        "\n",
        "The **null hypothesis** is a statement of no effect or no difference. It posits that any observed effect in the data is due to random chance or sampling error. The null hypothesis is what the researcher aims to test against. It is generally formulated as an equality statement.\n",
        "\n",
        "**Examples of Null Hypotheses**:\n",
        "1. **Mean Difference**: In a clinical trial, the null hypothesis might state that a new medication has no effect on blood pressure compared to a placebo.\n",
        "   \\[\n",
        "   H_0: \\mu_{med} = \\mu_{placebo}\n",
        "   \\]\n",
        "   Where \\( \\mu_{med} \\) is the mean blood pressure of the medication group and \\( \\mu_{placebo} \\) is the mean blood pressure of the placebo group.\n",
        "\n",
        "2. **Proportion Comparison**: A null hypothesis could state that the proportion of smokers is the same in two different cities.\n",
        "   \\[\n",
        "   H_0: p_1 = p_2\n",
        "   \\]\n",
        "   Where \\( p_1 \\) is the proportion of smokers in City A and \\( p_2 \\) is the proportion of smokers in City B.\n",
        "\n",
        "3. **No Correlation**: In a study examining the relationship between study time and test scores, the null hypothesis may state that there is no correlation between the two variables.\n",
        "   \\[\n",
        "   H_0: \\rho = 0\n",
        "   \\]\n",
        "   Where \\( \\rho \\) is the correlation coefficient.\n",
        "\n",
        "---\n",
        "\n",
        "### Alternative Hypothesis (\\(H_a\\) or \\(H_1\\))\n",
        "\n",
        "The **alternative hypothesis** is a statement that indicates the presence of an effect or a difference. It posits that any observed effect in the data is not due to chance. This hypothesis is what the researcher aims to support or prove through statistical analysis. It is generally formulated as an inequality.\n",
        "\n",
        "**Examples of Alternative Hypotheses**:\n",
        "1. **Mean Difference**: For the clinical trial mentioned earlier, the alternative hypothesis might state that the new medication reduces blood pressure compared to the placebo.\n",
        "   \\[\n",
        "   H_a: \\mu_{med} < \\mu_{placebo}\n",
        "   \\]\n",
        "\n",
        "2. **Proportion Comparison**: The alternative hypothesis might state that the proportion of smokers is higher in City A than in City B.\n",
        "   \\[\n",
        "   H_a: p_1 > p_2\n",
        "   \\]\n",
        "\n",
        "3. **Correlation**: The alternative hypothesis in the study examining study time and test scores might state that there is a positive correlation between study time and test scores.\n",
        "   \\[\n",
        "   H_a: \\rho > 0\n",
        "   \\]\n"
      ],
      "metadata": {
        "id": "W8uVKL19I5Et"
      }
    },
    {
      "cell_type": "markdown",
      "source": [
        "# Q7: Write down the steps involved in hypothesis testing."
      ],
      "metadata": {
        "id": "K_Ne6ec-I6lV"
      }
    },
    {
      "cell_type": "markdown",
      "source": [
        "Hypothesis testing is a systematic method used in statistics to determine whether to reject or fail to reject a null hypothesis based on sample data. The process involves several key steps:\n",
        "\n",
        "### Steps Involved in Hypothesis Testing\n",
        "\n",
        "1. **State the Hypotheses**:\n",
        "   - **Null Hypothesis (\\(H_0\\))**: A statement asserting no effect or no difference.\n",
        "   - **Alternative Hypothesis (\\(H_a\\) or \\(H_1\\))**: A statement asserting that there is an effect or a difference.\n",
        "\n",
        "   Example:\n",
        "   - \\(H_0: \\mu = \\mu_0\\)\n",
        "   - \\(H_a: \\mu \\neq \\mu_0\\)\n",
        "\n",
        "2. **Select the Significance Level (\\(\\alpha\\))**:\n",
        "   - Choose a significance level, typically set at 0.05 or 0.01, which defines the probability of rejecting the null hypothesis when it is true (Type I error).\n",
        "\n",
        "3. **Choose the Appropriate Test**:\n",
        "   - Select a statistical test based on the type of data and the hypothesis. Common tests include:\n",
        "     - t-test (for means)\n",
        "     - Chi-square test (for categorical data)\n",
        "     - ANOVA (for comparing more than two groups)\n",
        "\n",
        "4. **Collect the Data**:\n",
        "   - Gather sample data relevant to the hypotheses. Ensure the sample is representative of the population.\n",
        "\n",
        "5. **Calculate the Test Statistic**:\n",
        "   - Use the appropriate formula to calculate the test statistic based on the collected data. The test statistic indicates how far the sample statistic deviates from the null hypothesis.\n",
        "\n",
        "   Example for a t-test:\n",
        "   \\[\n",
        "   t = \\frac{\\bar{x} - \\mu_0}{s/\\sqrt{n}}\n",
        "   \\]\n",
        "   Where:\n",
        "   - \\( \\bar{x} \\) = sample mean\n",
        "   - \\( \\mu_0 \\) = hypothesized population mean\n",
        "   - \\( s \\) = sample standard deviation\n",
        "   - \\( n \\) = sample size\n",
        "\n",
        "6. **Determine the p-value or Critical Value**:\n",
        "   - Calculate the p-value, which is the probability of observing the test statistic or more extreme values under the null hypothesis.\n",
        "   - Alternatively, compare the test statistic to a critical value from a statistical table based on the chosen significance level and degrees of freedom.\n",
        "\n",
        "7. **Make a Decision**:\n",
        "   - Compare the p-value to the significance level (\\(\\alpha\\)):\n",
        "     - If \\( p \\leq \\alpha \\): Reject the null hypothesis (\\(H_0\\)).\n",
        "     - If \\( p > \\alpha \\): Fail to reject the null hypothesis (\\(H_0\\)).\n",
        "\n",
        "8. **Draw a Conclusion**:\n",
        "   - Interpret the results in the context of the research question. Summarize whether the data provides sufficient evidence to support the alternative hypothesis.\n",
        "\n",
        "9. **Report the Results**:\n",
        "   - Clearly communicate the findings, including the test statistic, p-value, confidence intervals (if applicable), and the final conclusion. Provide context about the implications of the results for the research question.\n"
      ],
      "metadata": {
        "id": "bWqf2vP0JAbl"
      }
    },
    {
      "cell_type": "markdown",
      "source": [
        "# Q8. Define p-value and explain its significance in hypothesis testing."
      ],
      "metadata": {
        "id": "SNKzUVriJB7V"
      }
    },
    {
      "cell_type": "markdown",
      "source": [
        "### Definition of p-value\n",
        "\n",
        "The **p-value** (probability value) is a statistical measure that helps researchers determine the strength of the evidence against the null hypothesis (\\(H_0\\)). It quantifies the probability of observing data as extreme as, or more extreme than, what was observed in the sample, assuming that the null hypothesis is true.\n",
        "\n",
        "Mathematically, the p-value is defined as:\n",
        "\n",
        "\\[\n",
        "p\\text{-value} = P(\\text{observed data} | H_0)\n",
        "\\]\n",
        "\n",
        "Where:\n",
        "- \\(P\\) denotes the probability.\n",
        "- \"observed data\" refers to the test statistic calculated from the sample data.\n",
        "- \\(H_0\\) is the null hypothesis.\n",
        "\n",
        "### Significance of p-value in Hypothesis Testing\n",
        "\n",
        "1. **Decision-Making**:\n",
        "   - The p-value helps researchers decide whether to reject the null hypothesis. A smaller p-value indicates stronger evidence against \\(H_0\\).\n",
        "   - Common thresholds for significance include \\(0.05\\), \\(0.01\\), or \\(0.001\\):\n",
        "     - \\(p \\leq 0.05\\): Reject \\(H_0\\) (suggesting statistical significance).\n",
        "     - \\(p > 0.05\\): Fail to reject \\(H_0\\) (insufficient evidence to claim an effect).\n",
        "\n",
        "2. **Quantifying Evidence**:\n",
        "   - The p-value provides a measure of the strength of evidence against the null hypothesis:\n",
        "     - A p-value close to \\(0\\) indicates that the observed data is very unlikely under the null hypothesis, suggesting strong evidence to reject it.\n",
        "     - A p-value close to \\(1\\) suggests that the observed data is consistent with the null hypothesis, indicating weak evidence against it.\n",
        "\n",
        "3. **Interpreting Results**:\n",
        "   - P-values help in interpreting the results of hypothesis tests:\n",
        "     - They allow researchers to assess whether findings are statistically significant and if further investigation is warranted.\n",
        "     - They provide context for the results, helping to determine if an effect is practically significant or meaningful in a real-world context.\n",
        "\n",
        "4. **Communication of Findings**:\n",
        "   - P-values are commonly reported in scientific literature and research papers, providing a standardized way to communicate the results of hypothesis tests.\n",
        "   - They allow other researchers to understand the robustness of findings and contribute to reproducibility.\n",
        "\n",
        "### Limitations of p-values\n",
        "\n",
        "- **Misinterpretation**: A common misconception is that a p-value indicates the probability that the null hypothesis is true, which it does not. It only assesses the data under the assumption that \\(H_0\\) is true.\n",
        "- **Arbitrary Thresholds**: The choice of significance levels (e.g., \\(0.05\\)) is somewhat arbitrary and can lead to different interpretations of the same data.\n",
        "- **P-hacking**: Researchers might manipulate data or analysis methods to achieve statistically significant p-values, leading to questionable conclusions.\n",
        "\n"
      ],
      "metadata": {
        "id": "XkQW69EwJIbt"
      }
    },
    {
      "cell_type": "markdown",
      "source": [
        "# Q9. Generate a Student's t-distribution plot using Python's matplotlib library, with the degrees of freedom parameter set to 10."
      ],
      "metadata": {
        "id": "IloQMGYOJJ4G"
      }
    },
    {
      "cell_type": "code",
      "source": [
        "import numpy as np\n",
        "import matplotlib.pyplot as plt\n",
        "from scipy.stats import t\n",
        "\n",
        "# Set the degrees of freedom\n",
        "df = 10\n",
        "\n",
        "# Generate x values\n",
        "x = np.linspace(-5, 5, 1000)\n",
        "\n",
        "# Calculate the t-distribution PDF values\n",
        "y = t.pdf(x, df)\n",
        "\n",
        "# Create the plot\n",
        "plt.figure(figsize=(10, 6))\n",
        "plt.plot(x, y, label=f\"t-distribution (df={df})\", color='blue')\n",
        "plt.title(\"Student's t-Distribution\")\n",
        "plt.xlabel(\"x\")\n",
        "plt.ylabel(\"Probability Density Function (PDF)\")\n",
        "plt.axhline(0, color='black', linewidth=0.5, linestyle='--')\n",
        "plt.axvline(0, color='black', linewidth=0.5, linestyle='--')\n",
        "plt.grid()\n",
        "plt.legend()\n",
        "plt.show()\n"
      ],
      "metadata": {
        "colab": {
          "base_uri": "https://localhost:8080/",
          "height": 564
        },
        "id": "ElYfWHZCIzGs",
        "outputId": "ceb63537-8a79-4a00-87d8-4364a57d9507"
      },
      "execution_count": 3,
      "outputs": [
        {
          "output_type": "display_data",
          "data": {
            "text/plain": [
              "<Figure size 1000x600 with 1 Axes>"
            ],
            "image/png": "[encoded data removed]"
          },
          "metadata": {}
        }
      ]
    },
    {
      "cell_type": "markdown",
      "source": [
        "# Q10. Write a Python program to calculate the two-sample t-test for independent samples, given two random samples of equal size and a null hypothesis that the population means are equal."
      ],
      "metadata": {
        "id": "0R3OALeCJO_2"
      }
    },
    {
      "cell_type": "code",
      "source": [
        "import numpy as np\n",
        "import scipy.stats as stats\n",
        "\n",
        "# Generate two random samples of equal size\n",
        "np.random.seed(42)  # For reproducibility\n",
        "sample_size = 30\n",
        "sample1 = np.random.normal(loc=50, scale=10, size=sample_size)  # Sample from population 1\n",
        "sample2 = np.random.normal(loc=52, scale=10, size=sample_size)  # Sample from population 2\n",
        "\n",
        "# Print the samples\n",
        "print(\"Sample 1:\", sample1)\n",
        "print(\"Sample 2:\", sample2)\n",
        "\n",
        "# Perform the two-sample t-test\n",
        "t_statistic, p_value = stats.ttest_ind(sample1, sample2)\n",
        "\n",
        "# Output the results\n",
        "print(f\"\\nT-statistic: {t_statistic}\")\n",
        "print(f\"P-value: {p_value}\")\n",
        "\n",
        "# Determine if we reject or fail to reject the null hypothesis\n",
        "alpha = 0.05  # Significance level\n",
        "if p_value < alpha:\n",
        "    print(\"Reject the null hypothesis: There is a significant difference between the means.\")\n",
        "else:\n",
        "    print(\"Fail to reject the null hypothesis: No significant difference between the means.\")\n"
      ],
      "metadata": {
        "colab": {
          "base_uri": "https://localhost:8080/"
        },
        "id": "BBQzKzQVJOkZ",
        "outputId": "c87af1dd-ce9f-4245-e822-97bda85f3ed6"
      },
      "execution_count": 4,
      "outputs": [
        {
          "output_type": "stream",
          "name": "stdout",
          "text": [
            "Sample 1: [54.96714153 48.61735699 56.47688538 65.23029856 47.65846625 47.65863043\n",
            " 65.79212816 57.67434729 45.30525614 55.42560044 45.36582307 45.34270246\n",
            " 52.41962272 30.86719755 32.75082167 44.37712471 39.8716888  53.14247333\n",
            " 40.91975924 35.87696299 64.65648769 47.742237   50.67528205 35.75251814\n",
            " 44.55617275 51.1092259  38.49006423 53.75698018 43.9936131  47.0830625 ]\n",
            "Sample 2: [45.98293388 70.52278185 51.86502775 41.42289071 60.22544912 39.7915635\n",
            " 54.08863595 32.40329876 38.71813951 53.96861236 59.3846658  53.71368281\n",
            " 50.84351718 48.98896304 37.2147801  44.80155792 47.39361229 62.57122226\n",
            " 55.4361829  34.36959845 55.24083969 48.1491772  45.23078    58.11676289\n",
            " 62.30999522 61.31280119 43.60782477 48.90787624 55.31263431 61.75545127]\n",
            "\n",
            "T-statistic: -1.1292363024878542\n",
            "P-value: 0.26344705521177303\n",
            "Fail to reject the null hypothesis: No significant difference between the means.\n"
          ]
        }
      ]
    },
    {
      "cell_type": "markdown",
      "source": [
        "# Q11: What is Student’s t distribution? When to use the t-Distribution."
      ],
      "metadata": {
        "id": "mCtFnD7dJUit"
      }
    },
    {
      "cell_type": "markdown",
      "source": [
        "### What is Student’s t Distribution?\n",
        "\n",
        "**Student’s t-distribution**, often referred to simply as the **t-distribution**, is a probability distribution that is symmetric and bell-shaped, similar to the standard normal distribution, but has heavier tails. This characteristic means that the t-distribution accounts for the increased variability expected in small samples.\n",
        "\n",
        "The t-distribution was developed by William Sealy Gosset under the pseudonym \"Student\" in the early 20th century. It is defined by the degrees of freedom (df), which is typically related to the sample size. As the sample size increases, the t-distribution approaches the normal distribution.\n",
        "\n",
        "### Characteristics of the t-Distribution:\n",
        "- **Symmetry**: The t-distribution is symmetric around its mean, which is 0.\n",
        "- **Heavier Tails**: It has thicker tails compared to the normal distribution, which allows for more variability in smaller samples.\n",
        "- **Degrees of Freedom**: The shape of the t-distribution is determined by the degrees of freedom, calculated as the sample size minus one (df = n - 1). As the degrees of freedom increase, the t-distribution approaches the normal distribution.\n",
        "\n",
        "### When to Use the t-Distribution\n",
        "\n",
        "1. **Small Sample Sizes**:\n",
        "   - The t-distribution is particularly useful when working with small sample sizes (typically \\(n < 30\\)). When the sample size is small, the sample mean is less reliable, and the t-distribution helps account for this increased uncertainty.\n",
        "\n",
        "2. **Unknown Population Variance**:\n",
        "   - When the population variance is unknown, which is often the case in real-world scenarios, the t-distribution is preferred. In this situation, the sample standard deviation is used as an estimate of the population standard deviation.\n",
        "\n",
        "3. **Hypothesis Testing**:\n",
        "   - The t-distribution is commonly used in hypothesis testing for means, especially for two-sample t-tests and one-sample t-tests, where the goal is to compare means and determine if they are statistically different.\n",
        "\n",
        "4. **Confidence Intervals**:\n",
        "   - When constructing confidence intervals for the mean of a normally distributed population with an unknown variance, the t-distribution provides a more accurate interval than using the normal distribution.\n",
        "\n",
        "### Examples of Use Cases\n",
        "- **Medical Studies**: Comparing the effectiveness of a treatment between two small groups of patients.\n",
        "- **Quality Control**: Evaluating the average weight of packages from a small sample of production batches.\n",
        "- **Psychology Experiments**: Analyzing test scores from a limited number of participants in an experiment.\n"
      ],
      "metadata": {
        "id": "_i3VG12nJXp-"
      }
    },
    {
      "cell_type": "markdown",
      "source": [
        "# Q12: What is t-statistic? State the formula for t-statistic."
      ],
      "metadata": {
        "id": "hc61mLItJv7e"
      }
    },
    {
      "cell_type": "markdown",
      "source": [
        "### What is t-statistic?\n",
        "\n",
        "The **t-statistic** is a standardized value that is calculated from sample data during a hypothesis test. It is used to determine how far the sample mean deviates from the null hypothesis mean, expressed in terms of the standard error of the sample mean. The t-statistic is essential in hypothesis testing, particularly when the sample size is small or the population standard deviation is unknown.\n",
        "\n",
        "### Importance of t-statistic\n",
        "\n",
        "- It allows researchers to compare the means of two groups to assess whether they are statistically different from each other.\n",
        "- It is used to compute confidence intervals for the population mean.\n",
        "- It plays a crucial role in determining the p-value during hypothesis testing.\n",
        "\n",
        "### Formula for t-statistic\n",
        "\n",
        "The formula for calculating the t-statistic depends on the type of t-test being performed. Here are the formulas for different scenarios:\n",
        "\n",
        "1. **One-Sample t-Test**:\n",
        "   \\[\n",
        "   t = \\frac{\\bar{x} - \\mu}{s / \\sqrt{n}}\n",
        "   \\]\n",
        "   - Where:\n",
        "     - \\(\\bar{x}\\) = Sample mean\n",
        "     - \\(\\mu\\) = Population mean (under the null hypothesis)\n",
        "     - \\(s\\) = Sample standard deviation\n",
        "     - \\(n\\) = Sample size\n",
        "\n",
        "2. **Two-Sample t-Test (Independent Samples)**:\n",
        "   \\[\n",
        "   t = \\frac{\\bar{x}_1 - \\bar{x}_2}{\\sqrt{\\frac{s_1^2}{n_1} + \\frac{s_2^2}{n_2}}}\n",
        "   \\]\n",
        "   - Where:\n",
        "     - \\(\\bar{x}_1\\) = Mean of the first sample\n",
        "     - \\(\\bar{x}_2\\) = Mean of the second sample\n",
        "     - \\(s_1^2\\) = Variance of the first sample\n",
        "     - \\(s_2^2\\) = Variance of the second sample\n",
        "     - \\(n_1\\) = Size of the first sample\n",
        "     - \\(n_2\\) = Size of the second sample\n",
        "\n",
        "3. **Paired t-Test**:\n",
        "   \\[\n",
        "   t = \\frac{\\bar{d}}{s_d / \\sqrt{n}}\n",
        "   \\]\n",
        "   - Where:\n",
        "     - \\(\\bar{d}\\) = Mean of the differences between paired observations\n",
        "     - \\(s_d\\) = Standard deviation of the differences\n",
        "     - \\(n\\) = Number of pairs\n"
      ],
      "metadata": {
        "id": "EMRTbNAGJ2Je"
      }
    },
    {
      "cell_type": "markdown",
      "source": [
        "# Q13. A coffee shop owner wants to estimate the average daily revenue for their shop. They take a random sample of 50 days and find the sample mean revenue to be $500 with a standard deviation of $50. Estimate the population mean revenue with a 95% confidence interval."
      ],
      "metadata": {
        "id": "O86HZevoJ3n-"
      }
    },
    {
      "cell_type": "markdown",
      "source": [
        "To estimate the population mean revenue with a 95% confidence interval based on the provided sample data, we can use the following formula for the confidence interval (CI):\n",
        "\n",
        "\\[\n",
        "\\text{CI} = \\bar{x} \\pm t \\times \\frac{s}{\\sqrt{n}}\n",
        "\\]\n",
        "\n",
        "Where:\n",
        "- \\(\\bar{x}\\) = Sample mean\n",
        "- \\(t\\) = t-value from the t-distribution for the desired confidence level and degrees of freedom\n",
        "- \\(s\\) = Sample standard deviation\n",
        "- \\(n\\) = Sample size\n",
        "\n",
        "### Given Data\n",
        "- Sample mean (\\(\\bar{x}\\)) = $500\n",
        "- Sample standard deviation (\\(s\\)) = $50\n",
        "- Sample size (\\(n\\)) = 50\n",
        "- Confidence level = 95%\n",
        "\n",
        "### Steps to Calculate the 95% Confidence Interval\n",
        "\n",
        "1. **Find the t-value**:\n",
        "   - Degrees of freedom (\\(df\\)) = \\(n - 1 = 50 - 1 = 49\\).\n",
        "   - For a 95% confidence level and \\(df = 49\\), we can find the t-value using a t-table or statistical software. The t-value is approximately \\(2.0096\\).\n",
        "\n",
        "2. **Calculate the standard error (SE)**:\n",
        "   \\[\n",
        "   SE = \\frac{s}{\\sqrt{n}} = \\frac{50}{\\sqrt{50}} \\approx 7.07\n",
        "   \\]\n",
        "\n",
        "3. **Calculate the margin of error (ME)**:\n",
        "   \\[\n",
        "   ME = t \\times SE = 2.0096 \\times 7.07 \\approx 14.2\n",
        "   \\]\n",
        "\n",
        "4. **Calculate the confidence interval**:\n",
        "   \\[\n",
        "   \\text{CI} = \\bar{x} \\pm ME = 500 \\pm 14.2\n",
        "   \\]\n",
        "   - Lower limit: \\(500 - 14.2 = 485.8\\)\n",
        "   - Upper limit: \\(500 + 14.2 = 514.2\\)\n",
        "\n",
        "### Conclusion\n",
        "\n",
        "The 95% confidence interval for the average daily revenue of the coffee shop is approximately **($485.8, $514.2)**. This means we can be 95% confident that the true population mean revenue lies within this interval.\n",
        "\n",
        "### Python Code Example\n",
        "\n",
        "Here's how you can calculate this in Python:\n",
        "\n",
        "```python\n",
        "import scipy.stats as stats\n",
        "import numpy as np\n",
        "\n",
        "# Given data\n",
        "sample_mean = 500\n",
        "sample_std_dev = 50\n",
        "sample_size = 50\n",
        "confidence_level = 0.95\n",
        "\n",
        "# Calculate degrees of freedom\n",
        "df = sample_size - 1\n",
        "\n",
        "# Calculate the t-value for the given confidence level\n",
        "t_value = stats.t.ppf((1 + confidence_level) / 2, df)\n",
        "\n",
        "# Calculate the standard error\n",
        "standard_error = sample_std_dev / np.sqrt(sample_size)\n",
        "\n",
        "# Calculate the margin of error\n",
        "margin_of_error = t_value * standard_error\n",
        "\n",
        "# Calculate confidence interval\n",
        "lower_limit = sample_mean - margin_of_error\n",
        "upper_limit = sample_mean + margin_of_error\n",
        "\n",
        "# Print the results\n",
        "print(f\"95% Confidence Interval: ({lower_limit:.2f}, {upper_limit:.2f})\")\n",
        "```\n",
        "\n",
        "Running this code will give you the same confidence interval for the average daily revenue."
      ],
      "metadata": {
        "id": "8-deaaHjJ-2W"
      }
    },
    {
      "cell_type": "code",
      "source": [
        "import scipy.stats as stats\n",
        "import numpy as np\n",
        "\n",
        "# Given data\n",
        "sample_mean = 500\n",
        "sample_std_dev = 50\n",
        "sample_size = 50\n",
        "confidence_level = 0.95\n",
        "\n",
        "# Calculate degrees of freedom\n",
        "df = sample_size - 1\n",
        "\n",
        "# Calculate the t-value for the given confidence level\n",
        "t_value = stats.t.ppf((1 + confidence_level) / 2, df)\n",
        "\n",
        "# Calculate the standard error\n",
        "standard_error = sample_std_dev / np.sqrt(sample_size)\n",
        "\n",
        "# Calculate the margin of error\n",
        "margin_of_error = t_value * standard_error\n",
        "\n",
        "# Calculate confidence interval\n",
        "lower_limit = sample_mean - margin_of_error\n",
        "upper_limit = sample_mean + margin_of_error\n",
        "\n",
        "# Print the results\n",
        "print(f\"95% Confidence Interval: ({lower_limit:.2f}, {upper_limit:.2f})\")\n"
      ],
      "metadata": {
        "colab": {
          "base_uri": "https://localhost:8080/"
        },
        "id": "9ErrhbqgJUTw",
        "outputId": "fb29ffc2-2c78-4722-cd67-a9884c0e151d"
      },
      "execution_count": 5,
      "outputs": [
        {
          "output_type": "stream",
          "name": "stdout",
          "text": [
            "95% Confidence Interval: (485.79, 514.21)\n"
          ]
        }
      ]
    },
    {
      "cell_type": "markdown",
      "source": [
        "# Q14. A researcher hypothesizes that a new drug will decrease blood pressure by 10 mmHg. They conduct a clinical trial with 100 patients and find that the sample mean decrease in blood pressure is 8 mmHg with a standard deviation of 3 mmHg. Test the hypothesis with a significance level of 0.05."
      ],
      "metadata": {
        "id": "sgerbTpBKB7x"
      }
    },
    {
      "cell_type": "markdown",
      "source": [
        "To test the hypothesis that the new drug will decrease blood pressure by 10 mmHg, we will perform a one-sample t-test.\n",
        "\n",
        "### Hypotheses\n",
        "\n",
        "- **Null Hypothesis (\\(H_0\\))**: The mean decrease in blood pressure is equal to 10 mmHg. (\\(\\mu = 10\\))\n",
        "- **Alternative Hypothesis (\\(H_a\\)**): The mean decrease in blood pressure is less than 10 mmHg. (\\(\\mu < 10\\))\n",
        "\n",
        "### Given Data\n",
        "\n",
        "- Sample size (\\(n\\)) = 100\n",
        "- Sample mean (\\(\\bar{x}\\)) = 8 mmHg\n",
        "- Population mean under the null hypothesis (\\(\\mu_0\\)) = 10 mmHg\n",
        "- Sample standard deviation (\\(s\\)) = 3 mmHg\n",
        "- Significance level (\\(\\alpha\\)) = 0.05\n",
        "\n",
        "### Steps to Perform the t-Test\n",
        "\n",
        "1. **Calculate the t-statistic** using the formula:\n",
        "   \\[\n",
        "   t = \\frac{\\bar{x} - \\mu_0}{s / \\sqrt{n}}\n",
        "   \\]\n",
        "\n",
        "2. **Determine the degrees of freedom**:\n",
        "   \\[\n",
        "   df = n - 1 = 100 - 1 = 99\n",
        "   \\]\n",
        "\n",
        "3. **Find the critical t-value** for a one-tailed test at the 0.05 significance level with 99 degrees of freedom.\n",
        "\n",
        "4. **Compare the calculated t-statistic** with the critical t-value to make a decision regarding the null hypothesis.\n",
        "\n",
        "### Calculations\n",
        "\n",
        "1. **Calculate the t-statistic**:\n",
        "   \\[\n",
        "   t = \\frac{8 - 10}{3 / \\sqrt{100}} = \\frac{-2}{3 / 10} = \\frac{-2}{0.3} \\approx -6.67\n",
        "   \\]\n",
        "\n",
        "2. **Find the critical t-value**:\n",
        "   Using a t-table or statistical software, the critical t-value for a one-tailed test with \\(df = 99\\) at \\(\\alpha = 0.05\\) is approximately \\(-1.660\\).\n",
        "\n",
        "3. **Decision**:\n",
        "   - If the calculated t-statistic is less than the critical t-value, we reject the null hypothesis.\n",
        "   - Here, \\(-6.67 < -1.660\\).\n",
        "\n",
        "### Conclusion\n",
        "\n",
        "Since the calculated t-statistic (\\(-6.67\\)) is less than the critical t-value (\\(-1.660\\)), we reject the null hypothesis. This means there is sufficient evidence to conclude that the new drug decreases blood pressure by less than 10 mmHg at the 0.05 significance level.\n",
        "\n"
      ],
      "metadata": {
        "id": "1f7BSydqKJNW"
      }
    },
    {
      "cell_type": "code",
      "source": [
        "import scipy.stats as stats\n",
        "\n",
        "# Given data\n",
        "sample_mean = 8  # Sample mean\n",
        "population_mean = 10  # Hypothesized population mean\n",
        "sample_std_dev = 3  # Sample standard deviation\n",
        "sample_size = 100  # Sample size\n",
        "alpha = 0.05  # Significance level\n",
        "\n",
        "# Calculate t-statistic\n",
        "t_statistic = (sample_mean - population_mean) / (sample_std_dev / (sample_size ** 0.5))\n",
        "\n",
        "# Calculate degrees of freedom\n",
        "df = sample_size - 1\n",
        "\n",
        "# Calculate the critical t-value for a one-tailed test\n",
        "critical_t_value = stats.t.ppf(1 - alpha, df)\n",
        "\n",
        "# Print results\n",
        "print(f\"Calculated t-statistic: {t_statistic:.2f}\")\n",
        "print(f\"Critical t-value: {critical_t_value:.2f}\")\n",
        "\n",
        "# Decision\n",
        "if t_statistic < critical_t_value:\n",
        "    print(\"Reject the null hypothesis. The new drug decreases blood pressure by less than 10 mmHg.\")\n",
        "else:\n",
        "    print(\"Fail to reject the null hypothesis.\")\n"
      ],
      "metadata": {
        "colab": {
          "base_uri": "https://localhost:8080/"
        },
        "id": "NvbQmkUbKA8P",
        "outputId": "98cc7726-78fc-452e-9a8a-bd6d44b1e468"
      },
      "execution_count": 6,
      "outputs": [
        {
          "output_type": "stream",
          "name": "stdout",
          "text": [
            "Calculated t-statistic: -6.67\n",
            "Critical t-value: 1.66\n",
            "Reject the null hypothesis. The new drug decreases blood pressure by less than 10 mmHg.\n"
          ]
        }
      ]
    },
    {
      "cell_type": "markdown",
      "source": [
        "# Q15. An electronics company produces a certain type of product with a mean weight of 5 pounds and a standard deviation of 0.5 pounds. A random sample of 25 products is taken, and the sample mean weight is found to be 4.8 pounds. Test the hypothesis that the true mean weight of the products is less than   pounds with a significance level of 0.01."
      ],
      "metadata": {
        "id": "DhCGxJVfKTU1"
      }
    },
    {
      "cell_type": "markdown",
      "source": [
        "To test the hypothesis that the true mean weight of the products is less than 5 pounds, we will perform a one-sample t-test.\n",
        "\n",
        "### Hypotheses\n",
        "\n",
        "- **Null Hypothesis (\\(H_0\\))**: The mean weight of the products is equal to 5 pounds. (\\(\\mu = 5\\))\n",
        "- **Alternative Hypothesis (\\(H_a\\)**): The mean weight of the products is less than 5 pounds. (\\(\\mu < 5\\))\n",
        "\n",
        "### Given Data\n",
        "\n",
        "- Population mean under the null hypothesis (\\(\\mu_0\\)) = 5 pounds\n",
        "- Sample mean (\\(\\bar{x}\\)) = 4.8 pounds\n",
        "- Sample standard deviation (\\(s\\)) = 0.5 pounds\n",
        "- Sample size (\\(n\\)) = 25\n",
        "- Significance level (\\(\\alpha\\)) = 0.01\n",
        "\n",
        "### Steps to Perform the t-Test\n",
        "\n",
        "1. **Calculate the t-statistic** using the formula:\n",
        "   \\[\n",
        "   t = \\frac{\\bar{x} - \\mu_0}{s / \\sqrt{n}}\n",
        "   \\]\n",
        "\n",
        "2. **Determine the degrees of freedom**:\n",
        "   \\[\n",
        "   df = n - 1 = 25 - 1 = 24\n",
        "   \\]\n",
        "\n",
        "3. **Find the critical t-value** for a one-tailed test at the 0.01 significance level with 24 degrees of freedom.\n",
        "\n",
        "4. **Compare the calculated t-statistic** with the critical t-value to make a decision regarding the null hypothesis.\n",
        "\n",
        "### Calculations\n",
        "\n",
        "1. **Calculate the t-statistic**:\n",
        "   \\[\n",
        "   t = \\frac{4.8 - 5}{0.5 / \\sqrt{25}} = \\frac{-0.2}{0.1} = -2.0\n",
        "   \\]\n",
        "\n",
        "2. **Find the critical t-value**:\n",
        "   Using a t-table or statistical software, the critical t-value for a one-tailed test with \\(df = 24\\) at \\(\\alpha = 0.01\\) is approximately \\(-2.492\\).\n",
        "\n",
        "3. **Decision**:\n",
        "   - If the calculated t-statistic is less than the critical t-value, we reject the null hypothesis.\n",
        "   - Here, \\(-2.0 > -2.492\\).\n",
        "\n",
        "### Conclusion\n",
        "\n",
        "Since the calculated t-statistic (\\(-2.0\\)) is greater than the critical t-value (\\(-2.492\\)), we fail to reject the null hypothesis. This means there is not enough evidence at the 0.01 significance level to conclude that the true mean weight of the products is less than 5 pounds.\n",
        "\n",
        "### Python Code Example\n",
        "\n",
        "Here's how you can perform this hypothesis test using Python:\n",
        "\n",
        "```python\n",
        "import scipy.stats as stats\n",
        "\n",
        "# Given data\n",
        "sample_mean = 4.8  # Sample mean\n",
        "population_mean = 5.0  # Hypothesized population mean\n",
        "sample_std_dev = 0.5  # Sample standard deviation\n",
        "sample_size = 25  # Sample size\n",
        "alpha = 0.01  # Significance level\n",
        "\n",
        "# Calculate t-statistic\n",
        "t_statistic = (sample_mean - population_mean) / (sample_std_dev / (sample_size ** 0.5))\n",
        "\n",
        "# Calculate degrees of freedom\n",
        "df = sample_size - 1\n",
        "\n",
        "# Calculate the critical t-value for a one-tailed test\n",
        "critical_t_value = stats.t.ppf(1 - alpha, df)\n",
        "\n",
        "# Print results\n",
        "print(f\"Calculated t-statistic: {t_statistic:.2f}\")\n",
        "print(f\"Critical t-value: {critical_t_value:.2f}\")\n",
        "\n",
        "# Decision\n",
        "if t_statistic < critical_t_value:\n",
        "    print(\"Reject the null hypothesis. The true mean weight is less than 5 pounds.\")\n",
        "else:\n",
        "    print(\"Fail to reject the null hypothesis.\")\n",
        "```\n",
        "\n",
        "Running this code will yield the calculated t-statistic, critical t-value, and the decision regarding the null hypothesis."
      ],
      "metadata": {
        "id": "120bqph2KiM2"
      }
    },
    {
      "cell_type": "code",
      "source": [
        "import scipy.stats as stats\n",
        "\n",
        "# Given data\n",
        "sample_mean = 4.8  # Sample mean\n",
        "population_mean = 5.0  # Hypothesized population mean\n",
        "sample_std_dev = 0.5  # Sample standard deviation\n",
        "sample_size = 25  # Sample size\n",
        "alpha = 0.01  # Significance level\n",
        "\n",
        "# Calculate t-statistic\n",
        "t_statistic = (sample_mean - population_mean) / (sample_std_dev / (sample_size ** 0.5))\n",
        "\n",
        "# Calculate degrees of freedom\n",
        "df = sample_size - 1\n",
        "\n",
        "# Calculate the critical t-value for a one-tailed test\n",
        "critical_t_value = stats.t.ppf(1 - alpha, df)\n",
        "\n",
        "# Print results\n",
        "print(f\"Calculated t-statistic: {t_statistic:.2f}\")\n",
        "print(f\"Critical t-value: {critical_t_value:.2f}\")\n",
        "\n",
        "# Decision\n",
        "if t_statistic < critical_t_value:\n",
        "    print(\"Reject the null hypothesis. The true mean weight is less than 5 pounds.\")\n",
        "else:\n",
        "    print(\"Fail to reject the null hypothesis.\")\n"
      ],
      "metadata": {
        "colab": {
          "base_uri": "https://localhost:8080/"
        },
        "id": "vtwNOWO6KMfY",
        "outputId": "992ae124-2bc5-4e9a-f202-c354f23ebbaa"
      },
      "execution_count": 7,
      "outputs": [
        {
          "output_type": "stream",
          "name": "stdout",
          "text": [
            "Calculated t-statistic: -2.00\n",
            "Critical t-value: 2.49\n",
            "Reject the null hypothesis. The true mean weight is less than 5 pounds.\n"
          ]
        }
      ]
    },
    {
      "cell_type": "markdown",
      "source": [
        "# Q16. Two groups of students are given different study materials to prepare for a test. The first group (n1 = 30) has a mean score of 80 with a standard deviation of 10, and the second group (n2 = 40) has a mean score of 75 with a standard deviation of 8. Test the hypothesis that the population means for the two groups are equal with a significance level of 0.01."
      ],
      "metadata": {
        "id": "1cLQc_qbKm2m"
      }
    },
    {
      "cell_type": "markdown",
      "source": [
        "To test the hypothesis that the population means for the two groups of students are equal, we will conduct a two-sample t-test.\n",
        "\n",
        "### Hypotheses\n",
        "\n",
        "- **Null Hypothesis (\\(H_0\\))**: The means of the two groups are equal. (\\(\\mu_1 = \\mu_2\\))\n",
        "- **Alternative Hypothesis (\\(H_a\\))**: The means of the two groups are not equal. (\\(\\mu_1 \\neq \\mu_2\\))\n",
        "\n",
        "### Given Data\n",
        "\n",
        "- Group 1:\n",
        "  - Sample size (\\(n_1\\)) = 30\n",
        "  - Sample mean (\\(\\bar{x}_1\\)) = 80\n",
        "  - Sample standard deviation (\\(s_1\\)) = 10\n",
        "  \n",
        "- Group 2:\n",
        "  - Sample size (\\(n_2\\)) = 40\n",
        "  - Sample mean (\\(\\bar{x}_2\\)) = 75\n",
        "  - Sample standard deviation (\\(s_2\\)) = 8\n",
        "\n",
        "- Significance level (\\(\\alpha\\)) = 0.01\n",
        "\n",
        "### Steps to Perform the t-Test\n",
        "\n",
        "1. **Calculate the t-statistic** using the formula for the two-sample t-test:\n",
        "   \\[\n",
        "   t = \\frac{\\bar{x}_1 - \\bar{x}_2}{\\sqrt{\\frac{s_1^2}{n_1} + \\frac{s_2^2}{n_2}}}\n",
        "   \\]\n",
        "\n",
        "2. **Determine the degrees of freedom** using the formula:\n",
        "   \\[\n",
        "   df = \\left( \\frac{\\left( \\frac{s_1^2}{n_1} + \\frac{s_2^2}{n_2}\\right)^2}{\\frac{\\left(\\frac{s_1^2}{n_1}\\right)^2}{n_1 - 1} + \\frac{\\left(\\frac{s_2^2}{n_2}\\right)^2}{n_2 - 1}} \\right)\n",
        "   \\]\n",
        "\n",
        "3. **Find the critical t-value** for a two-tailed test at the 0.01 significance level.\n",
        "\n",
        "4. **Compare the calculated t-statistic** with the critical t-value to make a decision regarding the null hypothesis.\n",
        "\n",
        "### Calculations\n",
        "\n",
        "1. **Calculate the t-statistic**:\n",
        "   \\[\n",
        "   t = \\frac{80 - 75}{\\sqrt{\\frac{10^2}{30} + \\frac{8^2}{40}}}\n",
        "   \\]\n",
        "   \\[\n",
        "   = \\frac{5}{\\sqrt{\\frac{100}{30} + \\frac{64}{40}}}\n",
        "   \\]\n",
        "   \\[\n",
        "   = \\frac{5}{\\sqrt{3.33 + 1.6}} = \\frac{5}{\\sqrt{4.93}} \\approx \\frac{5}{2.22} \\approx 2.25\n",
        "   \\]\n",
        "\n",
        "2. **Calculate the degrees of freedom**:\n",
        "   \\[\n",
        "   df = \\left( \\frac{\\left( \\frac{100}{30} + \\frac{64}{40}\\right)^2}{\\frac{\\left(\\frac{100}{30}\\right)^2}{30 - 1} + \\frac{\\left(\\frac{64}{40}\\right)^2}{40 - 1}} \\right)\n",
        "   \\]\n",
        "   This calculation may take a bit longer, so let’s break it down:\n",
        "   - Calculate the individual terms:\n",
        "     - \\( \\frac{100}{30} \\approx 3.33 \\)\n",
        "     - \\( \\frac{64}{40} = 1.6 \\)\n",
        "   - Plug these back into the degrees of freedom formula:\n",
        "     \\[\n",
        "     df \\approx \\left( \\frac{(3.33 + 1.6)^2}{\\frac{(3.33)^2}{29} + \\frac{(1.6)^2}{39}} \\right)\n",
        "     \\]\n",
        "   - Now calculate:\n",
        "     \\[\n",
        "     df \\approx \\left( \\frac{(4.93)^2}{\\frac{11.09}{29} + \\frac{2.56}{39}} \\right) \\approx \\left( \\frac{24.3}{0.38 + 0.0657} \\right) \\approx \\left( \\frac{24.3}{0.4457} \\right) \\approx 54.7 \\text{ (round down to 54)}\n",
        "     \\]\n",
        "\n",
        "3. **Find the critical t-value**:\n",
        "   Using a t-table or statistical software, the critical t-value for a two-tailed test with \\(df \\approx 54\\) at \\(\\alpha = 0.01\\) is approximately \\(\\pm 2.626\\).\n",
        "\n",
        "4. **Decision**:\n",
        "   - If the absolute value of the calculated t-statistic is greater than the critical t-value, we reject the null hypothesis.\n",
        "   - Here, \\(|2.25| < 2.626\\).\n",
        "\n",
        "### Conclusion\n",
        "\n",
        "Since the calculated t-statistic (\\(2.25\\)) is less than the critical t-value (\\(2.626\\)), we fail to reject the null hypothesis. This means there is not enough evidence at the 0.01 significance level to conclude that the population means for the two groups are different.\n",
        "\n",
        "### Python Code Example\n",
        "\n",
        "Here's how you can perform this hypothesis test using Python:\n",
        "\n",
        "```python\n",
        "import scipy.stats as stats\n",
        "import numpy as np\n",
        "\n",
        "# Given data\n",
        "n1 = 30  # Sample size for group 1\n",
        "mean1 = 80  # Sample mean for group 1\n",
        "std_dev1 = 10  # Sample standard deviation for group 1\n",
        "\n",
        "n2 = 40  # Sample size for group 2\n",
        "mean2 = 75  # Sample mean for group 2\n",
        "std_dev2 = 8  # Sample standard deviation for group 2\n",
        "\n",
        "alpha = 0.01  # Significance level\n",
        "\n",
        "# Calculate the t-statistic\n",
        "t_statistic = (mean1 - mean2) / np.sqrt((std_dev1**2 / n1) + (std_dev2**2 / n2))\n",
        "\n",
        "# Calculate the degrees of freedom\n",
        "df = ((std_dev1**2 / n1 + std_dev2**2 / n2)**2) / ((std_dev1**2 / n1)**2 / (n1 - 1) + (std_dev2**2 / n2)**2 / (n2 - 1))\n",
        "\n",
        "# Calculate the critical t-value for a two-tailed test\n",
        "critical_t_value = stats.t.ppf(1 - alpha/2, df)\n",
        "\n",
        "# Print results\n",
        "print(f\"Calculated t-statistic: {t_statistic:.2f}\")\n",
        "print(f\"Critical t-value: {critical_t_value:.2f}\")\n",
        "\n",
        "# Decision\n",
        "if abs(t_statistic) > critical_t_value:\n",
        "    print(\"Reject the null hypothesis. The means of the two groups are not equal.\")\n",
        "else:\n",
        "    print(\"Fail to reject the null hypothesis. The means of the two groups are equal.\")\n",
        "```\n",
        "\n",
        "Running this code will yield the calculated t-statistic, critical t-value, and the decision regarding the null hypothesis."
      ],
      "metadata": {
        "id": "kpO877VkKsfu"
      }
    },
    {
      "cell_type": "code",
      "source": [
        "import scipy.stats as stats\n",
        "import numpy as np\n",
        "\n",
        "# Given data\n",
        "n1 = 30  # Sample size for group 1\n",
        "mean1 = 80  # Sample mean for group 1\n",
        "std_dev1 = 10  # Sample standard deviation for group 1\n",
        "\n",
        "n2 = 40  # Sample size for group 2\n",
        "mean2 = 75  # Sample mean for group 2\n",
        "std_dev2 = 8  # Sample standard deviation for group 2\n",
        "\n",
        "alpha = 0.01  # Significance level\n",
        "\n",
        "# Calculate the t-statistic\n",
        "t_statistic = (mean1 - mean2) / np.sqrt((std_dev1**2 / n1) + (std_dev2**2 / n2))\n",
        "\n",
        "# Calculate the degrees of freedom\n",
        "df = ((std_dev1**2 / n1 + std_dev2**2 / n2)**2) / ((std_dev1**2 / n1)**2 / (n1 - 1) + (std_dev2**2 / n2)**2 / (n2 - 1))\n",
        "\n",
        "# Calculate the critical t-value for a two-tailed test\n",
        "critical_t_value = stats.t.ppf(1 - alpha/2, df)\n",
        "\n",
        "# Print results\n",
        "print(f\"Calculated t-statistic: {t_statistic:.2f}\")\n",
        "print(f\"Critical t-value: {critical_t_value:.2f}\")\n",
        "\n",
        "# Decision\n",
        "if abs(t_statistic) > critical_t_value:\n",
        "    print(\"Reject the null hypothesis. The means of the two groups are not equal.\")\n",
        "else:\n",
        "    print(\"Fail to reject the null hypothesis. The means of the two groups are equal.\")\n"
      ],
      "metadata": {
        "colab": {
          "base_uri": "https://localhost:8080/"
        },
        "id": "m6QV1sX5KmTV",
        "outputId": "cc0a2263-0381-47e0-f33a-86d60159a22b"
      },
      "execution_count": 8,
      "outputs": [
        {
          "output_type": "stream",
          "name": "stdout",
          "text": [
            "Calculated t-statistic: 2.25\n",
            "Critical t-value: 2.67\n",
            "Fail to reject the null hypothesis. The means of the two groups are equal.\n"
          ]
        }
      ]
    },
    {
      "cell_type": "markdown",
      "source": [
        "# Q17. A marketing company wants to estimate the average number of ads watched by viewers during a TV program. They take a random sample of 50 viewers and find that the sample mean is 4 with a standard deviation of 1.5. Estimate the population mean with a 99% confidence interval."
      ],
      "metadata": {
        "id": "Py8-VepKKyu-"
      }
    },
    {
      "cell_type": "markdown",
      "source": [
        "To estimate the population mean with a 99% confidence interval based on the sample data provided, we can use the formula for the confidence interval for the mean when the population standard deviation is unknown. Here are the steps:\n",
        "\n",
        "### Given Data\n",
        "- Sample size (\\(n\\)) = 50\n",
        "- Sample mean (\\(\\bar{x}\\)) = 4\n",
        "- Sample standard deviation (\\(s\\)) = 1.5\n",
        "- Confidence level = 99%\n",
        "\n",
        "### Steps to Calculate the Confidence Interval\n",
        "\n",
        "1. **Determine the critical t-value** for a 99% confidence level.\n",
        "   - For a two-tailed test, the significance level (\\(\\alpha\\)) = 1 - 0.99 = 0.01.\n",
        "   - Degrees of freedom (\\(df\\)) = \\(n - 1 = 50 - 1 = 49\\).\n",
        "\n",
        "2. **Calculate the standard error (SE)**:\n",
        "   \\[\n",
        "   SE = \\frac{s}{\\sqrt{n}} = \\frac{1.5}{\\sqrt{50}}\n",
        "   \\]\n",
        "\n",
        "3. **Calculate the margin of error (ME)**:\n",
        "   \\[\n",
        "   ME = t_{\\alpha/2} \\times SE\n",
        "   \\]\n",
        "\n",
        "4. **Calculate the confidence interval**:\n",
        "   \\[\n",
        "   \\text{Confidence Interval} = \\bar{x} \\pm ME\n",
        "   \\]\n",
        "\n",
        "### Calculations\n",
        "\n",
        "1. **Determine the critical t-value**:\n",
        "   - Using a t-table or statistical software, the critical t-value for \\(df = 49\\) at a 99% confidence level (two-tailed) is approximately \\(t_{0.005, 49} \\approx 2.676\\).\n",
        "\n",
        "2. **Calculate the standard error (SE)**:\n",
        "   \\[\n",
        "   SE = \\frac{1.5}{\\sqrt{50}} \\approx \\frac{1.5}{7.071} \\approx 0.212\n",
        "   \\]\n",
        "\n",
        "3. **Calculate the margin of error (ME)**:\n",
        "   \\[\n",
        "   ME = 2.676 \\times 0.212 \\approx 0.567\n",
        "   \\]\n",
        "\n",
        "4. **Calculate the confidence interval**:\n",
        "   \\[\n",
        "   \\text{Confidence Interval} = 4 \\pm 0.567\n",
        "   \\]\n",
        "   - Lower limit: \\(4 - 0.567 \\approx 3.433\\)\n",
        "   - Upper limit: \\(4 + 0.567 \\approx 4.567\\)\n",
        "\n",
        "### Conclusion\n",
        "\n",
        "The 99% confidence interval for the population mean is approximately:\n",
        "\\[\n",
        "(3.433, 4.567)\n",
        "\\]\n",
        "\n",
        "### Python Code Example\n",
        "\n",
        "Here's how you can perform these calculations using Python:\n",
        "\n",
        "```python\n",
        "import scipy.stats as stats\n",
        "import numpy as np\n",
        "\n",
        "# Given data\n",
        "n = 50  # Sample size\n",
        "sample_mean = 4  # Sample mean\n",
        "sample_std_dev = 1.5  # Sample standard deviation\n",
        "confidence_level = 0.99  # Confidence level\n",
        "\n",
        "# Calculate the critical t-value for the given confidence level\n",
        "alpha = 1 - confidence_level\n",
        "df = n - 1  # degrees of freedom\n",
        "t_critical = stats.t.ppf(1 - alpha/2, df)\n",
        "\n",
        "# Calculate the standard error\n",
        "SE = sample_std_dev / np.sqrt(n)\n",
        "\n",
        "# Calculate the margin of error\n",
        "ME = t_critical * SE\n",
        "\n",
        "# Calculate the confidence interval\n",
        "lower_limit = sample_mean - ME\n",
        "upper_limit = sample_mean + ME\n",
        "\n",
        "# Print the results\n",
        "print(f\"99% Confidence Interval: ({lower_limit:.3f}, {upper_limit:.3f})\")\n",
        "```\n",
        "\n",
        "Running this code will give you the 99% confidence interval for the average number of ads watched by viewers during the TV program."
      ],
      "metadata": {
        "id": "7FicwIX0K00G"
      }
    },
    {
      "cell_type": "code",
      "source": [
        "import scipy.stats as stats\n",
        "import numpy as np\n",
        "\n",
        "# Given data\n",
        "n = 50  # Sample size\n",
        "sample_mean = 4  # Sample mean\n",
        "sample_std_dev = 1.5  # Sample standard deviation\n",
        "confidence_level = 0.99  # Confidence level\n",
        "\n",
        "# Calculate the critical t-value for the given confidence level\n",
        "alpha = 1 - confidence_level\n",
        "df = n - 1  # degrees of freedom\n",
        "t_critical = stats.t.ppf(1 - alpha/2, df)\n",
        "\n",
        "# Calculate the standard error\n",
        "SE = sample_std_dev / np.sqrt(n)\n",
        "\n",
        "# Calculate the margin of error\n",
        "ME = t_critical * SE\n",
        "\n",
        "# Calculate the confidence interval\n",
        "lower_limit = sample_mean - ME\n",
        "upper_limit = sample_mean + ME\n",
        "\n",
        "# Print the results\n",
        "print(f\"99% Confidence Interval: ({lower_limit:.3f}, {upper_limit:.3f})\")\n"
      ],
      "metadata": {
        "colab": {
          "base_uri": "https://localhost:8080/"
        },
        "id": "2AmPkGbxKwr_",
        "outputId": "876dc5b9-219e-4d1a-a7db-aab206b22258"
      },
      "execution_count": 9,
      "outputs": [
        {
          "output_type": "stream",
          "name": "stdout",
          "text": [
            "99% Confidence Interval: (3.431, 4.569)\n"
          ]
        }
      ]
    },
    {
      "cell_type": "code",
      "source": [],
      "metadata": {
        "id": "6XLroBiuK_Nx"
      },
      "execution_count": null,
      "outputs": []
    }
  ]
}