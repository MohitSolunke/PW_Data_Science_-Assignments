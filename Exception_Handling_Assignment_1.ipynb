{
  "nbformat": 4,
  "nbformat_minor": 0,
  "metadata": {
    "colab": {
      "provenance": []
    },
    "kernelspec": {
      "name": "python3",
      "display_name": "Python 3"
    },
    "language_info": {
      "name": "python"
    }
  },
  "cells": [
    {
      "cell_type": "markdown",
      "source": [
        "# Q1. What is an Exception in python? Write the difference between Exceptions and Syntax errors.\n"
      ],
      "metadata": {
        "id": "T8CIxDCjUque"
      }
    },
    {
      "cell_type": "markdown",
      "source": [
        "An exception in Python is an event that occurs during the execution of a program that disrupts the normal flow of instructions. It can be thought of as a signal that something unexpected happened. When an exception occurs, Python generates an exception object, which can be handled using try and except blocks to prevent the program from crashing.\n",
        "\n",
        "Common Types of Exceptions\n",
        "ZeroDivisionError: Occurs when attempting to divide by zero.\n",
        "TypeError: Raised when an operation or function is applied to an object of inappropriate type.\n",
        "ValueError: Raised when a built-in operation or function receives an argument that has the right type but an inappropriate value.\n",
        "FileNotFoundError: Raised when trying to open a file that does not exist."
      ],
      "metadata": {
        "id": "XDwasW1TUymT"
      }
    },
    {
      "cell_type": "code",
      "execution_count": 1,
      "metadata": {
        "colab": {
          "base_uri": "https://localhost:8080/"
        },
        "id": "MqWWOsDAUROt",
        "outputId": "755aab74-14ed-404f-eb49-02a94cf1939d"
      },
      "outputs": [
        {
          "output_type": "stream",
          "name": "stdout",
          "text": [
            "Cannot divide by zero.\n"
          ]
        }
      ],
      "source": [
        "try:\n",
        "    result = 10 / 0  # This will raise a ZeroDivisionError\n",
        "except ZeroDivisionError:\n",
        "    print(\"Cannot divide by zero.\")\n"
      ]
    },
    {
      "cell_type": "code",
      "source": [
        "#def my_function()  # Missing colon\n",
        "#   print(\"Hello, World!\")\n"
      ],
      "metadata": {
        "id": "i160nrgmU5Cj"
      },
      "execution_count": 3,
      "outputs": []
    },
    {
      "cell_type": "markdown",
      "source": [
        "# Q2. What happens when an exception is not handled? Explain with an example."
      ],
      "metadata": {
        "id": "abek0BrXVFPs"
      }
    },
    {
      "cell_type": "markdown",
      "source": [
        "When an exception is not handled in Python, the program will terminate abruptly, and an error message will be displayed. This error message provides information about the type of exception that occurred and the line number where it happened. The program will stop executing any further code after the point of the unhandled exception.\n",
        "\n",
        "Function Call: The divide_numbers function is called with 10 and 0 as arguments.\n",
        "Exception Occurrence: Inside the function, the division operation 10 / 0 raises a ZeroDivisionError because division by zero is not allowed.\n",
        "Program Termination: Since there is no try and except block to handle this exception, the program terminates immediately.\n",
        "Error Message: Python provides a traceback that shows the sequence of calls that led to the error, along with the type of error and a description (\"division by zero\").\n",
        "\n",
        "Example of an Unhandled Exception\n",
        "Here's an example demonstrating what happens when an exception is not handled:\n",
        "\n"
      ],
      "metadata": {
        "id": "nGr1L16dVJ71"
      }
    },
    {
      "cell_type": "markdown",
      "source": [
        "def divide_numbers(a, b):\n",
        "    return a / b\n",
        "\n",
        "result = divide_numbers(10, 0)  # This will raise a ZeroDivisionError\n",
        "print(result)\n",
        "\n"
      ],
      "metadata": {
        "id": "EvDzPdXyVVEH"
      }
    },
    {
      "cell_type": "markdown",
      "source": [
        "# Q3. Which Python statements are used to catch and handle exceptions? Explain with an example."
      ],
      "metadata": {
        "id": "VV5RT_kuVYk0"
      }
    },
    {
      "cell_type": "markdown",
      "source": [
        "In Python, the try and except statements are used to catch and handle exceptions.\n",
        "\n",
        "try block: This block contains the code that might raise an exception.\n",
        "except block: This block contains the code that handles the exception if it occurs.\n",
        "You can also use else and finally blocks in conjunction with try and except for additional control over exception handling.\n",
        "\n",
        "else block: This block will execute if the code in the try block does not raise an exception.\n",
        "finally block: This block will execute regardless of whether an exception occurred or not, making it useful for cleanup actions.\n",
        "Example of Using try and except\n",
        "Here’s an example demonstrating how to use try and except to catch and handle exceptions:"
      ],
      "metadata": {
        "id": "X6hNEsXMVgiO"
      }
    },
    {
      "cell_type": "code",
      "source": [
        "def divide_numbers(a, b):\n",
        "    try:\n",
        "        result = a / b\n",
        "    except ZeroDivisionError:\n",
        "        return \"Error: Cannot divide by zero.\"\n",
        "    except TypeError:\n",
        "        return \"Error: Invalid input type. Please provide numbers.\"\n",
        "    else:\n",
        "        return f\"The result is: {result}\"\n",
        "    finally:\n",
        "        print(\"Execution completed.\")\n",
        "\n",
        "# Test cases\n",
        "print(divide_numbers(10, 2))  # Output: The result is: 5.0\n",
        "print(divide_numbers(10, 0))  # Output: Error: Cannot divide by zero.\n",
        "print(divide_numbers(10, 'a'))  # Output: Error: Invalid input type. Please provide numbers.\n"
      ],
      "metadata": {
        "colab": {
          "base_uri": "https://localhost:8080/"
        },
        "id": "p7PY-UQuU71R",
        "outputId": "a9fd1ea3-1870-490a-c96d-ab6f9fe97421"
      },
      "execution_count": 5,
      "outputs": [
        {
          "output_type": "stream",
          "name": "stdout",
          "text": [
            "Execution completed.\n",
            "The result is: 5.0\n",
            "Execution completed.\n",
            "Error: Cannot divide by zero.\n",
            "Execution completed.\n",
            "Error: Invalid input type. Please provide numbers.\n"
          ]
        }
      ]
    },
    {
      "cell_type": "markdown",
      "source": [
        "# Q4. Explain with an example:#\n",
        "# try and else#\n",
        "# finall\n",
        "# + raise"
      ],
      "metadata": {
        "id": "tqJokmmOVq3s"
      }
    },
    {
      "cell_type": "markdown",
      "source": [
        "In Python, try, else, finally, and raise are used for exception handling and control flow. Here’s an explanation of each, along with examples:\n",
        "\n",
        "1. try Block\n",
        "The try block allows you to write code that might raise an exception. If an exception occurs, the code in the except block is executed.\n",
        "\n",
        "2. else Block\n",
        "The else block executes if the code in the try block does not raise any exceptions. This is useful for code that should run only if the try block was successful.\n",
        "\n",
        "3. finally Block\n",
        "The finally block contains code that will execute regardless of whether an exception was raised or not. This is often used for cleanup actions, such as closing files or releasing resources.\n",
        "\n",
        "4. raise Statement\n",
        "The raise statement is used to explicitly raise an exception. You can raise a built-in exception or a custom exception when certain conditions are met.\n",
        "\n",
        "Example"
      ],
      "metadata": {
        "id": "-0NIPcdRVzJc"
      }
    },
    {
      "cell_type": "code",
      "source": [
        "def calculate_division(a, b):\n",
        "    try:\n",
        "        if b == 0:\n",
        "            raise ValueError(\"Denominator cannot be zero.\")\n",
        "        result = a / b\n",
        "    except ValueError as ve:\n",
        "        return f\"ValueError: {ve}\"\n",
        "    except TypeError:\n",
        "        return \"TypeError: Invalid input type. Please provide numbers.\"\n",
        "    else:\n",
        "        return f\"The result is: {result}\"\n",
        "    finally:\n",
        "        print(\"Execution completed.\")\n",
        "\n",
        "# Test cases\n",
        "print(calculate_division(10, 2))  # Output: The result is: 5.0\n",
        "print(calculate_division(10, 0))  # Output: ValueError: Denominator cannot be zero.\n",
        "print(calculate_division(10, 'a'))  # Output: TypeError: Invalid input type. Please provide numbers.\n"
      ],
      "metadata": {
        "colab": {
          "base_uri": "https://localhost:8080/"
        },
        "id": "rEdZYn6CVNMl",
        "outputId": "afe6d33c-af50-48b4-d29b-d2dfae4fc5b4"
      },
      "execution_count": 6,
      "outputs": [
        {
          "output_type": "stream",
          "name": "stdout",
          "text": [
            "Execution completed.\n",
            "The result is: 5.0\n",
            "Execution completed.\n",
            "ValueError: Denominator cannot be zero.\n",
            "Execution completed.\n",
            "TypeError: Invalid input type. Please provide numbers.\n"
          ]
        }
      ]
    },
    {
      "cell_type": "markdown",
      "source": [
        "# Q5. What are Custom Exceptions in python? Why do we need Custom Exceptions? Explain with an example."
      ],
      "metadata": {
        "id": "MzszwoqTV451"
      }
    },
    {
      "cell_type": "markdown",
      "source": [
        "Custom exceptions in Python are user-defined exception classes that extend the built-in Exception class or its subclasses. They allow developers to create specific error types tailored to the application's needs, enabling more precise error handling and improving code readability and maintainability.\n",
        "\n",
        "Why Do We Need Custom Exceptions?\n",
        "Specificity: Custom exceptions can convey more specific error information related to the application's domain, making it easier to understand what went wrong.\n",
        "\n",
        "Code Clarity: By using custom exceptions, developers can make the code clearer and more self-documenting. This clarity helps other developers (or future you) understand the kinds of errors that can occur.\n",
        "\n",
        "Better Error Handling: Custom exceptions enable targeted error handling. You can catch and handle specific exceptions without interfering with the handling of other unrelated exceptions.\n",
        "\n",
        "Modularity: Custom exceptions can be defined in separate modules, which helps in organizing the code better, especially in larger projects.\n",
        "\n",
        "Example of Custom Exceptions\n",
        "Here's an example demonstrating how to create and use a custom exception in Python:"
      ],
      "metadata": {
        "id": "7KR_SJ33V8KU"
      }
    },
    {
      "cell_type": "code",
      "source": [
        "# Custom exception class\n",
        "class InvalidAgeError(Exception):\n",
        "    def __init__(self, message=\"Age must be a positive integer.\"):\n",
        "        self.message = message\n",
        "        super().__init__(self.message)\n",
        "\n",
        "def validate_age(age):\n",
        "    if age < 0:\n",
        "        raise InvalidAgeError(\"Age cannot be negative.\")\n",
        "    elif age > 150:\n",
        "        raise InvalidAgeError(\"Age is unrealistic.\")\n",
        "    else:\n",
        "        return f\"Valid age: {age}\"\n",
        "\n",
        "# Test cases\n",
        "try:\n",
        "    print(validate_age(25))    # Valid case\n",
        "    print(validate_age(-5))    # Raises InvalidAgeError\n",
        "except InvalidAgeError as e:\n",
        "    print(e)                   # Output: Age cannot be negative.\n",
        "\n",
        "try:\n",
        "    print(validate_age(200))    # Raises InvalidAgeError\n",
        "except InvalidAgeError as e:\n",
        "    print(e)                   # Output: Age is unrealistic.\n"
      ],
      "metadata": {
        "colab": {
          "base_uri": "https://localhost:8080/"
        },
        "id": "UoPMUeQXV2Bz",
        "outputId": "4bb4efb3-e259-4284-c596-154865bfdb90"
      },
      "execution_count": 7,
      "outputs": [
        {
          "output_type": "stream",
          "name": "stdout",
          "text": [
            "Valid age: 25\n",
            "Age cannot be negative.\n",
            "Age is unrealistic.\n"
          ]
        }
      ]
    },
    {
      "cell_type": "markdown",
      "source": [
        "# Q6. Create a custom exception class. Use this class to handle an exception."
      ],
      "metadata": {
        "id": "k_6di5GNWAxg"
      }
    },
    {
      "cell_type": "code",
      "source": [
        "class NegativeNumberError(Exception):\n",
        "    def __init__(self, message=\"Negative numbers are not allowed.\"):\n",
        "        self.message = message\n",
        "        super().__init__(self.message)\n",
        "\n",
        "def check_positive_number(number):\n",
        "    if number < 0:\n",
        "        raise NegativeNumberError(f\"Invalid input: {number}. {NegativeNumberError().message}\")\n",
        "    return f\"The number {number} is valid.\"\n",
        "\n",
        "# Test cases\n",
        "try:\n",
        "    print(check_positive_number(10))  # Valid input\n",
        "    print(check_positive_number(-5))   # This will raise the custom exception\n",
        "except NegativeNumberError as e:\n",
        "    print(e)  # Output: Invalid input: -5. Negative numbers are not allowed.\n"
      ],
      "metadata": {
        "colab": {
          "base_uri": "https://localhost:8080/"
        },
        "id": "AklG638aV91i",
        "outputId": "da5baa5e-6111-415d-bbf0-3f413e91b4f8"
      },
      "execution_count": 8,
      "outputs": [
        {
          "output_type": "stream",
          "name": "stdout",
          "text": [
            "The number 10 is valid.\n",
            "Invalid input: -5. Negative numbers are not allowed.\n"
          ]
        }
      ]
    },
    {
      "cell_type": "code",
      "source": [],
      "metadata": {
        "id": "KLVmdeuGWEgE"
      },
      "execution_count": null,
      "outputs": []
    }
  ]
}