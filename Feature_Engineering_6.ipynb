{
  "nbformat": 4,
  "nbformat_minor": 0,
  "metadata": {
    "colab": {
      "provenance": []
    },
    "kernelspec": {
      "name": "python3",
      "display_name": "Python 3"
    },
    "language_info": {
      "name": "python"
    }
  },
  "cells": [
    {
      "cell_type": "markdown",
      "source": [
        "# Q1. Pearson correlation coefficient is a measure of the linear relationship between two variables. Suppose you have collected data on the amount of time students spend studying for an exam and their final exam scores. Calculate the Pearson correlation coefficient between these two variables and interpret the result."
      ],
      "metadata": {
        "id": "3ynH3Z4FJA2v"
      }
    },
    {
      "cell_type": "markdown",
      "source": [
        "To calculate the Pearson correlation coefficient (denoted as \\( r \\)) between the time students spend studying and their exam scores, we use the formula:\n",
        "\n",
        "\\[\n",
        "r = \\frac{\\sum (X - \\overline{X})(Y - \\overline{Y})}{\\sqrt{\\sum (X - \\overline{X})^2 \\sum (Y - \\overline{Y})^2}}\n",
        "\\]\n",
        "\n",
        "Where:\n",
        "- \\( X \\) is the time spent studying,\n",
        "- \\( Y \\) is the exam score,\n",
        "- \\( \\overline{X} \\) and \\( \\overline{Y} \\) are the means of \\( X \\) and \\( Y \\), respectively.\n",
        "\n",
        "### Steps:\n",
        "1. Compute the means \\( \\overline{X} \\) and \\( \\overline{Y} \\).\n",
        "2. For each pair of values, calculate \\( (X_i - \\overline{X})(Y_i - \\overline{Y}) \\).\n",
        "3. Sum these values.\n",
        "4. Compute the square root of the sum of squared differences for both \\( X \\) and \\( Y \\).\n",
        "5. Divide the result of step 3 by the product of the square roots from step 4.\n",
        "\n",
        "The value of \\( r \\) ranges from -1 to 1:\n",
        "- \\( r = 1 \\) indicates a perfect positive linear relationship.\n",
        "- \\( r = -1 \\) indicates a perfect negative linear relationship.\n",
        "- \\( r = 0 \\) indicates no linear relationship.\n",
        "\n",
        "If the computed \\( r \\) is close to 1, it suggests that as study time increases, exam scores also increase in a linear fashion. If \\( r \\) is close to 0, it suggests little to no linear relationship between study time and exam scores."
      ],
      "metadata": {
        "id": "JVQinv_ZJG_Y"
      }
    },
    {
      "cell_type": "markdown",
      "source": [
        "# Q2. Spearman's rank correlation is a measure of the monotonic relationship between two variables. Suppose you have collected data on the amount of sleep individuals get each night and their overall job satisfaction level on a scale of 1 to 10. Calculate the Spearman's rank correlation between these twovariables and interpret the result."
      ],
      "metadata": {
        "id": "8P7ryK_IJLpC"
      }
    },
    {
      "cell_type": "markdown",
      "source": [
        "To calculate Spearman's rank correlation coefficient (denoted as \\( \\rho \\)) between the amount of sleep individuals get and their job satisfaction level, we follow these steps:\n",
        "\n",
        "### Steps:\n",
        "1. **Rank the data**:\n",
        "   - Assign ranks to both variables (sleep time and job satisfaction). If there are ties, assign the average of the ranks to the tied values.\n",
        "   \n",
        "2. **Compute the differences in ranks**:\n",
        "   - For each data pair, compute the difference between the ranks of the two variables, denoted as \\( d_i \\).\n",
        "\n",
        "3. **Apply the Spearman rank correlation formula**:\n",
        "   \\[\n",
        "   \\rho = 1 - \\frac{6 \\sum d_i^2}{n(n^2 - 1)}\n",
        "   \\]\n",
        "   Where:\n",
        "   - \\( d_i \\) is the difference between the ranks of the \\( i \\)-th pair,\n",
        "   - \\( n \\) is the number of data points.\n",
        "\n",
        "### Interpretation:\n",
        "- \\( \\rho = 1 \\) indicates a perfect positive monotonic relationship (as one variable increases, the other also increases consistently).\n",
        "- \\( \\rho = -1 \\) indicates a perfect negative monotonic relationship (as one variable increases, the other decreases consistently).\n",
        "- \\( \\rho = 0 \\) suggests no monotonic relationship.\n",
        "\n",
        "If \\( \\rho \\) is close to 1, this means individuals who get more sleep tend to have higher job satisfaction. Conversely, if \\( \\rho \\) is close to -1, more sleep is associated with lower job satisfaction. A value near 0 would indicate no consistent relationship between sleep and job satisfaction."
      ],
      "metadata": {
        "id": "VoSfzowMJt1q"
      }
    },
    {
      "cell_type": "markdown",
      "source": [
        "# Q3. Suppose you are conducting a study to examine the relationship between the number of hours of exercise per week and body mass index (BMI) in a sample of adults. You collected data on both variables for 50 participants. Calculate the Pearson correlation coefficient and the Spearman's rank correlationbetween these two variables and compare the results."
      ],
      "metadata": {
        "id": "u9T8VACEJuwZ"
      }
    },
    {
      "cell_type": "markdown",
      "source": [
        "To calculate both the Pearson correlation coefficient and Spearman's rank correlation between hours of exercise per week and BMI for 50 participants, we need the actual data. However, here's how you would proceed with the calculation and comparison:\n",
        "\n",
        "### 1. **Pearson Correlation Coefficient**:\n",
        "   - The **Pearson correlation coefficient** measures the linear relationship between exercise hours and BMI. Use the formula:\n",
        "\n",
        "   \\[\n",
        "   r = \\frac{\\sum (X - \\overline{X})(Y - \\overline{Y})}{\\sqrt{\\sum (X - \\overline{X})^2 \\sum (Y - \\overline{Y})^2}}\n",
        "   \\]\n",
        "\n",
        "   Where:\n",
        "   - \\( X \\) is the number of exercise hours,\n",
        "   - \\( Y \\) is the BMI values,\n",
        "   - \\( \\overline{X} \\) and \\( \\overline{Y} \\) are the means of \\( X \\) and \\( Y \\).\n",
        "\n",
        "   Pearson's correlation will tell you the strength and direction of the **linear** relationship between the two variables.\n",
        "\n",
        "### 2. **Spearman's Rank Correlation**:\n",
        "   - The **Spearman rank correlation** measures the **monotonic** relationship between exercise hours and BMI. Even if the relationship is not linear, but consistently increases or decreases, Spearman's correlation can capture it. The formula is:\n",
        "\n",
        "   \\[\n",
        "   \\rho = 1 - \\frac{6 \\sum d_i^2}{n(n^2 - 1)}\n",
        "   \\]\n",
        "\n",
        "   Where:\n",
        "   - \\( d_i \\) is the difference in ranks between exercise hours and BMI,\n",
        "   - \\( n \\) is the number of participants (50 in this case).\n",
        "\n",
        "   Spearman's correlation assesses whether an **increase in one variable corresponds to an increase or decrease in the other**, but without assuming a specific linear relationship.\n",
        "\n",
        "### 3. **Comparison**:\n",
        "   - **Pearson correlation** is appropriate if the relationship between exercise and BMI is **linear**. If \\( r \\) is close to 1 or -1, it suggests a strong linear relationship, while \\( r = 0 \\) implies no linear relationship.\n",
        "   - **Spearman correlation** will measure whether the two variables have a consistent **monotonic relationship** (e.g., BMI consistently decreases or increases with more exercise, even if the rate of change is not constant).\n",
        "   \n",
        "If both coefficients are similar and significant, it suggests a strong **linear and monotonic relationship** between the variables. If Spearman's is strong but Pearson's is weaker, this indicates a **non-linear but monotonic** relationship. If both are close to 0, there might be little to no relationship between exercise and BMI.\n",
        "\n",
        "Would you like to input the dataset for me to calculate these values for you?"
      ],
      "metadata": {
        "id": "gOpZbukJJ8jr"
      }
    },
    {
      "cell_type": "markdown",
      "source": [
        "# Q4. A researcher is interested in examining the relationship between the number of hours individuals spend watching television per day and their level of physical activity. The researcher collected data on both variables from a sample of 50 participants. Calculate the Pearson correlation coefficient between these two variables."
      ],
      "metadata": {
        "id": "XCfCz-vBJ9W8"
      }
    },
    {
      "cell_type": "markdown",
      "source": [
        "To calculate the Pearson correlation coefficient between the number of hours spent watching television per day and the level of physical activity, we would follow the same steps as outlined earlier. Here’s the process you’d apply:\n",
        "\n",
        "### 1. **Formula for Pearson Correlation Coefficient**:\n",
        "   \\[\n",
        "   r = \\frac{\\sum (X - \\overline{X})(Y - \\overline{Y})}{\\sqrt{\\sum (X - \\overline{X})^2 \\sum (Y - \\overline{Y})^2}}\n",
        "   \\]\n",
        "   Where:\n",
        "   - \\( X \\) is the number of hours spent watching television per day,\n",
        "   - \\( Y \\) is the level of physical activity,\n",
        "   - \\( \\overline{X} \\) and \\( \\overline{Y} \\) are the means of \\( X \\) and \\( Y \\).\n",
        "\n",
        "### 2. **Steps**:\n",
        "   1. **Compute the means** \\( \\overline{X} \\) and \\( \\overline{Y} \\) for television hours and physical activity.\n",
        "   2. **For each pair** of values (television hours, physical activity), calculate \\( (X_i - \\overline{X})(Y_i - \\overline{Y}) \\).\n",
        "   3. **Sum** these values.\n",
        "   4. **Calculate the squared differences** \\( (X_i - \\overline{X})^2 \\) and \\( (Y_i - \\overline{Y})^2 \\), then sum them.\n",
        "   5. **Divide the sum** of the product of deviations from step 3 by the square root of the product of the sums from step 4.\n",
        "\n",
        "### 3. **Interpretation**:\n",
        "   - \\( r = 1 \\) indicates a perfect positive linear relationship (as TV hours increase, physical activity increases).\n",
        "   - \\( r = -1 \\) indicates a perfect negative linear relationship (as TV hours increase, physical activity decreases).\n",
        "   - \\( r = 0 \\) suggests no linear relationship.\n",
        "\n",
        "If you provide the actual data for the number of hours spent watching TV and the level of physical activity, I can calculate the Pearson correlation coefficient for you."
      ],
      "metadata": {
        "id": "zhBAEcRvKCWk"
      }
    },
    {
      "cell_type": "markdown",
      "source": [
        "# Q5. A survey was conducted to examine the relationship between age and preference for a particular brand of soft drink. The survey results are shown below:"
      ],
      "metadata": {
        "id": "zECTL4cvMrXd"
      }
    },
    {
      "cell_type": "markdown",
      "source": [
        "It seems you want to analyze the survey data on the relationship between age and soft drink preference. Here’s the provided data organized:\n",
        "\n",
        "| Age (Years) | Soft Drink Preference |\n",
        "|-------------|-----------------------|\n",
        "| 25          | Coke                  |\n",
        "| 42          | Pepsi                 |\n",
        "| 37          | Mountain Dew          |\n",
        "| 19          | Coke                  |\n",
        "| 31          | Pepsi                 |\n",
        "| 28          | Coke                  |\n",
        "\n",
        "You can analyze this data by:\n",
        "\n",
        "1. Counting the frequency of each soft drink preference.\n",
        "2. Checking if there's a visible pattern between age groups and their soft drink preferences.\n",
        "\n",
        "Would you like to perform a more detailed analysis, or create some visualizations (like bar charts or pie charts)?"
      ],
      "metadata": {
        "id": "TjO0be0eH2v6"
      }
    },
    {
      "cell_type": "markdown",
      "source": [
        "# Q6. A company is interested in examining the relationship between the number of sales calls made per day and the number of sales made per week. The company collected data on both variables from a sample of 30 sales representatives. Calculate the Pearson correlation coefficient between these two variables."
      ],
      "metadata": {
        "id": "PUwLUFDGH4Di"
      }
    },
    {
      "cell_type": "markdown",
      "source": [
        "To calculate the Pearson correlation coefficient \\( r \\) between the number of sales calls made per day and the number of sales made per week, the steps are as follows:\n",
        "\n",
        "### Formula for Pearson Correlation Coefficient:\n",
        "\\[\n",
        "r = \\frac{n(\\Sigma xy) - (\\Sigma x)(\\Sigma y)}{\\sqrt{[n\\Sigma x^2 - (\\Sigma x)^2][n\\Sigma y^2 - (\\Sigma y)^2]}}\n",
        "\\]\n",
        "Where:\n",
        "- \\( n \\) is the number of data points (in this case, 30).\n",
        "- \\( x \\) represents the number of sales calls made per day.\n",
        "- \\( y \\) represents the number of sales made per week.\n",
        "- \\( \\Sigma xy \\) is the sum of the product of corresponding x and y values.\n",
        "- \\( \\Sigma x \\) is the sum of x values.\n",
        "- \\( \\Sigma y \\) is the sum of y values.\n",
        "- \\( \\Sigma x^2 \\) is the sum of squared x values.\n",
        "- \\( \\Sigma y^2 \\) is the sum of squared y values.\n",
        "\n",
        "### Steps:\n",
        "1. **Collect the data**: The company collected data on 30 sales representatives. We need both variables (sales calls per day and sales per week).\n",
        "2. **Compute the necessary sums**:\n",
        "   - Sum of all \\( x \\) values (sales calls per day).\n",
        "   - Sum of all \\( y \\) values (sales made per week).\n",
        "   - Sum of the product of \\( x \\) and \\( y \\) (i.e., \\( x_i \\times y_i \\) for each representative).\n",
        "   - Sum of squares of \\( x \\) values and \\( y \\) values.\n",
        "\n",
        "3. **Substitute these sums into the formula** to get the Pearson correlation coefficient.\n",
        "\n",
        "Without the actual data, I can't calculate the precise value. Please provide the data for those 30 sales representatives to proceed."
      ],
      "metadata": {
        "id": "YrV9yy0oILgR"
      }
    },
    {
      "cell_type": "code",
      "execution_count": null,
      "metadata": {
        "id": "ziQIhYQMPNuP"
      },
      "outputs": [],
      "source": []
    }
  ]
}