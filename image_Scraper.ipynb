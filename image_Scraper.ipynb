{
  "nbformat": 4,
  "nbformat_minor": 0,
  "metadata": {
    "colab": {
      "provenance": []
    },
    "kernelspec": {
      "name": "python3",
      "display_name": "Python 3"
    },
    "language_info": {
      "name": "python"
    }
  },
  "cells": [
    {
      "cell_type": "markdown",
      "source": [
        "# Q1. Write a python program to extract the video URL of the first five videos."
      ],
      "metadata": {
        "id": "_vHu0EVcMQdW"
      }
    },
    {
      "cell_type": "code",
      "source": [
        "!pip install selenium webdriver-manager\n",
        "\n",
        "from selenium import webdriver\n",
        "from selenium.webdriver.common.by import By\n",
        "from selenium.webdriver.chrome.service import Service\n",
        "from webdriver_manager.chrome import ChromeDriverManager\n",
        "import time\n",
        "\n",
        "# Set up the Selenium WebDriver\n",
        "# Add options to specify the Chrome binary location if it's not in the default location\n",
        "options = webdriver.ChromeOptions()\n",
        "options.binary_location = '/usr/bin/google-chrome' # Replace with the actual path to your Chrome binary if it's not in the default location\n",
        "\n",
        "driver = webdriver.Chrome(service=Service(ChromeDriverManager().install()), options=options)\n",
        "\n",
        "# Open the YouTube page\n",
        "driver.get(\"https://www.youtube.com/@PW-Foundation/videos\")\n",
        "\n",
        "# Allow time for page to load\n",
        "time.sleep(5)\n",
        "\n",
        "# Extract video links\n",
        "videos = driver.find_elements(By.XPATH, '//a[@id=\"thumbnail\"]')[:5]\n",
        "\n",
        "# Get the URLs of the first five videos\n",
        "video_urls = [video.get_attribute('href') for video in videos if video.get_attribute('href') is not None]\n",
        "\n",
        "# Print the URLs\n",
        "for url in video_urls:\n",
        "    print(url)\n",
        "\n",
        "# Close the WebDriver\n",
        "driver.quit()"
      ],
      "metadata": {
        "id": "duBc4q5_MO9E"
      },
      "execution_count": null,
      "outputs": []
    },
    {
      "cell_type": "markdown",
      "source": [
        "# Q2. Write a python program to extract the URL of the video thumbnails of the first five videos."
      ],
      "metadata": {
        "id": "r3OAY_TONaWB"
      }
    },
    {
      "cell_type": "code",
      "source": [
        "from selenium import webdriver\n",
        "from selenium.webdriver.common.by import By\n",
        "from selenium.webdriver.chrome.service import Service\n",
        "from webdriver_manager.chrome import ChromeDriverManager\n",
        "import time\n",
        "\n",
        "# Set up the Selenium WebDriver\n",
        "driver = webdriver.Chrome(service=Service(ChromeDriverManager().install()))\n",
        "\n",
        "# Open the YouTube page\n",
        "driver.get(\"https://www.youtube.com/@PW-Foundation/videos\")\n",
        "\n",
        "# Allow time for the page to load\n",
        "time.sleep(5)\n",
        "\n",
        "# Extract the video thumbnail elements\n",
        "thumbnails = driver.find_elements(By.XPATH, '//a[@id=\"thumbnail\"]/yt-img-shadow/img')[:5]\n",
        "\n",
        "# Get the URLs of the thumbnails for the first five videos\n",
        "thumbnail_urls = [thumbnail.get_attribute('src') for thumbnail in thumbnails]\n",
        "\n",
        "# Print the URLs\n",
        "for url in thumbnail_urls:\n",
        "    print(url)\n",
        "\n",
        "# Close the WebDriver\n",
        "driver.quit()\n"
      ],
      "metadata": {
        "id": "xFMn0W16NLz8"
      },
      "execution_count": null,
      "outputs": []
    },
    {
      "cell_type": "markdown",
      "source": [
        "# Q3. Write a python program to extract the title of the first five videos."
      ],
      "metadata": {
        "id": "HGJtjiqiNhsr"
      }
    },
    {
      "cell_type": "code",
      "source": [
        "from selenium import webdriver\n",
        "from selenium.webdriver.common.by import By\n",
        "from selenium.webdriver.chrome.service import Service\n",
        "from webdriver_manager.chrome import ChromeDriverManager\n",
        "import time\n",
        "\n",
        "# Set up the Selenium WebDriver\n",
        "driver = webdriver.Chrome(service=Service(ChromeDriverManager().install()))\n",
        "\n",
        "# Open the YouTube page\n",
        "driver.get(\"https://www.youtube.com/@PW-Foundation/videos\")\n",
        "\n",
        "# Allow time for the page to load\n",
        "time.sleep(5)\n",
        "\n",
        "# Extract video titles\n",
        "titles = driver.find_elements(By.XPATH, '//a[@id=\"video-title\"]')[:5]\n",
        "\n",
        "# Get the text of the titles for the first five videos\n",
        "video_titles = [title.get_attribute('title') for title in titles]\n",
        "\n",
        "# Print the video titles\n",
        "for title in video_titles:\n",
        "    print(title)\n",
        "\n",
        "# Close the WebDriver\n",
        "driver.quit()\n"
      ],
      "metadata": {
        "id": "W9OyrWX0Nnpn"
      },
      "execution_count": null,
      "outputs": []
    },
    {
      "cell_type": "markdown",
      "source": [
        "# Q4. Write a python program to extract the number of views of the first five videos."
      ],
      "metadata": {
        "id": "mPJv2ezBNt5k"
      }
    },
    {
      "cell_type": "code",
      "source": [
        "from selenium import webdriver\n",
        "from selenium.webdriver.common.by import By\n",
        "from selenium.webdriver.chrome.service import Service\n",
        "from webdriver_manager.chrome import ChromeDriverManager\n",
        "import time\n",
        "\n",
        "# Set up the Selenium WebDriver\n",
        "driver = webdriver.Chrome(service=Service(ChromeDriverManager().install()))\n",
        "\n",
        "# Open the YouTube page\n",
        "driver.get(\"https://www.youtube.com/@PW-Foundation/videos\")\n",
        "\n",
        "# Allow time for the page to load\n",
        "time.sleep(5)\n",
        "\n",
        "# Extract video views\n",
        "views = driver.find_elements(By.XPATH, '//span[contains(@class, \"inline-metadata-item style-scope ytd-video-meta-block\")]')[:10:2]\n",
        "\n",
        "# Get the number of views for the first five videos\n",
        "video_views = [view.text for view in views]\n",
        "\n",
        "# Print the number of views\n",
        "for view in video_views:\n",
        "    print(view)\n",
        "\n",
        "# Close the WebDriver\n",
        "driver.quit()\n"
      ],
      "metadata": {
        "id": "VWftDSvQNyDw"
      },
      "execution_count": null,
      "outputs": []
    },
    {
      "cell_type": "markdown",
      "source": [
        "# Q5. Write a python program to extract the time of posting of video for the first five videos."
      ],
      "metadata": {
        "id": "XEsQDmPqN3Ms"
      }
    },
    {
      "cell_type": "code",
      "source": [
        "from selenium import webdriver\n",
        "from selenium.webdriver.common.by import By\n",
        "from selenium.webdriver.chrome.service import Service\n",
        "from webdriver_manager.chrome import ChromeDriverManager\n",
        "import time\n",
        "\n",
        "# Set up the Selenium WebDriver\n",
        "driver = webdriver.Chrome(service=Service(ChromeDriverManager().install()))\n",
        "\n",
        "# Open the YouTube page\n",
        "driver.get(\"https://www.youtube.com/@PW-Foundation/videos\")\n",
        "\n",
        "# Allow time for the page to load\n",
        "time.sleep(5)\n",
        "\n",
        "# Extract video posting times\n",
        "posting_times = driver.find_elements(By.XPATH, '//span[@class=\"inline-metadata-item style-scope ytd-video-meta-block\"]')[:10:2]\n",
        "\n",
        "# Get the posting times for the first five videos\n",
        "video_posting_times = [time.text for time in posting_times]\n",
        "\n",
        "# Print the posting times\n",
        "for posting_time in video_posting_times:\n",
        "    print(posting_time)\n",
        "\n",
        "# Close the WebDriver\n",
        "driver.quit()\n"
      ],
      "metadata": {
        "id": "CEYu8oY_N8Gn"
      },
      "execution_count": null,
      "outputs": []
    }
  ]
}